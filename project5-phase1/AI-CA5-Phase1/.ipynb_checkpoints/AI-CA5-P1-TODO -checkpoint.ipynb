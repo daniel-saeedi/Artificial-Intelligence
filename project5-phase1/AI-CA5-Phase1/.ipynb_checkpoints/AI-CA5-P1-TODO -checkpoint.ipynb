{
 "cells": [
  {
   "cell_type": "markdown",
   "metadata": {},
   "source": [
    "\n",
    "# CA5: Implementing Neural Networks from scratch\n",
    "\n",
    "Danial Saeedi(810198571)"
   ]
  },
  {
   "cell_type": "code",
   "execution_count": 24,
   "metadata": {},
   "outputs": [],
   "source": [
    "import numpy as np\n",
    "import pandas as pd\n",
    "import matplotlib.pyplot as plt\n",
    "import copy"
   ]
  },
  {
   "cell_type": "markdown",
   "metadata": {},
   "source": [
    "# Dataloader"
   ]
  },
  {
   "cell_type": "code",
   "execution_count": 25,
   "metadata": {},
   "outputs": [],
   "source": [
    "class Dataloader:\n",
    "    '''\n",
    "    This class prepares the dataset for the neural network.\n",
    "    '''\n",
    "    \n",
    "    def __init__(self, data, labels, n_classes, batch_size=None, shuffle=False):\n",
    "        '''\n",
    "        This is the constructor. It gets dataset information and initializes the \n",
    "        Dataloader class fields.\n",
    "            Parameters:\n",
    "                data: features your dataset in pandas.Dataframe format.\n",
    "                labels: labels of your dataset in pandas.Dataframe format.\n",
    "                n_classes: number of classes you have in your dataset.\n",
    "                batch_size: the number of samples that will be propagated through the network.\n",
    "                shuffle: boolean value indicating whether or not the dataset should be shuffled\n",
    "        '''\n",
    "\n",
    "        assert len(data)==len(labels)\n",
    "        self.__n_classes = n_classes\n",
    "        self.__batch_size = batch_size\n",
    "        self.__shuffle = shuffle\n",
    "        self.__data = data\n",
    "        self.__onehot_labels = self.__onehot(labels, self.__n_classes)\n",
    "    \n",
    "    def __onehot(self, labels, n_classes):\n",
    "        '''\n",
    "        This private method gets labels and provides one_hot vectors of labels.\n",
    "        For categorical variables where no such ordinal relationship exists,\n",
    "        the integer encoding is not enough.\n",
    "        In this case, a one-hot encoding can be applied to the integer representation.\n",
    "        This is where the integer encoded variable is removed, and a new binary variable is\n",
    "        added for each unique integer value.\n",
    "        example:\n",
    "            red,    green,    blue\n",
    "            1,      0,        0\n",
    "            0,      1,        0\n",
    "            0,      0,        1\n",
    "                Parameters:\n",
    "                        label: lables of your dataset in pandas.Dataframe format.\n",
    "                        n_classes: number of classes you have in your dataset.\n",
    "                \n",
    "                Returns:\n",
    "                    onehot_vectors: onehot vectors of the labels\n",
    "        '''\n",
    "        result = list()\n",
    "        for label in labels:\n",
    "            result.append([0 for i in range(n_classes)])\n",
    "            result[len(result)-1][int(label)] = 1\n",
    "        return np.array(result)\n",
    "    \n",
    "    def __shuffle_dataset(self):\n",
    "        '''\n",
    "        This private method shuffles your dataset.\n",
    "        It uses data and onehot_labels to shuffle them\n",
    "        symmetrical.\n",
    "        '''\n",
    "        random_indices = np.arange(self.__data.shape[0])\n",
    "        np.random.shuffle(random_indices)\n",
    "        self.__data = self.__data[random_indices] \n",
    "        self.__onehot_labels = self.__onehot_labels[random_indices] \n",
    "    \n",
    "    def __iter__(self):\n",
    "        '''\n",
    "        The __iter__() function returns an iterator for the\n",
    "        given object (array, set, tuple, etc., or custom objects).\n",
    "        This will return your dataset in the batch_size given. This should\n",
    "        be used to provide data for the neural network.\n",
    "        '''\n",
    "        \n",
    "        if self.__shuffle:\n",
    "            self.__shuffle_dataset()\n",
    "            \n",
    "        if self.__batch_size==None:\n",
    "            yield (np.matrix(self.__data), np.matrix(self.__onehot_labels))\n",
    "            return\n",
    "            \n",
    "        for idx in range(0, len(self.__data), self.__batch_size):\n",
    "            yield (np.matrix(self.__data[idx:idx+self.__batch_size]), \n",
    "                   np.matrix(self.__onehot_labels[idx:idx+self.__batch_size]))"
   ]
  },
  {
   "cell_type": "markdown",
   "metadata": {},
   "source": [
    "# Activation Functions"
   ]
  },
  {
   "cell_type": "code",
   "execution_count": 26,
   "metadata": {},
   "outputs": [],
   "source": [
    "class Identical:\n",
    "    def __init__(self): pass\n",
    "\n",
    "    def __val(self, matrix):\n",
    "        identical_value = np.matrix(matrix, dtype=float)\n",
    "        return identical_value\n",
    "\n",
    "    def derivative(self, matrix):\n",
    "        temp = np.matrix(matrix, dtype=float)\n",
    "        identical_derivative = np.matrix(np.full(np.shape(temp), 1.))\n",
    "        return identical_derivative\n",
    "    \n",
    "    def __call__(self, matrix):\n",
    "        return self.__val(matrix)\n",
    "    \n",
    "\n",
    "class Relu:\n",
    "    \n",
    "    def __init__(self): pass\n",
    "\n",
    "    def __val(self, matrix):\n",
    "        relu_value = np.matrix(matrix, dtype=float)\n",
    "        relu_value[relu_value<0] = 0\n",
    "        return relu_value\n",
    "\n",
    "    def derivative(self, matrix):\n",
    "        relu_derivative = np.matrix(matrix, dtype=float)\n",
    "        relu_derivative[relu_derivative>0] = 1.\n",
    "        relu_derivative[relu_derivative<0] = 0.\n",
    "        return relu_derivative\n",
    "    \n",
    "    def __call__(self, matrix):\n",
    "        return self.__val(matrix)\n",
    "\n",
    "    \n",
    "class LeakyRelu:\n",
    "    \n",
    "    def __init__(self, negative_slope=0.01):\n",
    "        self.negative_slope = 0.01\n",
    "    \n",
    "    def __val(self, matrix):\n",
    "        temp = np.matrix(matrix, dtype=float)\n",
    "        leacky_relu_value = np.matrix(np.where(temp > 0, temp, temp * self.negative_slope))\n",
    "        return leacky_relu_value\n",
    "\n",
    "    def derivative(self, matrix):\n",
    "        temp = np.matrix(matrix, dtype=float)\n",
    "        leacky_relu_derivative = np.ones_like(temp)\n",
    "        leacky_relu_derivative[temp <= 0] = self.negative_slope\n",
    "        return leacky_relu_derivative\n",
    "    \n",
    "    def __call__(self, matrix):\n",
    "        return self.__val(matrix)\n",
    "\n",
    "    \n",
    "class Sigmoid:\n",
    "    def __init__(self): pass\n",
    "\n",
    "    def __val(self, matrix):\n",
    "        sigmoid_value = 1/(1+np.exp(-(np.matrix(matrix, dtype=float))))\n",
    "        return sigmoid_value\n",
    "\n",
    "    def derivative(self, matrix):\n",
    "        sigmoid_derivative = 1/(1+np.exp(-(np.matrix(matrix, dtype=float))))\n",
    "        sigmoid_derivative = np.multiply(sigmoid_derivative, 1-sigmoid_derivative)\n",
    "        return sigmoid_derivative\n",
    "    \n",
    "    def __call__(self, matrix):\n",
    "        return self.__val(matrix)\n",
    "\n",
    "\n",
    "class Softmax:\n",
    "    \n",
    "    def __init__(self): pass\n",
    "\n",
    "    def __val(self, matrix):\n",
    "        temp = np.matrix(matrix, dtype=float)\n",
    "        softmax_value = np.exp(temp - np.max(temp))\n",
    "        softmax_value /= softmax_value.sum(axis=1)\n",
    "        return softmax_value\n",
    "    \n",
    "    def __call__(self, matrix):\n",
    "        return self.__val(matrix)\n",
    "    \n",
    "class Tanh:\n",
    "    \n",
    "    def __init__(self): pass\n",
    "\n",
    "    def __val(self, matrix):\n",
    "        t = np.matrix(matrix, dtype=float)\n",
    "        tanh_value = np.matrix((np.exp(t) - np.exp(-t))/(np.exp(t) + np.exp(-t)))\n",
    "        return tanh_value\n",
    "\n",
    "    def derivative(self, matrix):\n",
    "        tanh_derivative = 1 - np.power(self.__val(matrix), 2)\n",
    "        return tanh_derivative\n",
    "    \n",
    "    def __call__(self, matrix):\n",
    "        return self.__val(matrix)"
   ]
  },
  {
   "cell_type": "markdown",
   "metadata": {},
   "source": [
    "# Loss Function"
   ]
  },
  {
   "cell_type": "code",
   "execution_count": 27,
   "metadata": {},
   "outputs": [],
   "source": [
    "class CrossEntropy:\n",
    "    \n",
    "    def __init__(self): pass\n",
    "\n",
    "    def __val(self, true_val, expected_val):\n",
    "        assert np.shape(true_val)==np.shape(expected_val)\n",
    "        softmax = Softmax()\n",
    "        cross_entropy_value = np.sum(-np.multiply(np.matrix(expected_val, dtype=float), \\\n",
    "                                                  np.log(softmax(true_val))), axis=1)\n",
    "        return cross_entropy_value\n",
    "        \n",
    "    def derivative(self, true_val, expected_val):\n",
    "        assert np.shape(true_val)==np.shape(expected_val) \n",
    "        softmax = Softmax()\n",
    "        cross_entropy_derivative = softmax(true_val) - expected_val\n",
    "        return cross_entropy_derivative\n",
    "    \n",
    "    def __call__(self, true_val, expected_val):\n",
    "        return self.__val(true_val, expected_val)"
   ]
  },
  {
   "cell_type": "markdown",
   "metadata": {},
   "source": [
    "# Layer"
   ]
  },
  {
   "cell_type": "code",
   "execution_count": 28,
   "metadata": {},
   "outputs": [],
   "source": [
    "class Layer:\n",
    "\n",
    "    DEFAULT_LOW, DEFAULT_HIGH, DEFAULT_MEAN, DEFAULT_VAR = 0, 0.05, 0., 1.\n",
    "  \n",
    "    def __init__(self, input_size, output_size, \n",
    "                 activation=Identical(), initial_weight='uniform', **initializing_parameters):\n",
    "        \n",
    "        self.__weight_initializer_dict = {'uniform':self.__uniform_weight, 'normal':self.__normal_weight,\n",
    "                                         'he':self.__he_weight}\n",
    "        \n",
    "        assert type(initial_weight)==str, 'Undefined activation function!'\n",
    "        assert initial_weight in self.__weight_initializer_dict, 'Undefined weight initialization function!'\n",
    "        \n",
    "        self.__n_neurons = output_size\n",
    "        self.__fan_in = input_size\n",
    "        self.__fan_out = output_size\n",
    "        weight_initializer = self.__weight_initializer_dict[initial_weight]\n",
    "        self.__weight = weight_initializer(input_size, self.__n_neurons, **initializing_parameters)\n",
    "        self.__bias = weight_initializer(1, self.__n_neurons, **initializing_parameters)\n",
    "        self.__activation = activation\n",
    "        \n",
    "        self.__last_input = None\n",
    "        self.__last_activation_input = None\n",
    "        self.__last_activation_output = None\n",
    "        self.__last_activation_derivative = None\n",
    "        \n",
    "    def forward(self, layer_input):\n",
    "        assert np.ndim(layer_input)==2\n",
    "        assert np.size(self.__weight,0) == np.size(layer_input,1)\n",
    "        self.__last_input = layer_input\n",
    "        self.__last_activation_input = np.add(np.dot(self.__last_input, self.__weight), self.__bias)\n",
    "        self.__last_activation_output = self.__activation(self.__last_activation_input)\n",
    "        self.__last_activation_derivative = self.__activation.derivative(self.__last_activation_output)\n",
    "        return self.__last_activation_output\n",
    "    \n",
    "    def update_weights(self, backprop_tensor, lr):\n",
    "        assert np.ndim(backprop_tensor)==2\n",
    "        assert np.size(backprop_tensor,0) == np.size(self.__last_activation_derivative,0)\n",
    "        assert np.size(backprop_tensor,1) == self.__n_neurons\n",
    "        backprop_tensor = np.multiply(backprop_tensor, self.__last_activation_derivative)\n",
    "        self.__weight -= (lr * np.dot(self.__last_input.T, backprop_tensor))\n",
    "        self.__bias -= (lr * np.dot(np.ones((1, backprop_tensor.shape[0])), \\\n",
    "                                                                      backprop_tensor))\n",
    "        backprop_tensor = np.dot(backprop_tensor, self.__weight.T)\n",
    "        return backprop_tensor\n",
    "\n",
    "    def __uniform_weight(self, dim1, dim2, **initializing_parameters):\n",
    "        low, high = self.DEFAULT_LOW, self.DEFAULT_HIGH\n",
    "        if 'low' in initializing_parameters.keys(): low = initializing_parameters['low']\n",
    "        if 'high' in initializing_parameters.keys(): high = initializing_parameters['high']\n",
    "        weights = np.random.uniform(low, high=high, size=(dim1, dim2))\n",
    "        return weights\n",
    "    \n",
    "    def __he_weight(self, dim1, dim2, **initializing_parameters):\n",
    "        r = np.sqrt(12./(self.__fan_in, self.__fan_out))\n",
    "        low, high = -r, r\n",
    "        if 'low' in initializing_parameters.keys(): low = initializing_parameters['low']\n",
    "        if 'high' in initializing_parameters.keys(): high = initializing_parameters['high']\n",
    "        weights = np.random.uniform(low, high=high, size=(dim1, dim2))\n",
    "        return weights\n",
    "\n",
    "    def __normal_weight(self, dim1, dim2, **initializing_parameters):\n",
    "        mean, var = self.DEFAULT_MEAN, self.DEFAULT_VAR\n",
    "        if 'mean' in initializing_parameters.keys(): mean = initializing_parameters['mean']\n",
    "        if 'var' in initializing_parameters.keys(): var = initializing_parameters['var']\n",
    "        weights = np.random.normal(loc=mean, scale=var, size=(dim1, dim2))\n",
    "        return weights\n",
    "    \n",
    "    @property\n",
    "    def n_neurons(self): return self.__n_neurons\n",
    "    \n",
    "    @property\n",
    "    def weight(self): return self.__weight\n",
    "    \n",
    "    @property\n",
    "    def bias(self): return self.__bias\n",
    "    \n",
    "    @property\n",
    "    def activation(self): return self.__activation"
   ]
  },
  {
   "cell_type": "markdown",
   "metadata": {},
   "source": [
    "# Feed Forward Neural Network"
   ]
  },
  {
   "cell_type": "code",
   "execution_count": 29,
   "metadata": {},
   "outputs": [],
   "source": [
    "class FeedForwardNN:\n",
    "    \n",
    "    def __init__(self, input_shape):\n",
    "        \n",
    "        self.__input_shape = input_shape\n",
    "        self.__output_shape = None\n",
    "        \n",
    "        self.__layers_list = []\n",
    "        \n",
    "        self.__lr = None\n",
    "        self.__loss = None\n",
    "        \n",
    "        self.__output_of_last = None\n",
    "        self.__output_of_last_train = None\n",
    "        self.__output_of_last_test = None\n",
    "        \n",
    "\n",
    "        \n",
    "    def add_layer(self, n_neurons, activation=Relu(), initial_weight='uniform', **initializing_parameters):\n",
    "        assert type(n_neurons)==int, \"Invalid number of neurons for the layer!\"\n",
    "        assert n_neurons>0, \"Invalid number of neurons for the layer!\"\n",
    "        \n",
    "        if len(self.__layers_list)==0:\n",
    "            n_prev_neurons = self.__input_shape \n",
    "        else: \n",
    "            n_prev_neurons = self.__layers_list[-1].n_neurons\n",
    "        new_layer = Layer(n_prev_neurons, n_neurons, activation, initial_weight, **initializing_parameters)\n",
    "        self.__layers_list.append(new_layer)\n",
    "        self.__output_shape = self.__layers_list[-1].n_neurons \n",
    "      \n",
    "    \n",
    "    def set_training_param(self, loss=CrossEntropy(), lr=1e-3):\n",
    "        assert self.__layers_list, \"Uncomplete model!\"\n",
    "        self.__loss = loss\n",
    "        self.__lr = lr\n",
    "    \n",
    "    \n",
    "    def forward(self, network_input):\n",
    "        assert type(self.__output_shape) != None, \"Model is not compiled!\"\n",
    "        network_output = network_input\n",
    "        for i in range(len(self.__layers_list)):\n",
    "            network_output = self.__layers_list[i].forward(network_output)\n",
    "            if i == (len(self.__layers_list)-2):\n",
    "                self.__output_of_last = network_output\n",
    "        return network_output\n",
    "    \n",
    "    \n",
    "    def fit(self, epochs, trainloader, testloader=None, print_results=True):\n",
    "        assert type(self.__output_shape) != None, \"Model is not compiled!\"\n",
    "        assert type(self.__lr) != None and type(self.__loss) != None, \"Training paramenters are not set!\"\n",
    "\n",
    "        log = {\"train_accuracy\":[], \"train_loss\":[], \"test_accuracy\":[], \"test_loss\":[]}\n",
    "        \n",
    "        for epoch in range(1, epochs+1):\n",
    "            \n",
    "            self.__output_of_last_train = None\n",
    "            self.__output_of_last_test = None\n",
    "            \n",
    "            if print_results: \n",
    "                print('Epoch {}:'.format(epoch)) \n",
    "                \n",
    "            average_accuracy, average_loss = self.__train(trainloader)\n",
    "            log['train_accuracy'].append(average_accuracy)\n",
    "            log['train_loss'].append(average_loss)\n",
    "            if print_results:\n",
    "                print('\\tTrain: Average Accuracy: {}\\tAverage Loss: {}'.format(average_accuracy,\\\n",
    "                                                                               average_loss))\n",
    "            \n",
    "            if type(testloader) != type(None):\n",
    "                average_accuracy, average_loss = self.__test(testloader)\n",
    "                log['test_accuracy'].append(average_accuracy)\n",
    "                log['test_loss'].append(average_loss)\n",
    "                if print_results:\n",
    "                    print('\\tTest: Average Accuracy: {}\\tAverage Loss: {}'.format(average_accuracy,\\\n",
    "                                                                                  average_loss))\n",
    "                    \n",
    "        return log\n",
    "    \n",
    "    def __train(self, trainloader):\n",
    "        bach_accuracies, batch_losses = [], []\n",
    "        for x_train, y_train in trainloader:\n",
    "            batch_accuracy, batch_loss = self.__train_on_batch(x_train, y_train)\n",
    "            bach_accuracies.append(batch_accuracy)\n",
    "            batch_losses.append(batch_loss)\n",
    "        return np.mean(bach_accuracies), np.mean(batch_losses)\n",
    "    \n",
    "    \n",
    "    def __test(self, testloader):\n",
    "        bach_accuracies, batch_losses = [], []\n",
    "        for x_test, y_test in testloader:\n",
    "            batch_accuracy, batch_loss = self.__test_on_batch(x_test, y_test)\n",
    "            bach_accuracies.append(batch_accuracy)\n",
    "            batch_losses.append(batch_loss)\n",
    "        return np.mean(bach_accuracies), np.mean(batch_losses)\n",
    "\n",
    "    \n",
    "    def __train_on_batch(self, x_batch, y_batch):\n",
    "        output = self.forward(x_batch)\n",
    "        self.__update_weights(output, y_batch)\n",
    "        batch_accuracy = self.__compute_accuracy(output, y_batch)\n",
    "        batch_average_loss = np.mean(self.__loss(output, y_batch))\n",
    "        if type(self.__output_of_last_train) is not np.matrix:\n",
    "            self.__output_of_last_train = self.__output_of_last\n",
    "        else:\n",
    "            self.__output_of_last_train = np.concatenate((self.__output_of_last_train, self.__output_of_last), axis=0)\n",
    "        return (batch_accuracy, batch_average_loss)\n",
    "        \n",
    "        \n",
    "    def __test_on_batch(self, x_batch, y_batch):\n",
    "        output = self.forward(x_batch)\n",
    "        batch_accuracy = self.__compute_accuracy(output, y_batch)\n",
    "        batch_average_loss = np.mean(self.__loss(output, y_batch))\n",
    "        if type(self.__output_of_last_test) is not np.matrix:\n",
    "            self.__output_of_last_test = self.__output_of_last\n",
    "        else:\n",
    "            self.__output_of_last_test = np.concatenate((self.__output_of_last_test, self.__output_of_last), axis=0)\n",
    "        return (batch_accuracy, batch_average_loss)\n",
    "            \n",
    "        \n",
    "    def __get_labels(self, outputs):\n",
    "        labels = np.argmax(outputs, axis = 1)\n",
    "        return labels\n",
    "    \n",
    "    \n",
    "    def __compute_accuracy(self, output, expected_output):\n",
    "        accuracy = (self.__get_labels(output) == self.__get_labels(expected_output)).sum()/output.shape[0]\n",
    "        return accuracy*100\n",
    "    \n",
    "    \n",
    "    def __update_weights(self, output, y_train):\n",
    "        for i in reversed(range(len(self.__layers_list))):\n",
    "            if i == (len(self.__layers_list) - 1):\n",
    "                backprop_tensor = self.__layers_list[i].update_weights(self.__loss.derivative(output, y_train), self.__lr)\n",
    "            else:\n",
    "                backprop_tensor = self.__layers_list[i].update_weights(backprop_tensor, self.__lr)\n",
    "        return"
   ]
  },
  {
   "cell_type": "markdown",
   "metadata": {},
   "source": [
    "# Loading the dataset"
   ]
  },
  {
   "cell_type": "code",
   "execution_count": 30,
   "metadata": {},
   "outputs": [],
   "source": [
    "import pickle\n",
    "pkl_file = open('dataset/data.pkl', 'rb')\n",
    "data = pickle.load(pkl_file)\n",
    "pkl_file = open('dataset/labels.pkl', 'rb')\n",
    "labels = pickle.load(pkl_file)"
   ]
  },
  {
   "cell_type": "markdown",
   "metadata": {},
   "source": [
    "# Preprocessing"
   ]
  },
  {
   "cell_type": "markdown",
   "metadata": {},
   "source": [
    "## plotting some of the images"
   ]
  },
  {
   "cell_type": "code",
   "execution_count": 31,
   "metadata": {},
   "outputs": [
    {
     "data": {
      "image/png": "[encoded data removed]",
      "text/plain": [
       "<Figure size 432x288 with 1 Axes>"
      ]
     },
     "metadata": {
      "needs_background": "light"
     },
     "output_type": "display_data"
    },
    {
     "data": {
      "image/png": "[encoded data removed]",
      "text/plain": [
       "<Figure size 432x288 with 1 Axes>"
      ]
     },
     "metadata": {
      "needs_background": "light"
     },
     "output_type": "display_data"
    },
    {
     "data": {
      "image/png": "[encoded data removed]",
      "text/plain": [
       "<Figure size 432x288 with 1 Axes>"
      ]
     },
     "metadata": {
      "needs_background": "light"
     },
     "output_type": "display_data"
    },
    {
     "data": {
      "image/png": "[encoded data removed]",
      "text/plain": [
       "<Figure size 432x288 with 1 Axes>"
      ]
     },
     "metadata": {
      "needs_background": "light"
     },
     "output_type": "display_data"
    }
   ],
   "source": [
    "plt.imshow(data[0],cmap=\"gray\")\n",
    "plt.show()\n",
    "\n",
    "plt.imshow(data[7],cmap=\"gray\")\n",
    "plt.show()\n",
    "\n",
    "plt.imshow(data[10],cmap=\"gray\")\n",
    "plt.show()\n",
    "\n",
    "plt.imshow(data[100],cmap=\"gray\")\n",
    "plt.show()"
   ]
  },
  {
   "cell_type": "code",
   "execution_count": 32,
   "metadata": {},
   "outputs": [
    {
     "name": "stdout",
     "output_type": "stream",
     "text": [
      "Max:  255\n",
      "Min:  0\n"
     ]
    }
   ],
   "source": [
    "print('Max: ',data[0].max())\n",
    "print('Min: ',data[0].min())"
   ]
  },
  {
   "cell_type": "markdown",
   "metadata": {},
   "source": [
    "## Resize images"
   ]
  },
  {
   "cell_type": "code",
   "execution_count": 33,
   "metadata": {},
   "outputs": [],
   "source": [
    "import cv2\n",
    "resized_images = []\n",
    "for image in data:\n",
    "    resized_images.append(cv2.resize(image, (25,25), interpolation=cv2.INTER_CUBIC))\n",
    "\n",
    "resized_images = np.array(resized_images)"
   ]
  },
  {
   "cell_type": "code",
   "execution_count": 34,
   "metadata": {},
   "outputs": [
    {
     "data": {
      "text/plain": [
       "(102352, 25, 25)"
      ]
     },
     "execution_count": 34,
     "metadata": {},
     "output_type": "execute_result"
    }
   ],
   "source": [
    "resized_images.shape"
   ]
  },
  {
   "cell_type": "markdown",
   "metadata": {},
   "source": [
    "## Train/Test Split"
   ]
  },
  {
   "cell_type": "code",
   "execution_count": 35,
   "metadata": {},
   "outputs": [],
   "source": [
    "from sklearn.model_selection import train_test_split\n",
    "X_train, X_test, y_train, y_test = train_test_split(resized_images, labels, test_size=0.20, random_state=42)\n",
    "\n",
    "X_train = np.array(X_train)\n",
    "X_test = np.array(X_test)\n",
    "y_train = np.array(y_train)\n",
    "y_test = np.array(y_test)\n"
   ]
  },
  {
   "cell_type": "markdown",
   "metadata": {},
   "source": [
    "## Show one image per category"
   ]
  },
  {
   "cell_type": "code",
   "execution_count": 36,
   "metadata": {},
   "outputs": [
    {
     "data": {
      "image/png": "[encoded data removed]",
      "text/plain": [
       "<Figure size 432x288 with 1 Axes>"
      ]
     },
     "metadata": {
      "needs_background": "light"
     },
     "output_type": "display_data"
    },
    {
     "data": {
      "image/png": "[encoded data removed]",
      "text/plain": [
       "<Figure size 432x288 with 1 Axes>"
      ]
     },
     "metadata": {
      "needs_background": "light"
     },
     "output_type": "display_data"
    },
    {
     "data": {
      "image/png": "[encoded data removed]",
      "text/plain": [
       "<Figure size 432x288 with 1 Axes>"
      ]
     },
     "metadata": {
      "needs_background": "light"
     },
     "output_type": "display_data"
    },
    {
     "data": {
      "image/png": "[encoded data removed]",
      "text/plain": [
       "<Figure size 432x288 with 1 Axes>"
      ]
     },
     "metadata": {
      "needs_background": "light"
     },
     "output_type": "display_data"
    },
    {
     "data": {
      "image/png": "[encoded data removed]",
      "text/plain": [
       "<Figure size 432x288 with 1 Axes>"
      ]
     },
     "metadata": {
      "needs_background": "light"
     },
     "output_type": "display_data"
    },
    {
     "data": {
      "image/png": "[encoded data removed]",
      "text/plain": [
       "<Figure size 432x288 with 1 Axes>"
      ]
     },
     "metadata": {
      "needs_background": "light"
     },
     "output_type": "display_data"
    },
    {
     "data": {
      "image/png": "[encoded data removed]",
      "text/plain": [
       "<Figure size 432x288 with 1 Axes>"
      ]
     },
     "metadata": {
      "needs_background": "light"
     },
     "output_type": "display_data"
    },
    {
     "data": {
      "image/png": "[encoded data removed]",
      "text/plain": [
       "<Figure size 432x288 with 1 Axes>"
      ]
     },
     "metadata": {
      "needs_background": "light"
     },
     "output_type": "display_data"
    },
    {
     "data": {
      "image/png": "[encoded data removed]",
      "text/plain": [
       "<Figure size 432x288 with 1 Axes>"
      ]
     },
     "metadata": {
      "needs_background": "light"
     },
     "output_type": "display_data"
    },
    {
     "data": {
      "image/png": "[encoded data removed]",
      "text/plain": [
       "<Figure size 432x288 with 1 Axes>"
      ]
     },
     "metadata": {
      "needs_background": "light"
     },
     "output_type": "display_data"
    }
   ],
   "source": [
    "selectedFromClass = [False]*10\n",
    "indexes = [0]*10\n",
    "i = 0\n",
    "for label in y_train:\n",
    "    if selectedFromClass[int(label)] == False:\n",
    "        selectedFromClass[int(label)] = True\n",
    "        indexes[int(label)] = i\n",
    "    if selectedFromClass == [True]*10:\n",
    "        break\n",
    "    i += 1\n",
    "\n",
    "number = 0;\n",
    "for index in indexes:\n",
    "    new_array = np.reshape(X_train[index], (25, 25))\n",
    "    plt.imshow(new_array,cmap=\"gray\")\n",
    "    plt.title(\"Number: \" + str(number) )\n",
    "    plt.show()\n",
    "\n",
    "    number += 1"
   ]
  },
  {
   "cell_type": "code",
   "execution_count": 37,
   "metadata": {},
   "outputs": [
    {
     "data": {
      "text/plain": [
       "(81881, 25, 25)"
      ]
     },
     "execution_count": 37,
     "metadata": {},
     "output_type": "execute_result"
    }
   ],
   "source": [
    "X_train.shape"
   ]
  },
  {
   "cell_type": "code",
   "execution_count": 38,
   "metadata": {},
   "outputs": [
    {
     "data": {
      "text/plain": [
       "(20471, 25, 25)"
      ]
     },
     "execution_count": 38,
     "metadata": {},
     "output_type": "execute_result"
    }
   ],
   "source": [
    "X_test.shape"
   ]
  },
  {
   "cell_type": "markdown",
   "metadata": {},
   "source": [
    "## Plotting the frequency of classes"
   ]
  },
  {
   "cell_type": "markdown",
   "metadata": {},
   "source": [
    "The classes in our dataset is fairly balanced."
   ]
  },
  {
   "cell_type": "code",
   "execution_count": 39,
   "metadata": {},
   "outputs": [],
   "source": [
    "freqOfClassInTraining = {'0': 0, '1': 0, '2': 0, '3': 0, '4': 0,'5': 0, '6': 0, '7': 0, '8': 0, '9': 0}\n",
    "for label in y_train:\n",
    "    freqOfClassInTraining[str(label)] += 1"
   ]
  },
  {
   "cell_type": "code",
   "execution_count": 40,
   "metadata": {},
   "outputs": [
    {
     "data": {
      "image/png": "[encoded data removed]",
      "text/plain": [
       "<Figure size 432x288 with 1 Axes>"
      ]
     },
     "metadata": {
      "needs_background": "light"
     },
     "output_type": "display_data"
    }
   ],
   "source": [
    "plt.bar(freqOfClassInTraining.keys(), freqOfClassInTraining.values(), color='b')\n",
    "plt.xlabel(\"Class\")\n",
    "plt.ylabel(\"Class frequency\")\n",
    "plt.title(\"Class frequncy in train data\")\n",
    "plt.show();"
   ]
  },
  {
   "cell_type": "code",
   "execution_count": 41,
   "metadata": {},
   "outputs": [],
   "source": [
    "freqOfClassInTest = {'0': 0, '1': 0, '2': 0, '3': 0, '4': 0,'5': 0, '6': 0, '7': 0, '8': 0, '9': 0}\n",
    "for label in y_test:\n",
    "    freqOfClassInTest[str(label)] += 1"
   ]
  },
  {
   "cell_type": "code",
   "execution_count": 42,
   "metadata": {},
   "outputs": [
    {
     "data": {
      "image/png": "[encoded data removed]",
      "text/plain": [
       "<Figure size 432x288 with 1 Axes>"
      ]
     },
     "metadata": {
      "needs_background": "light"
     },
     "output_type": "display_data"
    }
   ],
   "source": [
    "plt.bar(freqOfClassInTest.keys(), freqOfClassInTest.values(), color='b')\n",
    "plt.xlabel(\"Class\")\n",
    "plt.ylabel(\"Class frequency\")\n",
    "plt.title(\"Class frequncy in train data\")\n",
    "plt.show()"
   ]
  },
  {
   "cell_type": "markdown",
   "metadata": {},
   "source": [
    "## Scaling the pixels\n",
    "Dividing by 255 will make all pixels values between 0 and 255.\n",
    "\n",
    "**Question: What would happen if we don't scale the pixels?** Neural networks process inputs using small weight values, and inputs with large integer values can disrupt or slow down the learning process. As such it is good practice to normalize the pixel values so that each pixel value has a value between 0 and 1."
   ]
  },
  {
   "cell_type": "code",
   "execution_count": 43,
   "metadata": {},
   "outputs": [
    {
     "name": "stdout",
     "output_type": "stream",
     "text": [
      "Max:  1.0\n",
      "Min:  0.0\n"
     ]
    }
   ],
   "source": [
    "X_train = X_train/255\n",
    "X_test = X_test/255\n",
    "\n",
    "print(\"Max: \",X_train.max())\n",
    "print(\"Min: \",X_train.min())"
   ]
  },
  {
   "cell_type": "markdown",
   "metadata": {},
   "source": [
    "# Part 3"
   ]
  },
  {
   "cell_type": "markdown",
   "metadata": {},
   "source": [
    "## 1) Training the model"
   ]
  },
  {
   "cell_type": "code",
   "execution_count": 52,
   "metadata": {},
   "outputs": [
    {
     "name": "stdout",
     "output_type": "stream",
     "text": [
      "Epoch 1:\n",
      "\tTrain: Average Accuracy: 9.873925361469324\tAverage Loss: 2.272596152475967\n",
      "\tTest: Average Accuracy: 9.710852581521738\tAverage Loss: 2.267676173615263\n",
      "Epoch 2:\n",
      "\tTrain: Average Accuracy: 9.870603751465417\tAverage Loss: 2.2638745669577856\n",
      "\tTest: Average Accuracy: 9.710852581521738\tAverage Loss: 2.2632729309678212\n",
      "Epoch 3:\n",
      "\tTrain: Average Accuracy: 9.881594372801876\tAverage Loss: 2.2593474284679593\n",
      "\tTest: Average Accuracy: 9.710852581521738\tAverage Loss: 2.2586527947015593\n",
      "Epoch 4:\n",
      "\tTrain: Average Accuracy: 9.878810082063305\tAverage Loss: 2.254658194454542\n",
      "\tTest: Average Accuracy: 9.710852581521738\tAverage Loss: 2.2536392684021846\n",
      "Epoch 5:\n",
      "\tTrain: Average Accuracy: 9.908460336068776\tAverage Loss: 2.249530836229871\n",
      "\tTest: Average Accuracy: 9.710852581521738\tAverage Loss: 2.2485429405333717\n",
      "Epoch 6:\n",
      "\tTrain: Average Accuracy: 9.947196170379055\tAverage Loss: 2.2441760118180567\n",
      "\tTest: Average Accuracy: 9.710852581521738\tAverage Loss: 2.2428062240587794\n",
      "Epoch 7:\n",
      "\tTrain: Average Accuracy: 9.990963266901133\tAverage Loss: 2.238214340873414\n",
      "\tTest: Average Accuracy: 9.779211956521738\tAverage Loss: 2.236882183051692\n",
      "Epoch 8:\n",
      "\tTrain: Average Accuracy: 10.389067995310668\tAverage Loss: 2.2318083184781874\n",
      "\tTest: Average Accuracy: 9.842688519021738\tAverage Loss: 2.229747297755005\n",
      "Epoch 9:\n",
      "\tTrain: Average Accuracy: 10.772030089878859\tAverage Loss: 2.2246038594484494\n",
      "\tTest: Average Accuracy: 10.57702105978261\tAverage Loss: 2.222356228331303\n",
      "Epoch 10:\n",
      "\tTrain: Average Accuracy: 11.327471668620555\tAverage Loss: 2.2166605204244605\n",
      "\tTest: Average Accuracy: 11.78307574728261\tAverage Loss: 2.213955233861487\n",
      "Epoch 11:\n",
      "\tTrain: Average Accuracy: 12.016217272372021\tAverage Loss: 2.2077921330861687\n",
      "\tTest: Average Accuracy: 12.59362262228261\tAverage Loss: 2.2046161950935295\n",
      "Epoch 12:\n",
      "\tTrain: Average Accuracy: 12.841197733489645\tAverage Loss: 2.197868428732944\n",
      "\tTest: Average Accuracy: 14.138502038043478\tAverage Loss: 2.1943352046316784\n",
      "Epoch 13:\n",
      "\tTrain: Average Accuracy: 13.658167252833138\tAverage Loss: 2.1867003702729018\n",
      "\tTest: Average Accuracy: 13.850416100543478\tAverage Loss: 2.182354311061239\n",
      "Epoch 14:\n",
      "\tTrain: Average Accuracy: 14.316041422430636\tAverage Loss: 2.1741613211973028\n",
      "\tTest: Average Accuracy: 14.133619225543478\tAverage Loss: 2.1689994068220715\n",
      "Epoch 15:\n",
      "\tTrain: Average Accuracy: 14.909730363423213\tAverage Loss: 2.160046871513776\n",
      "\tTest: Average Accuracy: 14.919752038043478\tAverage Loss: 2.1539694083874337\n"
     ]
    }
   ],
   "source": [
    "INPUT_SHAPE = 25*25\n",
    "LEARNING_RATE = 1e-3\n",
    "EPOCHS = 15\n",
    "TRAINLOADER = Dataloader(X_train.reshape(-1,INPUT_SHAPE), y_train, 10, batch_size=32, shuffle=True)\n",
    "TESTLOADER = Dataloader(X_test.reshape(-1,INPUT_SHAPE), y_test, 10, batch_size=32, shuffle=False)\n",
    "\n",
    "network = FeedForwardNN(INPUT_SHAPE)\n",
    "network.add_layer(35, activation=LeakyRelu(), weight_initializer='normal')\n",
    "network.add_layer(10, activation=Identical(), weight_initializer='normal')\n",
    "network.set_training_param(loss=CrossEntropy(), lr=LEARNING_RATE)\n",
    "\n",
    "log = network.fit(EPOCHS, TRAINLOADER, TESTLOADER)"
   ]
  },
  {
   "cell_type": "markdown",
   "metadata": {},
   "source": [
    "## 2) What would happen if we assign zero weights & biases to our model?\n",
    "\n",
    "Initializing all the weights with zeros leads the neurons to learn the same features during training. In fact, any constant initialization scheme will perform very poorly. Consider a neural network with two hidden units, and assume we initialize all the biases to 0 and the weights with some constant `α`. (Source: deeplearning.ai)\n"
   ]
  },
  {
   "cell_type": "markdown",
   "metadata": {},
   "source": [
    "## 3) Learning Rate\n",
    "\n",
    "Learning rate shows that how much our network should be updated when we have some error. When it is high, for little changes we have big updates which is not good because we not seeing hole data, that is just one batch of data. Also when it is low we change a little that like that we are not updating netowrk, again this is not good.\n",
    "\n",
    "\n",
    "The best learning rate that I found was $1e-4$"
   ]
  },
  {
   "cell_type": "code",
   "execution_count": null,
   "metadata": {},
   "outputs": [
    {
     "name": "stdout",
     "output_type": "stream",
     "text": [
      "CPU times: user 2 µs, sys: 1 µs, total: 3 µs\n",
      "Wall time: 5.96 µs\n",
      "Epoch 1:\n",
      "\tTrain: Average Accuracy: 59.62172723720203\tAverage Loss: 1.2631629783684781\n",
      "\tTest: Average Accuracy: 85.64665421195653\tAverage Loss: 0.49981395401327766\n",
      "Epoch 2:\n",
      "\tTrain: Average Accuracy: 89.21751660805002\tAverage Loss: 0.3637215255819128\n",
      "\tTest: Average Accuracy: 91.00309952445653\tAverage Loss: 0.29576150657606176\n",
      "Epoch 3:\n",
      "\tTrain: Average Accuracy: 92.94455842125831\tAverage Loss: 0.24944397439117658\n",
      "\tTest: Average Accuracy: 93.46000339673913\tAverage Loss: 0.23007673474797974\n",
      "Epoch 4:\n",
      "\tTrain: Average Accuracy: 94.08948808128176\tAverage Loss: 0.21053871120766648\n",
      "\tTest: Average Accuracy: 93.99222995923913\tAverage Loss: 0.20917281568389895\n",
      "Epoch 5:\n",
      "\tTrain: Average Accuracy: 94.58006057053537\tAverage Loss: 0.1905111224861358\n",
      "\tTest: Average Accuracy: 94.50004245923913\tAverage Loss: 0.18939484763928044\n",
      "Epoch 6:\n",
      "\tTrain: Average Accuracy: 95.00014654161782\tAverage Loss: 0.1779662575770194\n",
      "\tTest: Average Accuracy: 94.79789402173913\tAverage Loss: 0.17935577424110244\n",
      "Epoch 7:\n",
      "\tTrain: Average Accuracy: 95.24316139116843\tAverage Loss: 0.16930044276469436\n",
      "\tTest: Average Accuracy: 94.99808933423913\tAverage Loss: 0.174568565111413\n",
      "Epoch 8:\n",
      "\tTrain: Average Accuracy: 95.48373388042204\tAverage Loss: 0.162579894461041\n",
      "\tTest: Average Accuracy: 95.33988620923913\tAverage Loss: 0.16700393992007193\n",
      "Epoch 9:\n",
      "\tTrain: Average Accuracy: 95.61772176631497\tAverage Loss: 0.1572411843892903\n",
      "\tTest: Average Accuracy: 95.43265964673913\tAverage Loss: 0.16232031559287088\n",
      "Epoch 10:\n",
      "\tTrain: Average Accuracy: 95.80158264947245\tAverage Loss: 0.15292363935664757\n",
      "\tTest: Average Accuracy: 95.51078464673913\tAverage Loss: 0.15993577252380445\n",
      "Epoch 11:\n",
      "\tTrain: Average Accuracy: 95.8802754982415\tAverage Loss: 0.14936072663964214\n",
      "\tTest: Average Accuracy: 95.69144870923913\tAverage Loss: 0.1560678388478996\n",
      "Epoch 12:\n",
      "\tTrain: Average Accuracy: 95.93713364595546\tAverage Loss: 0.1462919947738593\n",
      "\tTest: Average Accuracy: 95.80863620923913\tAverage Loss: 0.15328825051576872\n",
      "Epoch 13:\n",
      "\tTrain: Average Accuracy: 96.04914028917545\tAverage Loss: 0.1431514571434804\n",
      "\tTest: Average Accuracy: 95.81351902173913\tAverage Loss: 0.1492301832470982\n",
      "Epoch 14:\n",
      "\tTrain: Average Accuracy: 96.10932004689332\tAverage Loss: 0.1407439710528374\n",
      "\tTest: Average Accuracy: 95.90629245923913\tAverage Loss: 0.148191527783205\n",
      "Epoch 15:\n",
      "\tTrain: Average Accuracy: 96.21312035951543\tAverage Loss: 0.138329779571271\n",
      "\tTest: Average Accuracy: 95.91605808423913\tAverage Loss: 0.14727390239715552\n"
     ]
    }
   ],
   "source": [
    "%time\n",
    "INPUT_SHAPE = 25*25\n",
    "LEARNING_RATE = 1e-4\n",
    "EPOCHS = 15\n",
    "TRAINLOADER = Dataloader(X_train.reshape(-1,INPUT_SHAPE), y_train, 10, batch_size=32, shuffle=True)\n",
    "TESTLOADER = Dataloader(X_test.reshape(-1,INPUT_SHAPE), y_test, 10, batch_size=32, shuffle=False)\n",
    "\n",
    "network = FeedForwardNN(INPUT_SHAPE)\n",
    "network.add_layer(35, activation=LeakyRelu(), weight_initializer='normal')\n",
    "network.add_layer(10, activation=Identical(), weight_initializer='normal')\n",
    "network.set_training_param(loss=CrossEntropy(), lr=LEARNING_RATE)\n",
    "\n",
    "log = network.fit(EPOCHS, TRAINLOADER, TESTLOADER)"
   ]
  },
  {
   "cell_type": "markdown",
   "metadata": {},
   "source": [
    "### Higher learning rate\n",
    "The learning rate $1e-3$ was experimented previously."
   ]
  },
  {
   "cell_type": "markdown",
   "metadata": {},
   "source": [
    "### Lower learning rate\n",
    "\n",
    "$ lr = 1e-5 $"
   ]
  },
  {
   "cell_type": "code",
   "execution_count": 53,
   "metadata": {},
   "outputs": [
    {
     "name": "stdout",
     "output_type": "stream",
     "text": [
      "Epoch 1:\n",
      "\tTrain: Average Accuracy: 10.687035951543571\tAverage Loss: 2.2440953379571544\n",
      "\tTest: Average Accuracy: 9.881751019021738\tAverage Loss: 2.2065957494842414\n",
      "Epoch 2:\n",
      "\tTrain: Average Accuracy: 15.83167252833138\tAverage Loss: 2.1268497566471694\n",
      "\tTest: Average Accuracy: 25.359205163043477\tAverage Loss: 2.0173236728772217\n",
      "Epoch 3:\n",
      "\tTrain: Average Accuracy: 43.82962094568191\tAverage Loss: 1.8333943247872342\n",
      "\tTest: Average Accuracy: 61.45741338315217\tAverage Loss: 1.633466747788922\n",
      "Epoch 4:\n",
      "\tTrain: Average Accuracy: 68.11503516998827\tAverage Loss: 1.4316020310754702\n",
      "\tTest: Average Accuracy: 73.15174932065217\tAverage Loss: 1.2519298779110488\n",
      "Epoch 5:\n",
      "\tTrain: Average Accuracy: 76.24057248925361\tAverage Loss: 1.1045966753600889\n",
      "\tTest: Average Accuracy: 79.05698029891305\tAverage Loss: 0.9784191651721542\n",
      "Epoch 6:\n",
      "\tTrain: Average Accuracy: 79.89786049237983\tAverage Loss: 0.877458556862092\n",
      "\tTest: Average Accuracy: 80.82455842391305\tAverage Loss: 0.7954049321468432\n",
      "Epoch 7:\n",
      "\tTrain: Average Accuracy: 82.04762602579133\tAverage Loss: 0.7268582277628565\n",
      "\tTest: Average Accuracy: 82.79127038043478\tAverage Loss: 0.6733689167391748\n",
      "Epoch 8:\n",
      "\tTrain: Average Accuracy: 83.70110394685425\tAverage Loss: 0.6260186515431851\n",
      "\tTest: Average Accuracy: 84.29517663043478\tAverage Loss: 0.5896870414520745\n",
      "Epoch 9:\n",
      "\tTrain: Average Accuracy: 84.94636576787808\tAverage Loss: 0.5545574995951335\n",
      "\tTest: Average Accuracy: 85.40548573369566\tAverage Loss: 0.5297414592825505\n",
      "Epoch 10:\n",
      "\tTrain: Average Accuracy: 85.8754884720594\tAverage Loss: 0.5010528706244477\n",
      "\tTest: Average Accuracy: 86.43087635869566\tAverage Loss: 0.4826006672034362\n",
      "Epoch 11:\n",
      "\tTrain: Average Accuracy: 86.77271395076201\tAverage Loss: 0.4589240734276284\n",
      "\tTest: Average Accuracy: 87.26095448369566\tAverage Loss: 0.44410660458293305\n",
      "Epoch 12:\n",
      "\tTrain: Average Accuracy: 87.55636967565455\tAverage Loss: 0.42462369893038093\n",
      "\tTest: Average Accuracy: 88.06555706521739\tAverage Loss: 0.41314910887046874\n",
      "Epoch 13:\n",
      "\tTrain: Average Accuracy: 88.33983001172334\tAverage Loss: 0.3959591970823109\n",
      "\tTest: Average Accuracy: 88.71688179347827\tAverage Loss: 0.387047131946671\n",
      "Epoch 14:\n",
      "\tTrain: Average Accuracy: 89.05720007815553\tAverage Loss: 0.3717974380683146\n",
      "\tTest: Average Accuracy: 89.33211616847827\tAverage Loss: 0.36437627206205114\n",
      "Epoch 15:\n",
      "\tTrain: Average Accuracy: 89.7555197342712\tAverage Loss: 0.35088264790179474\n",
      "\tTest: Average Accuracy: 89.95223335597827\tAverage Loss: 0.34623265674954473\n"
     ]
    }
   ],
   "source": [
    "INPUT_SHAPE = 25*25\n",
    "LEARNING_RATE = 1e-5\n",
    "EPOCHS = 15\n",
    "TRAINLOADER = Dataloader(X_train.reshape(-1,INPUT_SHAPE), y_train, 10, batch_size=32, shuffle=True)\n",
    "TESTLOADER = Dataloader(X_test.reshape(-1,INPUT_SHAPE), y_test, 10, batch_size=32, shuffle=False)\n",
    "\n",
    "network = FeedForwardNN(INPUT_SHAPE)\n",
    "network.add_layer(35, activation=LeakyRelu(), weight_initializer='normal')\n",
    "network.add_layer(10, activation=Identical(), weight_initializer='normal')\n",
    "network.set_training_param(loss=CrossEntropy(), lr=LEARNING_RATE)\n",
    "\n",
    "log = network.fit(EPOCHS, TRAINLOADER, TESTLOADER)"
   ]
  },
  {
   "cell_type": "markdown",
   "metadata": {},
   "source": [
    "# 4) Activation Functions\n",
    "\n",
    "## Dying ReLU\n",
    "The downside for being zero for all negative values is a problem called “dying ReLU.”\n",
    "\n",
    "A ReLU neuron is “dead” if it’s stuck in the negative side and always outputs 0. Because the slope of ReLU in the negative range is also 0, once a neuron gets negative, it’s unlikely for it to recover. Such neurons are not playing any role in discriminating the input and is essentially useless. Over the time you may end up with a large part of your network doing nothing.\n",
    "\n",
    "You may be confused as of how this zero-slope section works in the first place. Remember that a single step (in SGD, for example) involves multiple data points. As long as not all of them are negative, we can still get a slope out of ReLU. The dying problem is likely to occur when learning rate is too high or there is a large negative bias.\n",
    "\n",
    "## Why leaky ReLU is better?\n",
    "It fixes the `dying ReLU` problem, as it doesn’t have zero-slope parts. It speeds up training. There is evidence that having the `mean activation` be close to 0 makes training faster. (It helps keep off-diagonal entries of the Fisher information matrix small, but you can safely ignore this.) Unlike ReLU, leaky ReLU is more `balanced,` and may therefore learn faster.\n",
    "\n",
    "## Why tanh & sigmoid are not good?\n",
    "\n",
    "The down side of this is that if you have many layers, you will multiply these gradients, and the product of many smaller than 1 values goes to zero very quickly.\n",
    "\n",
    "Since the state of the art of for Deep Learning has shown that more layers helps a lot, then this disadvantage of the Sigmoid function is a game killer. You just can't do Deep Learning with Sigmoid.This vanish network.This happens with tanh as well."
   ]
  },
  {
   "cell_type": "markdown",
   "metadata": {},
   "source": [
    "## Leaky ReLU"
   ]
  },
  {
   "cell_type": "code",
   "execution_count": null,
   "metadata": {},
   "outputs": [
    {
     "name": "stdout",
     "output_type": "stream",
     "text": [
      "CPU times: user 2 µs, sys: 1 µs, total: 3 µs\n",
      "Wall time: 5.96 µs\n",
      "Epoch 1:\n",
      "\tTrain: Average Accuracy: 59.62172723720203\tAverage Loss: 1.2631629783684781\n",
      "\tTest: Average Accuracy: 85.64665421195653\tAverage Loss: 0.49981395401327766\n",
      "Epoch 2:\n",
      "\tTrain: Average Accuracy: 89.21751660805002\tAverage Loss: 0.3637215255819128\n",
      "\tTest: Average Accuracy: 91.00309952445653\tAverage Loss: 0.29576150657606176\n",
      "Epoch 3:\n",
      "\tTrain: Average Accuracy: 92.94455842125831\tAverage Loss: 0.24944397439117658\n",
      "\tTest: Average Accuracy: 93.46000339673913\tAverage Loss: 0.23007673474797974\n",
      "Epoch 4:\n",
      "\tTrain: Average Accuracy: 94.08948808128176\tAverage Loss: 0.21053871120766648\n",
      "\tTest: Average Accuracy: 93.99222995923913\tAverage Loss: 0.20917281568389895\n",
      "Epoch 5:\n",
      "\tTrain: Average Accuracy: 94.58006057053537\tAverage Loss: 0.1905111224861358\n",
      "\tTest: Average Accuracy: 94.50004245923913\tAverage Loss: 0.18939484763928044\n",
      "Epoch 6:\n",
      "\tTrain: Average Accuracy: 95.00014654161782\tAverage Loss: 0.1779662575770194\n",
      "\tTest: Average Accuracy: 94.79789402173913\tAverage Loss: 0.17935577424110244\n",
      "Epoch 7:\n",
      "\tTrain: Average Accuracy: 95.24316139116843\tAverage Loss: 0.16930044276469436\n",
      "\tTest: Average Accuracy: 94.99808933423913\tAverage Loss: 0.174568565111413\n",
      "Epoch 8:\n",
      "\tTrain: Average Accuracy: 95.48373388042204\tAverage Loss: 0.162579894461041\n",
      "\tTest: Average Accuracy: 95.33988620923913\tAverage Loss: 0.16700393992007193\n",
      "Epoch 9:\n",
      "\tTrain: Average Accuracy: 95.61772176631497\tAverage Loss: 0.1572411843892903\n",
      "\tTest: Average Accuracy: 95.43265964673913\tAverage Loss: 0.16232031559287088\n",
      "Epoch 10:\n",
      "\tTrain: Average Accuracy: 95.80158264947245\tAverage Loss: 0.15292363935664757\n",
      "\tTest: Average Accuracy: 95.51078464673913\tAverage Loss: 0.15993577252380445\n",
      "Epoch 11:\n",
      "\tTrain: Average Accuracy: 95.8802754982415\tAverage Loss: 0.14936072663964214\n",
      "\tTest: Average Accuracy: 95.69144870923913\tAverage Loss: 0.1560678388478996\n",
      "Epoch 12:\n",
      "\tTrain: Average Accuracy: 95.93713364595546\tAverage Loss: 0.1462919947738593\n",
      "\tTest: Average Accuracy: 95.80863620923913\tAverage Loss: 0.15328825051576872\n",
      "Epoch 13:\n",
      "\tTrain: Average Accuracy: 96.04914028917545\tAverage Loss: 0.1431514571434804\n",
      "\tTest: Average Accuracy: 95.81351902173913\tAverage Loss: 0.1492301832470982\n",
      "Epoch 14:\n",
      "\tTrain: Average Accuracy: 96.10932004689332\tAverage Loss: 0.1407439710528374\n",
      "\tTest: Average Accuracy: 95.90629245923913\tAverage Loss: 0.148191527783205\n",
      "Epoch 15:\n",
      "\tTrain: Average Accuracy: 96.21312035951543\tAverage Loss: 0.138329779571271\n",
      "\tTest: Average Accuracy: 95.91605808423913\tAverage Loss: 0.14727390239715552\n"
     ]
    }
   ],
   "source": [
    "%time\n",
    "INPUT_SHAPE = 25*25\n",
    "LEARNING_RATE = 1e-4\n",
    "EPOCHS = 15\n",
    "TRAINLOADER = Dataloader(X_train.reshape(-1,INPUT_SHAPE), y_train, 10, batch_size=32, shuffle=True)\n",
    "TESTLOADER = Dataloader(X_test.reshape(-1,INPUT_SHAPE), y_test, 10, batch_size=32, shuffle=False)\n",
    "\n",
    "network = FeedForwardNN(INPUT_SHAPE)\n",
    "network.add_layer(35, activation=LeakyRelu(), weight_initializer='normal')\n",
    "network.add_layer(10, activation=Identical(), weight_initializer='normal')\n",
    "network.set_training_param(loss=CrossEntropy(), lr=LEARNING_RATE)\n",
    "\n",
    "log = network.fit(EPOCHS, TRAINLOADER, TESTLOADER)"
   ]
  },
  {
   "cell_type": "markdown",
   "metadata": {},
   "source": [
    "## Tanh"
   ]
  },
  {
   "cell_type": "code",
   "execution_count": 54,
   "metadata": {},
   "outputs": [
    {
     "name": "stdout",
     "output_type": "stream",
     "text": [
      "CPU times: user 2 µs, sys: 1e+03 ns, total: 3 µs\n",
      "Wall time: 5.96 µs\n",
      "Epoch 1:\n",
      "\tTrain: Average Accuracy: 9.907239155920282\tAverage Loss: 2.303382612896916\n",
      "\tTest: Average Accuracy: 10.20210597826087\tAverage Loss: 2.303614646070749\n",
      "Epoch 2:\n",
      "\tTrain: Average Accuracy: 10.013139898397812\tAverage Loss: 2.303344750977592\n",
      "\tTest: Average Accuracy: 10.20210597826087\tAverage Loss: 2.3028393773530853\n",
      "Epoch 3:\n",
      "\tTrain: Average Accuracy: 10.254738178976163\tAverage Loss: 2.3028864777923936\n",
      "\tTest: Average Accuracy: 9.775390625\tAverage Loss: 2.3035989716129928\n",
      "Epoch 4:\n",
      "\tTrain: Average Accuracy: 20.539859320046894\tAverage Loss: 2.235787309850435\n",
      "\tTest: Average Accuracy: 28.931300951086957\tAverage Loss: 2.0807767468061877\n",
      "Epoch 5:\n",
      "\tTrain: Average Accuracy: 44.55451348182884\tAverage Loss: 1.7959967402512305\n",
      "\tTest: Average Accuracy: 62.37049932065217\tAverage Loss: 1.4439118860427544\n",
      "Epoch 6:\n",
      "\tTrain: Average Accuracy: 65.42843884329817\tAverage Loss: 1.2295285778054528\n",
      "\tTest: Average Accuracy: 70.38319463315217\tAverage Loss: 1.072850889221413\n",
      "Epoch 7:\n",
      "\tTrain: Average Accuracy: 72.1072196170379\tAverage Loss: 0.9786694850660782\n",
      "\tTest: Average Accuracy: 73.12436311141305\tAverage Loss: 0.9035959448482254\n",
      "Epoch 8:\n",
      "\tTrain: Average Accuracy: 72.92296795623291\tAverage Loss: 0.8607261392216669\n",
      "\tTest: Average Accuracy: 72.07753057065217\tAverage Loss: 0.8274152908372834\n",
      "Epoch 9:\n",
      "\tTrain: Average Accuracy: 76.41222157092615\tAverage Loss: 0.7441378505217865\n",
      "\tTest: Average Accuracy: 82.26880944293478\tAverage Loss: 0.628963141568495\n",
      "Epoch 10:\n",
      "\tTrain: Average Accuracy: 85.09080695584213\tAverage Loss: 0.5380866463994086\n",
      "\tTest: Average Accuracy: 86.87032948369566\tAverage Loss: 0.4774187908472062\n",
      "Epoch 11:\n",
      "\tTrain: Average Accuracy: 88.38310863618601\tAverage Loss: 0.4188365176205156\n",
      "\tTest: Average Accuracy: 89.32447350543478\tAverage Loss: 0.38326150746686855\n",
      "Epoch 12:\n",
      "\tTrain: Average Accuracy: 90.55070339976554\tAverage Loss: 0.3395819840218327\n",
      "\tTest: Average Accuracy: 90.87423573369566\tAverage Loss: 0.32271210105691656\n",
      "Epoch 13:\n",
      "\tTrain: Average Accuracy: 91.68307932786244\tAverage Loss: 0.2927102312631135\n",
      "\tTest: Average Accuracy: 91.83020550271739\tAverage Loss: 0.29006780096877405\n",
      "Epoch 14:\n",
      "\tTrain: Average Accuracy: 92.47127784290738\tAverage Loss: 0.26541686159755584\n",
      "\tTest: Average Accuracy: 92.49426800271739\tAverage Loss: 0.2676156380229622\n",
      "Epoch 15:\n",
      "\tTrain: Average Accuracy: 93.01050214927706\tAverage Loss: 0.24608130173875384\n",
      "\tTest: Average Accuracy: 92.90145210597827\tAverage Loss: 0.2506170608966295\n"
     ]
    }
   ],
   "source": [
    "%time\n",
    "INPUT_SHAPE = 25*25\n",
    "LEARNING_RATE = 1e-4\n",
    "EPOCHS = 15\n",
    "TRAINLOADER = Dataloader(X_train.reshape(-1,INPUT_SHAPE), y_train, 10, batch_size=32, shuffle=True)\n",
    "TESTLOADER = Dataloader(X_test.reshape(-1,INPUT_SHAPE), y_test, 10, batch_size=32, shuffle=False)\n",
    "\n",
    "network = FeedForwardNN(INPUT_SHAPE)\n",
    "network.add_layer(35, activation=Tanh(), weight_initializer='normal')\n",
    "network.add_layer(10, activation=Identical(), weight_initializer='normal')\n",
    "network.set_training_param(loss=CrossEntropy(), lr=LEARNING_RATE)\n",
    "\n",
    "log = network.fit(EPOCHS, TRAINLOADER, TESTLOADER)"
   ]
  },
  {
   "cell_type": "markdown",
   "metadata": {},
   "source": [
    "## Sigmoid"
   ]
  },
  {
   "cell_type": "code",
   "execution_count": 55,
   "metadata": {},
   "outputs": [
    {
     "name": "stdout",
     "output_type": "stream",
     "text": [
      "CPU times: user 55 µs, sys: 1e+03 ns, total: 56 µs\n",
      "Wall time: 7.87 µs\n",
      "Epoch 1:\n",
      "\tTrain: Average Accuracy: 10.082405236420477\tAverage Loss: 2.3033427569358373\n",
      "\tTest: Average Accuracy: 9.775390625\tAverage Loss: 2.3034971473793653\n",
      "Epoch 2:\n",
      "\tTrain: Average Accuracy: 10.132278233685033\tAverage Loss: 2.302889456827243\n",
      "\tTest: Average Accuracy: 9.933338994565217\tAverage Loss: 2.303441287396958\n",
      "Epoch 3:\n",
      "\tTrain: Average Accuracy: 10.372508792497069\tAverage Loss: 2.302425272568302\n",
      "\tTest: Average Accuracy: 9.775390625\tAverage Loss: 2.302276907894252\n",
      "Epoch 4:\n",
      "\tTrain: Average Accuracy: 10.987104337631887\tAverage Loss: 2.300972863542566\n",
      "\tTest: Average Accuracy: 10.116126019021738\tAverage Loss: 2.299733686065484\n",
      "Epoch 5:\n",
      "\tTrain: Average Accuracy: 13.464536928487691\tAverage Loss: 2.295252527377857\n",
      "\tTest: Average Accuracy: 18.195270040760867\tAverage Loss: 2.286070988004592\n",
      "Epoch 6:\n",
      "\tTrain: Average Accuracy: 23.04362055490426\tAverage Loss: 2.248073091481629\n",
      "\tTest: Average Accuracy: 27.650093410326086\tAverage Loss: 2.186061738610332\n",
      "Epoch 7:\n",
      "\tTrain: Average Accuracy: 33.08689917936694\tAverage Loss: 2.0990821106496482\n",
      "\tTest: Average Accuracy: 40.02908457880435\tAverage Loss: 2.000643121059672\n",
      "Epoch 8:\n",
      "\tTrain: Average Accuracy: 42.036781946072686\tAverage Loss: 1.8926531531375461\n",
      "\tTest: Average Accuracy: 44.60130774456522\tAverage Loss: 1.7680587554942906\n",
      "Epoch 9:\n",
      "\tTrain: Average Accuracy: 57.373339194998046\tAverage Loss: 1.6258138428426978\n",
      "\tTest: Average Accuracy: 67.1390964673913\tAverage Loss: 1.4713482608906188\n",
      "Epoch 10:\n",
      "\tTrain: Average Accuracy: 70.13818874560376\tAverage Loss: 1.3150359291381635\n",
      "\tTest: Average Accuracy: 71.64487092391305\tAverage Loss: 1.172495663592428\n",
      "Epoch 11:\n",
      "\tTrain: Average Accuracy: 73.30417155138726\tAverage Loss: 1.0639209711368542\n",
      "\tTest: Average Accuracy: 75.04819123641305\tAverage Loss: 0.9778810354280758\n",
      "Epoch 12:\n",
      "\tTrain: Average Accuracy: 76.04152012504885\tAverage Loss: 0.9089262422572943\n",
      "\tTest: Average Accuracy: 76.9983440896739\tAverage Loss: 0.8560101382972167\n",
      "Epoch 13:\n",
      "\tTrain: Average Accuracy: 78.42843884329817\tAverage Loss: 0.8041447805983759\n",
      "\tTest: Average Accuracy: 79.21896229619566\tAverage Loss: 0.7658733707016958\n",
      "Epoch 14:\n",
      "\tTrain: Average Accuracy: 80.39292692457991\tAverage Loss: 0.7211712262095624\n",
      "\tTest: Average Accuracy: 80.82540760869566\tAverage Loss: 0.6912890091048574\n",
      "Epoch 15:\n",
      "\tTrain: Average Accuracy: 82.05915396639313\tAverage Loss: 0.6483068776836319\n",
      "\tTest: Average Accuracy: 82.63204823369566\tAverage Loss: 0.6204523790715667\n"
     ]
    }
   ],
   "source": [
    "%time\n",
    "INPUT_SHAPE = 25*25\n",
    "LEARNING_RATE = 1e-4\n",
    "EPOCHS = 15\n",
    "TRAINLOADER = Dataloader(X_train.reshape(-1,INPUT_SHAPE), y_train, 10, batch_size=32, shuffle=True)\n",
    "TESTLOADER = Dataloader(X_test.reshape(-1,INPUT_SHAPE), y_test, 10, batch_size=32, shuffle=False)\n",
    "\n",
    "network = FeedForwardNN(INPUT_SHAPE)\n",
    "network.add_layer(35, activation=Sigmoid(), weight_initializer='normal')\n",
    "network.add_layer(10, activation=Identical(), weight_initializer='normal')\n",
    "network.set_training_param(loss=CrossEntropy(), lr=LEARNING_RATE)\n",
    "\n",
    "log = network.fit(EPOCHS, TRAINLOADER, TESTLOADER)"
   ]
  },
  {
   "cell_type": "markdown",
   "metadata": {},
   "source": [
    "# 5) Batch Size\n",
    "\n",
    "The batch size defines the number of samples that will be propagated through the network.\n",
    "\n",
    "For instance, let's say you have 1050 training samples and you want to set up a batch_size equal to 100. The algorithm takes the first 100 samples (from 1st to 100th) from the training dataset and trains the network. Next, it takes the second 100 samples (from 101st to 200th) and trains the network again. We can keep doing this procedure until we have propagated all samples through of the network. Problem might happen with the last set of samples. In our example, we've used 1050 which is not divisible by 100 without remainder. The simplest solution is just to get the final 50 samples and train the network.\n",
    "\n",
    "Advantages of using a batch size < number of all samples:\n",
    "\n",
    "- It requires less memory. Since you train the network using fewer samples, the overall training procedure requires less memory. That's especially important if you are not able to fit the whole dataset in your machine's memory.\n",
    "\n",
    "- Typically networks train faster with mini-batches. That's because we update the weights after each propagation. In our example we've propagated 11 batches (10 of them had 100 samples and 1 had 50 samples) and after each of them we've updated our network's parameters. If we used all samples during propagation we would make only 1 update for the network's parameter.\n",
    "\n",
    "- Updating network is with considering more data.\n",
    "\n",
    "Smaller batch sizes are used for two main reasons: Smaller batch sizes are noisy, offering a regularizing effect and lower generalization error. Smaller batch sizes make it easier to fit one batch worth of training data in memory.\n",
    "\n",
    "Higher batch size means less training time. But higher batch size requires higher memory as well. With batch_size=16 it took 5 mins longer to train the model. With batch_size = 256 it took 50 seconds to train the model. But the accuracy of the model was reduced drastically with 256 batch size."
   ]
  },
  {
   "cell_type": "markdown",
   "metadata": {},
   "source": [
    "## batch_size = 16"
   ]
  },
  {
   "cell_type": "code",
   "execution_count": 56,
   "metadata": {},
   "outputs": [
    {
     "name": "stdout",
     "output_type": "stream",
     "text": [
      "CPU times: user 2 µs, sys: 1 µs, total: 3 µs\n",
      "Wall time: 5.96 µs\n",
      "Epoch 1:\n",
      "\tTrain: Average Accuracy: 60.12141244409708\tAverage Loss: 1.2491338331215422\n",
      "\tTest: Average Accuracy: 85.79799107142858\tAverage Loss: 0.49643069579961613\n",
      "Epoch 2:\n",
      "\tTrain: Average Accuracy: 89.57627762580869\tAverage Loss: 0.3604577002422166\n",
      "\tTest: Average Accuracy: 91.8701171875\tAverage Loss: 0.2848003256671888\n",
      "Epoch 3:\n",
      "\tTrain: Average Accuracy: 92.92109005253788\tAverage Loss: 0.24915591438485263\n",
      "\tTest: Average Accuracy: 93.3837890625\tAverage Loss: 0.22926615268880282\n",
      "Epoch 4:\n",
      "\tTrain: Average Accuracy: 93.98690894880812\tAverage Loss: 0.21177692454819189\n",
      "\tTest: Average Accuracy: 94.072265625\tAverage Loss: 0.2060805609136401\n",
      "Epoch 5:\n",
      "\tTrain: Average Accuracy: 94.57918132082845\tAverage Loss: 0.1921671575891623\n",
      "\tTest: Average Accuracy: 94.5263671875\tAverage Loss: 0.19229832040089923\n",
      "Epoch 6:\n",
      "\tTrain: Average Accuracy: 94.8725359298337\tAverage Loss: 0.1795142378338889\n",
      "\tTest: Average Accuracy: 94.833984375\tAverage Loss: 0.18172593957865382\n",
      "Epoch 7:\n",
      "\tTrain: Average Accuracy: 95.17145369284877\tAverage Loss: 0.17084064135305446\n",
      "\tTest: Average Accuracy: 95.0390625\tAverage Loss: 0.17449339772392164\n",
      "Epoch 8:\n",
      "\tTrain: Average Accuracy: 95.42790152403282\tAverage Loss: 0.16385899594132705\n",
      "\tTest: Average Accuracy: 95.1708984375\tAverage Loss: 0.1694678440320627\n",
      "Epoch 9:\n",
      "\tTrain: Average Accuracy: 95.59208241066388\tAverage Loss: 0.1589326555157474\n",
      "\tTest: Average Accuracy: 95.361328125\tAverage Loss: 0.1645152449341129\n",
      "Epoch 10:\n",
      "\tTrain: Average Accuracy: 95.70510941774131\tAverage Loss: 0.15426645357959748\n",
      "\tTest: Average Accuracy: 95.5029296875\tAverage Loss: 0.15992579146407246\n",
      "Epoch 11:\n",
      "\tTrain: Average Accuracy: 95.82600625244235\tAverage Loss: 0.15040008859002882\n",
      "\tTest: Average Accuracy: 95.5859375\tAverage Loss: 0.1582222185758467\n",
      "Epoch 12:\n",
      "\tTrain: Average Accuracy: 95.89222135382745\tAverage Loss: 0.1473848900939446\n",
      "\tTest: Average Accuracy: 95.4248046875\tAverage Loss: 0.15923402588254038\n",
      "Epoch 13:\n",
      "\tTrain: Average Accuracy: 95.99575029308323\tAverage Loss: 0.1447029041715456\n",
      "\tTest: Average Accuracy: 95.791015625\tAverage Loss: 0.15201421821454994\n",
      "Epoch 14:\n",
      "\tTrain: Average Accuracy: 96.09832942555686\tAverage Loss: 0.14243154045200834\n",
      "\tTest: Average Accuracy: 95.8251953125\tAverage Loss: 0.14982887516434457\n",
      "Epoch 15:\n",
      "\tTrain: Average Accuracy: 96.07268464243845\tAverage Loss: 0.14032822224473226\n",
      "\tTest: Average Accuracy: 95.7666015625\tAverage Loss: 0.14823568198324852\n"
     ]
    }
   ],
   "source": [
    "%time\n",
    "INPUT_SHAPE = 25*25\n",
    "LEARNING_RATE = 1e-4\n",
    "EPOCHS = 15\n",
    "TRAINLOADER = Dataloader(X_train.reshape(-1,INPUT_SHAPE), y_train, 10, batch_size=16, shuffle=True)\n",
    "TESTLOADER = Dataloader(X_test.reshape(-1,INPUT_SHAPE), y_test, 10, batch_size=16, shuffle=False)\n",
    "\n",
    "network = FeedForwardNN(INPUT_SHAPE)\n",
    "network.add_layer(35, activation=LeakyRelu(), weight_initializer='normal')\n",
    "network.add_layer(10, activation=Identical(), weight_initializer='normal')\n",
    "network.set_training_param(loss=CrossEntropy(), lr=LEARNING_RATE)\n",
    "\n",
    "log = network.fit(EPOCHS, TRAINLOADER, TESTLOADER)"
   ]
  },
  {
   "cell_type": "markdown",
   "metadata": {},
   "source": [
    "## batch_size = 256"
   ]
  },
  {
   "cell_type": "code",
   "execution_count": 57,
   "metadata": {},
   "outputs": [
    {
     "name": "stdout",
     "output_type": "stream",
     "text": [
      "CPU times: user 3 µs, sys: 1 µs, total: 4 µs\n",
      "Wall time: 6.91 µs\n",
      "Epoch 1:\n"
     ]
    },
    {
     "name": "stderr",
     "output_type": "stream",
     "text": [
      "/var/folders/vm/v0nt374s6078m_5v598g5q4m0000gn/T/ipykernel_1098/2265496077.py:9: RuntimeWarning: divide by zero encountered in log\n",
      "  np.log(softmax(true_val))), axis=1)\n",
      "/var/folders/vm/v0nt374s6078m_5v598g5q4m0000gn/T/ipykernel_1098/2265496077.py:8: RuntimeWarning: invalid value encountered in multiply\n",
      "  cross_entropy_value = np.sum(-np.multiply(np.matrix(expected_val, dtype=float), \\\n",
      "/var/folders/vm/v0nt374s6078m_5v598g5q4m0000gn/T/ipykernel_1098/3508823723.py:79: RuntimeWarning: invalid value encountered in true_divide\n",
      "  softmax_value /= softmax_value.sum(axis=1)\n"
     ]
    },
    {
     "name": "stdout",
     "output_type": "stream",
     "text": [
      "\tTrain: Average Accuracy: 9.88832535282258\tAverage Loss: nan\n",
      "\tTest: Average Accuracy: 9.71183498861336\tAverage Loss: nan\n",
      "Epoch 2:\n",
      "\tTrain: Average Accuracy: 9.870987993231568\tAverage Loss: nan\n",
      "\tTest: Average Accuracy: 9.71183498861336\tAverage Loss: nan\n",
      "Epoch 3:\n",
      "\tTrain: Average Accuracy: 9.869671658986174\tAverage Loss: nan\n",
      "\tTest: Average Accuracy: 9.71183498861336\tAverage Loss: nan\n",
      "Epoch 4:\n",
      "\tTrain: Average Accuracy: 9.869232880904377\tAverage Loss: nan\n",
      "\tTest: Average Accuracy: 9.71183498861336\tAverage Loss: nan\n",
      "Epoch 5:\n",
      "\tTrain: Average Accuracy: 9.868574713781681\tAverage Loss: nan\n",
      "\tTest: Average Accuracy: 9.71183498861336\tAverage Loss: nan\n",
      "Epoch 6:\n",
      "\tTrain: Average Accuracy: 9.87208493843606\tAverage Loss: nan\n",
      "\tTest: Average Accuracy: 9.71183498861336\tAverage Loss: nan\n",
      "Epoch 7:\n",
      "\tTrain: Average Accuracy: 9.869452269945276\tAverage Loss: nan\n",
      "\tTest: Average Accuracy: 9.71183498861336\tAverage Loss: nan\n",
      "Epoch 8:\n",
      "\tTrain: Average Accuracy: 9.870549215149769\tAverage Loss: nan\n",
      "\tTest: Average Accuracy: 9.71183498861336\tAverage Loss: nan\n",
      "Epoch 9:\n",
      "\tTrain: Average Accuracy: 9.870768604190669\tAverage Loss: nan\n",
      "\tTest: Average Accuracy: 9.71183498861336\tAverage Loss: nan\n",
      "Epoch 10:\n",
      "\tTrain: Average Accuracy: 9.869891048027075\tAverage Loss: nan\n",
      "\tTest: Average Accuracy: 9.71183498861336\tAverage Loss: nan\n",
      "Epoch 11:\n",
      "\tTrain: Average Accuracy: 9.870987993231568\tAverage Loss: nan\n",
      "\tTest: Average Accuracy: 9.71183498861336\tAverage Loss: nan\n",
      "Epoch 12:\n",
      "\tTrain: Average Accuracy: 9.869671658986174\tAverage Loss: nan\n",
      "\tTest: Average Accuracy: 9.71183498861336\tAverage Loss: nan\n",
      "Epoch 13:\n",
      "\tTrain: Average Accuracy: 9.870110437067973\tAverage Loss: nan\n",
      "\tTest: Average Accuracy: 9.71183498861336\tAverage Loss: nan\n",
      "Epoch 14:\n",
      "\tTrain: Average Accuracy: 9.870549215149769\tAverage Loss: nan\n",
      "\tTest: Average Accuracy: 9.71183498861336\tAverage Loss: nan\n",
      "Epoch 15:\n",
      "\tTrain: Average Accuracy: 9.87208493843606\tAverage Loss: nan\n",
      "\tTest: Average Accuracy: 9.71183498861336\tAverage Loss: nan\n"
     ]
    }
   ],
   "source": [
    "%time\n",
    "INPUT_SHAPE = 25*25\n",
    "LEARNING_RATE = 1e-4\n",
    "EPOCHS = 15\n",
    "TRAINLOADER = Dataloader(X_train.reshape(-1,INPUT_SHAPE), y_train, 10, batch_size=256, shuffle=True)\n",
    "TESTLOADER = Dataloader(X_test.reshape(-1,INPUT_SHAPE), y_test, 10, batch_size=256, shuffle=False)\n",
    "\n",
    "network = FeedForwardNN(INPUT_SHAPE)\n",
    "network.add_layer(35, activation=LeakyRelu(), weight_initializer='normal')\n",
    "network.add_layer(10, activation=Identical(), weight_initializer='normal')\n",
    "network.set_training_param(loss=CrossEntropy(), lr=LEARNING_RATE)\n",
    "\n",
    "log = network.fit(EPOCHS, TRAINLOADER, TESTLOADER)"
   ]
  },
  {
   "cell_type": "code",
   "execution_count": null,
   "metadata": {},
   "outputs": [],
   "source": []
  }
 ],
 "metadata": {
  "interpreter": {
   "hash": "5637242735df105300a10f363d5c0d18b4b77d7105ef62addc8c3980e22cd89c"
  },
  "kernelspec": {
   "display_name": "Python 3 (ipykernel)",
   "language": "python",
   "name": "python3"
  },
  "language_info": {
   "codemirror_mode": {
    "name": "ipython",
    "version": 3
   },
   "file_extension": ".py",
   "mimetype": "text/x-python",
   "name": "python",
   "nbconvert_exporter": "python",
   "pygments_lexer": "ipython3",
   "version": "3.9.7"
  }
 },
 "nbformat": 4,
 "nbformat_minor": 4
}
