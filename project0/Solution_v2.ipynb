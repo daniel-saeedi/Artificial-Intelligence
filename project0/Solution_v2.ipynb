{
 "cells": [
  {
   "cell_type": "markdown",
   "metadata": {
    "id": "vDy9ehZLBzV8"
   },
   "source": [
    "# Computer Assignment 0"
   ]
  },
  {
   "cell_type": "markdown",
   "metadata": {
    "id": "kTY88kF_BzV_"
   },
   "source": [
    "# Importing Dependencies"
   ]
  },
  {
   "cell_type": "code",
   "execution_count": 2,
   "metadata": {
    "id": "bjsQQUJxBzV_"
   },
   "outputs": [],
   "source": [
    "import numpy as np\n",
    "import pandas as pd\n",
    "import matplotlib.pyplot as plt\n",
    "import scipy.stats as stats\n",
    "np.warnings.filterwarnings('ignore')"
   ]
  },
  {
   "cell_type": "markdown",
   "metadata": {
    "id": "9Kn5yOaOBzWA"
   },
   "source": [
    "# Part 1: Loading the dataset"
   ]
  },
  {
   "cell_type": "code",
   "execution_count": 3,
   "metadata": {
    "id": "4-kCjH9ZBzWA"
   },
   "outputs": [],
   "source": [
    "df = pd.read_csv('bank_term_deposit.csv')"
   ]
  },
  {
   "cell_type": "markdown",
   "metadata": {
    "id": "4Vj5cpUXBzWB"
   },
   "source": [
    "### Info\n",
    "The info() method prints information about the DataFrame. The information contains the **number of columns**, **column labels**, **column data types**, **memory usage**, **range index**, and the **number of cells** in each column (non-null values).\n",
    "\n",
    "This function is useful for finding which column has missing values. For example age column has $ 4521 - 3984 = 537$ missing values. \n"
   ]
  },
  {
   "cell_type": "code",
   "execution_count": 4,
   "metadata": {
    "id": "rXkk2eWiBzWB",
    "outputId": "f3099040-2e2d-4865-fefc-c042590d915a"
   },
   "outputs": [
    {
     "name": "stdout",
     "output_type": "stream",
     "text": [
      "<class 'pandas.core.frame.DataFrame'>\n",
      "RangeIndex: 4521 entries, 0 to 4520\n",
      "Data columns (total 12 columns):\n",
      " #   Column     Non-Null Count  Dtype  \n",
      "---  ------     --------------  -----  \n",
      " 0   age        3984 non-null   float64\n",
      " 1   job        4521 non-null   object \n",
      " 2   marital    4401 non-null   object \n",
      " 3   education  4521 non-null   object \n",
      " 4   balance    4164 non-null   float64\n",
      " 5   housing    4302 non-null   object \n",
      " 6   loan       4521 non-null   object \n",
      " 7   duration   4388 non-null   float64\n",
      " 8   campaign   4521 non-null   int64  \n",
      " 9   pdays      4521 non-null   int64  \n",
      " 10  poutcome   4521 non-null   object \n",
      " 11  y          4087 non-null   object \n",
      "dtypes: float64(3), int64(2), object(7)\n",
      "memory usage: 424.0+ KB\n"
     ]
    }
   ],
   "source": [
    "df.info()"
   ]
  },
  {
   "cell_type": "code",
   "execution_count": 5,
   "metadata": {
    "id": "CQbwlt56BzWC",
    "outputId": "f9d0c536-834c-4152-ce6f-fbcabd5806dc"
   },
   "outputs": [
    {
     "data": {
      "text/plain": [
       "4521"
      ]
     },
     "execution_count": 5,
     "metadata": {},
     "output_type": "execute_result"
    }
   ],
   "source": [
    "# How many data points exist in this data set?\n",
    "len(df)"
   ]
  },
  {
   "cell_type": "markdown",
   "metadata": {
    "id": "yQ82OoQ6BzWD"
   },
   "source": [
    "### Head\n",
    "The head() method prints the top n-rows of a Pandas DataFrame (which by default n = 5).\n"
   ]
  },
  {
   "cell_type": "code",
   "execution_count": 6,
   "metadata": {
    "id": "BUC0W83QBzWD",
    "outputId": "e9f188ae-943c-4421-f800-87b7c90da775"
   },
   "outputs": [
    {
     "data": {
      "text/html": [
       "<div>\n",
       "<style scoped>\n",
       "    .dataframe tbody tr th:only-of-type {\n",
       "        vertical-align: middle;\n",
       "    }\n",
       "\n",
       "    .dataframe tbody tr th {\n",
       "        vertical-align: top;\n",
       "    }\n",
       "\n",
       "    .dataframe thead th {\n",
       "        text-align: right;\n",
       "    }\n",
       "</style>\n",
       "<table border=\"1\" class=\"dataframe\">\n",
       "  <thead>\n",
       "    <tr style=\"text-align: right;\">\n",
       "      <th></th>\n",
       "      <th>age</th>\n",
       "      <th>job</th>\n",
       "      <th>marital</th>\n",
       "      <th>education</th>\n",
       "      <th>balance</th>\n",
       "      <th>housing</th>\n",
       "      <th>loan</th>\n",
       "      <th>duration</th>\n",
       "      <th>campaign</th>\n",
       "      <th>pdays</th>\n",
       "      <th>poutcome</th>\n",
       "      <th>y</th>\n",
       "    </tr>\n",
       "  </thead>\n",
       "  <tbody>\n",
       "    <tr>\n",
       "      <th>0</th>\n",
       "      <td>30.0</td>\n",
       "      <td>unemployed</td>\n",
       "      <td>married</td>\n",
       "      <td>primary</td>\n",
       "      <td>1787.0</td>\n",
       "      <td>no</td>\n",
       "      <td>no</td>\n",
       "      <td>79.0</td>\n",
       "      <td>1</td>\n",
       "      <td>-1</td>\n",
       "      <td>unknown</td>\n",
       "      <td>no</td>\n",
       "    </tr>\n",
       "    <tr>\n",
       "      <th>1</th>\n",
       "      <td>33.0</td>\n",
       "      <td>services</td>\n",
       "      <td>married</td>\n",
       "      <td>secondary</td>\n",
       "      <td>4789.0</td>\n",
       "      <td>yes</td>\n",
       "      <td>yes</td>\n",
       "      <td>NaN</td>\n",
       "      <td>1</td>\n",
       "      <td>339</td>\n",
       "      <td>failure</td>\n",
       "      <td>no</td>\n",
       "    </tr>\n",
       "    <tr>\n",
       "      <th>2</th>\n",
       "      <td>NaN</td>\n",
       "      <td>management</td>\n",
       "      <td>single</td>\n",
       "      <td>tertiary</td>\n",
       "      <td>135.0</td>\n",
       "      <td>yes</td>\n",
       "      <td>no</td>\n",
       "      <td>185.0</td>\n",
       "      <td>1</td>\n",
       "      <td>330</td>\n",
       "      <td>failure</td>\n",
       "      <td>no</td>\n",
       "    </tr>\n",
       "    <tr>\n",
       "      <th>3</th>\n",
       "      <td>30.0</td>\n",
       "      <td>management</td>\n",
       "      <td>married</td>\n",
       "      <td>tertiary</td>\n",
       "      <td>1476.0</td>\n",
       "      <td>yes</td>\n",
       "      <td>yes</td>\n",
       "      <td>199.0</td>\n",
       "      <td>4</td>\n",
       "      <td>-1</td>\n",
       "      <td>unknown</td>\n",
       "      <td>no</td>\n",
       "    </tr>\n",
       "    <tr>\n",
       "      <th>4</th>\n",
       "      <td>59.0</td>\n",
       "      <td>blue-collar</td>\n",
       "      <td>married</td>\n",
       "      <td>secondary</td>\n",
       "      <td>NaN</td>\n",
       "      <td>yes</td>\n",
       "      <td>no</td>\n",
       "      <td>226.0</td>\n",
       "      <td>1</td>\n",
       "      <td>-1</td>\n",
       "      <td>unknown</td>\n",
       "      <td>no</td>\n",
       "    </tr>\n",
       "  </tbody>\n",
       "</table>\n",
       "</div>"
      ],
      "text/plain": [
       "    age          job  marital  education  balance housing loan  duration  \\\n",
       "0  30.0   unemployed  married    primary   1787.0      no   no      79.0   \n",
       "1  33.0     services  married  secondary   4789.0     yes  yes       NaN   \n",
       "2   NaN   management   single   tertiary    135.0     yes   no     185.0   \n",
       "3  30.0   management  married   tertiary   1476.0     yes  yes     199.0   \n",
       "4  59.0  blue-collar  married  secondary      NaN     yes   no     226.0   \n",
       "\n",
       "   campaign  pdays poutcome   y  \n",
       "0         1     -1  unknown  no  \n",
       "1         1    339  failure  no  \n",
       "2         1    330  failure  no  \n",
       "3         4     -1  unknown  no  \n",
       "4         1     -1  unknown  no  "
      ]
     },
     "execution_count": 6,
     "metadata": {},
     "output_type": "execute_result"
    }
   ],
   "source": [
    "df.head()"
   ]
  },
  {
   "cell_type": "markdown",
   "metadata": {
    "id": "b-E_6D_dBzWE"
   },
   "source": [
    "### Tail\n",
    "The tail() method prints the bottom n-rows of a Pandas DataFrame (which by default n = 5).\n"
   ]
  },
  {
   "cell_type": "code",
   "execution_count": 7,
   "metadata": {
    "id": "VmvYbDBvBzWE",
    "outputId": "85812f51-b3e3-4982-985c-82914d47e476"
   },
   "outputs": [
    {
     "data": {
      "text/html": [
       "<div>\n",
       "<style scoped>\n",
       "    .dataframe tbody tr th:only-of-type {\n",
       "        vertical-align: middle;\n",
       "    }\n",
       "\n",
       "    .dataframe tbody tr th {\n",
       "        vertical-align: top;\n",
       "    }\n",
       "\n",
       "    .dataframe thead th {\n",
       "        text-align: right;\n",
       "    }\n",
       "</style>\n",
       "<table border=\"1\" class=\"dataframe\">\n",
       "  <thead>\n",
       "    <tr style=\"text-align: right;\">\n",
       "      <th></th>\n",
       "      <th>age</th>\n",
       "      <th>job</th>\n",
       "      <th>marital</th>\n",
       "      <th>education</th>\n",
       "      <th>balance</th>\n",
       "      <th>housing</th>\n",
       "      <th>loan</th>\n",
       "      <th>duration</th>\n",
       "      <th>campaign</th>\n",
       "      <th>pdays</th>\n",
       "      <th>poutcome</th>\n",
       "      <th>y</th>\n",
       "    </tr>\n",
       "  </thead>\n",
       "  <tbody>\n",
       "    <tr>\n",
       "      <th>4516</th>\n",
       "      <td>33.0</td>\n",
       "      <td>services</td>\n",
       "      <td>married</td>\n",
       "      <td>secondary</td>\n",
       "      <td>-333.0</td>\n",
       "      <td>yes</td>\n",
       "      <td>no</td>\n",
       "      <td>329.0</td>\n",
       "      <td>5</td>\n",
       "      <td>-1</td>\n",
       "      <td>unknown</td>\n",
       "      <td>no</td>\n",
       "    </tr>\n",
       "    <tr>\n",
       "      <th>4517</th>\n",
       "      <td>57.0</td>\n",
       "      <td>self-employed</td>\n",
       "      <td>married</td>\n",
       "      <td>tertiary</td>\n",
       "      <td>-3313.0</td>\n",
       "      <td>yes</td>\n",
       "      <td>yes</td>\n",
       "      <td>153.0</td>\n",
       "      <td>1</td>\n",
       "      <td>-1</td>\n",
       "      <td>unknown</td>\n",
       "      <td>no</td>\n",
       "    </tr>\n",
       "    <tr>\n",
       "      <th>4518</th>\n",
       "      <td>57.0</td>\n",
       "      <td>technician</td>\n",
       "      <td>married</td>\n",
       "      <td>secondary</td>\n",
       "      <td>295.0</td>\n",
       "      <td>no</td>\n",
       "      <td>no</td>\n",
       "      <td>151.0</td>\n",
       "      <td>11</td>\n",
       "      <td>-1</td>\n",
       "      <td>unknown</td>\n",
       "      <td>no</td>\n",
       "    </tr>\n",
       "    <tr>\n",
       "      <th>4519</th>\n",
       "      <td>28.0</td>\n",
       "      <td>blue-collar</td>\n",
       "      <td>married</td>\n",
       "      <td>secondary</td>\n",
       "      <td>1137.0</td>\n",
       "      <td>no</td>\n",
       "      <td>no</td>\n",
       "      <td>129.0</td>\n",
       "      <td>4</td>\n",
       "      <td>211</td>\n",
       "      <td>other</td>\n",
       "      <td>no</td>\n",
       "    </tr>\n",
       "    <tr>\n",
       "      <th>4520</th>\n",
       "      <td>44.0</td>\n",
       "      <td>entrepreneur</td>\n",
       "      <td>single</td>\n",
       "      <td>tertiary</td>\n",
       "      <td>1136.0</td>\n",
       "      <td>yes</td>\n",
       "      <td>yes</td>\n",
       "      <td>345.0</td>\n",
       "      <td>2</td>\n",
       "      <td>249</td>\n",
       "      <td>other</td>\n",
       "      <td>no</td>\n",
       "    </tr>\n",
       "  </tbody>\n",
       "</table>\n",
       "</div>"
      ],
      "text/plain": [
       "       age            job  marital  education  balance housing loan  duration  \\\n",
       "4516  33.0       services  married  secondary   -333.0     yes   no     329.0   \n",
       "4517  57.0  self-employed  married   tertiary  -3313.0     yes  yes     153.0   \n",
       "4518  57.0     technician  married  secondary    295.0      no   no     151.0   \n",
       "4519  28.0    blue-collar  married  secondary   1137.0      no   no     129.0   \n",
       "4520  44.0   entrepreneur   single   tertiary   1136.0     yes  yes     345.0   \n",
       "\n",
       "      campaign  pdays poutcome   y  \n",
       "4516         5     -1  unknown  no  \n",
       "4517         1     -1  unknown  no  \n",
       "4518        11     -1  unknown  no  \n",
       "4519         4    211    other  no  \n",
       "4520         2    249    other  no  "
      ]
     },
     "execution_count": 7,
     "metadata": {},
     "output_type": "execute_result"
    }
   ],
   "source": [
    "df.tail()"
   ]
  },
  {
   "cell_type": "markdown",
   "metadata": {
    "id": "z3eYEt3YBzWE"
   },
   "source": [
    "### Describe\n",
    "The describe() method returns description of the data in the DataFrame.\n",
    "\n",
    "If the DataFrame contains numerical data, the description contains these information for each column:\n",
    "\n",
    "*   **count**: The number of not-empty values.\n",
    "*   **mean**: The average (mean) value.\n",
    "*   **std**: The standard deviation.\n",
    "*   **min**: The minimum value.\n",
    "*   **max**: The maximum value.\n",
    "*   **25%**: The 25% percentile*.\n",
    "*   **50%**: The 50% percentile*.\n",
    "*   **75%**: The 75% percentile*.\n"
   ]
  },
  {
   "cell_type": "code",
   "execution_count": 8,
   "metadata": {
    "id": "0f4J5ZDiBzWF",
    "outputId": "c19f4cc0-aa35-4872-bc43-17c0e25f3405"
   },
   "outputs": [
    {
     "data": {
      "text/html": [
       "<div>\n",
       "<style scoped>\n",
       "    .dataframe tbody tr th:only-of-type {\n",
       "        vertical-align: middle;\n",
       "    }\n",
       "\n",
       "    .dataframe tbody tr th {\n",
       "        vertical-align: top;\n",
       "    }\n",
       "\n",
       "    .dataframe thead th {\n",
       "        text-align: right;\n",
       "    }\n",
       "</style>\n",
       "<table border=\"1\" class=\"dataframe\">\n",
       "  <thead>\n",
       "    <tr style=\"text-align: right;\">\n",
       "      <th></th>\n",
       "      <th>age</th>\n",
       "      <th>balance</th>\n",
       "      <th>duration</th>\n",
       "      <th>campaign</th>\n",
       "      <th>pdays</th>\n",
       "    </tr>\n",
       "  </thead>\n",
       "  <tbody>\n",
       "    <tr>\n",
       "      <th>count</th>\n",
       "      <td>3984.000000</td>\n",
       "      <td>4164.000000</td>\n",
       "      <td>4388.000000</td>\n",
       "      <td>4521.000000</td>\n",
       "      <td>4521.000000</td>\n",
       "    </tr>\n",
       "    <tr>\n",
       "      <th>mean</th>\n",
       "      <td>41.617470</td>\n",
       "      <td>1136.750240</td>\n",
       "      <td>264.724020</td>\n",
       "      <td>2.793630</td>\n",
       "      <td>39.766645</td>\n",
       "    </tr>\n",
       "    <tr>\n",
       "      <th>std</th>\n",
       "      <td>10.696378</td>\n",
       "      <td>2726.204918</td>\n",
       "      <td>261.057119</td>\n",
       "      <td>3.109807</td>\n",
       "      <td>100.121124</td>\n",
       "    </tr>\n",
       "    <tr>\n",
       "      <th>min</th>\n",
       "      <td>19.000000</td>\n",
       "      <td>-3313.000000</td>\n",
       "      <td>4.000000</td>\n",
       "      <td>1.000000</td>\n",
       "      <td>-1.000000</td>\n",
       "    </tr>\n",
       "    <tr>\n",
       "      <th>25%</th>\n",
       "      <td>32.000000</td>\n",
       "      <td>58.000000</td>\n",
       "      <td>104.000000</td>\n",
       "      <td>1.000000</td>\n",
       "      <td>-1.000000</td>\n",
       "    </tr>\n",
       "    <tr>\n",
       "      <th>50%</th>\n",
       "      <td>40.000000</td>\n",
       "      <td>316.000000</td>\n",
       "      <td>185.500000</td>\n",
       "      <td>2.000000</td>\n",
       "      <td>-1.000000</td>\n",
       "    </tr>\n",
       "    <tr>\n",
       "      <th>75%</th>\n",
       "      <td>49.000000</td>\n",
       "      <td>997.000000</td>\n",
       "      <td>331.000000</td>\n",
       "      <td>3.000000</td>\n",
       "      <td>-1.000000</td>\n",
       "    </tr>\n",
       "    <tr>\n",
       "      <th>max</th>\n",
       "      <td>87.000000</td>\n",
       "      <td>71188.000000</td>\n",
       "      <td>3025.000000</td>\n",
       "      <td>50.000000</td>\n",
       "      <td>871.000000</td>\n",
       "    </tr>\n",
       "  </tbody>\n",
       "</table>\n",
       "</div>"
      ],
      "text/plain": [
       "               age       balance     duration     campaign        pdays\n",
       "count  3984.000000   4164.000000  4388.000000  4521.000000  4521.000000\n",
       "mean     41.617470   1136.750240   264.724020     2.793630    39.766645\n",
       "std      10.696378   2726.204918   261.057119     3.109807   100.121124\n",
       "min      19.000000  -3313.000000     4.000000     1.000000    -1.000000\n",
       "25%      32.000000     58.000000   104.000000     1.000000    -1.000000\n",
       "50%      40.000000    316.000000   185.500000     2.000000    -1.000000\n",
       "75%      49.000000    997.000000   331.000000     3.000000    -1.000000\n",
       "max      87.000000  71188.000000  3025.000000    50.000000   871.000000"
      ]
     },
     "execution_count": 8,
     "metadata": {},
     "output_type": "execute_result"
    }
   ],
   "source": [
    "df.describe()"
   ]
  },
  {
   "cell_type": "code",
   "execution_count": 9,
   "metadata": {
    "id": "L6GXF08tBzWF",
    "outputId": "159e8345-609b-4975-aed1-26bcee0da5ee"
   },
   "outputs": [
    {
     "data": {
      "text/plain": [
       "array(['unemployed', 'services', 'management', 'blue-collar',\n",
       "       'self-employed', 'technician', 'entrepreneur', 'admin.', 'student',\n",
       "       'housemaid', 'retired', 'unknown'], dtype=object)"
      ]
     },
     "execution_count": 9,
     "metadata": {},
     "output_type": "execute_result"
    }
   ],
   "source": [
    "df['job'].unique()"
   ]
  },
  {
   "cell_type": "markdown",
   "metadata": {
    "id": "LP8tQqQLBzWF"
   },
   "source": [
    "# Part 2: Dealing with non-numerical values"
   ]
  },
  {
   "cell_type": "code",
   "execution_count": 10,
   "metadata": {
    "id": "uZgB1PgnBzWF",
    "outputId": "ccd26af9-9ca3-4fe3-8541-7ff4ecf2c107"
   },
   "outputs": [
    {
     "name": "stdout",
     "output_type": "stream",
     "text": [
      "<class 'pandas.core.frame.DataFrame'>\n",
      "RangeIndex: 4521 entries, 0 to 4520\n",
      "Data columns (total 12 columns):\n",
      " #   Column     Non-Null Count  Dtype  \n",
      "---  ------     --------------  -----  \n",
      " 0   age        3984 non-null   float64\n",
      " 1   job        4521 non-null   object \n",
      " 2   marital    4401 non-null   object \n",
      " 3   education  4521 non-null   object \n",
      " 4   balance    4164 non-null   float64\n",
      " 5   housing    4302 non-null   object \n",
      " 6   loan       4521 non-null   object \n",
      " 7   duration   4388 non-null   float64\n",
      " 8   campaign   4521 non-null   int64  \n",
      " 9   pdays      4521 non-null   int64  \n",
      " 10  poutcome   4521 non-null   object \n",
      " 11  y          4087 non-null   object \n",
      "dtypes: float64(3), int64(2), object(7)\n",
      "memory usage: 424.0+ KB\n"
     ]
    }
   ],
   "source": [
    "df.info()"
   ]
  },
  {
   "cell_type": "code",
   "execution_count": 11,
   "metadata": {
    "id": "61te9kljBzWG"
   },
   "outputs": [],
   "source": [
    "df['job'] = df['job'].astype('category')\n",
    "df['marital'] = df['marital'].astype('category')\n",
    "df['education'] = df['education'].astype('category')\n",
    "df['housing'] = df['housing'].astype('category')\n",
    "df['loan'] = df['loan'].astype('category')\n",
    "df['poutcome'] = df['poutcome'].astype('category')\n",
    "df['y'] = df['y'].astype('category')"
   ]
  },
  {
   "cell_type": "code",
   "execution_count": 12,
   "metadata": {
    "id": "8U9WBUN6BzWG",
    "outputId": "177471f4-56c6-44b1-fa71-0663e614c8e1"
   },
   "outputs": [
    {
     "name": "stdout",
     "output_type": "stream",
     "text": [
      "<class 'pandas.core.frame.DataFrame'>\n",
      "RangeIndex: 4521 entries, 0 to 4520\n",
      "Data columns (total 12 columns):\n",
      " #   Column     Non-Null Count  Dtype   \n",
      "---  ------     --------------  -----   \n",
      " 0   age        3984 non-null   float64 \n",
      " 1   job        4521 non-null   category\n",
      " 2   marital    4401 non-null   category\n",
      " 3   education  4521 non-null   category\n",
      " 4   balance    4164 non-null   float64 \n",
      " 5   housing    4302 non-null   category\n",
      " 6   loan       4521 non-null   category\n",
      " 7   duration   4388 non-null   float64 \n",
      " 8   campaign   4521 non-null   int64   \n",
      " 9   pdays      4521 non-null   int64   \n",
      " 10  poutcome   4521 non-null   category\n",
      " 11  y          4087 non-null   category\n",
      "dtypes: category(7), float64(3), int64(2)\n",
      "memory usage: 208.9 KB\n"
     ]
    }
   ],
   "source": [
    "df.info()"
   ]
  },
  {
   "cell_type": "code",
   "execution_count": 13,
   "metadata": {
    "id": "Hm-L-iA2BzWG"
   },
   "outputs": [],
   "source": [
    "new_df = df.copy()"
   ]
  },
  {
   "cell_type": "code",
   "execution_count": 14,
   "metadata": {
    "id": "VOJCacY6BzWG"
   },
   "outputs": [],
   "source": [
    "new_df['job'] = df['job'].cat.codes\n",
    "new_df['marital'] = df['marital'].cat.codes\n",
    "new_df['education'] = df['education'].cat.codes\n",
    "new_df['poutcome'] = df['poutcome'].cat.codes"
   ]
  },
  {
   "cell_type": "code",
   "execution_count": 15,
   "metadata": {
    "id": "J9I6Pd8tBzWH"
   },
   "outputs": [],
   "source": [
    "bool_dict = {'no': 0, 'yes': 1}\n",
    "new_df['housing'] = df['housing'].replace(bool_dict)\n",
    "new_df['loan'] = df['loan'].replace(bool_dict)\n",
    "new_df['y'] = df['y'].replace(bool_dict)"
   ]
  },
  {
   "cell_type": "code",
   "execution_count": 16,
   "metadata": {
    "id": "HmyXWM6VBzWH",
    "outputId": "baf7f61e-731a-429f-a3d1-226707e8bd02"
   },
   "outputs": [
    {
     "data": {
      "text/html": [
       "<div>\n",
       "<style scoped>\n",
       "    .dataframe tbody tr th:only-of-type {\n",
       "        vertical-align: middle;\n",
       "    }\n",
       "\n",
       "    .dataframe tbody tr th {\n",
       "        vertical-align: top;\n",
       "    }\n",
       "\n",
       "    .dataframe thead th {\n",
       "        text-align: right;\n",
       "    }\n",
       "</style>\n",
       "<table border=\"1\" class=\"dataframe\">\n",
       "  <thead>\n",
       "    <tr style=\"text-align: right;\">\n",
       "      <th></th>\n",
       "      <th>age</th>\n",
       "      <th>job</th>\n",
       "      <th>marital</th>\n",
       "      <th>education</th>\n",
       "      <th>balance</th>\n",
       "      <th>housing</th>\n",
       "      <th>loan</th>\n",
       "      <th>duration</th>\n",
       "      <th>campaign</th>\n",
       "      <th>pdays</th>\n",
       "      <th>poutcome</th>\n",
       "      <th>y</th>\n",
       "    </tr>\n",
       "  </thead>\n",
       "  <tbody>\n",
       "    <tr>\n",
       "      <th>0</th>\n",
       "      <td>30.0</td>\n",
       "      <td>10</td>\n",
       "      <td>1</td>\n",
       "      <td>0</td>\n",
       "      <td>1787.0</td>\n",
       "      <td>0.0</td>\n",
       "      <td>0</td>\n",
       "      <td>79.0</td>\n",
       "      <td>1</td>\n",
       "      <td>-1</td>\n",
       "      <td>3</td>\n",
       "      <td>0.0</td>\n",
       "    </tr>\n",
       "    <tr>\n",
       "      <th>1</th>\n",
       "      <td>33.0</td>\n",
       "      <td>7</td>\n",
       "      <td>1</td>\n",
       "      <td>1</td>\n",
       "      <td>4789.0</td>\n",
       "      <td>1.0</td>\n",
       "      <td>1</td>\n",
       "      <td>NaN</td>\n",
       "      <td>1</td>\n",
       "      <td>339</td>\n",
       "      <td>0</td>\n",
       "      <td>0.0</td>\n",
       "    </tr>\n",
       "    <tr>\n",
       "      <th>2</th>\n",
       "      <td>NaN</td>\n",
       "      <td>4</td>\n",
       "      <td>2</td>\n",
       "      <td>2</td>\n",
       "      <td>135.0</td>\n",
       "      <td>1.0</td>\n",
       "      <td>0</td>\n",
       "      <td>185.0</td>\n",
       "      <td>1</td>\n",
       "      <td>330</td>\n",
       "      <td>0</td>\n",
       "      <td>0.0</td>\n",
       "    </tr>\n",
       "    <tr>\n",
       "      <th>3</th>\n",
       "      <td>30.0</td>\n",
       "      <td>4</td>\n",
       "      <td>1</td>\n",
       "      <td>2</td>\n",
       "      <td>1476.0</td>\n",
       "      <td>1.0</td>\n",
       "      <td>1</td>\n",
       "      <td>199.0</td>\n",
       "      <td>4</td>\n",
       "      <td>-1</td>\n",
       "      <td>3</td>\n",
       "      <td>0.0</td>\n",
       "    </tr>\n",
       "    <tr>\n",
       "      <th>4</th>\n",
       "      <td>59.0</td>\n",
       "      <td>1</td>\n",
       "      <td>1</td>\n",
       "      <td>1</td>\n",
       "      <td>NaN</td>\n",
       "      <td>1.0</td>\n",
       "      <td>0</td>\n",
       "      <td>226.0</td>\n",
       "      <td>1</td>\n",
       "      <td>-1</td>\n",
       "      <td>3</td>\n",
       "      <td>0.0</td>\n",
       "    </tr>\n",
       "    <tr>\n",
       "      <th>...</th>\n",
       "      <td>...</td>\n",
       "      <td>...</td>\n",
       "      <td>...</td>\n",
       "      <td>...</td>\n",
       "      <td>...</td>\n",
       "      <td>...</td>\n",
       "      <td>...</td>\n",
       "      <td>...</td>\n",
       "      <td>...</td>\n",
       "      <td>...</td>\n",
       "      <td>...</td>\n",
       "      <td>...</td>\n",
       "    </tr>\n",
       "    <tr>\n",
       "      <th>4516</th>\n",
       "      <td>33.0</td>\n",
       "      <td>7</td>\n",
       "      <td>1</td>\n",
       "      <td>1</td>\n",
       "      <td>-333.0</td>\n",
       "      <td>1.0</td>\n",
       "      <td>0</td>\n",
       "      <td>329.0</td>\n",
       "      <td>5</td>\n",
       "      <td>-1</td>\n",
       "      <td>3</td>\n",
       "      <td>0.0</td>\n",
       "    </tr>\n",
       "    <tr>\n",
       "      <th>4517</th>\n",
       "      <td>57.0</td>\n",
       "      <td>6</td>\n",
       "      <td>1</td>\n",
       "      <td>2</td>\n",
       "      <td>-3313.0</td>\n",
       "      <td>1.0</td>\n",
       "      <td>1</td>\n",
       "      <td>153.0</td>\n",
       "      <td>1</td>\n",
       "      <td>-1</td>\n",
       "      <td>3</td>\n",
       "      <td>0.0</td>\n",
       "    </tr>\n",
       "    <tr>\n",
       "      <th>4518</th>\n",
       "      <td>57.0</td>\n",
       "      <td>9</td>\n",
       "      <td>1</td>\n",
       "      <td>1</td>\n",
       "      <td>295.0</td>\n",
       "      <td>0.0</td>\n",
       "      <td>0</td>\n",
       "      <td>151.0</td>\n",
       "      <td>11</td>\n",
       "      <td>-1</td>\n",
       "      <td>3</td>\n",
       "      <td>0.0</td>\n",
       "    </tr>\n",
       "    <tr>\n",
       "      <th>4519</th>\n",
       "      <td>28.0</td>\n",
       "      <td>1</td>\n",
       "      <td>1</td>\n",
       "      <td>1</td>\n",
       "      <td>1137.0</td>\n",
       "      <td>0.0</td>\n",
       "      <td>0</td>\n",
       "      <td>129.0</td>\n",
       "      <td>4</td>\n",
       "      <td>211</td>\n",
       "      <td>1</td>\n",
       "      <td>0.0</td>\n",
       "    </tr>\n",
       "    <tr>\n",
       "      <th>4520</th>\n",
       "      <td>44.0</td>\n",
       "      <td>2</td>\n",
       "      <td>2</td>\n",
       "      <td>2</td>\n",
       "      <td>1136.0</td>\n",
       "      <td>1.0</td>\n",
       "      <td>1</td>\n",
       "      <td>345.0</td>\n",
       "      <td>2</td>\n",
       "      <td>249</td>\n",
       "      <td>1</td>\n",
       "      <td>0.0</td>\n",
       "    </tr>\n",
       "  </tbody>\n",
       "</table>\n",
       "<p>4521 rows × 12 columns</p>\n",
       "</div>"
      ],
      "text/plain": [
       "       age  job  marital  education  balance  housing  loan  duration  \\\n",
       "0     30.0   10        1          0   1787.0      0.0     0      79.0   \n",
       "1     33.0    7        1          1   4789.0      1.0     1       NaN   \n",
       "2      NaN    4        2          2    135.0      1.0     0     185.0   \n",
       "3     30.0    4        1          2   1476.0      1.0     1     199.0   \n",
       "4     59.0    1        1          1      NaN      1.0     0     226.0   \n",
       "...    ...  ...      ...        ...      ...      ...   ...       ...   \n",
       "4516  33.0    7        1          1   -333.0      1.0     0     329.0   \n",
       "4517  57.0    6        1          2  -3313.0      1.0     1     153.0   \n",
       "4518  57.0    9        1          1    295.0      0.0     0     151.0   \n",
       "4519  28.0    1        1          1   1137.0      0.0     0     129.0   \n",
       "4520  44.0    2        2          2   1136.0      1.0     1     345.0   \n",
       "\n",
       "      campaign  pdays  poutcome    y  \n",
       "0            1     -1         3  0.0  \n",
       "1            1    339         0  0.0  \n",
       "2            1    330         0  0.0  \n",
       "3            4     -1         3  0.0  \n",
       "4            1     -1         3  0.0  \n",
       "...        ...    ...       ...  ...  \n",
       "4516         5     -1         3  0.0  \n",
       "4517         1     -1         3  0.0  \n",
       "4518        11     -1         3  0.0  \n",
       "4519         4    211         1  0.0  \n",
       "4520         2    249         1  0.0  \n",
       "\n",
       "[4521 rows x 12 columns]"
      ]
     },
     "execution_count": 16,
     "metadata": {},
     "output_type": "execute_result"
    }
   ],
   "source": [
    "new_df"
   ]
  },
  {
   "cell_type": "markdown",
   "metadata": {
    "id": "09iHQuSSBzWH"
   },
   "source": [
    "# Part 3: Dealing with missing values"
   ]
  },
  {
   "cell_type": "markdown",
   "metadata": {
    "id": "6pVoK3U9BzWH"
   },
   "source": [
    "Here's a pros and cons of replacing missing values with the mean of the column:\n",
    "**Pros:**\n",
    "*   This is a better approach when the data size is small\n",
    "*   It can prevent data loss which results in removal of the rows and columns\n",
    "\n",
    "\n",
    "**Cons:**\n",
    "*   Imputing the approximations add variance and bias\n",
    "*   Works poorly compared to other multiple-imputations method"
   ]
  },
  {
   "cell_type": "code",
   "execution_count": 17,
   "metadata": {
    "id": "I8J6jf9BBzWH",
    "outputId": "5cbd882e-3e0a-428f-ce79-e3641f8eff98"
   },
   "outputs": [
    {
     "data": {
      "text/plain": [
       "age          537\n",
       "job            0\n",
       "marital        0\n",
       "education      0\n",
       "balance      357\n",
       "housing      219\n",
       "loan           0\n",
       "duration     133\n",
       "campaign       0\n",
       "pdays          0\n",
       "poutcome       0\n",
       "y            434\n",
       "dtype: int64"
      ]
     },
     "execution_count": 17,
     "metadata": {},
     "output_type": "execute_result"
    }
   ],
   "source": [
    "new_df.isnull().sum()"
   ]
  },
  {
   "cell_type": "code",
   "execution_count": 18,
   "metadata": {
    "id": "tLpB_gomBzWI",
    "outputId": "ad168b78-cd37-4655-f2cc-5b08ffc537a7"
   },
   "outputs": [
    {
     "data": {
      "text/plain": [
       "Text(0, 0.5, 'Missing Values')"
      ]
     },
     "execution_count": 18,
     "metadata": {},
     "output_type": "execute_result"
    },
    {
     "data": {
      "image/png": "[encoded data removed]",
      "text/plain": [
       "<Figure size 864x360 with 1 Axes>"
      ]
     },
     "metadata": {
      "needs_background": "light"
     },
     "output_type": "display_data"
    }
   ],
   "source": [
    "plt.figure(figsize=(12,5))\n",
    "ax = new_df.isnull().sum().plot.bar(x='lab', y='val', rot=0)\n",
    "plt.title('How many values are missing in each column?')\n",
    "plt.xlabel('Column', fontsize=18)\n",
    "plt.ylabel('Missing Values', fontsize=16)"
   ]
  },
  {
   "cell_type": "markdown",
   "metadata": {
    "id": "F2BsQs5qBzWI"
   },
   "source": [
    "Here, we're going to replace NaN values of other columns with its mean."
   ]
  },
  {
   "cell_type": "code",
   "execution_count": 19,
   "metadata": {
    "id": "GNZb1AliBzWI"
   },
   "outputs": [],
   "source": [
    "new_df['age'].fillna(value=new_df['age'].mean(),inplace=True)\n",
    "new_df['balance'].fillna(value=new_df['balance'].mean(),inplace=True)\n",
    "new_df['duration'].fillna(value=new_df['duration'].mean(),inplace=True)"
   ]
  },
  {
   "cell_type": "markdown",
   "metadata": {
    "id": "sPoBM3JvBzWI"
   },
   "source": [
    "Since housing column is a binary feature, we can't just replace it with the mean value. Here, we're going to replace NaN values of housing column with 1."
   ]
  },
  {
   "cell_type": "code",
   "execution_count": 61,
   "metadata": {
    "id": "_bSJ0NqSBzWI",
    "outputId": "f575d1d2-a696-46e2-a596-7cdd382eb7f0"
   },
   "outputs": [
    {
     "data": {
      "text/plain": [
       "1.0    2389\n",
       "0.0    1698\n",
       "Name: housing, dtype: int64"
      ]
     },
     "execution_count": 61,
     "metadata": {},
     "output_type": "execute_result"
    }
   ],
   "source": [
    "new_df['housing'].value_counts()"
   ]
  },
  {
   "cell_type": "code",
   "execution_count": 21,
   "metadata": {
    "id": "8QE7CtXoBzWJ",
    "outputId": "e502b30a-0bcf-45f4-9903-b589506d287b"
   },
   "outputs": [
    {
     "data": {
      "text/plain": [
       " 1    2728\n",
       " 2    1161\n",
       " 0     512\n",
       "-1     120\n",
       "Name: marital, dtype: int64"
      ]
     },
     "execution_count": 21,
     "metadata": {},
     "output_type": "execute_result"
    }
   ],
   "source": [
    "new_df['marital'].value_counts()"
   ]
  },
  {
   "cell_type": "code",
   "execution_count": 62,
   "metadata": {
    "id": "gz0tPHK2BzWJ"
   },
   "outputs": [],
   "source": [
    "new_df['housing'].fillna(value=new_df['housing'].mode()[0], inplace=True)"
   ]
  },
  {
   "cell_type": "code",
   "execution_count": 63,
   "metadata": {
    "id": "uLz24njrBzWJ",
    "outputId": "ef5284eb-d3e5-425b-ef3f-84612c325bc4"
   },
   "outputs": [
    {
     "data": {
      "text/plain": [
       "age          0\n",
       "job          0\n",
       "marital      0\n",
       "education    0\n",
       "balance      0\n",
       "housing      0\n",
       "loan         0\n",
       "duration     0\n",
       "campaign     0\n",
       "pdays        0\n",
       "poutcome     0\n",
       "y            0\n",
       "dtype: int64"
      ]
     },
     "execution_count": 63,
     "metadata": {},
     "output_type": "execute_result"
    }
   ],
   "source": [
    "new_df.isnull().sum()"
   ]
  },
  {
   "cell_type": "markdown",
   "metadata": {
    "id": "cUL1rkEXBzWK"
   },
   "source": [
    "# Part 4"
   ]
  },
  {
   "cell_type": "code",
   "execution_count": 24,
   "metadata": {},
   "outputs": [],
   "source": [
    "df2 = new_df.dropna(subset=['y'])"
   ]
  },
  {
   "cell_type": "code",
   "execution_count": 25,
   "metadata": {
    "id": "UVMJPtlEBzWK",
    "outputId": "a2034eb2-85fe-4a12-8143-f0b85726a46f"
   },
   "outputs": [
    {
     "data": {
      "text/plain": [
       "1.0    2389\n",
       "0.0    1698\n",
       "Name: housing, dtype: int64"
      ]
     },
     "execution_count": 25,
     "metadata": {},
     "output_type": "execute_result"
    }
   ],
   "source": [
    "df2['housing'].value_counts()"
   ]
  },
  {
   "cell_type": "code",
   "execution_count": 26,
   "metadata": {
    "id": "lHHFYoZnBzWK",
    "outputId": "cdbe0b7d-34af-47fb-e28d-62c1d0c7c6dd"
   },
   "outputs": [
    {
     "data": {
      "text/plain": [
       "Text(0, 0.5, 'Count')"
      ]
     },
     "execution_count": 26,
     "metadata": {},
     "output_type": "execute_result"
    },
    {
     "data": {
      "image/png": "[encoded data removed]",
      "text/plain": [
       "<Figure size 432x288 with 1 Axes>"
      ]
     },
     "metadata": {
      "needs_background": "light"
     },
     "output_type": "display_data"
    }
   ],
   "source": [
    "ax = df2['housing'].value_counts().plot.bar(x='lab', y='val', rot=0)\n",
    "plt.title('How many people took the housing loan?')\n",
    "plt.ylabel('Count', fontsize=16)"
   ]
  },
  {
   "cell_type": "code",
   "execution_count": 27,
   "metadata": {
    "id": "io00opj5BzWK",
    "outputId": "3aa47b16-9e05-44fa-a165-c0a33658a2ad"
   },
   "outputs": [
    {
     "data": {
      "text/plain": [
       "0.0    3623\n",
       "1.0     464\n",
       "Name: y, dtype: int64"
      ]
     },
     "execution_count": 27,
     "metadata": {},
     "output_type": "execute_result"
    }
   ],
   "source": [
    "df2['y'].value_counts()"
   ]
  },
  {
   "cell_type": "code",
   "execution_count": 28,
   "metadata": {
    "id": "xQ_z85UWBzWK",
    "outputId": "b18ac02c-8593-4539-ed43-ab4ac8a2b3b2"
   },
   "outputs": [
    {
     "data": {
      "text/plain": [
       "Text(0, 0.5, 'Count')"
      ]
     },
     "execution_count": 28,
     "metadata": {},
     "output_type": "execute_result"
    },
    {
     "data": {
      "image/png": "[encoded data removed]",
      "text/plain": [
       "<Figure size 432x288 with 1 Axes>"
      ]
     },
     "metadata": {
      "needs_background": "light"
     },
     "output_type": "display_data"
    }
   ],
   "source": [
    "ax = df2['y'].value_counts().plot.bar(x='lab', y='val', rot=0)\n",
    "plt.title('Long term deposit')\n",
    "plt.ylabel('Count', fontsize=16)"
   ]
  },
  {
   "cell_type": "markdown",
   "metadata": {
    "id": "kNsZjJEwBzWK"
   },
   "source": [
    "# Part 5"
   ]
  },
  {
   "cell_type": "markdown",
   "metadata": {
    "id": "GXg8NQKuBzWK"
   },
   "source": [
    "Note that the categorical code for divorced, married, and single status are 0,1, and 2 respectively. There are **14 records** that statisfies the mentioned conditions."
   ]
  },
  {
   "cell_type": "code",
   "execution_count": 29,
   "metadata": {
    "id": "fpTfguYVBzWL",
    "outputId": "02d56e0c-d25e-421e-9469-1f99e0a8cbf7"
   },
   "outputs": [
    {
     "data": {
      "text/plain": [
       "Index(['divorced', 'married', 'single'], dtype='object')"
      ]
     },
     "execution_count": 29,
     "metadata": {},
     "output_type": "execute_result"
    }
   ],
   "source": [
    "df['marital'].cat.categories"
   ]
  },
  {
   "cell_type": "code",
   "execution_count": 30,
   "metadata": {
    "id": "t_NmI11_BzWL",
    "outputId": "aeab0851-4f15-4be7-eea5-29a55b6022e0"
   },
   "outputs": [
    {
     "data": {
      "text/plain": [
       "Index(['failure', 'other', 'success', 'unknown'], dtype='object')"
      ]
     },
     "execution_count": 30,
     "metadata": {},
     "output_type": "execute_result"
    }
   ],
   "source": [
    "df['poutcome'].cat.categories"
   ]
  },
  {
   "cell_type": "code",
   "execution_count": 31,
   "metadata": {
    "id": "tAIUiKhlBzWL",
    "outputId": "e683ace7-bbc4-46c1-a2cc-5c40c9c7b7db"
   },
   "outputs": [
    {
     "data": {
      "text/plain": [
       "14"
      ]
     },
     "execution_count": 31,
     "metadata": {},
     "output_type": "execute_result"
    }
   ],
   "source": [
    "len(df2[(df2['age'] > 35) & (df2['marital'] == 2) & (df2['poutcome'] == 2)])"
   ]
  },
  {
   "cell_type": "markdown",
   "metadata": {
    "id": "wu9kPC6YBzWL"
   },
   "source": [
    "# Part 6\n",
    "The mean balance is 950.7017237980879."
   ]
  },
  {
   "cell_type": "code",
   "execution_count": 32,
   "metadata": {
    "id": "OTGTHYRlBzWL",
    "outputId": "43ba57ce-4242-4c9c-e34f-3634f76e96d8"
   },
   "outputs": [
    {
     "data": {
      "text/plain": [
       "Index(['primary', 'secondary', 'tertiary', 'unknown'], dtype='object')"
      ]
     },
     "execution_count": 32,
     "metadata": {},
     "output_type": "execute_result"
    }
   ],
   "source": [
    "df['education'].cat.categories"
   ]
  },
  {
   "cell_type": "code",
   "execution_count": 33,
   "metadata": {
    "id": "ysOCCbejBzWL",
    "outputId": "431b697d-f52c-46bb-ba78-f5fb2237e3d5"
   },
   "outputs": [
    {
     "name": "stdout",
     "output_type": "stream",
     "text": [
      "CPU times: user 2.07 ms, sys: 1.59 ms, total: 3.66 ms\n",
      "Wall time: 2.25 ms\n"
     ]
    },
    {
     "data": {
      "text/plain": [
       "950.7017237980879"
      ]
     },
     "execution_count": 33,
     "metadata": {},
     "output_type": "execute_result"
    }
   ],
   "source": [
    "%%time\n",
    "df2[df2['education'] == 1]['balance'].mean()"
   ]
  },
  {
   "cell_type": "markdown",
   "metadata": {
    "id": "VaZNo9OLBzWL"
   },
   "source": [
    "# Part 7: Without vectorization\n",
    "It takes 2.49ms to run the code with vectorization. But without any vectorization, it took longer to run(624 ms!!)."
   ]
  },
  {
   "cell_type": "code",
   "execution_count": 34,
   "metadata": {
    "id": "AwPzLwfUBzWL",
    "outputId": "8bb7a4f8-a5c5-41e5-805f-eeae30abea44"
   },
   "outputs": [
    {
     "name": "stdout",
     "output_type": "stream",
     "text": [
      "The mean value is 950.7017237980879\n",
      "CPU times: user 547 ms, sys: 3.33 ms, total: 550 ms\n",
      "Wall time: 549 ms\n"
     ]
    }
   ],
   "source": [
    "%%time\n",
    "balance_sum = 0\n",
    "count = 0\n",
    "for i in range(0, len(df2)):\n",
    "    if df2.iloc[i]['education'] == 1:\n",
    "        balance_sum += df2.iloc[i]['balance']\n",
    "        count += 1\n",
    "mean = balance_sum/count\n",
    "print(f'The mean value is {mean}')"
   ]
  },
  {
   "cell_type": "markdown",
   "metadata": {
    "id": "CDl2TMbtCPGe"
   },
   "source": [
    "# Part 8"
   ]
  },
  {
   "cell_type": "code",
   "execution_count": 35,
   "metadata": {
    "id": "SqZ4E2i8BzWM",
    "outputId": "8fb49aa0-7e53-45ba-a27c-007e4891f8d1"
   },
   "outputs": [
    {
     "data": {
      "image/png": "[encoded data removed]",
      "text/plain": [
       "<Figure size 864x720 with 12 Axes>"
      ]
     },
     "metadata": {
      "needs_background": "light"
     },
     "output_type": "display_data"
    }
   ],
   "source": [
    "hist = df2.hist(figsize=(12,10))"
   ]
  },
  {
   "cell_type": "markdown",
   "metadata": {
    "id": "nColiwOuCTNL"
   },
   "source": [
    "# Part 9: Normalize"
   ]
  },
  {
   "cell_type": "code",
   "execution_count": 36,
   "metadata": {
    "id": "bZ2Jz3HOBzWM"
   },
   "outputs": [],
   "source": [
    "def normalize(data):\n",
    "    mean = data.mean()\n",
    "    std = data.std()\n",
    "    return (data-mean)/std"
   ]
  },
  {
   "cell_type": "code",
   "execution_count": 37,
   "metadata": {
    "id": "9JActFoqBzWM"
   },
   "outputs": [],
   "source": [
    "new_df['age'] = normalize(new_df['age'])\n",
    "new_df['balance'] = normalize(new_df['balance'])\n",
    "new_df['duration'] = normalize(new_df['duration'])\n",
    "new_df['campaign'] = normalize(new_df['campaign'])\n",
    "new_df['pdays'] = normalize(new_df['pdays'])"
   ]
  },
  {
   "cell_type": "code",
   "execution_count": 64,
   "metadata": {},
   "outputs": [
    {
     "data": {
      "text/html": [
       "<div>\n",
       "<style scoped>\n",
       "    .dataframe tbody tr th:only-of-type {\n",
       "        vertical-align: middle;\n",
       "    }\n",
       "\n",
       "    .dataframe tbody tr th {\n",
       "        vertical-align: top;\n",
       "    }\n",
       "\n",
       "    .dataframe thead th {\n",
       "        text-align: right;\n",
       "    }\n",
       "</style>\n",
       "<table border=\"1\" class=\"dataframe\">\n",
       "  <thead>\n",
       "    <tr style=\"text-align: right;\">\n",
       "      <th></th>\n",
       "      <th>age</th>\n",
       "      <th>job</th>\n",
       "      <th>marital</th>\n",
       "      <th>education</th>\n",
       "      <th>balance</th>\n",
       "      <th>housing</th>\n",
       "      <th>loan</th>\n",
       "      <th>duration</th>\n",
       "      <th>campaign</th>\n",
       "      <th>pdays</th>\n",
       "      <th>poutcome</th>\n",
       "      <th>y</th>\n",
       "    </tr>\n",
       "  </thead>\n",
       "  <tbody>\n",
       "    <tr>\n",
       "      <th>0</th>\n",
       "      <td>-1.157015e+00</td>\n",
       "      <td>10</td>\n",
       "      <td>1</td>\n",
       "      <td>0</td>\n",
       "      <td>2.485351e-01</td>\n",
       "      <td>0.0</td>\n",
       "      <td>0</td>\n",
       "      <td>-7.221342e-01</td>\n",
       "      <td>-0.576766</td>\n",
       "      <td>-0.407173</td>\n",
       "      <td>3</td>\n",
       "      <td>0.0</td>\n",
       "    </tr>\n",
       "    <tr>\n",
       "      <th>1</th>\n",
       "      <td>-8.582367e-01</td>\n",
       "      <td>7</td>\n",
       "      <td>1</td>\n",
       "      <td>1</td>\n",
       "      <td>1.395944e+00</td>\n",
       "      <td>1.0</td>\n",
       "      <td>1</td>\n",
       "      <td>2.210192e-16</td>\n",
       "      <td>-0.576766</td>\n",
       "      <td>2.988713</td>\n",
       "      <td>0</td>\n",
       "      <td>0.0</td>\n",
       "    </tr>\n",
       "    <tr>\n",
       "      <th>2</th>\n",
       "      <td>1.981415e-14</td>\n",
       "      <td>4</td>\n",
       "      <td>2</td>\n",
       "      <td>2</td>\n",
       "      <td>-3.828838e-01</td>\n",
       "      <td>1.0</td>\n",
       "      <td>0</td>\n",
       "      <td>-3.099838e-01</td>\n",
       "      <td>-0.576766</td>\n",
       "      <td>2.898822</td>\n",
       "      <td>0</td>\n",
       "      <td>0.0</td>\n",
       "    </tr>\n",
       "    <tr>\n",
       "      <th>3</th>\n",
       "      <td>-1.157015e+00</td>\n",
       "      <td>4</td>\n",
       "      <td>1</td>\n",
       "      <td>2</td>\n",
       "      <td>1.296663e-01</td>\n",
       "      <td>1.0</td>\n",
       "      <td>1</td>\n",
       "      <td>-2.555489e-01</td>\n",
       "      <td>0.387925</td>\n",
       "      <td>-0.407173</td>\n",
       "      <td>3</td>\n",
       "      <td>0.0</td>\n",
       "    </tr>\n",
       "    <tr>\n",
       "      <th>4</th>\n",
       "      <td>1.731172e+00</td>\n",
       "      <td>1</td>\n",
       "      <td>1</td>\n",
       "      <td>1</td>\n",
       "      <td>1.477395e-15</td>\n",
       "      <td>1.0</td>\n",
       "      <td>0</td>\n",
       "      <td>-1.505672e-01</td>\n",
       "      <td>-0.576766</td>\n",
       "      <td>-0.407173</td>\n",
       "      <td>3</td>\n",
       "      <td>0.0</td>\n",
       "    </tr>\n",
       "    <tr>\n",
       "      <th>...</th>\n",
       "      <td>...</td>\n",
       "      <td>...</td>\n",
       "      <td>...</td>\n",
       "      <td>...</td>\n",
       "      <td>...</td>\n",
       "      <td>...</td>\n",
       "      <td>...</td>\n",
       "      <td>...</td>\n",
       "      <td>...</td>\n",
       "      <td>...</td>\n",
       "      <td>...</td>\n",
       "      <td>...</td>\n",
       "    </tr>\n",
       "    <tr>\n",
       "      <th>4516</th>\n",
       "      <td>-8.582367e-01</td>\n",
       "      <td>7</td>\n",
       "      <td>1</td>\n",
       "      <td>1</td>\n",
       "      <td>-5.617603e-01</td>\n",
       "      <td>1.0</td>\n",
       "      <td>0</td>\n",
       "      <td>2.499186e-01</td>\n",
       "      <td>0.709488</td>\n",
       "      <td>-0.407173</td>\n",
       "      <td>3</td>\n",
       "      <td>0.0</td>\n",
       "    </tr>\n",
       "    <tr>\n",
       "      <th>4517</th>\n",
       "      <td>1.531987e+00</td>\n",
       "      <td>6</td>\n",
       "      <td>1</td>\n",
       "      <td>2</td>\n",
       "      <td>-1.700760e+00</td>\n",
       "      <td>1.0</td>\n",
       "      <td>1</td>\n",
       "      <td>-4.344066e-01</td>\n",
       "      <td>-0.576766</td>\n",
       "      <td>-0.407173</td>\n",
       "      <td>3</td>\n",
       "      <td>0.0</td>\n",
       "    </tr>\n",
       "    <tr>\n",
       "      <th>4518</th>\n",
       "      <td>1.531987e+00</td>\n",
       "      <td>9</td>\n",
       "      <td>1</td>\n",
       "      <td>1</td>\n",
       "      <td>-3.217294e-01</td>\n",
       "      <td>0.0</td>\n",
       "      <td>0</td>\n",
       "      <td>-4.421830e-01</td>\n",
       "      <td>2.638868</td>\n",
       "      <td>-0.407173</td>\n",
       "      <td>3</td>\n",
       "      <td>0.0</td>\n",
       "    </tr>\n",
       "    <tr>\n",
       "      <th>4519</th>\n",
       "      <td>-1.356200e+00</td>\n",
       "      <td>1</td>\n",
       "      <td>1</td>\n",
       "      <td>1</td>\n",
       "      <td>9.546191e-05</td>\n",
       "      <td>0.0</td>\n",
       "      <td>0</td>\n",
       "      <td>-5.277237e-01</td>\n",
       "      <td>0.387925</td>\n",
       "      <td>1.710262</td>\n",
       "      <td>1</td>\n",
       "      <td>0.0</td>\n",
       "    </tr>\n",
       "    <tr>\n",
       "      <th>4520</th>\n",
       "      <td>2.372825e-01</td>\n",
       "      <td>2</td>\n",
       "      <td>2</td>\n",
       "      <td>2</td>\n",
       "      <td>-2.867529e-04</td>\n",
       "      <td>1.0</td>\n",
       "      <td>1</td>\n",
       "      <td>3.121300e-01</td>\n",
       "      <td>-0.255202</td>\n",
       "      <td>2.089802</td>\n",
       "      <td>1</td>\n",
       "      <td>0.0</td>\n",
       "    </tr>\n",
       "  </tbody>\n",
       "</table>\n",
       "<p>4087 rows × 12 columns</p>\n",
       "</div>"
      ],
      "text/plain": [
       "               age  job  marital  education       balance  housing  loan  \\\n",
       "0    -1.157015e+00   10        1          0  2.485351e-01      0.0     0   \n",
       "1    -8.582367e-01    7        1          1  1.395944e+00      1.0     1   \n",
       "2     1.981415e-14    4        2          2 -3.828838e-01      1.0     0   \n",
       "3    -1.157015e+00    4        1          2  1.296663e-01      1.0     1   \n",
       "4     1.731172e+00    1        1          1  1.477395e-15      1.0     0   \n",
       "...            ...  ...      ...        ...           ...      ...   ...   \n",
       "4516 -8.582367e-01    7        1          1 -5.617603e-01      1.0     0   \n",
       "4517  1.531987e+00    6        1          2 -1.700760e+00      1.0     1   \n",
       "4518  1.531987e+00    9        1          1 -3.217294e-01      0.0     0   \n",
       "4519 -1.356200e+00    1        1          1  9.546191e-05      0.0     0   \n",
       "4520  2.372825e-01    2        2          2 -2.867529e-04      1.0     1   \n",
       "\n",
       "          duration  campaign     pdays  poutcome    y  \n",
       "0    -7.221342e-01 -0.576766 -0.407173         3  0.0  \n",
       "1     2.210192e-16 -0.576766  2.988713         0  0.0  \n",
       "2    -3.099838e-01 -0.576766  2.898822         0  0.0  \n",
       "3    -2.555489e-01  0.387925 -0.407173         3  0.0  \n",
       "4    -1.505672e-01 -0.576766 -0.407173         3  0.0  \n",
       "...            ...       ...       ...       ...  ...  \n",
       "4516  2.499186e-01  0.709488 -0.407173         3  0.0  \n",
       "4517 -4.344066e-01 -0.576766 -0.407173         3  0.0  \n",
       "4518 -4.421830e-01  2.638868 -0.407173         3  0.0  \n",
       "4519 -5.277237e-01  0.387925  1.710262         1  0.0  \n",
       "4520  3.121300e-01 -0.255202  2.089802         1  0.0  \n",
       "\n",
       "[4087 rows x 12 columns]"
      ]
     },
     "execution_count": 64,
     "metadata": {},
     "output_type": "execute_result"
    }
   ],
   "source": [
    "new_df"
   ]
  },
  {
   "cell_type": "code",
   "execution_count": 38,
   "metadata": {
    "id": "M7OOh50tBzWJ"
   },
   "outputs": [],
   "source": [
    "test = new_df[new_df['y'].isnull()].copy()"
   ]
  },
  {
   "cell_type": "code",
   "execution_count": 39,
   "metadata": {
    "id": "fVv0x_u_BzWJ"
   },
   "outputs": [],
   "source": [
    "test['age'].fillna(value=new_df['age'].mean(),inplace=True)\n",
    "test['balance'].fillna(value=new_df['balance'].mean(),inplace=True)\n",
    "test['duration'].fillna(value=new_df['duration'].mean(),inplace=True)"
   ]
  },
  {
   "cell_type": "code",
   "execution_count": 40,
   "metadata": {
    "id": "-6ZjQW6mBzWJ",
    "outputId": "3f78869f-67c3-439b-8b73-475e1a16d58e"
   },
   "outputs": [
    {
     "data": {
      "text/html": [
       "<div>\n",
       "<style scoped>\n",
       "    .dataframe tbody tr th:only-of-type {\n",
       "        vertical-align: middle;\n",
       "    }\n",
       "\n",
       "    .dataframe tbody tr th {\n",
       "        vertical-align: top;\n",
       "    }\n",
       "\n",
       "    .dataframe thead th {\n",
       "        text-align: right;\n",
       "    }\n",
       "</style>\n",
       "<table border=\"1\" class=\"dataframe\">\n",
       "  <thead>\n",
       "    <tr style=\"text-align: right;\">\n",
       "      <th></th>\n",
       "      <th>age</th>\n",
       "      <th>job</th>\n",
       "      <th>marital</th>\n",
       "      <th>education</th>\n",
       "      <th>balance</th>\n",
       "      <th>housing</th>\n",
       "      <th>loan</th>\n",
       "      <th>duration</th>\n",
       "      <th>campaign</th>\n",
       "      <th>pdays</th>\n",
       "      <th>poutcome</th>\n",
       "      <th>y</th>\n",
       "    </tr>\n",
       "  </thead>\n",
       "  <tbody>\n",
       "    <tr>\n",
       "      <th>34</th>\n",
       "      <td>7.352458e-01</td>\n",
       "      <td>9</td>\n",
       "      <td>1</td>\n",
       "      <td>2</td>\n",
       "      <td>0.037553</td>\n",
       "      <td>0.0</td>\n",
       "      <td>0</td>\n",
       "      <td>3.471239e-01</td>\n",
       "      <td>0.066361</td>\n",
       "      <td>-0.407173</td>\n",
       "      <td>3</td>\n",
       "      <td>NaN</td>\n",
       "    </tr>\n",
       "    <tr>\n",
       "      <th>38</th>\n",
       "      <td>-8.582367e-01</td>\n",
       "      <td>4</td>\n",
       "      <td>1</td>\n",
       "      <td>1</td>\n",
       "      <td>1.069533</td>\n",
       "      <td>1.0</td>\n",
       "      <td>0</td>\n",
       "      <td>1.945179e+00</td>\n",
       "      <td>-0.576766</td>\n",
       "      <td>3.018677</td>\n",
       "      <td>0</td>\n",
       "      <td>NaN</td>\n",
       "    </tr>\n",
       "    <tr>\n",
       "      <th>54</th>\n",
       "      <td>1.981415e-14</td>\n",
       "      <td>1</td>\n",
       "      <td>1</td>\n",
       "      <td>1</td>\n",
       "      <td>0.418238</td>\n",
       "      <td>1.0</td>\n",
       "      <td>0</td>\n",
       "      <td>2.829055e-02</td>\n",
       "      <td>0.066361</td>\n",
       "      <td>-0.407173</td>\n",
       "      <td>3</td>\n",
       "      <td>NaN</td>\n",
       "    </tr>\n",
       "    <tr>\n",
       "      <th>65</th>\n",
       "      <td>9.344311e-01</td>\n",
       "      <td>1</td>\n",
       "      <td>0</td>\n",
       "      <td>1</td>\n",
       "      <td>-0.425692</td>\n",
       "      <td>1.0</td>\n",
       "      <td>0</td>\n",
       "      <td>-5.082826e-01</td>\n",
       "      <td>-0.576766</td>\n",
       "      <td>1.300758</td>\n",
       "      <td>0</td>\n",
       "      <td>NaN</td>\n",
       "    </tr>\n",
       "    <tr>\n",
       "      <th>89</th>\n",
       "      <td>1.981415e-14</td>\n",
       "      <td>1</td>\n",
       "      <td>1</td>\n",
       "      <td>1</td>\n",
       "      <td>0.265353</td>\n",
       "      <td>1.0</td>\n",
       "      <td>0</td>\n",
       "      <td>-2.399960e-01</td>\n",
       "      <td>-0.255202</td>\n",
       "      <td>-0.407173</td>\n",
       "      <td>3</td>\n",
       "      <td>NaN</td>\n",
       "    </tr>\n",
       "    <tr>\n",
       "      <th>...</th>\n",
       "      <td>...</td>\n",
       "      <td>...</td>\n",
       "      <td>...</td>\n",
       "      <td>...</td>\n",
       "      <td>...</td>\n",
       "      <td>...</td>\n",
       "      <td>...</td>\n",
       "      <td>...</td>\n",
       "      <td>...</td>\n",
       "      <td>...</td>\n",
       "      <td>...</td>\n",
       "      <td>...</td>\n",
       "    </tr>\n",
       "    <tr>\n",
       "      <th>4470</th>\n",
       "      <td>-1.057422e+00</td>\n",
       "      <td>9</td>\n",
       "      <td>2</td>\n",
       "      <td>2</td>\n",
       "      <td>0.011180</td>\n",
       "      <td>1.0</td>\n",
       "      <td>0</td>\n",
       "      <td>-2.244432e-01</td>\n",
       "      <td>-0.576766</td>\n",
       "      <td>-0.407173</td>\n",
       "      <td>3</td>\n",
       "      <td>NaN</td>\n",
       "    </tr>\n",
       "    <tr>\n",
       "      <th>4471</th>\n",
       "      <td>1.731172e+00</td>\n",
       "      <td>4</td>\n",
       "      <td>1</td>\n",
       "      <td>3</td>\n",
       "      <td>0.916264</td>\n",
       "      <td>0.0</td>\n",
       "      <td>0</td>\n",
       "      <td>-1.894493e-01</td>\n",
       "      <td>0.387925</td>\n",
       "      <td>-0.407173</td>\n",
       "      <td>3</td>\n",
       "      <td>NaN</td>\n",
       "    </tr>\n",
       "    <tr>\n",
       "      <th>4473</th>\n",
       "      <td>-8.582367e-01</td>\n",
       "      <td>9</td>\n",
       "      <td>1</td>\n",
       "      <td>1</td>\n",
       "      <td>-0.251402</td>\n",
       "      <td>1.0</td>\n",
       "      <td>0</td>\n",
       "      <td>-4.966180e-01</td>\n",
       "      <td>-0.576766</td>\n",
       "      <td>2.319524</td>\n",
       "      <td>0</td>\n",
       "      <td>NaN</td>\n",
       "    </tr>\n",
       "    <tr>\n",
       "      <th>4477</th>\n",
       "      <td>-9.578294e-01</td>\n",
       "      <td>4</td>\n",
       "      <td>2</td>\n",
       "      <td>2</td>\n",
       "      <td>-0.213945</td>\n",
       "      <td>0.0</td>\n",
       "      <td>0</td>\n",
       "      <td>-6.365936e-01</td>\n",
       "      <td>-0.255202</td>\n",
       "      <td>-0.407173</td>\n",
       "      <td>3</td>\n",
       "      <td>NaN</td>\n",
       "    </tr>\n",
       "    <tr>\n",
       "      <th>4482</th>\n",
       "      <td>4.364678e-01</td>\n",
       "      <td>0</td>\n",
       "      <td>1</td>\n",
       "      <td>1</td>\n",
       "      <td>-0.256371</td>\n",
       "      <td>1.0</td>\n",
       "      <td>0</td>\n",
       "      <td>2.210192e-16</td>\n",
       "      <td>-0.576766</td>\n",
       "      <td>-0.407173</td>\n",
       "      <td>3</td>\n",
       "      <td>NaN</td>\n",
       "    </tr>\n",
       "  </tbody>\n",
       "</table>\n",
       "<p>434 rows × 12 columns</p>\n",
       "</div>"
      ],
      "text/plain": [
       "               age  job  marital  education   balance  housing  loan  \\\n",
       "34    7.352458e-01    9        1          2  0.037553      0.0     0   \n",
       "38   -8.582367e-01    4        1          1  1.069533      1.0     0   \n",
       "54    1.981415e-14    1        1          1  0.418238      1.0     0   \n",
       "65    9.344311e-01    1        0          1 -0.425692      1.0     0   \n",
       "89    1.981415e-14    1        1          1  0.265353      1.0     0   \n",
       "...            ...  ...      ...        ...       ...      ...   ...   \n",
       "4470 -1.057422e+00    9        2          2  0.011180      1.0     0   \n",
       "4471  1.731172e+00    4        1          3  0.916264      0.0     0   \n",
       "4473 -8.582367e-01    9        1          1 -0.251402      1.0     0   \n",
       "4477 -9.578294e-01    4        2          2 -0.213945      0.0     0   \n",
       "4482  4.364678e-01    0        1          1 -0.256371      1.0     0   \n",
       "\n",
       "          duration  campaign     pdays  poutcome   y  \n",
       "34    3.471239e-01  0.066361 -0.407173         3 NaN  \n",
       "38    1.945179e+00 -0.576766  3.018677         0 NaN  \n",
       "54    2.829055e-02  0.066361 -0.407173         3 NaN  \n",
       "65   -5.082826e-01 -0.576766  1.300758         0 NaN  \n",
       "89   -2.399960e-01 -0.255202 -0.407173         3 NaN  \n",
       "...            ...       ...       ...       ...  ..  \n",
       "4470 -2.244432e-01 -0.576766 -0.407173         3 NaN  \n",
       "4471 -1.894493e-01  0.387925 -0.407173         3 NaN  \n",
       "4473 -4.966180e-01 -0.576766  2.319524         0 NaN  \n",
       "4477 -6.365936e-01 -0.255202 -0.407173         3 NaN  \n",
       "4482  2.210192e-16 -0.576766 -0.407173         3 NaN  \n",
       "\n",
       "[434 rows x 12 columns]"
      ]
     },
     "execution_count": 40,
     "metadata": {},
     "output_type": "execute_result"
    }
   ],
   "source": [
    "test"
   ]
  },
  {
   "cell_type": "markdown",
   "metadata": {
    "id": "MVL3iVeKBzWJ"
   },
   "source": [
    "Here, we're going to remove rows that their target is NaN. We're going to use them as test set."
   ]
  },
  {
   "cell_type": "code",
   "execution_count": 41,
   "metadata": {
    "id": "wnUox1EVBzWK"
   },
   "outputs": [],
   "source": [
    "new_df = new_df.dropna(subset=['y'])"
   ]
  },
  {
   "cell_type": "markdown",
   "metadata": {
    "id": "tXOSvtuJBzWM"
   },
   "source": [
    "# Part 10\n",
    "\n",
    "Here, we're going to divide the dataframe into 2 dataframes, one contains positive target and one contains negative target."
   ]
  },
  {
   "cell_type": "code",
   "execution_count": 42,
   "metadata": {
    "id": "iD9JiL9NBzWM",
    "outputId": "a72469fa-f0be-4a9f-af1f-c013390ac4f5"
   },
   "outputs": [
    {
     "data": {
      "text/html": [
       "<div>\n",
       "<style scoped>\n",
       "    .dataframe tbody tr th:only-of-type {\n",
       "        vertical-align: middle;\n",
       "    }\n",
       "\n",
       "    .dataframe tbody tr th {\n",
       "        vertical-align: top;\n",
       "    }\n",
       "\n",
       "    .dataframe thead th {\n",
       "        text-align: right;\n",
       "    }\n",
       "</style>\n",
       "<table border=\"1\" class=\"dataframe\">\n",
       "  <thead>\n",
       "    <tr style=\"text-align: right;\">\n",
       "      <th></th>\n",
       "      <th>age</th>\n",
       "      <th>job</th>\n",
       "      <th>marital</th>\n",
       "      <th>education</th>\n",
       "      <th>balance</th>\n",
       "      <th>housing</th>\n",
       "      <th>loan</th>\n",
       "      <th>duration</th>\n",
       "      <th>campaign</th>\n",
       "      <th>pdays</th>\n",
       "      <th>poutcome</th>\n",
       "      <th>y</th>\n",
       "    </tr>\n",
       "  </thead>\n",
       "  <tbody>\n",
       "    <tr>\n",
       "      <th>13</th>\n",
       "      <td>-2.152941</td>\n",
       "      <td>8</td>\n",
       "      <td>2</td>\n",
       "      <td>1</td>\n",
       "      <td>-0.414608</td>\n",
       "      <td>0.0</td>\n",
       "      <td>0</td>\n",
       "      <td>-0.014480</td>\n",
       "      <td>-0.576766</td>\n",
       "      <td>-0.407173</td>\n",
       "      <td>3</td>\n",
       "      <td>1.0</td>\n",
       "    </tr>\n",
       "    <tr>\n",
       "      <th>30</th>\n",
       "      <td>2.627506</td>\n",
       "      <td>5</td>\n",
       "      <td>0</td>\n",
       "      <td>1</td>\n",
       "      <td>1.166615</td>\n",
       "      <td>0.0</td>\n",
       "      <td>0</td>\n",
       "      <td>2.458423</td>\n",
       "      <td>-0.255202</td>\n",
       "      <td>-0.407173</td>\n",
       "      <td>3</td>\n",
       "      <td>1.0</td>\n",
       "    </tr>\n",
       "    <tr>\n",
       "      <th>33</th>\n",
       "      <td>-0.957829</td>\n",
       "      <td>4</td>\n",
       "      <td>2</td>\n",
       "      <td>2</td>\n",
       "      <td>0.534814</td>\n",
       "      <td>1.0</td>\n",
       "      <td>0</td>\n",
       "      <td>2.695604</td>\n",
       "      <td>1.031051</td>\n",
       "      <td>-0.407173</td>\n",
       "      <td>3</td>\n",
       "      <td>1.0</td>\n",
       "    </tr>\n",
       "    <tr>\n",
       "      <th>36</th>\n",
       "      <td>3.623433</td>\n",
       "      <td>5</td>\n",
       "      <td>0</td>\n",
       "      <td>0</td>\n",
       "      <td>-0.346956</td>\n",
       "      <td>0.0</td>\n",
       "      <td>0</td>\n",
       "      <td>-0.652146</td>\n",
       "      <td>-0.576766</td>\n",
       "      <td>-0.407173</td>\n",
       "      <td>3</td>\n",
       "      <td>1.0</td>\n",
       "    </tr>\n",
       "    <tr>\n",
       "      <th>37</th>\n",
       "      <td>-0.957829</td>\n",
       "      <td>1</td>\n",
       "      <td>1</td>\n",
       "      <td>1</td>\n",
       "      <td>-0.324023</td>\n",
       "      <td>1.0</td>\n",
       "      <td>0</td>\n",
       "      <td>-0.516059</td>\n",
       "      <td>-0.576766</td>\n",
       "      <td>-0.407173</td>\n",
       "      <td>3</td>\n",
       "      <td>1.0</td>\n",
       "    </tr>\n",
       "    <tr>\n",
       "      <th>...</th>\n",
       "      <td>...</td>\n",
       "      <td>...</td>\n",
       "      <td>...</td>\n",
       "      <td>...</td>\n",
       "      <td>...</td>\n",
       "      <td>...</td>\n",
       "      <td>...</td>\n",
       "      <td>...</td>\n",
       "      <td>...</td>\n",
       "      <td>...</td>\n",
       "      <td>...</td>\n",
       "      <td>...</td>\n",
       "    </tr>\n",
       "    <tr>\n",
       "      <th>4494</th>\n",
       "      <td>-1.555385</td>\n",
       "      <td>9</td>\n",
       "      <td>2</td>\n",
       "      <td>1</td>\n",
       "      <td>-0.179163</td>\n",
       "      <td>1.0</td>\n",
       "      <td>0</td>\n",
       "      <td>1.210307</td>\n",
       "      <td>0.066361</td>\n",
       "      <td>-0.407173</td>\n",
       "      <td>3</td>\n",
       "      <td>1.0</td>\n",
       "    </tr>\n",
       "    <tr>\n",
       "      <th>4503</th>\n",
       "      <td>1.830765</td>\n",
       "      <td>6</td>\n",
       "      <td>1</td>\n",
       "      <td>0</td>\n",
       "      <td>-0.296121</td>\n",
       "      <td>0.0</td>\n",
       "      <td>1</td>\n",
       "      <td>2.143478</td>\n",
       "      <td>1.031051</td>\n",
       "      <td>-0.407173</td>\n",
       "      <td>3</td>\n",
       "      <td>1.0</td>\n",
       "    </tr>\n",
       "    <tr>\n",
       "      <th>4504</th>\n",
       "      <td>0.038097</td>\n",
       "      <td>1</td>\n",
       "      <td>2</td>\n",
       "      <td>1</td>\n",
       "      <td>-0.427603</td>\n",
       "      <td>1.0</td>\n",
       "      <td>1</td>\n",
       "      <td>2.668386</td>\n",
       "      <td>0.066361</td>\n",
       "      <td>3.298338</td>\n",
       "      <td>0</td>\n",
       "      <td>1.0</td>\n",
       "    </tr>\n",
       "    <tr>\n",
       "      <th>4505</th>\n",
       "      <td>-0.957829</td>\n",
       "      <td>0</td>\n",
       "      <td>2</td>\n",
       "      <td>1</td>\n",
       "      <td>-0.410785</td>\n",
       "      <td>1.0</td>\n",
       "      <td>0</td>\n",
       "      <td>3.768750</td>\n",
       "      <td>0.066361</td>\n",
       "      <td>-0.407173</td>\n",
       "      <td>3</td>\n",
       "      <td>1.0</td>\n",
       "    </tr>\n",
       "    <tr>\n",
       "      <th>4511</th>\n",
       "      <td>0.436468</td>\n",
       "      <td>1</td>\n",
       "      <td>1</td>\n",
       "      <td>1</td>\n",
       "      <td>-0.179163</td>\n",
       "      <td>1.0</td>\n",
       "      <td>0</td>\n",
       "      <td>3.881508</td>\n",
       "      <td>-0.255202</td>\n",
       "      <td>-0.407173</td>\n",
       "      <td>3</td>\n",
       "      <td>1.0</td>\n",
       "    </tr>\n",
       "  </tbody>\n",
       "</table>\n",
       "<p>464 rows × 12 columns</p>\n",
       "</div>"
      ],
      "text/plain": [
       "           age  job  marital  education   balance  housing  loan  duration  \\\n",
       "13   -2.152941    8        2          1 -0.414608      0.0     0 -0.014480   \n",
       "30    2.627506    5        0          1  1.166615      0.0     0  2.458423   \n",
       "33   -0.957829    4        2          2  0.534814      1.0     0  2.695604   \n",
       "36    3.623433    5        0          0 -0.346956      0.0     0 -0.652146   \n",
       "37   -0.957829    1        1          1 -0.324023      1.0     0 -0.516059   \n",
       "...        ...  ...      ...        ...       ...      ...   ...       ...   \n",
       "4494 -1.555385    9        2          1 -0.179163      1.0     0  1.210307   \n",
       "4503  1.830765    6        1          0 -0.296121      0.0     1  2.143478   \n",
       "4504  0.038097    1        2          1 -0.427603      1.0     1  2.668386   \n",
       "4505 -0.957829    0        2          1 -0.410785      1.0     0  3.768750   \n",
       "4511  0.436468    1        1          1 -0.179163      1.0     0  3.881508   \n",
       "\n",
       "      campaign     pdays  poutcome    y  \n",
       "13   -0.576766 -0.407173         3  1.0  \n",
       "30   -0.255202 -0.407173         3  1.0  \n",
       "33    1.031051 -0.407173         3  1.0  \n",
       "36   -0.576766 -0.407173         3  1.0  \n",
       "37   -0.576766 -0.407173         3  1.0  \n",
       "...        ...       ...       ...  ...  \n",
       "4494  0.066361 -0.407173         3  1.0  \n",
       "4503  1.031051 -0.407173         3  1.0  \n",
       "4504  0.066361  3.298338         0  1.0  \n",
       "4505  0.066361 -0.407173         3  1.0  \n",
       "4511 -0.255202 -0.407173         3  1.0  \n",
       "\n",
       "[464 rows x 12 columns]"
      ]
     },
     "execution_count": 42,
     "metadata": {},
     "output_type": "execute_result"
    }
   ],
   "source": [
    "positive_df = new_df[new_df['y'] == 1]\n",
    "negative_df = new_df[new_df['y'] == 0]\n",
    "positive_df"
   ]
  },
  {
   "cell_type": "code",
   "execution_count": 43,
   "metadata": {
    "id": "KuIWqy1uBzWM"
   },
   "outputs": [],
   "source": [
    "def draw_diagram(mu_positive,sigma_positive, mu_negative, sigma_negative,column_name):\n",
    "    mu = mu_positive\n",
    "    sigma = sigma_positive\n",
    "    x = np.linspace(mu - 3*sigma, mu + 3*sigma, 100)\n",
    "    plt.plot(x, stats.norm.pdf(x, mu, sigma))\n",
    "\n",
    "    mu = mu_negative\n",
    "    sigma = sigma_negative\n",
    "    x = np.linspace(mu - 3*sigma, mu + 3*sigma, 100)\n",
    "    plt.plot(x, stats.norm.pdf(x, mu, sigma))\n",
    "\n",
    "    plt.legend(['Postive', 'Negative'], loc='upper left')\n",
    "    plt.title(f'Postive vs. Negative Target in {column_name}')\n",
    "    plt.show()"
   ]
  },
  {
   "cell_type": "markdown",
   "metadata": {
    "id": "6w6zfXdtBzWN"
   },
   "source": [
    "## Age\n",
    "\n",
    "This column has a low difference of mean values in 0 and 1 classes and high variance in both classes as well. So this column is not a good choice."
   ]
  },
  {
   "cell_type": "code",
   "execution_count": 44,
   "metadata": {
    "id": "wYqYaDDGBzWN",
    "outputId": "f69585a3-a40d-4d5a-bea7-d5247b6327c9"
   },
   "outputs": [
    {
     "data": {
      "image/png": "[encoded data removed]",
      "text/plain": [
       "<Figure size 432x288 with 1 Axes>"
      ]
     },
     "metadata": {
      "needs_background": "light"
     },
     "output_type": "display_data"
    }
   ],
   "source": [
    "positive_mu_age = positive_df['age'].mean()\n",
    "positive_std_age = positive_df['age'].std()\n",
    "\n",
    "negative_mu_age = negative_df['age'].mean()\n",
    "negative_std_age = negative_df['age'].std()\n",
    "draw_diagram(positive_mu_age,positive_std_age,negative_mu_age,negative_std_age,'Age')"
   ]
  },
  {
   "cell_type": "code",
   "execution_count": 45,
   "metadata": {
    "id": "wXeLZNbVBzWN",
    "outputId": "62d1e362-9126-4b32-9779-6ca8211ef7ef"
   },
   "outputs": [
    {
     "name": "stdout",
     "output_type": "stream",
     "text": [
      "Column Name: Age\n",
      "Mean difference:  0.14378185308679126\n",
      "std positive:  1.243621879574519 std negative:  0.9666343765199411\n"
     ]
    }
   ],
   "source": [
    "print('Column Name: Age')\n",
    "print('Mean difference: ',abs(positive_mu_age - negative_mu_age))\n",
    "print('std positive: ', positive_std_age,'std negative: ', negative_std_age)"
   ]
  },
  {
   "cell_type": "markdown",
   "metadata": {
    "id": "ay_-LqB0BzWN"
   },
   "source": [
    "## Balance\n",
    "This column has the lowest difference of mean values in 0 and 1 classes and high variance in both classes as well. So this column is not a good choice."
   ]
  },
  {
   "cell_type": "code",
   "execution_count": 46,
   "metadata": {
    "id": "WYT_bNBBBzWN",
    "outputId": "dfdde9ee-7849-42e4-fabe-cb9c3dfe84d2"
   },
   "outputs": [
    {
     "data": {
      "image/png": "[encoded data removed]",
      "text/plain": [
       "<Figure size 432x288 with 1 Axes>"
      ]
     },
     "metadata": {
      "needs_background": "light"
     },
     "output_type": "display_data"
    }
   ],
   "source": [
    "positive_mu_balance = positive_df['balance'].mean()\n",
    "positive_std_balance = positive_df['balance'].std()\n",
    "\n",
    "negative_mu_balance = negative_df['balance'].mean()\n",
    "negative_std_balance = negative_df['balance'].std()\n",
    "\n",
    "draw_diagram(positive_mu_balance,positive_std_balance,negative_mu_balance,negative_std_balance,'Balance')"
   ]
  },
  {
   "cell_type": "code",
   "execution_count": 47,
   "metadata": {
    "id": "jv5v_U07BzWO",
    "outputId": "082e8151-6fa8-4813-de61-33e9c6a1a532"
   },
   "outputs": [
    {
     "name": "stdout",
     "output_type": "stream",
     "text": [
      "Column Name: Balance\n",
      "Mean difference:  0.028517030433160166\n",
      "std positive:  0.7941521531675242 std negative:  1.0199960940761061\n"
     ]
    }
   ],
   "source": [
    "print('Column Name: Balance')\n",
    "print('Mean difference: ',abs(positive_mu_balance - negative_mu_balance))\n",
    "print('std positive: ', positive_std_balance,'std negative: ', negative_std_balance)"
   ]
  },
  {
   "cell_type": "markdown",
   "metadata": {
    "id": "E3PpcqtJBzWO"
   },
   "source": [
    "## Duration\n",
    "\n",
    "This column has the highest difference of mean values in 0 and 1 classes. So this column is the best one to choose."
   ]
  },
  {
   "cell_type": "code",
   "execution_count": 48,
   "metadata": {
    "id": "DxdoBrQlBzWO",
    "outputId": "a9621b87-377e-4a0e-8eb4-f5410c1c3595"
   },
   "outputs": [
    {
     "data": {
      "image/png": "[encoded data removed]",
      "text/plain": [
       "<Figure size 432x288 with 1 Axes>"
      ]
     },
     "metadata": {
      "needs_background": "light"
     },
     "output_type": "display_data"
    }
   ],
   "source": [
    "positive_mu_duration = positive_df['duration'].mean()\n",
    "positive_std_duration = positive_df['duration'].std()\n",
    "\n",
    "negative_mu_duration = negative_df['duration'].mean()\n",
    "negative_std_duration = negative_df['duration'].std()\n",
    "\n",
    "draw_diagram(positive_mu_duration,positive_std_duration,negative_mu_duration,negative_std_duration,'Duration')"
   ]
  },
  {
   "cell_type": "code",
   "execution_count": 49,
   "metadata": {
    "id": "IirnevV6BzWO",
    "outputId": "82b9c2b0-8ec9-49b7-8d74-13a96be7994b"
   },
   "outputs": [
    {
     "name": "stdout",
     "output_type": "stream",
     "text": [
      "Column Name: Duration\n",
      "Mean difference:  1.2365092213475855\n",
      "std positive:  1.4821193281268374 std negative:  0.8258232315530994\n"
     ]
    }
   ],
   "source": [
    "print('Column Name: Duration')\n",
    "print('Mean difference: ',abs(positive_mu_duration - negative_mu_duration))\n",
    "print('std positive: ', positive_std_duration,'std negative: ', negative_std_duration)"
   ]
  },
  {
   "cell_type": "markdown",
   "metadata": {
    "id": "RGv2OrtTBzWO"
   },
   "source": [
    "## Campaign\n",
    "\n",
    "This column has a low difference of mean values in 0 and 1 classes and high variance in both classes as well. So this column is not a good choice."
   ]
  },
  {
   "cell_type": "code",
   "execution_count": 50,
   "metadata": {
    "id": "GNkYqLA4BzWO",
    "outputId": "8703b2b1-5f7d-40b0-e2d1-1aa9a9e9d938"
   },
   "outputs": [
    {
     "data": {
      "image/png": "[encoded data removed]",
      "text/plain": [
       "<Figure size 432x288 with 1 Axes>"
      ]
     },
     "metadata": {
      "needs_background": "light"
     },
     "output_type": "display_data"
    }
   ],
   "source": [
    "positive_mu_campaign = positive_df['campaign'].mean()\n",
    "positive_std_campaign = positive_df['campaign'].std()\n",
    "\n",
    "negative_mu_campaign = negative_df['campaign'].mean()\n",
    "negative_std_campaign = negative_df['campaign'].std()\n",
    "\n",
    "draw_diagram(positive_mu_campaign,positive_std_campaign,negative_mu_campaign,negative_std_campaign,'Campaign')"
   ]
  },
  {
   "cell_type": "code",
   "execution_count": 51,
   "metadata": {
    "id": "BCJEe69_BzWP",
    "outputId": "ae9409d1-3785-4410-f6e3-8c35166fa34f"
   },
   "outputs": [
    {
     "name": "stdout",
     "output_type": "stream",
     "text": [
      "Column Name: Campaign\n",
      "Mean difference:  0.20043349320360143\n",
      "std positive:  0.6638036831361747 std negative:  1.0456746706446718\n"
     ]
    }
   ],
   "source": [
    "print('Column Name: Campaign')\n",
    "print('Mean difference: ',abs(positive_mu_campaign - negative_mu_campaign))\n",
    "print('std positive: ', positive_std_campaign,'std negative: ', negative_std_campaign)"
   ]
  },
  {
   "cell_type": "markdown",
   "metadata": {
    "id": "rDbWPTnRBzWP"
   },
   "source": [
    "## Pdays\n",
    "\n",
    "This column has a low difference of mean values in 0 and 1 classes and high variance in both classes as well. So this column is not a good choice."
   ]
  },
  {
   "cell_type": "code",
   "execution_count": 52,
   "metadata": {
    "id": "jOxi8r6GBzWP",
    "outputId": "0636583a-9d7b-4ce7-eac4-a0d428b15346"
   },
   "outputs": [
    {
     "data": {
      "image/png": "[encoded data removed]",
      "text/plain": [
       "<Figure size 432x288 with 1 Axes>"
      ]
     },
     "metadata": {
      "needs_background": "light"
     },
     "output_type": "display_data"
    }
   ],
   "source": [
    "positive_mu_pdays = positive_df['pdays'].mean()\n",
    "positive_std_pdays = positive_df['pdays'].std()\n",
    "\n",
    "negative_mu_pdays = negative_df['pdays'].mean()\n",
    "negative_std_pdays = negative_df['pdays'].std()\n",
    "\n",
    "draw_diagram(positive_mu_pdays,positive_std_pdays,negative_mu_pdays,negative_std_pdays,'Pdays')"
   ]
  },
  {
   "cell_type": "code",
   "execution_count": 53,
   "metadata": {
    "id": "KGej4cVsBzWP",
    "outputId": "480b9ae8-32af-4e79-f20a-f12bdc19af9b"
   },
   "outputs": [
    {
     "name": "stdout",
     "output_type": "stream",
     "text": [
      "Column Name: PDays\n",
      "Mean difference:  0.3028186502220774\n",
      "std positive:  1.186072743572173 std negative:  0.9549927730758819\n"
     ]
    }
   ],
   "source": [
    "print('Column Name: PDays')\n",
    "print('Mean difference: ',abs(positive_mu_pdays - negative_mu_pdays))\n",
    "print('std positive: ', positive_std_pdays,'std negative: ', negative_std_pdays)"
   ]
  },
  {
   "cell_type": "markdown",
   "metadata": {
    "id": "XyQj0apqBzWP"
   },
   "source": [
    "## Which feature can seperate these 2 classes better?"
   ]
  },
  {
   "cell_type": "markdown",
   "metadata": {
    "id": "G-0C_3OfBzWP"
   },
   "source": [
    "The criteria for selecting the best column for seperation of these two classes are:\n",
    "*   Biggest difference of mean value\n",
    "*   Low variance\n",
    "\n",
    "Duration column satisfies the above condition."
   ]
  },
  {
   "cell_type": "markdown",
   "metadata": {
    "id": "eY7h82x-BzWP"
   },
   "source": [
    "# Part 11: Classification"
   ]
  },
  {
   "cell_type": "code",
   "execution_count": 54,
   "metadata": {
    "id": "VZoJvo1SBzWP"
   },
   "outputs": [],
   "source": [
    "def predict(duration):\n",
    "    positive_prob = stats.norm.pdf(duration, positive_mu_duration, positive_std_duration)\n",
    "    negative_prob = stats.norm.pdf(duration, negative_mu_duration, negative_std_duration)\n",
    "\n",
    "    if positive_prob > negative_prob:\n",
    "        return 'yes'\n",
    "    else:\n",
    "        return 'no'"
   ]
  },
  {
   "cell_type": "code",
   "execution_count": 55,
   "metadata": {
    "id": "OHB-2v3fBzWP",
    "outputId": "e53af898-52d3-4a42-9b0f-430c08ac7951"
   },
   "outputs": [
    {
     "data": {
      "text/plain": [
       "'no'"
      ]
     },
     "execution_count": 55,
     "metadata": {},
     "output_type": "execute_result"
    }
   ],
   "source": [
    "predict(test.iloc[0]['duration'])"
   ]
  },
  {
   "cell_type": "code",
   "execution_count": 56,
   "metadata": {
    "id": "i6hFAFddBzWQ"
   },
   "outputs": [],
   "source": [
    "test['y'] = test['duration'].apply(predict)"
   ]
  },
  {
   "cell_type": "code",
   "execution_count": 57,
   "metadata": {},
   "outputs": [
    {
     "data": {
      "text/plain": [
       "no     379\n",
       "yes     55\n",
       "Name: y, dtype: int64"
      ]
     },
     "execution_count": 57,
     "metadata": {},
     "output_type": "execute_result"
    }
   ],
   "source": [
    "test['y'].value_counts()"
   ]
  },
  {
   "cell_type": "code",
   "execution_count": 58,
   "metadata": {},
   "outputs": [],
   "source": [
    "test['y'].to_csv('prediction.csv', encoding='utf-8')"
   ]
  }
 ],
 "metadata": {
  "colab": {
   "collapsed_sections": [
    "6w6zfXdtBzWN",
    "ay_-LqB0BzWN",
    "E3PpcqtJBzWO",
    "RGv2OrtTBzWO",
    "rDbWPTnRBzWP",
    "XyQj0apqBzWP"
   ],
   "name": "Solution.ipynb",
   "provenance": []
  },
  "interpreter": {
   "hash": "c4743f3265159d618cbfb7986907cf5d87d97b4cb2417375c3879348497beb2d"
  },
  "kernelspec": {
   "display_name": "Python 3 (ipykernel)",
   "language": "python",
   "name": "python3"
  },
  "language_info": {
   "codemirror_mode": {
    "name": "ipython",
    "version": 3
   },
   "file_extension": ".py",
   "mimetype": "text/x-python",
   "name": "python",
   "nbconvert_exporter": "python",
   "pygments_lexer": "ipython3",
   "version": "3.9.5"
  }
 },
 "nbformat": 4,
 "nbformat_minor": 1
}
