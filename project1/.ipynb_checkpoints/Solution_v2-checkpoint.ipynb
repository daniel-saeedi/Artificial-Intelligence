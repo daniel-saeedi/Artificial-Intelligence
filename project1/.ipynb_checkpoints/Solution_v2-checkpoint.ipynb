{
 "cells": [
  {
   "cell_type": "markdown",
   "metadata": {},
   "source": [
    "# Danial Saeedi (Student ID: 810198571)\n",
    "# Project 1: Search Algorithm\n",
    "In this computer assignment, we want to find a suitable solution for “Gandalph and the Lord of Rings” problem; this is done by using the Uninformed Search and Informed Search algorithms such as BFS, IDS, and A* that we learnt in Artificial Intelligence course."
   ]
  },
  {
   "cell_type": "code",
   "execution_count": 99,
   "metadata": {},
   "outputs": [],
   "source": [
    "import time\n",
    "import numpy as np\n",
    "import pandas as pd"
   ]
  },
  {
   "cell_type": "markdown",
   "metadata": {},
   "source": [
    "# How the problem is modeled\n",
    "First, we determine the path that Gandalph should take in a specific order. For instance, in the second testcase the path that the Gandalph should take is:\n",
    "\n",
    "* (0, 0), (0, 7)\n",
    "* (0, 7), (5, 0)\n",
    "* (5, 0), (7, 1)\n",
    "* (7, 1), (5, 6)\n",
    "* (5, 6), (7, 7)\n",
    "\n",
    "And then we're going to create the grid matrix(m*n) filled with -1(SPACE), put each Ork in their specified place, and fill the start and destination of each path with -10(START) and -11(DEST).\n",
    "In order to find out if we are in an Ork territory or not, we're going to mark its neighbors with Ork's id.\n",
    "\n",
    "## Initial State\n",
    "According to our model, the cell with -10(START) is the initial state.\n",
    "\n",
    "## Goal State\n",
    "According to our model, the cell with -11(DEST) is the goal state.\n",
    "\n",
    "## Actions\n",
    "The actions that Gandalph is able to do in each cell are: \n",
    "* Going Up\n",
    "* Going Down\n",
    "* Going Left\n",
    "* Going Right\n",
    "\n",
    "# Algorithms used in this project\n",
    "\n",
    "## BFS\n",
    "We defined the class BFS that has a frontier set that is implemented by FIFO queue to store the list of unexpanded nodes, an explored set that every time we expand a node, we add its state to this set, Also we stored number of visited states and number of unique visited states in this class that we update them during the execution of the algorithm.Properties of this algorithm:\n",
    "\n",
    "* This algorithm is **complete**.\n",
    "* This algorithm is **optimal**.\n",
    "* Complexity: $O(b^d)$\n",
    "* Space Complexity: $O(b^d)$\n",
    "\n",
    "**Disadvantage:** Space is the bigger problem (more than time)\n",
    "\n",
    "## IDS\n",
    "We defined the class IDS that has a frontier set that is implemented by LIFO queue to store the list of unexpanded nodes, an explored set that every time we expand a node, we add its state to this set and a dictionary that has each state as its key and minimum depth that this state has been visited at.\n",
    "This part is taken from the lecture notes:\n",
    "**Use DFS as a subroutine**\n",
    "* Check the root\n",
    "* Do a DFS searching for a path of length 1\n",
    "* If there is no path of length 1, do a DFS searching for a path of length 2\n",
    "* If there is no path of length 2, do a DFS searching for a path of length 3…\n",
    "\n",
    "Properties of this algorithm:\n",
    "* This algorithm is **complete**.\n",
    "* This algorithm is **optimal**.\n",
    "* Complexity: $O(b^d)$\n",
    "* Space Complexity: $O(bd)$\n",
    "\n",
    "## A*\n",
    "The A* class that has a frontier set that is implemented by min-heap queue that its criteria for choosing a node is the value of the f. The argument of this function is a node and the return value of this function is sum of the path_cost of the node and the value of the heuristic function. This part is taken from the lecture notes:\n",
    "\n",
    "$f(n) = g(n) + h(n)$\n",
    "\n",
    "g(n): cost so far to reach n (path cost)\n",
    "\n",
    "h(n): estimated cost from n to goal (heuristic)\n",
    "\n",
    "In this project, **Manhattan Distance** is used as heuristic function because of its **consistency**.\n",
    "\n",
    "$MDist = | x_2 - x_1 | + | y_2 - y_1 |$\n",
    "\n",
    "Properties of this algorithm:\n",
    "* This algorithm is **complete**.\n",
    "* This algorithm is **optimal**.\n",
    "* Complexity: Exponential\n",
    "* Space Complexity: Exponential\n",
    "\n",
    "## Weighted A*\n",
    "Weighted A*'s heuristic function is no longer admissible because first solution found is not guaranteed to be\n",
    "optimal. This algorithm trades off **optimality for speed**. Nodes can be expanded multiple times. Cost of solution found C is bounded by a:\n",
    "\n",
    "$ C \\leqslant a \\text{C*}$\n",
    "\n",
    "where C* is cost of the optimal solution. The idea is to take an admissible heuristic such as Manhattan, “inflate” it by a multiple α > 1, and then perform A* search as usual\n",
    "\n",
    "    \n",
    "The results show that the algorithm becomes much much faster than regular A* algorithm. But one of the testcases found path by weighted A* is not optimal.\n",
    "\n",
    "In this project, **Manhattan Distance** is used as heuristic function because of its **consistency**.\n",
    "\n",
    "$MDist = | x_2 - x_1 | + | y_2 - y_1 |$\n",
    "\n",
    "Properties of this algorithm:\n",
    "* This algorithm is not always **optimal**.\n",
    "* Complexity: Exponential (Faster than A*)\n",
    "* Space Complexity: Exponential"
   ]
  },
  {
   "cell_type": "markdown",
   "metadata": {},
   "source": [
    "# BFS vs. IDS\n",
    "* When the solution is in higher depth we should choose **IDS**.\n",
    "* But if time and memory is crucial, it is better to use **BFS** than IDS.\n",
    "\n",
    "# BFS vs. A*\n",
    "* If we have an admissible heuristic, we should choose A*. Also the time complexity of A* is better than BFS. And it is faster when we have a higher branching factor.\n",
    "* If our heuristic is not good and optimality and memory is important, we should choose BFS.\n",
    "\n",
    "# IDS vs. A*\n",
    "* We generally know that uninformed search algorithms are **slower** than informed search algorithms. So if we have an admissible heuristic, we should choose A*.\n",
    "* If our heuristic is not proper and optimality and memory is important for us, we should choose IDS over A*.\n",
    "\n",
    "# Weighted A* vs. A*\n",
    "Weighted A* is much faster than A* but the solution might not be optimal. So if speed is more important than optimality, we should choose weighted A* over regular A*."
   ]
  },
  {
   "cell_type": "markdown",
   "metadata": {},
   "source": [
    "# Results\n",
    "For table markdown, I used pandas to make a table for the results."
   ]
  },
  {
   "cell_type": "markdown",
   "metadata": {},
   "source": [
    "## Testcase 1"
   ]
  },
  {
   "cell_type": "code",
   "execution_count": 119,
   "metadata": {},
   "outputs": [
    {
     "data": {
      "text/html": [
       "<style type=\"text/css\">\n",
       "</style>\n",
       "<table id=\"T_f38c7_\">\n",
       "  <caption>Testcase 1</caption>\n",
       "  <thead>\n",
       "    <tr>\n",
       "      <th class=\"blank level0\" >&nbsp;</th>\n",
       "      <th class=\"col_heading level0 col0\" >Algorithm</th>\n",
       "      <th class=\"col_heading level0 col1\" >Length</th>\n",
       "      <th class=\"col_heading level0 col2\" >Seen States</th>\n",
       "      <th class=\"col_heading level0 col3\" >Avg Exec. Time</th>\n",
       "    </tr>\n",
       "  </thead>\n",
       "  <tbody>\n",
       "    <tr>\n",
       "      <th id=\"T_f38c7_level0_row0\" class=\"row_heading level0 row0\" >0</th>\n",
       "      <td id=\"T_f38c7_row0_col0\" class=\"data row0 col0\" >BFS</td>\n",
       "      <td id=\"T_f38c7_row0_col1\" class=\"data row0 col1\" >48</td>\n",
       "      <td id=\"T_f38c7_row0_col2\" class=\"data row0 col2\" >211</td>\n",
       "      <td id=\"T_f38c7_row0_col3\" class=\"data row0 col3\" >2.203ms</td>\n",
       "    </tr>\n",
       "    <tr>\n",
       "      <th id=\"T_f38c7_level0_row1\" class=\"row_heading level0 row1\" >1</th>\n",
       "      <td id=\"T_f38c7_row1_col0\" class=\"data row1 col0\" >IDS</td>\n",
       "      <td id=\"T_f38c7_row1_col1\" class=\"data row1 col1\" >48</td>\n",
       "      <td id=\"T_f38c7_row1_col2\" class=\"data row1 col2\" >344372</td>\n",
       "      <td id=\"T_f38c7_row1_col3\" class=\"data row1 col3\" >5.32min</td>\n",
       "    </tr>\n",
       "    <tr>\n",
       "      <th id=\"T_f38c7_level0_row2\" class=\"row_heading level0 row2\" >2</th>\n",
       "      <td id=\"T_f38c7_row2_col0\" class=\"data row2 col0\" >A*</td>\n",
       "      <td id=\"T_f38c7_row2_col1\" class=\"data row2 col1\" >48</td>\n",
       "      <td id=\"T_f38c7_row2_col2\" class=\"data row2 col2\" >63</td>\n",
       "      <td id=\"T_f38c7_row2_col3\" class=\"data row2 col3\" >3.551803ms</td>\n",
       "    </tr>\n",
       "    <tr>\n",
       "      <th id=\"T_f38c7_level0_row3\" class=\"row_heading level0 row3\" >3</th>\n",
       "      <td id=\"T_f38c7_row3_col0\" class=\"data row3 col0\" >Weighted A*(Aphat = 2)</td>\n",
       "      <td id=\"T_f38c7_row3_col1\" class=\"data row3 col1\" >48</td>\n",
       "      <td id=\"T_f38c7_row3_col2\" class=\"data row3 col2\" >59</td>\n",
       "      <td id=\"T_f38c7_row3_col3\" class=\"data row3 col3\" >3.3500194549560547ms</td>\n",
       "    </tr>\n",
       "    <tr>\n",
       "      <th id=\"T_f38c7_level0_row4\" class=\"row_heading level0 row4\" >4</th>\n",
       "      <td id=\"T_f38c7_row4_col0\" class=\"data row4 col0\" >Weighted A*(Aphat = 5)</td>\n",
       "      <td id=\"T_f38c7_row4_col1\" class=\"data row4 col1\" >48</td>\n",
       "      <td id=\"T_f38c7_row4_col2\" class=\"data row4 col2\" >59</td>\n",
       "      <td id=\"T_f38c7_row4_col3\" class=\"data row4 col3\" >3.352770309448242ms</td>\n",
       "    </tr>\n",
       "  </tbody>\n",
       "</table>\n"
      ],
      "text/plain": [
       "<pandas.io.formats.style.Styler at 0x7fb9aab128b0>"
      ]
     },
     "execution_count": 119,
     "metadata": {},
     "output_type": "execute_result"
    }
   ],
   "source": [
    "Testcase1 = pd.DataFrame({\n",
    "    'Algorithm': ['BFS','IDS','A*','Weighted A*(Aphat = 2)','Weighted A*(Aphat = 5)'],\n",
    "    'Length':[48,48,48,48,48],\n",
    "    'Seen States':[211,344372,63,59,59],\n",
    "    'Avg Exec. Time':['2.203ms','5.32min','3.551803ms','3.3500194549560547ms','3.352770309448242ms'],\n",
    "})\n",
    "\n",
    "Testcase1 = Testcase1.style.set_caption('Testcase 1')\n",
    "\n",
    "Testcase1"
   ]
  },
  {
   "cell_type": "markdown",
   "metadata": {},
   "source": [
    "## Testcase 2"
   ]
  },
  {
   "cell_type": "code",
   "execution_count": 120,
   "metadata": {},
   "outputs": [
    {
     "data": {
      "text/html": [
       "<style type=\"text/css\">\n",
       "</style>\n",
       "<table id=\"T_892aa_\">\n",
       "  <caption>Testcase 2</caption>\n",
       "  <thead>\n",
       "    <tr>\n",
       "      <th class=\"blank level0\" >&nbsp;</th>\n",
       "      <th class=\"col_heading level0 col0\" >Algorithm</th>\n",
       "      <th class=\"col_heading level0 col1\" >Length</th>\n",
       "      <th class=\"col_heading level0 col2\" >Seen States</th>\n",
       "      <th class=\"col_heading level0 col3\" >Avg Exec. Time</th>\n",
       "    </tr>\n",
       "  </thead>\n",
       "  <tbody>\n",
       "    <tr>\n",
       "      <th id=\"T_892aa_level0_row0\" class=\"row_heading level0 row0\" >0</th>\n",
       "      <td id=\"T_892aa_row0_col0\" class=\"data row0 col0\" >BFS</td>\n",
       "      <td id=\"T_892aa_row0_col1\" class=\"data row0 col1\" >52</td>\n",
       "      <td id=\"T_892aa_row0_col2\" class=\"data row0 col2\" >328</td>\n",
       "      <td id=\"T_892aa_row0_col3\" class=\"data row0 col3\" >2.463007278442383 ms</td>\n",
       "    </tr>\n",
       "    <tr>\n",
       "      <th id=\"T_892aa_level0_row1\" class=\"row_heading level0 row1\" >1</th>\n",
       "      <td id=\"T_892aa_row1_col0\" class=\"data row1 col0\" >IDS</td>\n",
       "      <td id=\"T_892aa_row1_col1\" class=\"data row1 col1\" >52</td>\n",
       "      <td id=\"T_892aa_row1_col2\" class=\"data row1 col2\" >424372</td>\n",
       "      <td id=\"T_892aa_row1_col3\" class=\"data row1 col3\" >577.0711898803711 ms</td>\n",
       "    </tr>\n",
       "    <tr>\n",
       "      <th id=\"T_892aa_level0_row2\" class=\"row_heading level0 row2\" >2</th>\n",
       "      <td id=\"T_892aa_row2_col0\" class=\"data row2 col0\" >A*</td>\n",
       "      <td id=\"T_892aa_row2_col1\" class=\"data row2 col1\" >52</td>\n",
       "      <td id=\"T_892aa_row2_col2\" class=\"data row2 col2\" >467</td>\n",
       "      <td id=\"T_892aa_row2_col3\" class=\"data row2 col3\" >79.4580192565918 ms</td>\n",
       "    </tr>\n",
       "    <tr>\n",
       "      <th id=\"T_892aa_level0_row3\" class=\"row_heading level0 row3\" >3</th>\n",
       "      <td id=\"T_892aa_row3_col0\" class=\"data row3 col0\" >Weighted A*(Aphat = 2)</td>\n",
       "      <td id=\"T_892aa_row3_col1\" class=\"data row3 col1\" >52</td>\n",
       "      <td id=\"T_892aa_row3_col2\" class=\"data row3 col2\" >93</td>\n",
       "      <td id=\"T_892aa_row3_col3\" class=\"data row3 col3\" >3.3749176025390625 ms</td>\n",
       "    </tr>\n",
       "    <tr>\n",
       "      <th id=\"T_892aa_level0_row4\" class=\"row_heading level0 row4\" >4</th>\n",
       "      <td id=\"T_892aa_row4_col0\" class=\"data row4 col0\" >Weighted A*(Aphat = 5)</td>\n",
       "      <td id=\"T_892aa_row4_col1\" class=\"data row4 col1\" >56</td>\n",
       "      <td id=\"T_892aa_row4_col2\" class=\"data row4 col2\" >84</td>\n",
       "      <td id=\"T_892aa_row4_col3\" class=\"data row4 col3\" >4.0551258087158203 ms</td>\n",
       "    </tr>\n",
       "  </tbody>\n",
       "</table>\n"
      ],
      "text/plain": [
       "<pandas.io.formats.style.Styler at 0x7fb9a9c13a90>"
      ]
     },
     "execution_count": 120,
     "metadata": {},
     "output_type": "execute_result"
    }
   ],
   "source": [
    "Testcase2 = pd.DataFrame({\n",
    "    'Algorithm': ['BFS','IDS','A*','Weighted A*(Aphat = 2)','Weighted A*(Aphat = 5)'],\n",
    "    'Length':[52,52,52,52,56],\n",
    "    'Seen States':[328,424372,467,93,84],\n",
    "    'Avg Exec. Time':['2.463007278442383 ms','577.0711898803711 ms','79.4580192565918 ms','3.3749176025390625 ms','4.0551258087158203 ms'],\n",
    "})\n",
    "\n",
    "Testcase2 = Testcase2.style.set_caption('Testcase 2')\n",
    "\n",
    "Testcase2"
   ]
  },
  {
   "cell_type": "markdown",
   "metadata": {},
   "source": [
    "## Testcase 3"
   ]
  },
  {
   "cell_type": "code",
   "execution_count": 122,
   "metadata": {},
   "outputs": [
    {
     "data": {
      "text/html": [
       "<style type=\"text/css\">\n",
       "</style>\n",
       "<table id=\"T_06770_\">\n",
       "  <caption>Testcase 3</caption>\n",
       "  <thead>\n",
       "    <tr>\n",
       "      <th class=\"blank level0\" >&nbsp;</th>\n",
       "      <th class=\"col_heading level0 col0\" >Algorithm</th>\n",
       "      <th class=\"col_heading level0 col1\" >Length</th>\n",
       "      <th class=\"col_heading level0 col2\" >Seen States</th>\n",
       "      <th class=\"col_heading level0 col3\" >Avg Exec. Time</th>\n",
       "    </tr>\n",
       "  </thead>\n",
       "  <tbody>\n",
       "    <tr>\n",
       "      <th id=\"T_06770_level0_row0\" class=\"row_heading level0 row0\" >0</th>\n",
       "      <td id=\"T_06770_row0_col0\" class=\"data row0 col0\" >BFS</td>\n",
       "      <td id=\"T_06770_row0_col1\" class=\"data row0 col1\" >34</td>\n",
       "      <td id=\"T_06770_row0_col2\" class=\"data row0 col2\" >151</td>\n",
       "      <td id=\"T_06770_row0_col3\" class=\"data row0 col3\" >1.5247818756103516 ms</td>\n",
       "    </tr>\n",
       "    <tr>\n",
       "      <th id=\"T_06770_level0_row1\" class=\"row_heading level0 row1\" >1</th>\n",
       "      <td id=\"T_06770_row1_col0\" class=\"data row1 col0\" >IDS</td>\n",
       "      <td id=\"T_06770_row1_col1\" class=\"data row1 col1\" >34</td>\n",
       "      <td id=\"T_06770_row1_col2\" class=\"data row1 col2\" >902208</td>\n",
       "      <td id=\"T_06770_row1_col3\" class=\"data row1 col3\" >1150.718894958496 ms</td>\n",
       "    </tr>\n",
       "    <tr>\n",
       "      <th id=\"T_06770_level0_row2\" class=\"row_heading level0 row2\" >2</th>\n",
       "      <td id=\"T_06770_row2_col0\" class=\"data row2 col0\" >A*</td>\n",
       "      <td id=\"T_06770_row2_col1\" class=\"data row2 col1\" >34</td>\n",
       "      <td id=\"T_06770_row2_col2\" class=\"data row2 col2\" >870</td>\n",
       "      <td id=\"T_06770_row2_col3\" class=\"data row2 col3\" >460.1011276245117 ms</td>\n",
       "    </tr>\n",
       "    <tr>\n",
       "      <th id=\"T_06770_level0_row3\" class=\"row_heading level0 row3\" >3</th>\n",
       "      <td id=\"T_06770_row3_col0\" class=\"data row3 col0\" >Weighted A*(Apha = 2)</td>\n",
       "      <td id=\"T_06770_row3_col1\" class=\"data row3 col1\" >34</td>\n",
       "      <td id=\"T_06770_row3_col2\" class=\"data row3 col2\" >104</td>\n",
       "      <td id=\"T_06770_row3_col3\" class=\"data row3 col3\" >4.5490264892578125 ms</td>\n",
       "    </tr>\n",
       "    <tr>\n",
       "      <th id=\"T_06770_level0_row4\" class=\"row_heading level0 row4\" >4</th>\n",
       "      <td id=\"T_06770_row4_col0\" class=\"data row4 col0\" >Weighted A*(Apha = 5)</td>\n",
       "      <td id=\"T_06770_row4_col1\" class=\"data row4 col1\" >36</td>\n",
       "      <td id=\"T_06770_row4_col2\" class=\"data row4 col2\" >890</td>\n",
       "      <td id=\"T_06770_row4_col3\" class=\"data row4 col3\" >310.84585189819336 ms</td>\n",
       "    </tr>\n",
       "  </tbody>\n",
       "</table>\n"
      ],
      "text/plain": [
       "<pandas.io.formats.style.Styler at 0x7fb9aab12f40>"
      ]
     },
     "execution_count": 122,
     "metadata": {},
     "output_type": "execute_result"
    }
   ],
   "source": [
    "Testcase3 = pd.DataFrame({\n",
    "    'Algorithm': ['BFS','IDS','A*','Weighted A*(Apha = 2)','Weighted A*(Apha = 5)'],\n",
    "    'Length':[34,34,34,34,36],\n",
    "    'Seen States':[151,902208,870,104,890],\n",
    "    'Avg Exec. Time':['1.5247818756103516 ms','1150.718894958496 ms','460.1011276245117 ms','4.5490264892578125 ms','310.84585189819336 ms'],\n",
    "})\n",
    "\n",
    "Testcase3 = Testcase3.style.set_caption('Testcase 3')\n",
    "\n",
    "Testcase3"
   ]
  },
  {
   "cell_type": "markdown",
   "metadata": {},
   "source": [
    "## Testcase 4"
   ]
  },
  {
   "cell_type": "code",
   "execution_count": 124,
   "metadata": {},
   "outputs": [
    {
     "data": {
      "text/html": [
       "<style type=\"text/css\">\n",
       "</style>\n",
       "<table id=\"T_b370f_\">\n",
       "  <caption>Testcase 4</caption>\n",
       "  <thead>\n",
       "    <tr>\n",
       "      <th class=\"blank level0\" >&nbsp;</th>\n",
       "      <th class=\"col_heading level0 col0\" >Algorithm</th>\n",
       "      <th class=\"col_heading level0 col1\" >Length</th>\n",
       "      <th class=\"col_heading level0 col2\" >Seen States</th>\n",
       "      <th class=\"col_heading level0 col3\" >Avg Exec. Time</th>\n",
       "    </tr>\n",
       "  </thead>\n",
       "  <tbody>\n",
       "    <tr>\n",
       "      <th id=\"T_b370f_level0_row0\" class=\"row_heading level0 row0\" >0</th>\n",
       "      <td id=\"T_b370f_row0_col0\" class=\"data row0 col0\" >BFS</td>\n",
       "      <td id=\"T_b370f_row0_col1\" class=\"data row0 col1\" >76</td>\n",
       "      <td id=\"T_b370f_row0_col2\" class=\"data row0 col2\" >525</td>\n",
       "      <td id=\"T_b370f_row0_col3\" class=\"data row0 col3\" >3.421783447265625 ms</td>\n",
       "    </tr>\n",
       "    <tr>\n",
       "      <th id=\"T_b370f_level0_row1\" class=\"row_heading level0 row1\" >1</th>\n",
       "      <td id=\"T_b370f_row1_col0\" class=\"data row1 col0\" >IDS</td>\n",
       "      <td id=\"T_b370f_row1_col1\" class=\"data row1 col1\" >76</td>\n",
       "      <td id=\"T_b370f_row1_col2\" class=\"data row1 col2\" >1002208</td>\n",
       "      <td id=\"T_b370f_row1_col3\" class=\"data row1 col3\" >20.87 min</td>\n",
       "    </tr>\n",
       "    <tr>\n",
       "      <th id=\"T_b370f_level0_row2\" class=\"row_heading level0 row2\" >2</th>\n",
       "      <td id=\"T_b370f_row2_col0\" class=\"data row2 col0\" >A*</td>\n",
       "      <td id=\"T_b370f_row2_col1\" class=\"data row2 col1\" >76</td>\n",
       "      <td id=\"T_b370f_row2_col2\" class=\"data row2 col2\" >5738</td>\n",
       "      <td id=\"T_b370f_row2_col3\" class=\"data row2 col3\" >4.46 min</td>\n",
       "    </tr>\n",
       "    <tr>\n",
       "      <th id=\"T_b370f_level0_row3\" class=\"row_heading level0 row3\" >3</th>\n",
       "      <td id=\"T_b370f_row3_col0\" class=\"data row3 col0\" >Weighted A*(Apha = 2)</td>\n",
       "      <td id=\"T_b370f_row3_col1\" class=\"data row3 col1\" >76</td>\n",
       "      <td id=\"T_b370f_row3_col2\" class=\"data row3 col2\" >117</td>\n",
       "      <td id=\"T_b370f_row3_col3\" class=\"data row3 col3\" >5.610942840576172 ms</td>\n",
       "    </tr>\n",
       "    <tr>\n",
       "      <th id=\"T_b370f_level0_row4\" class=\"row_heading level0 row4\" >4</th>\n",
       "      <td id=\"T_b370f_row4_col0\" class=\"data row4 col0\" >Weighted A*(Apha = 5)</td>\n",
       "      <td id=\"T_b370f_row4_col1\" class=\"data row4 col1\" >78</td>\n",
       "      <td id=\"T_b370f_row4_col2\" class=\"data row4 col2\" >108</td>\n",
       "      <td id=\"T_b370f_row4_col3\" class=\"data row4 col3\" >4.838228225708008 ms</td>\n",
       "    </tr>\n",
       "  </tbody>\n",
       "</table>\n"
      ],
      "text/plain": [
       "<pandas.io.formats.style.Styler at 0x7fb9aab30ca0>"
      ]
     },
     "execution_count": 124,
     "metadata": {},
     "output_type": "execute_result"
    }
   ],
   "source": [
    "Testcase3 = pd.DataFrame({\n",
    "    'Algorithm': ['BFS','IDS','A*','Weighted A*(Apha = 2)','Weighted A*(Apha = 5)'],\n",
    "    'Length':[76,76,76,76,78],\n",
    "    'Seen States':[525,1002208,5738,117,108],\n",
    "    'Avg Exec. Time':['3.421783447265625 ms','20.87 min','4.46 min','5.610942840576172 ms','4.838228225708008 ms'],\n",
    "})\n",
    "\n",
    "Testcase3 = Testcase3.style.set_caption('Testcase 4')\n",
    "\n",
    "Testcase3"
   ]
  },
  {
   "cell_type": "markdown",
   "metadata": {},
   "source": [
    "# Defining Constants\n",
    "\n",
    "For simplicity and cleanliness of our notebook, we should define some constants."
   ]
  },
  {
   "cell_type": "code",
   "execution_count": 1,
   "metadata": {},
   "outputs": [],
   "source": [
    "LEFT = 'L'\n",
    "RIGHT = 'R'\n",
    "UP = 'U'\n",
    "DOWN = 'D'\n",
    "\n",
    "SPACE = -1\n",
    "GANDALPH = -2\n",
    "YARAN_HALGHE = -3\n",
    "ORK = 100\n",
    "YARAN_HALGHE_DESTINATION = -6\n",
    "GANDALPH_DESTINATION = -5\n",
    "\n",
    "START = -10\n",
    "DEST = -11"
   ]
  },
  {
   "cell_type": "markdown",
   "metadata": {},
   "source": [
    "# Reading Input\n",
    "\n",
    "read_input method is a function that extracts data from testcases."
   ]
  },
  {
   "cell_type": "code",
   "execution_count": 2,
   "metadata": {},
   "outputs": [],
   "source": [
    "def read_input(file_dir = 'sample_testcases/test_02.txt'):\n",
    "    lines = []\n",
    "    with open(file_dir) as f:\n",
    "        lines = f.readlines()\n",
    "\n",
    "    # Dimension\n",
    "    # Rows\n",
    "    n = int(lines[0].split()[0])\n",
    "    #Cols\n",
    "    m = int(lines[0].split()[1])\n",
    "\n",
    "    # Start / Dest\n",
    "    gandalph_start = ( int(lines[1].split()[0]),int(lines[1].split()[1]) )\n",
    "    gandalph_dest = ( int(lines[2].split()[0]),int(lines[2].split()[1]) )\n",
    "\n",
    "    # Orks = k and Yaran Halghe = l\n",
    "    k = int(lines[3].split()[0])\n",
    "    l = int(lines[3].split()[1])\n",
    "\n",
    "    # Orks positions\n",
    "    orks_pos = []\n",
    "    orks_degree = []\n",
    "    for i in range(0,k):\n",
    "        x = int(lines[4+i].split()[0])\n",
    "        y = int(lines[4+i].split()[1])\n",
    "        c = int(lines[4+i].split()[2])\n",
    "        orks_pos.append((x,y,c))\n",
    "        orks_degree.append(c)\n",
    "    \n",
    "    # Yaran Halghe start positions\n",
    "    yaran_halghe_pos = []\n",
    "    for i in range(0,l):\n",
    "        x = int(lines[4+k+i].split()[0])\n",
    "        y = int(lines[4+k+i].split()[1])\n",
    "        yaran_halghe_pos.append((x,y)) \n",
    "    \n",
    "    # Yaran Halghe destination\n",
    "    yaran_halghe_dest = []\n",
    "    for i in range(0,l):\n",
    "        x = int(lines[4+k+l+i].split()[0])\n",
    "        y = int(lines[4+k+l+i].split()[1])\n",
    "        yaran_halghe_dest.append((x,y))\n",
    "\n",
    "    travel = []\n",
    "\n",
    "    start = gandalph_start\n",
    "\n",
    "    for i in range(0,l):\n",
    "        yar_halghe_pos = (int(lines[4+k+i].split()[0]),int(lines[4+k+i].split()[1]))\n",
    "        travel.append([start,yar_halghe_pos])\n",
    "\n",
    "        yar_halghe_dest = (int(lines[4+k+l+i].split()[0]),int(lines[4+k+l+i].split()[1]))\n",
    "        travel.append([yar_halghe_pos,yar_halghe_dest])\n",
    "        start = yar_halghe_dest    \n",
    "\n",
    "    x = int(lines[-1].split()[0])\n",
    "    y = int(lines[-1].split()[1])\n",
    "    travel.append([(x,y),gandalph_dest])\n",
    "\n",
    "    return n,m,gandalph_start,gandalph_dest,k,l,orks_pos,yaran_halghe_pos,yaran_halghe_dest,orks_degree,travel"
   ]
  },
  {
   "cell_type": "code",
   "execution_count": 98,
   "metadata": {},
   "outputs": [
    {
     "data": {
      "text/plain": [
       "[[(0, 0), (0, 7)],\n",
       " [(0, 7), (5, 0)],\n",
       " [(5, 0), (7, 1)],\n",
       " [(7, 1), (5, 6)],\n",
       " [(5, 6), (7, 7)]]"
      ]
     },
     "execution_count": 98,
     "metadata": {},
     "output_type": "execute_result"
    }
   ],
   "source": [
    "n,m,gandalph_start,gandalph_dest,k,l,orks_pos,yaran_halghe_pos,yaran_halghe_dest,orks_degree,travel = read_input()\n",
    "travel"
   ]
  },
  {
   "cell_type": "markdown",
   "metadata": {},
   "source": [
    "# BFS"
   ]
  },
  {
   "cell_type": "code",
   "execution_count": 4,
   "metadata": {},
   "outputs": [],
   "source": [
    "import math\n",
    "def manhattanDist(X1, Y1, X2, Y2):\n",
    "    dist = math.fabs(X2 - X1) + math.fabs(Y2 - Y1)\n",
    "    return (int)(dist)"
   ]
  },
  {
   "cell_type": "code",
   "execution_count": 5,
   "metadata": {},
   "outputs": [],
   "source": [
    "def mark_territory(x,y,c,grid,ork_index):\n",
    "    for i in range(len(grid)):\n",
    "        for j in range(len(grid[0])):\n",
    "            manhattan_dist = manhattanDist(x,y,i,j)\n",
    "            if manhattan_dist <= c and grid[i][j] != ORK:\n",
    "                grid[i][j] = ork_index\n",
    "    \n",
    "    return grid"
   ]
  },
  {
   "cell_type": "code",
   "execution_count": 6,
   "metadata": {},
   "outputs": [],
   "source": [
    "def set_ork_territory(grid,orks_pos):\n",
    "    ork_index = 0\n",
    "    for ork in orks_pos:\n",
    "        grid[ork[0]][ork[1]] = ORK\n",
    "\n",
    "        grid = mark_territory(ork[0],ork[1],ork[2],grid,ork_index)\n",
    "\n",
    "        ork_index += 1\n",
    "    \n",
    "    return grid"
   ]
  },
  {
   "cell_type": "code",
   "execution_count": 22,
   "metadata": {},
   "outputs": [],
   "source": [
    "class QueueItem:\n",
    "\tdef __init__(self, row, col, dist,prev_ork_index,valid_moves):\n",
    "\t\tself.row = row\n",
    "\t\tself.col = col\n",
    "\t\tself.dist = dist\n",
    "\t\tself.valid_moves = valid_moves\n",
    "\t\tself.prev_ork_index = prev_ork_index\n",
    "\n",
    "def BFS(map):\n",
    "\tsource = QueueItem(0, 0, 0,-1,-1)\n",
    "\tcurrent_orks_degree = orks_degree.copy()\n",
    "\n",
    "\tseen_states = 0\n",
    "\n",
    "\t# Finding the source to start from\n",
    "\tfor row in range(len(map)):\n",
    "\t\tfor col in range(len(map[row])):\n",
    "\t\t\tif map[row][col] == START:\n",
    "\t\t\t\tsource.row = row\n",
    "\t\t\t\tsource.col = col\n",
    "\t\t\t\tbreak\n",
    "\n",
    "\t# To maintain location visit status\n",
    "\tvisited = [[False for _ in range(len(map[0]))]\n",
    "\t\t\tfor _ in range(len(map))]\n",
    "\t\n",
    "\t# Applying BFS on matrix cells starting from source\n",
    "\tqueue = []\n",
    "\tqueue.append(source)\n",
    "\tvisited[source.row][source.col] = True\n",
    "\n",
    "\t# For maintaining path\n",
    "\tpath = [[(0,0) for _ in range(len(map[0]))]\n",
    "\t\t\tfor _ in range(len(map))]\n",
    "\twhile len(queue) != 0:\n",
    "\t\tsource = queue.pop(0)\n",
    "\t\tseen_states += 1\n",
    "\n",
    "\t\t# print(source)\n",
    "\n",
    "\t\t# Destination found;\n",
    "\t\tif (map[source.row][source.col] == DEST):\n",
    "\t\t\treturn path, source.dist, seen_states\n",
    "\n",
    "\t\t# moving up\n",
    "\t\tif isValid(source.row - 1, source.col, map, visited,source):\n",
    "\t\t\tif map[source.row - 1][source.col] < 0:\n",
    "\t\t\t\tqueue.append(QueueItem(source.row - 1, source.col, source.dist + 1,-1,-1))\n",
    "\t\t\telif source.prev_ork_index == -1 or source.prev_ork_index != map[source.row - 1][source.col]:\n",
    "\t\t\t\tork_index = map[source.row - 1][source.col]\n",
    "\t\t\t\tqueue.append(QueueItem(source.row - 1, source.col, source.dist + 1,ork_index,orks_degree[ork_index]))\n",
    "\t\t\telse:\n",
    "\t\t\t\tqueue.append(QueueItem(source.row - 1, source.col, source.dist + 1,source.prev_ork_index,source.valid_moves - 1))\n",
    "\t\t\tvisited[source.row - 1][source.col] = True\n",
    "\t\t\tpath[source.row - 1][source.col] = (source.row,source.col)\n",
    "\n",
    "\t\t# moving down\n",
    "\t\tif isValid(source.row + 1, source.col, map, visited,source):\n",
    "\t\t\tif map[source.row + 1][source.col] < 0:\n",
    "\t\t\t\tqueue.append(QueueItem(source.row + 1, source.col, source.dist + 1,-1,-1))\n",
    "\t\t\telif source.prev_ork_index == -1 or source.prev_ork_index != map[source.row + 1][source.col]:\n",
    "\t\t\t\tork_index = map[source.row + 1][source.col]\n",
    "\t\t\t\tqueue.append(QueueItem(source.row + 1, source.col, source.dist + 1,ork_index,orks_degree[ork_index]))\n",
    "\t\t\telse:\n",
    "\t\t\t\tqueue.append(QueueItem(source.row + 1, source.col, source.dist + 1,source.prev_ork_index,source.valid_moves - 1))\n",
    "\t\t\tvisited[source.row + 1][source.col] = True\n",
    "\t\t\tpath[source.row + 1][source.col] = (source.row,source.col)\n",
    "\n",
    "\t\t# moving left\n",
    "\t\tif isValid(source.row, source.col - 1, map, visited,source):\n",
    "\t\t\tif map[source.row][source.col - 1] < 0:\n",
    "\t\t\t\tqueue.append(QueueItem(source.row, source.col - 1, source.dist + 1,-1,-1))\n",
    "\t\t\telif source.prev_ork_index == -1 or source.prev_ork_index != map[source.row][source.col - 1]:\n",
    "\t\t\t\tork_index = map[source.row][source.col - 1]\n",
    "\t\t\t\tqueue.append(QueueItem(source.row, source.col - 1, source.dist + 1,ork_index,orks_degree[ork_index]))\n",
    "\t\t\telse:\n",
    "\t\t\t\tqueue.append(QueueItem(source.row, source.col - 1, source.dist + 1,source.prev_ork_index,source.valid_moves - 1))\n",
    "\t\t\tvisited[source.row][source.col - 1] = True\n",
    "\t\t\tpath[source.row][source.col - 1] = (source.row,source.col)\n",
    "\n",
    "\n",
    "\t\t# moving right\n",
    "\t\tif isValid(source.row, source.col + 1, map, visited,source):\n",
    "\t\t\tif map[source.row][source.col + 1] < 0:\n",
    "\t\t\t\tqueue.append(QueueItem(source.row, source.col + 1, source.dist + 1,-1,-1))\n",
    "\t\t\telif source.prev_ork_index == -1 or source.prev_ork_index != map[source.row][source.col + 1]:\n",
    "\t\t\t\tork_index = map[source.row][source.col + 1]\n",
    "\t\t\t\tqueue.append(QueueItem(source.row, source.col + 1, source.dist + 1,ork_index,orks_degree[ork_index]))\n",
    "\t\t\telse:\n",
    "\t\t\t\tqueue.append(QueueItem(source.row, source.col + 1, source.dist + 1,source.prev_ork_index,source.valid_moves - 1))\n",
    "\t\t\tvisited[source.row][source.col + 1] = True\n",
    "\t\t\tpath[source.row][source.col+1] = (source.row,source.col)\n",
    "\n",
    "\treturn [],-1\n",
    "\n",
    "\n",
    "def is_in_range(point,map):\n",
    "\tx = point[0]\n",
    "\ty = point[1]\n",
    "\tif x >= 0 and y >= 0 and x < len(map) and y < len(map[0]):\n",
    "\t\treturn True\n",
    "\telse:\n",
    "\t\treturn False\n",
    "\n",
    "def is_adjacent_cells_all_orks_territory(point,map):\n",
    "\tleft = (point[0],point[1]-1)\n",
    "\tright = (point[0],point[1]+1)\n",
    "\tup = (point[0]+ 1,point[1])\n",
    "\tdown = (point[0]- 1,point[1])\n",
    "\n",
    "\tif is_in_range(left,map):\n",
    "\t\tif map[left[0]][left[1]] < 0:\n",
    "\t\t\treturn False\n",
    "\tif is_in_range(right,map):\n",
    "\t\tif map[right[0]][right[1]] < 0:\n",
    "\t\t\treturn False\n",
    "\tif is_in_range(up,map):\n",
    "\t\tif map[up[0]][up[1]] < 0:\n",
    "\t\t\treturn False\n",
    "\tif is_in_range(down,map):\n",
    "\t\tif map[down[0]][down[1]] < 0:\n",
    "\t\t\treturn False\n",
    "\t\n",
    "\treturn True\n",
    "\n",
    "# Checking if the move is valid or not\n",
    "def isValid(x, y, map, visited,source):\n",
    "\tif ((x >= 0 and y >= 0) and\n",
    "\t\t(x < len(map) and y < len(map[0])) and\n",
    "\t\t\t(map[x][y] != ORK) and (visited[x][y] == False)):\n",
    "\n",
    "\t\t\tif source.prev_ork_index != -1 and source.valid_moves - 1 < 0:\n",
    "\t\t\t\treturn False\n",
    "\t\t\t\n",
    "\t\t\treturn True\n",
    "\treturn False"
   ]
  },
  {
   "cell_type": "code",
   "execution_count": 23,
   "metadata": {},
   "outputs": [],
   "source": [
    "# This function backtracks the path from destination to start\n",
    "def backtrack(path,start,dest):\n",
    "    current_node = dest\n",
    "\n",
    "    shortest_path = ''\n",
    "    while current_node != start:\n",
    "        # print(current_node)\n",
    "        prev = path[current_node[0]][current_node[1]]\n",
    "        if prev[1] > current_node[1]:\n",
    "            shortest_path += 'L'\n",
    "        elif prev[1] < current_node[1]:\n",
    "            shortest_path += 'R'\n",
    "        elif prev[0] < current_node[0]:\n",
    "            shortest_path += 'D'\n",
    "        else:\n",
    "            shortest_path += 'U'\n",
    "        \n",
    "        current_node = prev\n",
    "    \n",
    "    return shortest_path[::-1]"
   ]
  },
  {
   "cell_type": "code",
   "execution_count": 49,
   "metadata": {},
   "outputs": [],
   "source": [
    "def solve_bfs():\n",
    "    grid = [[SPACE for _ in range(m)]\n",
    "\t\t\tfor _ in range(n)]\n",
    "    grid = set_ork_territory(grid,orks_pos)\n",
    "\n",
    "    solution = ''\n",
    "\n",
    "    states = 0\n",
    "\n",
    "    for t in travel:\n",
    "        start_x = t[0][0]\n",
    "        start_y = t[0][1]\n",
    "\n",
    "        dest_x = t[1][0]\n",
    "        dest_y = t[1][1]\n",
    "\n",
    "        grid[start_x][start_y] = START\n",
    "        grid[dest_x][dest_y] = DEST\n",
    "\n",
    "        path, length, seen_states = BFS(grid)\n",
    "        states += seen_states\n",
    "        solution += backtrack(path,(start_x,start_y),(dest_x,dest_y))\n",
    "\n",
    "        grid[start_x][start_y] = SPACE\n",
    "        grid[dest_x][dest_y] = SPACE\n",
    "    \n",
    "    print('Shortest Path: ',solution)\n",
    "    print('Length: ',len(solution))\n",
    "\n",
    "    print('Seen States: ', states)"
   ]
  },
  {
   "cell_type": "markdown",
   "metadata": {},
   "source": [
    "## First Testcase"
   ]
  },
  {
   "cell_type": "code",
   "execution_count": 53,
   "metadata": {},
   "outputs": [],
   "source": [
    "n,m,gandalph_start,gandalph_dest,k,l,orks_pos,yaran_halghe_pos,yaran_halghe_dest,orks_degree,travel = read_input(file_dir='sample_testcases/test_00.txt')"
   ]
  },
  {
   "cell_type": "code",
   "execution_count": 54,
   "metadata": {},
   "outputs": [
    {
     "name": "stdout",
     "output_type": "stream",
     "text": [
      "Shortest Path:  RRRRRRRRRRRRRRRRRRRRRRRRRRRRRDURDURDURDURDRRRRRR\n",
      "Length:  48\n",
      "Seen States:  211\n",
      "--- 2.1038055419921875 ms ---\n"
     ]
    }
   ],
   "source": [
    "start_time = time.time()\n",
    "solve_bfs()\n",
    "print(\"--- %s ms ---\" % ((time.time() - start_time)*10**3))"
   ]
  },
  {
   "cell_type": "markdown",
   "metadata": {},
   "source": [
    "## Second Testcase"
   ]
  },
  {
   "cell_type": "code",
   "execution_count": 55,
   "metadata": {},
   "outputs": [],
   "source": [
    "n,m,gandalph_start,gandalph_dest,k,l,orks_pos,yaran_halghe_pos,yaran_halghe_dest,orks_degree,travel = read_input(file_dir='sample_testcases/test_01.txt')"
   ]
  },
  {
   "cell_type": "code",
   "execution_count": 56,
   "metadata": {},
   "outputs": [
    {
     "name": "stdout",
     "output_type": "stream",
     "text": [
      "Shortest Path:  DRRDRRDDDDDDLLLURUUUURRRRDLLDDDDLUURUURRRRDDDDLLLRRR\n",
      "Length:  52\n",
      "Seen States:  328\n",
      "--- 2.393007278442383 ms ---\n"
     ]
    }
   ],
   "source": [
    "start_time = time.time()\n",
    "solve_bfs()\n",
    "print(\"--- %s ms ---\" % ((time.time() - start_time)*10**3))"
   ]
  },
  {
   "cell_type": "markdown",
   "metadata": {},
   "source": [
    "## Third Testcase"
   ]
  },
  {
   "cell_type": "code",
   "execution_count": 57,
   "metadata": {},
   "outputs": [],
   "source": [
    "n,m,gandalph_start,gandalph_dest,k,l,orks_pos,yaran_halghe_pos,yaran_halghe_dest,orks_degree,travel = read_input(file_dir='sample_testcases/test_02.txt')"
   ]
  },
  {
   "cell_type": "code",
   "execution_count": 58,
   "metadata": {},
   "outputs": [
    {
     "name": "stdout",
     "output_type": "stream",
     "text": [
      "Shortest Path:  RRRRRRRDDDDLLLLLDLLDDRUURRURRRDDDR\n",
      "Length:  34\n",
      "Seen States:  151\n",
      "--- 1.5947818756103516 ms ---\n"
     ]
    }
   ],
   "source": [
    "start_time = time.time()\n",
    "solve_bfs()\n",
    "print(\"--- %s ms ---\" % ((time.time() - start_time)*10**3))"
   ]
  },
  {
   "cell_type": "markdown",
   "metadata": {},
   "source": [
    "## Fourth Testcase"
   ]
  },
  {
   "cell_type": "code",
   "execution_count": 59,
   "metadata": {},
   "outputs": [],
   "source": [
    "n,m,gandalph_start,gandalph_dest,k,l,orks_pos,yaran_halghe_pos,yaran_halghe_dest,orks_degree,travel = read_input(file_dir='sample_testcases/test_03.txt')"
   ]
  },
  {
   "cell_type": "code",
   "execution_count": 60,
   "metadata": {},
   "outputs": [
    {
     "name": "stdout",
     "output_type": "stream",
     "text": [
      "Shortest Path:  RRRRRRRDDDDDLLDDDDLLLLURUUUUUUUURRRRRRRDDDDLLLLRRRRLLLLLLLUDDDDDLLDRRRRRRRRR\n",
      "Length:  76\n",
      "Seen States:  525\n",
      "--- 3.421783447265625 ms ---\n"
     ]
    }
   ],
   "source": [
    "start_time = time.time()\n",
    "solve_bfs()\n",
    "print(\"--- %s ms ---\" % ((time.time() - start_time)*10**3))"
   ]
  },
  {
   "cell_type": "markdown",
   "metadata": {},
   "source": [
    "# IDS"
   ]
  },
  {
   "cell_type": "code",
   "execution_count": 61,
   "metadata": {},
   "outputs": [],
   "source": [
    "def get_adj_nodes(point,map):\n",
    "    left = (point[0],point[1]-1)\n",
    "    right = (point[0],point[1]+1)\n",
    "    up = (point[0]+ 1,point[1])\n",
    "    down = (point[0]- 1,point[1])\n",
    "\n",
    "    adj_nodes = []\n",
    "    \n",
    "    if is_in_range(left,map) and map[left[0]][left[1]] != ORK :\n",
    "        adj_nodes.append(left)\n",
    "    \n",
    "    if is_in_range(right,map) and map[right[0]][right[1]] != ORK:\n",
    "        adj_nodes.append(right)\n",
    "    \n",
    "    if is_in_range(up,map) and map[up[0]][up[1]] != ORK:\n",
    "        adj_nodes.append(up)\n",
    "    \n",
    "    if is_in_range(down,map) and map[down[0]][down[1]] != ORK:\n",
    "        adj_nodes.append(down)\n",
    "    \n",
    "    return adj_nodes\n"
   ]
  },
  {
   "cell_type": "code",
   "execution_count": 62,
   "metadata": {},
   "outputs": [],
   "source": [
    "class IDSShortestPath:\n",
    "\tdef __init__(self):\n",
    "\t\tself.sol = []\n",
    "\t\tself.seen_states = 0\n",
    "\tdef DLS(self,grid,src,target,maxDepth,prev_ork,valid_moves,prev_nodes = []):\n",
    "\t\t# print(prev_ork, valid_moves)\n",
    "\t\tself.seen_states += 1\n",
    "\t\tif src == target : \n",
    "\t\t\tprev_nodes.append(target)\n",
    "\t\t\tself.sol = prev_nodes\n",
    "\t\t\t# print(prev_nodes)\n",
    "\t\t\treturn True\n",
    "\n",
    "\t\t# If reached the maximum depth, stop recursing.\n",
    "\t\tif maxDepth <= 0 : return False\n",
    "\n",
    "\t\t# if len(orks_degree) > 0:\n",
    "\t\t\t\n",
    "\t\tif grid[src[0]][src[1]] < 0:\n",
    "\t\t\tprev_ork = -1\n",
    "\t\t\tvalid_moves = -1\n",
    "\t\telif prev_ork == -1 or prev_ork != grid[src[0]][src[1]]:\n",
    "\t\t\tprev_ork = grid[src[0]][src[1]]\n",
    "\t\t\tvalid_moves = orks_degree[prev_ork] - 1\n",
    "\n",
    "\t\tif valid_moves < 0 and prev_ork != -1:\n",
    "\t\t\treturn False\n",
    "\n",
    "\t\t# Recur for all the vertices adjacent to this vertex\n",
    "\t\tfor adj_nodes in get_adj_nodes(src,grid):\n",
    "\t\t\tnew_prev_nodes = prev_nodes.copy()\n",
    "\t\t\tnew_prev_nodes.append(src)\n",
    "\n",
    "\t\t\tnew_valid_move = valid_moves\n",
    "\t\t\tif prev_ork != -1 and prev_ork == grid[adj_nodes[0]][adj_nodes[1]]:\n",
    "\t\t\t\tnew_valid_move = valid_moves - 1\n",
    "\t\t\tif new_valid_move < 0 and prev_ork != -1:\n",
    "\t\t\t\tcontinue\n",
    "\t\t\telif(self.DLS(grid,adj_nodes,target,maxDepth-1,prev_ork,new_valid_move,new_prev_nodes)):\n",
    "\t\t\t\treturn True\n",
    "\t\treturn False\n",
    "\n",
    "\tdef IDS(self,grid,src, target, maxDepth):\n",
    "\t\tfor i in range(maxDepth):\n",
    "\t\t\tprev_ork = -1\n",
    "\t\t\tvalid_moves = -1\n",
    "\t\t\tif (self.DLS(grid,src, target, i,prev_ork,valid_moves)):\n",
    "\t\t\t\treturn True\n",
    "\t\treturn False\n",
    "\t\n",
    "\tdef build_sol(self):\n",
    "\t\tpath_str = ''\n",
    "\t\tfor i in range(len(self.sol) - 1):\n",
    "\t\t\tp1 = self.sol[i]\n",
    "\t\t\tp2 = self.sol[i+1]\n",
    "\n",
    "\t\t\tif p1[0] < p2[0]:\n",
    "\t\t\t\tpath_str += 'D'\n",
    "\t\t\telif p1[0] > p2[0]:\n",
    "\t\t\t\tpath_str += 'U'\n",
    "\t\t\telif p1[1] < p2[1]:\n",
    "\t\t\t\tpath_str += 'R'\n",
    "\t\t\telse:\n",
    "\t\t\t\tpath_str += 'L'\n",
    "\t\t\n",
    "\t\treturn path_str"
   ]
  },
  {
   "cell_type": "code",
   "execution_count": 63,
   "metadata": {},
   "outputs": [],
   "source": [
    "def solve_ids():\n",
    "\tgrid = [[SPACE for _ in range(m)]\n",
    "\t\t\tfor _ in range(n)]\n",
    "\tgrid = set_ork_territory(grid,orks_pos)\n",
    "\n",
    "\t# print(grid)\n",
    "\tg = IDSShortestPath()\n",
    "\tmaxDepth = 1000\n",
    "\n",
    "\tprint()\n",
    "\tshortest_path = ''\n",
    "\tfor t in travel:\n",
    "\t\tstart_x = t[0][0]\n",
    "\t\tstart_y = t[0][1]\n",
    "\n",
    "\t\tdest_x = t[1][0]\n",
    "\t\tdest_y = t[1][1]\n",
    "\n",
    "\t\tgrid[start_x][start_y] = START\n",
    "\t\tgrid[dest_x][dest_y] = DEST\n",
    "\n",
    "\t\tfor i in range(0,maxDepth):\n",
    "\t\t\tif g.IDS(grid,t[0], t[1], i):\n",
    "\t\t\t\tbreak\n",
    "\t\tgrid[start_x][start_y] = SPACE\n",
    "\t\tgrid[dest_x][dest_y] = SPACE\n",
    "\n",
    "\t\tshortest_path += g.build_sol()\n",
    "\t\n",
    "\tprint('Length of Path: ', len(shortest_path))\n",
    "\tprint('Shortest Path: ',shortest_path)\n",
    "\tprint('Seen States: ', g.seen_states)"
   ]
  },
  {
   "cell_type": "markdown",
   "metadata": {},
   "source": [
    "## Testcase 1"
   ]
  },
  {
   "cell_type": "code",
   "execution_count": 64,
   "metadata": {},
   "outputs": [],
   "source": [
    "n,m,gandalph_start,gandalph_dest,k,l,orks_pos,yaran_halghe_pos,yaran_halghe_dest,orks_degree,travel = read_input(file_dir='sample_testcases/test_00.txt')"
   ]
  },
  {
   "cell_type": "code",
   "execution_count": null,
   "metadata": {},
   "outputs": [],
   "source": [
    "start_time = time.time()\n",
    "solve_ids()\n",
    "print(\"--- %s ms ---\" % ((time.time() - start_time)*10**3))"
   ]
  },
  {
   "cell_type": "markdown",
   "metadata": {},
   "source": [
    "## Testcase 2"
   ]
  },
  {
   "cell_type": "code",
   "execution_count": 66,
   "metadata": {},
   "outputs": [],
   "source": [
    "n,m,gandalph_start,gandalph_dest,k,l,orks_pos,yaran_halghe_pos,yaran_halghe_dest,orks_degree,travel = read_input(file_dir='sample_testcases/test_01.txt')"
   ]
  },
  {
   "cell_type": "code",
   "execution_count": 67,
   "metadata": {},
   "outputs": [
    {
     "name": "stdout",
     "output_type": "stream",
     "text": [
      "\n",
      "Length of Path:  52\n",
      "Shortest Path:  RRRRDDLLDDDDDLDRRRUUURURULLDDDLDDRRRRRUUUUDDDLDLLRRR\n",
      "Seen States:  424372\n",
      "--- 577.0711898803711 ms ---\n"
     ]
    }
   ],
   "source": [
    "start_time = time.time()\n",
    "solve_ids()\n",
    "print(\"--- %s ms ---\" % ((time.time() - start_time)*10**3))"
   ]
  },
  {
   "cell_type": "markdown",
   "metadata": {},
   "source": [
    "## Testcase 3"
   ]
  },
  {
   "cell_type": "code",
   "execution_count": 68,
   "metadata": {},
   "outputs": [],
   "source": [
    "n,m,gandalph_start,gandalph_dest,k,l,orks_pos,yaran_halghe_pos,yaran_halghe_dest,orks_degree,travel = read_input(file_dir='sample_testcases/test_02.txt')"
   ]
  },
  {
   "cell_type": "code",
   "execution_count": 69,
   "metadata": {},
   "outputs": [
    {
     "name": "stdout",
     "output_type": "stream",
     "text": [
      "\n",
      "Length of Path:  34\n",
      "Shortest Path:  RRRRRRRLLLLDDDDLDLLRDDRUURURRRDRDD\n",
      "Seen States:  902208\n",
      "--- 1134.718894958496 ms ---\n"
     ]
    }
   ],
   "source": [
    "start_time = time.time()\n",
    "solve_ids()\n",
    "print(\"--- %s ms ---\" % ((time.time() - start_time)*10**3))"
   ]
  },
  {
   "cell_type": "markdown",
   "metadata": {},
   "source": [
    "## Testcase 4"
   ]
  },
  {
   "cell_type": "code",
   "execution_count": 234,
   "metadata": {},
   "outputs": [],
   "source": [
    "n,m,gandalph_start,gandalph_dest,k,l,orks_pos,yaran_halghe_pos,yaran_halghe_dest,orks_degree,travel = read_input(file_dir='sample_testcases/test_03.txt')"
   ]
  },
  {
   "cell_type": "code",
   "execution_count": null,
   "metadata": {},
   "outputs": [],
   "source": [
    "start_time = time.time()\n",
    "solve_ids()\n",
    "print(\"--- %s ms ---\" % ((time.time() - start_time)*10**3))"
   ]
  },
  {
   "cell_type": "markdown",
   "metadata": {},
   "source": [
    "# A* Algorithm"
   ]
  },
  {
   "cell_type": "code",
   "execution_count": 70,
   "metadata": {},
   "outputs": [],
   "source": [
    "class Node():\n",
    "\n",
    "    def __init__(self, parent=None, position=None, prev_ork = -1, valid_moves = -1):\n",
    "        self.parent = parent\n",
    "        self.position = position\n",
    "\n",
    "        self.g = 0\n",
    "        self.h = 0\n",
    "        self.f = 0\n",
    "        self.prev_ork = prev_ork\n",
    "        self.valid_moves = valid_moves\n",
    "\n",
    "    def __eq__(self, other):\n",
    "        return self.position == other.position\n",
    "\n",
    "\n",
    "def astar(maze, start, end, alpha = 1):\n",
    "    # Create start and end node\n",
    "    start_node = Node(None, start)\n",
    "    start_node.g = start_node.h = start_node.f = 0\n",
    "    end_node = Node(None, end)\n",
    "    end_node.g = end_node.h = end_node.f = 0\n",
    "\n",
    "    # Initialize both open and closed list\n",
    "    open_list = []\n",
    "    closed_list = []\n",
    "\n",
    "    # Add the start node\n",
    "    open_list.append(start_node)\n",
    "\n",
    "    seen_states = 0\n",
    "    # Loop until you find the end\n",
    "    while len(open_list) > 0:\n",
    "        # Get the current node\n",
    "        current_node = open_list[0]\n",
    "        current_index = 0\n",
    "        for index, item in enumerate(open_list):\n",
    "            if item.f < current_node.f:\n",
    "                current_node = item\n",
    "                current_index = index\n",
    "        \n",
    "        seen_states += 1\n",
    "\n",
    "        # Pop current off open list, add to closed list\n",
    "        open_list.pop(current_index)\n",
    "        closed_list.append(current_node)\n",
    "\n",
    "        if maze[current_node.position[0]][current_node.position[1]] < 0:\n",
    "            current_node.prev_ork = -1\n",
    "            current_node.valid_moves = -1\n",
    "        elif current_node.prev_ork  == -1 or current_node.prev_ork  != maze[current_node.position[0]][current_node.position[1]]:\n",
    "            current_node.prev_ork = maze[current_node.position[0]][current_node.position[1]]\n",
    "            current_node.valid_moves = orks_degree[current_node.prev_ork] - 1\n",
    "        \n",
    "        if current_node.valid_moves < 0 and current_node.prev_ork != -1:\n",
    "            continue\n",
    "\n",
    "        # Found the goal\n",
    "        if current_node == end_node:\n",
    "            path = []\n",
    "            current = current_node\n",
    "            while current is not None:\n",
    "                path.append(current.position)\n",
    "                current = current.parent\n",
    "            return path[::-1],seen_states # Return reversed path\n",
    "\n",
    "        # Generate children\n",
    "        children = []\n",
    "        for new_position in [(0,1),(0,-1),(1,0),(-1,0)]: # Adjacent squares\n",
    "\n",
    "            # Get node position\n",
    "            node_position = (current_node.position[0] + new_position[0], current_node.position[1] + new_position[1])\n",
    "\n",
    "            # Make sure within range\n",
    "            if node_position[0] > (len(maze) - 1) or node_position[0] < 0 or node_position[1] > (len(maze[len(maze)-1]) -1) or node_position[1] < 0:\n",
    "                continue\n",
    "\n",
    "            # Make sure walkable terrain\n",
    "            if maze[node_position[0]][node_position[1]] == ORK:\n",
    "                continue\n",
    "\n",
    "            # Create new node\n",
    "            new_node = Node(current_node, node_position, valid_moves = current_node.valid_moves, prev_ork = current_node.prev_ork)\n",
    "\n",
    "            # Append\n",
    "            children.append(new_node)\n",
    "\n",
    "        # Loop through children\n",
    "        for child in children:\n",
    "\n",
    "            # Child is on the closed list\n",
    "            for closed_child in closed_list:\n",
    "                if child == closed_child:\n",
    "                    continue\n",
    "\n",
    "            if child.prev_ork != -1 and child.prev_ork == maze[child.position[0]][child.position[1]]:\n",
    "                child.valid_moves = child.valid_moves - 1\n",
    "            if child.valid_moves < 0 and child.prev_ork != -1:\n",
    "                continue\n",
    "\n",
    "            # Create the f, g, and h values\n",
    "            child.g = current_node.g + 1\n",
    "            child.h = alpha*manhattanDist(child.position[0],child.position[1],end_node.position[0],end_node.position[1])\n",
    "            child.f = child.g + child.h\n",
    "\n",
    "            # Child is already in the open list\n",
    "            for open_node in open_list:\n",
    "                if child == open_node and child.g > open_node.g:\n",
    "                    continue\n",
    "            \n",
    "            # Add the child to the open list\n",
    "            open_list.append(child)\n",
    "\n",
    "def build_sol(sol):\n",
    "    path_str = ''\n",
    "    for i in range(len(sol) - 1):\n",
    "        p1 = sol[i]\n",
    "        p2 = sol[i+1]\n",
    "\n",
    "        if p1[0] < p2[0]:\n",
    "            path_str += 'D'\n",
    "        elif p1[0] > p2[0]:\n",
    "            path_str += 'U'\n",
    "        elif p1[1] < p2[1]:\n",
    "            path_str += 'R'\n",
    "        else:\n",
    "            path_str += 'L'\n",
    "    \n",
    "    return path_str"
   ]
  },
  {
   "cell_type": "code",
   "execution_count": 71,
   "metadata": {},
   "outputs": [],
   "source": [
    "def solve_astar(alpha = 1):\n",
    "\tgrid = [[SPACE for _ in range(m)]\n",
    "\t\t\tfor _ in range(n)]\n",
    "\tgrid = set_ork_territory(grid,orks_pos)\n",
    "\n",
    "\tprint()\n",
    "\tshortest_path = ''\n",
    "\tseen_states = 0\n",
    "\tfor t in travel:\n",
    "\t\tstart_x = t[0][0]\n",
    "\t\tstart_y = t[0][1]\n",
    "\n",
    "\t\tdest_x = t[1][0]\n",
    "\t\tdest_y = t[1][1]\n",
    "\n",
    "\t\tgrid[start_x][start_y] = START\n",
    "\t\tgrid[dest_x][dest_y] = DEST\n",
    "\n",
    "\t\tpath,seen_states_ = astar(grid, t[0], t[1],alpha)\n",
    "\t\tshortest_path += build_sol(path)\n",
    "\t\tseen_states += seen_states_\n",
    "\n",
    "\t\tgrid[start_x][start_y] = SPACE\n",
    "\t\tgrid[dest_x][dest_y] = SPACE\n",
    "\t\n",
    "\tprint('Length of Path: ', len(shortest_path))\n",
    "\tprint('Shortest Path: ',shortest_path)\n",
    "\tprint('Seen States: ', seen_states)"
   ]
  },
  {
   "cell_type": "markdown",
   "metadata": {},
   "source": [
    "## Testcase 1"
   ]
  },
  {
   "cell_type": "code",
   "execution_count": 74,
   "metadata": {},
   "outputs": [],
   "source": [
    "n,m,gandalph_start,gandalph_dest,k,l,orks_pos,yaran_halghe_pos,yaran_halghe_dest,orks_degree,travel = read_input(file_dir='sample_testcases/test_00.txt')"
   ]
  },
  {
   "cell_type": "code",
   "execution_count": 75,
   "metadata": {},
   "outputs": [
    {
     "name": "stdout",
     "output_type": "stream",
     "text": [
      "\n",
      "Length of Path:  48\n",
      "Shortest Path:  RRRRRRRRRRRRRRRRRRRRRRRRRRRRRDRUDRUDRUDRUDRRRRRR\n",
      "Seen States:  63\n",
      "--- 3.5212039947509766 ms ---\n"
     ]
    }
   ],
   "source": [
    "start_time = time.time()\n",
    "solve_astar()\n",
    "print(\"--- %s ms ---\" % ((time.time() - start_time)*10**3))"
   ]
  },
  {
   "cell_type": "markdown",
   "metadata": {},
   "source": [
    "## Testcase 2"
   ]
  },
  {
   "cell_type": "code",
   "execution_count": 76,
   "metadata": {},
   "outputs": [],
   "source": [
    "n,m,gandalph_start,gandalph_dest,k,l,orks_pos,yaran_halghe_pos,yaran_halghe_dest,orks_degree,travel = read_input(file_dir='sample_testcases/test_01.txt')"
   ]
  },
  {
   "cell_type": "code",
   "execution_count": 79,
   "metadata": {},
   "outputs": [
    {
     "name": "stdout",
     "output_type": "stream",
     "text": [
      "\n",
      "Length of Path:  52\n",
      "Shortest Path:  RRRRDDLLDDDDDLDRRRUUURURULLDDDLDDRRRRRUUUUDDDLDLLRRR\n",
      "Seen States:  467\n",
      "--- 82.4580192565918 ms ---\n"
     ]
    }
   ],
   "source": [
    "start_time = time.time()\n",
    "solve_astar()\n",
    "print(\"--- %s ms ---\" % ((time.time() - start_time)*10**3))"
   ]
  },
  {
   "cell_type": "markdown",
   "metadata": {},
   "source": [
    "## Testcase 3"
   ]
  },
  {
   "cell_type": "code",
   "execution_count": 80,
   "metadata": {},
   "outputs": [],
   "source": [
    "n,m,gandalph_start,gandalph_dest,k,l,orks_pos,yaran_halghe_pos,yaran_halghe_dest,orks_degree,travel = read_input(file_dir='sample_testcases/test_02.txt')"
   ]
  },
  {
   "cell_type": "code",
   "execution_count": 81,
   "metadata": {},
   "outputs": [
    {
     "name": "stdout",
     "output_type": "stream",
     "text": [
      "\n",
      "Length of Path:  34\n",
      "Shortest Path:  RRRRRRRLLLLDDDDLDLLRDDRUURURRRDRDD\n",
      "Seen States:  870\n",
      "--- 460.1011276245117 ms ---\n"
     ]
    }
   ],
   "source": [
    "start_time = time.time()\n",
    "solve_astar()\n",
    "print(\"--- %s ms ---\" % ((time.time() - start_time)*10**3))"
   ]
  },
  {
   "cell_type": "markdown",
   "metadata": {},
   "source": [
    "## Testcase 4\n"
   ]
  },
  {
   "cell_type": "code",
   "execution_count": 83,
   "metadata": {},
   "outputs": [],
   "source": [
    "n,m,gandalph_start,gandalph_dest,k,l,orks_pos,yaran_halghe_pos,yaran_halghe_dest,orks_degree,travel = read_input(file_dir='sample_testcases/test_03.txt')"
   ]
  },
  {
   "cell_type": "code",
   "execution_count": null,
   "metadata": {},
   "outputs": [],
   "source": [
    "start_time = time.time()\n",
    "solve_astar()\n",
    "print(\"--- %s ms ---\" % ((time.time() - start_time)*10**3))"
   ]
  },
  {
   "cell_type": "markdown",
   "metadata": {},
   "source": [
    "# Weighted A*\n",
    "We're going to try $\\alpha = 2$ and $\\alpha = 5$."
   ]
  },
  {
   "cell_type": "markdown",
   "metadata": {},
   "source": [
    "## Testcase 1"
   ]
  },
  {
   "cell_type": "code",
   "execution_count": 85,
   "metadata": {},
   "outputs": [],
   "source": [
    "n,m,gandalph_start,gandalph_dest,k,l,orks_pos,yaran_halghe_pos,yaran_halghe_dest,orks_degree,travel = read_input(file_dir='sample_testcases/test_00.txt')"
   ]
  },
  {
   "cell_type": "code",
   "execution_count": 86,
   "metadata": {},
   "outputs": [
    {
     "name": "stdout",
     "output_type": "stream",
     "text": [
      "\n",
      "Length of Path:  48\n",
      "Shortest Path:  RRRRRRRRRRRRRRRRRRRRRRRRRRRRRDRUDRUDRUDRUDRRRRRR\n",
      "Seen States:  59\n",
      "--- 3.3500194549560547 ms ---\n"
     ]
    }
   ],
   "source": [
    "start_time = time.time()\n",
    "solve_astar(alpha=2)\n",
    "print(\"--- %s ms ---\" % ((time.time() - start_time)*10**3))"
   ]
  },
  {
   "cell_type": "code",
   "execution_count": 87,
   "metadata": {},
   "outputs": [
    {
     "name": "stdout",
     "output_type": "stream",
     "text": [
      "\n",
      "Length of Path:  48\n",
      "Shortest Path:  RRRRRRRRRRRRRRRRRRRRRRRRRRRRRDRUDRUDRUDRUDRRRRRR\n",
      "Seen States:  59\n",
      "--- 3.622770309448242 ms ---\n"
     ]
    }
   ],
   "source": [
    "start_time = time.time()\n",
    "solve_astar(alpha=5)\n",
    "print(\"--- %s ms ---\" % ((time.time() - start_time)*10**3))"
   ]
  },
  {
   "cell_type": "markdown",
   "metadata": {},
   "source": [
    "## Testcase 2"
   ]
  },
  {
   "cell_type": "code",
   "execution_count": 88,
   "metadata": {},
   "outputs": [],
   "source": [
    "n,m,gandalph_start,gandalph_dest,k,l,orks_pos,yaran_halghe_pos,yaran_halghe_dest,orks_degree,travel = read_input(file_dir='sample_testcases/test_01.txt')"
   ]
  },
  {
   "cell_type": "code",
   "execution_count": 89,
   "metadata": {},
   "outputs": [
    {
     "name": "stdout",
     "output_type": "stream",
     "text": [
      "\n",
      "Length of Path:  52\n",
      "Shortest Path:  RRRRDDLLDDDDDLDRRRUUURURULLDDDLDDRRRRRUUUUDDDLDLLRRR\n",
      "Seen States:  93\n",
      "--- 3.2749176025390625 ms ---\n"
     ]
    }
   ],
   "source": [
    "start_time = time.time()\n",
    "solve_astar(alpha=2)\n",
    "print(\"--- %s ms ---\" % ((time.time() - start_time)*10**3))"
   ]
  },
  {
   "cell_type": "code",
   "execution_count": 90,
   "metadata": {},
   "outputs": [
    {
     "name": "stdout",
     "output_type": "stream",
     "text": [
      "\n",
      "Length of Path:  56\n",
      "Shortest Path:  RRRRDDLLDLDDRDDLDRRRUUURURULLDDDLDDRRRRRUUUULLLDLDDRDRRR\n",
      "Seen States:  84\n",
      "--- 3.9551258087158203 ms ---\n"
     ]
    }
   ],
   "source": [
    "start_time = time.time()\n",
    "solve_astar(alpha=5)\n",
    "print(\"--- %s ms ---\" % ((time.time() - start_time)*10**3))"
   ]
  },
  {
   "cell_type": "markdown",
   "metadata": {},
   "source": [
    "## Testcase 3"
   ]
  },
  {
   "cell_type": "code",
   "execution_count": 91,
   "metadata": {},
   "outputs": [],
   "source": [
    "n,m,gandalph_start,gandalph_dest,k,l,orks_pos,yaran_halghe_pos,yaran_halghe_dest,orks_degree,travel = read_input(file_dir='sample_testcases/test_02.txt')"
   ]
  },
  {
   "cell_type": "code",
   "execution_count": 92,
   "metadata": {},
   "outputs": [
    {
     "name": "stdout",
     "output_type": "stream",
     "text": [
      "\n",
      "Length of Path:  34\n",
      "Shortest Path:  RRRRRRRLLLLDDDDLDLLRDDRUURURRRDRDD\n",
      "Seen States:  104\n",
      "--- 4.5490264892578125 ms ---\n"
     ]
    }
   ],
   "source": [
    "start_time = time.time()\n",
    "solve_astar(alpha=2)\n",
    "print(\"--- %s ms ---\" % ((time.time() - start_time)*10**3))"
   ]
  },
  {
   "cell_type": "code",
   "execution_count": 93,
   "metadata": {},
   "outputs": [
    {
     "name": "stdout",
     "output_type": "stream",
     "text": [
      "\n",
      "Length of Path:  36\n",
      "Shortest Path:  RRRRRRRLLLLLDDRDDLDLLRDDRUURURRRDRDD\n",
      "Seen States:  890\n",
      "--- 310.84585189819336 ms ---\n"
     ]
    }
   ],
   "source": [
    "start_time = time.time()\n",
    "solve_astar(alpha=5)\n",
    "print(\"--- %s ms ---\" % ((time.time() - start_time)*10**3))"
   ]
  },
  {
   "cell_type": "markdown",
   "metadata": {},
   "source": [
    "## Testcase 4"
   ]
  },
  {
   "cell_type": "code",
   "execution_count": 94,
   "metadata": {},
   "outputs": [],
   "source": [
    "n,m,gandalph_start,gandalph_dest,k,l,orks_pos,yaran_halghe_pos,yaran_halghe_dest,orks_degree,travel = read_input(file_dir='sample_testcases/test_03.txt')"
   ]
  },
  {
   "cell_type": "code",
   "execution_count": 95,
   "metadata": {},
   "outputs": [
    {
     "name": "stdout",
     "output_type": "stream",
     "text": [
      "\n",
      "Length of Path:  76\n",
      "Shortest Path:  RRRRRRRLLLLLDDDDDDDDLDRRRRRRRRUUUUUUUUULLLDDDLDRRRRLLLLLLLUDDLDLDDRRRRRDRRRR\n",
      "Seen States:  117\n",
      "--- 5.610942840576172 ms ---\n"
     ]
    }
   ],
   "source": [
    "start_time = time.time()\n",
    "solve_astar(alpha=2)\n",
    "print(\"--- %s ms ---\" % ((time.time() - start_time)*10**3))"
   ]
  },
  {
   "cell_type": "code",
   "execution_count": 96,
   "metadata": {},
   "outputs": [
    {
     "name": "stdout",
     "output_type": "stream",
     "text": [
      "\n",
      "Length of Path:  78\n",
      "Shortest Path:  RRRRRRRLLLLLLDDDRDDDDDLDRRRRRRRRUUUUUUUUULLLDDDLDRRRRLLLLLLLUDDLDLDDRRRRRDRRRR\n",
      "Seen States:  108\n",
      "--- 4.838228225708008 ms ---\n"
     ]
    }
   ],
   "source": [
    "start_time = time.time()\n",
    "solve_astar(alpha=5)\n",
    "print(\"--- %s ms ---\" % ((time.time() - start_time)*10**3))"
   ]
  },
  {
   "cell_type": "code",
   "execution_count": 1,
   "metadata": {},
   "outputs": [
    {
     "data": {
      "text/plain": [
       "34"
      ]
     },
     "execution_count": 1,
     "metadata": {},
     "output_type": "execute_result"
    }
   ],
   "source": []
  },
  {
   "cell_type": "code",
   "execution_count": null,
   "metadata": {},
   "outputs": [],
   "source": []
  }
 ],
 "metadata": {
  "interpreter": {
   "hash": "c4743f3265159d618cbfb7986907cf5d87d97b4cb2417375c3879348497beb2d"
  },
  "kernelspec": {
   "display_name": "Python 3 (ipykernel)",
   "language": "python",
   "name": "python3"
  },
  "language_info": {
   "codemirror_mode": {
    "name": "ipython",
    "version": 3
   },
   "file_extension": ".py",
   "mimetype": "text/x-python",
   "name": "python",
   "nbconvert_exporter": "python",
   "pygments_lexer": "ipython3",
   "version": "3.9.5"
  }
 },
 "nbformat": 4,
 "nbformat_minor": 2
}
