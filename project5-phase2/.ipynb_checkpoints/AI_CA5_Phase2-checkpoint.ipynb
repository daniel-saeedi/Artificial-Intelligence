{
 "cells": [
  {
   "cell_type": "markdown",
   "metadata": {
    "id": "713r-Z5slalk"
   },
   "source": [
    "# Computer Assignment 5 - Phase 2\n",
    "Danial Saeedi(810198571)\n",
    "\n"
   ]
  },
  {
   "cell_type": "markdown",
   "metadata": {
    "id": "UYr2l-Qbmmni"
   },
   "source": [
    "# Importing dependencies"
   ]
  },
  {
   "cell_type": "code",
   "execution_count": 8,
   "metadata": {
    "id": "l-1m1nCIlV-v"
   },
   "outputs": [],
   "source": [
    "import numpy as np\n",
    "from tensorflow.keras import *\n",
    "import matplotlib.pyplot as plt\n",
    "from sklearn.metrics import classification_report \n",
    "import pandas as pd\n",
    "import warnings\n",
    "warnings.filterwarnings('ignore')"
   ]
  },
  {
   "cell_type": "markdown",
   "metadata": {
    "id": "2LReFBvVzx1O"
   },
   "source": [
    "# Importing the dataset"
   ]
  },
  {
   "cell_type": "code",
   "execution_count": 9,
   "metadata": {
    "id": "Ss1vaaVWySDB"
   },
   "outputs": [],
   "source": [
    "! pip install -q kaggle"
   ]
  },
  {
   "cell_type": "code",
   "execution_count": 3,
   "metadata": {
    "id": "_RN5UwB_yoEQ"
   },
   "outputs": [],
   "source": [
    "! mkdir ~/.kaggle"
   ]
  },
  {
   "cell_type": "code",
   "execution_count": 10,
   "metadata": {
    "id": "GKopI-I3yrpp"
   },
   "outputs": [],
   "source": [
    "cp kaggle.json ~/.kaggle/"
   ]
  },
  {
   "cell_type": "code",
   "execution_count": 11,
   "metadata": {
    "id": "UWV3XfUjyrxu"
   },
   "outputs": [],
   "source": [
    "! chmod 600 ~/.kaggle/kaggle.json"
   ]
  },
  {
   "cell_type": "code",
   "execution_count": 12,
   "metadata": {
    "colab": {
     "base_uri": "https://localhost:8080/"
    },
    "id": "Lp9Niowayt88",
    "outputId": "5d5b9705-d74c-47e3-b61c-bef42fbeeb93"
   },
   "outputs": [
    {
     "name": "stdout",
     "output_type": "stream",
     "text": [
      "Downloading az-handwritten-alphabets-in-csv-format.zip to /content\n",
      " 94% 173M/185M [00:04<00:00, 56.7MB/s]\n",
      "100% 185M/185M [00:04<00:00, 38.7MB/s]\n"
     ]
    }
   ],
   "source": [
    "!kaggle datasets download -d sachinpatel21/az-handwritten-alphabets-in-csv-format"
   ]
  },
  {
   "cell_type": "code",
   "execution_count": 13,
   "metadata": {
    "colab": {
     "base_uri": "https://localhost:8080/"
    },
    "id": "Ajb3N0k-y0Jr",
    "outputId": "18e2c484-d128-4a8f-fa99-cac0d2d768c2"
   },
   "outputs": [
    {
     "name": "stdout",
     "output_type": "stream",
     "text": [
      "Archive:  az-handwritten-alphabets-in-csv-format.zip\n",
      "  inflating: dataset/A_Z Handwritten Data.csv  \n",
      "  inflating: dataset/A_Z Handwritten Data/A_Z Handwritten Data.csv  \n"
     ]
    }
   ],
   "source": [
    "!unzip az-handwritten-alphabets-in-csv-format.zip -d dataset/"
   ]
  },
  {
   "cell_type": "code",
   "execution_count": 14,
   "metadata": {
    "id": "1qLuH2dEy8Bq"
   },
   "outputs": [],
   "source": [
    "df = pd.read_csv('dataset/A_Z Handwritten Data.csv')"
   ]
  },
  {
   "cell_type": "markdown",
   "metadata": {
    "id": "rhY5XrjL1fo4"
   },
   "source": [
    "# Phase 1: Data pre-processing\n",
    "\n",
    "**Why one hot encoding is useful here?**\n",
    "\n",
    "One hot encoding makes our training data more useful and expressive, and it can be rescaled easily. By using numeric values, we more easily determine a probability for our values. In particular, one hot encoding is used for our output values, since it provides more nuanced predictions than single labels.\n",
    "\n",
    "By using one hot encoding technique, the shape of each row would be (1*26). And our output layer has 26 neurons as well."
   ]
  },
  {
   "cell_type": "code",
   "execution_count": 15,
   "metadata": {
    "id": "F95MkmJ7zJaM"
   },
   "outputs": [],
   "source": [
    "y = pd.get_dummies(df['0'], columns=['0'])\n",
    "X = df.drop('0',axis=1)\n",
    "\n",
    "y = y.values\n",
    "X = X.values.reshape(-1,28,28)"
   ]
  },
  {
   "cell_type": "code",
   "execution_count": 16,
   "metadata": {
    "colab": {
     "base_uri": "https://localhost:8080/"
    },
    "id": "n5TFxd5ez5ki",
    "outputId": "e971fff7-01a2-4fee-b13d-00a99fc25367"
   },
   "outputs": [
    {
     "data": {
      "text/plain": [
       "(372450, 28, 28)"
      ]
     },
     "execution_count": 16,
     "metadata": {},
     "output_type": "execute_result"
    }
   ],
   "source": [
    "X.shape"
   ]
  },
  {
   "cell_type": "code",
   "execution_count": 17,
   "metadata": {
    "colab": {
     "base_uri": "https://localhost:8080/"
    },
    "id": "4SodCcuD0w8_",
    "outputId": "6426748f-7edd-4d29-c9ad-c0230e52c496"
   },
   "outputs": [
    {
     "data": {
      "text/plain": [
       "372450"
      ]
     },
     "execution_count": 17,
     "metadata": {},
     "output_type": "execute_result"
    }
   ],
   "source": [
    "len(y)"
   ]
  },
  {
   "cell_type": "code",
   "execution_count": 18,
   "metadata": {
    "id": "xmiOdFvJ2RCy"
   },
   "outputs": [],
   "source": [
    "freqOfClasses = {'0': 0, '1': 0, '2': 0, '3': 0, '4': 0,'5': 0, '6': 0, '7': 0, '8': 0, '9': 0,'10':0,'11':0,'12':0,'13':0\n",
    "                     ,'14':0,'15':0,'16':0,'17':0,'18':0,'19':0,'20':0,'21':0,'22':0,'23':0,'24':0,'25':0}\n",
    "for label in df['0']:\n",
    "    freqOfClasses[str(label)] += 1"
   ]
  },
  {
   "cell_type": "code",
   "execution_count": null,
   "metadata": {
    "colab": {
     "base_uri": "https://localhost:8080/",
     "height": 295
    },
    "id": "9ou_ODHs1wL1",
    "outputId": "4137f809-da0e-4188-bea1-c8794c1f8a6d"
   },
   "outputs": [
    {
     "data": {
      "image/png": "[encoded data removed]",
      "text/plain": [
       "<Figure size 432x288 with 1 Axes>"
      ]
     },
     "metadata": {},
     "output_type": "display_data"
    }
   ],
   "source": [
    "plt.bar(freqOfClasses.keys(), freqOfClasses.values(), color='g')\n",
    "plt.xlabel(\"Class\")\n",
    "plt.ylabel(\"Class frequency\")\n",
    "plt.title(\"Class frequncy in dataset\")\n",
    "plt.show()"
   ]
  },
  {
   "cell_type": "code",
   "execution_count": null,
   "metadata": {
    "colab": {
     "base_uri": "https://localhost:8080/",
     "height": 1000
    },
    "id": "dFY5tAqi1ykw",
    "outputId": "d813a1a3-7f69-4ad9-c1ed-35be83fb0033"
   },
   "outputs": [
    {
     "data": {
      "image/png": "[encoded data removed]",
      "text/plain": [
       "<Figure size 432x288 with 1 Axes>"
      ]
     },
     "metadata": {},
     "output_type": "display_data"
    },
    {
     "data": {
      "image/png": "[encoded data removed]",
      "text/plain": [
       "<Figure size 432x288 with 1 Axes>"
      ]
     },
     "metadata": {},
     "output_type": "display_data"
    },
    {
     "data": {
      "image/png": "[encoded data removed]",
      "text/plain": [
       "<Figure size 432x288 with 1 Axes>"
      ]
     },
     "metadata": {},
     "output_type": "display_data"
    },
    {
     "data": {
      "image/png": "[encoded data removed]",
      "text/plain": [
       "<Figure size 432x288 with 1 Axes>"
      ]
     },
     "metadata": {},
     "output_type": "display_data"
    },
    {
     "data": {
      "image/png": "[encoded data removed]",
      "text/plain": [
       "<Figure size 432x288 with 1 Axes>"
      ]
     },
     "metadata": {},
     "output_type": "display_data"
    },
    {
     "data": {
      "image/png": "[encoded data removed]",
      "text/plain": [
       "<Figure size 432x288 with 1 Axes>"
      ]
     },
     "metadata": {},
     "output_type": "display_data"
    },
    {
     "data": {
      "image/png": "[encoded data removed]",
      "text/plain": [
       "<Figure size 432x288 with 1 Axes>"
      ]
     },
     "metadata": {},
     "output_type": "display_data"
    },
    {
     "data": {
      "image/png": "[encoded data removed]",
      "text/plain": [
       "<Figure size 432x288 with 1 Axes>"
      ]
     },
     "metadata": {},
     "output_type": "display_data"
    },
    {
     "data": {
      "image/png": "[encoded data removed]",
      "text/plain": [
       "<Figure size 432x288 with 1 Axes>"
      ]
     },
     "metadata": {},
     "output_type": "display_data"
    },
    {
     "data": {
      "image/png": "[encoded data removed]",
      "text/plain": [
       "<Figure size 432x288 with 1 Axes>"
      ]
     },
     "metadata": {},
     "output_type": "display_data"
    },
    {
     "data": {
      "image/png": "[encoded data removed]",
      "text/plain": [
       "<Figure size 432x288 with 1 Axes>"
      ]
     },
     "metadata": {},
     "output_type": "display_data"
    },
    {
     "data": {
      "image/png": "[encoded data removed]",
      "text/plain": [
       "<Figure size 432x288 with 1 Axes>"
      ]
     },
     "metadata": {},
     "output_type": "display_data"
    },
    {
     "data": {
      "image/png": "[encoded data removed]",
      "text/plain": [
       "<Figure size 432x288 with 1 Axes>"
      ]
     },
     "metadata": {},
     "output_type": "display_data"
    },
    {
     "data": {
      "image/png": "[encoded data removed]",
      "text/plain": [
       "<Figure size 432x288 with 1 Axes>"
      ]
     },
     "metadata": {},
     "output_type": "display_data"
    },
    {
     "data": {
      "image/png": "[encoded data removed]",
      "text/plain": [
       "<Figure size 432x288 with 1 Axes>"
      ]
     },
     "metadata": {},
     "output_type": "display_data"
    },
    {
     "data": {
      "image/png": "[encoded data removed]",
      "text/plain": [
       "<Figure size 432x288 with 1 Axes>"
      ]
     },
     "metadata": {},
     "output_type": "display_data"
    },
    {
     "data": {
      "image/png": "[encoded data removed]",
      "text/plain": [
       "<Figure size 432x288 with 1 Axes>"
      ]
     },
     "metadata": {},
     "output_type": "display_data"
    },
    {
     "data": {
      "image/png": "[encoded data removed]",
      "text/plain": [
       "<Figure size 432x288 with 1 Axes>"
      ]
     },
     "metadata": {},
     "output_type": "display_data"
    },
    {
     "data": {
      "image/png": "[encoded data removed]",
      "text/plain": [
       "<Figure size 432x288 with 1 Axes>"
      ]
     },
     "metadata": {},
     "output_type": "display_data"
    },
    {
     "data": {
      "image/png": "[encoded data removed]",
      "text/plain": [
       "<Figure size 432x288 with 1 Axes>"
      ]
     },
     "metadata": {},
     "output_type": "display_data"
    },
    {
     "data": {
      "image/png": "[encoded data removed]",
      "text/plain": [
       "<Figure size 432x288 with 1 Axes>"
      ]
     },
     "metadata": {},
     "output_type": "display_data"
    },
    {
     "data": {
      "image/png": "[encoded data removed]",
      "text/plain": [
       "<Figure size 432x288 with 1 Axes>"
      ]
     },
     "metadata": {},
     "output_type": "display_data"
    },
    {
     "data": {
      "image/png": "[encoded data removed]",
      "text/plain": [
       "<Figure size 432x288 with 1 Axes>"
      ]
     },
     "metadata": {},
     "output_type": "display_data"
    },
    {
     "data": {
      "image/png": "[encoded data removed]",
      "text/plain": [
       "<Figure size 432x288 with 1 Axes>"
      ]
     },
     "metadata": {},
     "output_type": "display_data"
    },
    {
     "data": {
      "image/png": "[encoded data removed]",
      "text/plain": [
       "<Figure size 432x288 with 1 Axes>"
      ]
     },
     "metadata": {},
     "output_type": "display_data"
    },
    {
     "data": {
      "image/png": "[encoded data removed]",
      "text/plain": [
       "<Figure size 432x288 with 1 Axes>"
      ]
     },
     "metadata": {},
     "output_type": "display_data"
    }
   ],
   "source": [
    "selectedFromClass = [False]*26\n",
    "indexes = [0]*26\n",
    "i = 0\n",
    "for label in y.argmax(axis = 1):\n",
    "    if selectedFromClass[int(label)] == False:\n",
    "        selectedFromClass[int(label)] = True\n",
    "        indexes[int(label)] = i\n",
    "    if selectedFromClass == [True]*26:\n",
    "        break\n",
    "    i += 1\n",
    "\n",
    "number = 0;\n",
    "for index in indexes:\n",
    "    new_array = np.reshape(X[index], (28, 28))\n",
    "    plt.imshow(new_array,cmap=\"gray\")\n",
    "    plt.show()\n",
    "\n",
    "    number += 1"
   ]
  },
  {
   "cell_type": "code",
   "execution_count": 19,
   "metadata": {
    "id": "_bUWGsfV65tf"
   },
   "outputs": [],
   "source": [
    "from sklearn.model_selection import train_test_split\n",
    "X_train, X_test, y_train, y_test = train_test_split(X, y, test_size=0.20, random_state=42)\n",
    "\n",
    "X_train = np.array(X_train)\n",
    "X_test = np.array(X_test)\n",
    "y_train = np.array(y_train)\n",
    "y_test = np.array(y_test)\n"
   ]
  },
  {
   "cell_type": "code",
   "execution_count": 20,
   "metadata": {
    "colab": {
     "base_uri": "https://localhost:8080/"
    },
    "id": "3w3kJcnz--uz",
    "outputId": "b57a793b-0c32-481a-f386-1b6c0b343503"
   },
   "outputs": [
    {
     "data": {
      "text/plain": [
       "64"
      ]
     },
     "execution_count": 20,
     "metadata": {},
     "output_type": "execute_result"
    }
   ],
   "source": [
    "import gc\n",
    "del [[X,y,df]]\n",
    "gc.collect()"
   ]
  },
  {
   "cell_type": "markdown",
   "metadata": {
    "id": "q2QhVO4GHe6q"
   },
   "source": [
    "# Phase 2"
   ]
  },
  {
   "cell_type": "code",
   "execution_count": 21,
   "metadata": {
    "id": "sG1NSG_WIhC6"
   },
   "outputs": [],
   "source": [
    "import keras\n",
    "from keras.models import Sequential\n",
    "from keras.layers import Dense,Input,Flatten\n",
    "import tensorflow as tf"
   ]
  },
  {
   "cell_type": "code",
   "execution_count": 22,
   "metadata": {
    "id": "9X1JYDt3SZgl"
   },
   "outputs": [],
   "source": [
    "from keras import backend as K\n",
    "def Recall(y_true, y_pred):\n",
    "    true_positives = K.sum(K.round(K.clip(y_true * y_pred, 0, 1)))\n",
    "    possible_positives = K.sum(K.round(K.clip(y_true, 0, 1)))\n",
    "    recall = true_positives / (possible_positives + K.epsilon())\n",
    "    return recall\n",
    "\n",
    "def Precision(y_true, y_pred):\n",
    "    true_positives = K.sum(K.round(K.clip(y_true * y_pred, 0, 1)))\n",
    "    predicted_positives = K.sum(K.round(K.clip(y_pred, 0, 1)))\n",
    "    precision = true_positives / (predicted_positives + K.epsilon())\n",
    "    return precision\n",
    "\n",
    "def F1(y_true, y_pred):\n",
    "    precision = Precision(y_true, y_pred)\n",
    "    recall = Recall(y_true, y_pred)\n",
    "    return 2*((precision*recall)/(precision+recall+K.epsilon()))"
   ]
  },
  {
   "cell_type": "code",
   "execution_count": null,
   "metadata": {
    "id": "O05wjBdJ_bO6"
   },
   "outputs": [],
   "source": [
    "model = Sequential()\n",
    "model.add(Input(shape=(28, 28, 1)))\n",
    "model.add(Flatten())\n",
    "model.add(Dense(50, activation='relu'))\n",
    "model.add(Dense(40, activation='relu'))\n",
    "model.add(Dense(30, activation='relu'))\n",
    "model.add(Dense(26, activation='softmax'))"
   ]
  },
  {
   "cell_type": "code",
   "execution_count": null,
   "metadata": {
    "id": "8zcH7r_4JDyO"
   },
   "outputs": [],
   "source": [
    "opt = tf.keras.optimizers.SGD(learning_rate=0.01)\n",
    "model.compile(loss='categorical_crossentropy', optimizer=opt, metrics=['accuracy', Recall, Precision, F1])"
   ]
  },
  {
   "cell_type": "markdown",
   "metadata": {
    "id": "gj_TcbNFYdCt"
   },
   "source": [
    "First of all we can see the name of layers. But about parameter what are they?\n",
    "\n",
    "It shows the number of total weights and biases. For example we can see for first Dense layer we have 39250 which is number of weights:\n",
    "\n",
    "$50(number of neurons) * 784(number of layer input) = 39200$\n",
    "\n",
    ", plus number of biases which is 50.\n",
    "\n",
    "So total will be: 39250."
   ]
  },
  {
   "cell_type": "code",
   "execution_count": null,
   "metadata": {
    "colab": {
     "base_uri": "https://localhost:8080/"
    },
    "id": "LXCIm4DTRnMZ",
    "outputId": "08700ddd-80af-4a6f-be9e-2644ec405cf2"
   },
   "outputs": [
    {
     "name": "stdout",
     "output_type": "stream",
     "text": [
      "Model: \"sequential\"\n",
      "_________________________________________________________________\n",
      " Layer (type)                Output Shape              Param #   \n",
      "=================================================================\n",
      " flatten (Flatten)           (None, 784)               0         \n",
      "                                                                 \n",
      " dense (Dense)               (None, 50)                39250     \n",
      "                                                                 \n",
      " dense_1 (Dense)             (None, 40)                2040      \n",
      "                                                                 \n",
      " dense_2 (Dense)             (None, 30)                1230      \n",
      "                                                                 \n",
      " dense_3 (Dense)             (None, 26)                806       \n",
      "                                                                 \n",
      "=================================================================\n",
      "Total params: 43,326\n",
      "Trainable params: 43,326\n",
      "Non-trainable params: 0\n",
      "_________________________________________________________________\n"
     ]
    }
   ],
   "source": [
    "model.summary()"
   ]
  },
  {
   "cell_type": "code",
   "execution_count": null,
   "metadata": {
    "colab": {
     "base_uri": "https://localhost:8080/",
     "height": 564
    },
    "id": "ldY2kEppRtAN",
    "outputId": "e7f73ee0-d6b8-4ed2-93f9-395c05797f60"
   },
   "outputs": [
    {
     "data": {
      "image/png": "[encoded data removed]",
      "text/plain": [
       "<IPython.core.display.Image object>"
      ]
     },
     "execution_count": 22,
     "metadata": {},
     "output_type": "execute_result"
    }
   ],
   "source": [
    "utils.plot_model(model)"
   ]
  },
  {
   "cell_type": "code",
   "execution_count": null,
   "metadata": {
    "id": "URCZK7GcJNfU"
   },
   "outputs": [],
   "source": [
    "# X_train = X_train.reshape(-1,28,28)\n",
    "# history = model.fit(X_train, y_train, epochs=10, batch_size=32)"
   ]
  },
  {
   "cell_type": "markdown",
   "metadata": {
    "id": "DKCbq_9uUIKK"
   },
   "source": [
    "# Phase 3: Classification"
   ]
  },
  {
   "cell_type": "markdown",
   "metadata": {
    "id": "2sDWbwzRZ8GI"
   },
   "source": [
    "## What is momentum in neural networks?\n",
    "Momentum is a method which helps us to accelerate gradient vectors in the right directions. Momentum is an average of gradients that changes during the time and we use it to update weight in each step. Therefore, it leads to faster convergence. It is mostly used in neural networks considering the size of data in NNs makes a considerable time difference while training gradients. It can be used to handle noisy gradients. Moreover, it can handle extremely small gradients.\n",
    "\n",
    "## Is it always good to set momentum to a larger number?\n",
    "Momentum is a method which helps us to accelerate gradient In fact, momentum makes each step of the learning process dependent on its previous. If we set momentum and learning rate to large values, we will have bigger steps, and based on the dependency that we mentioned above, the next steps will be larger and larger. As a result, weights won't be updated in a correct way, and they will never reach optimal values. Therefore, large momentum does not necessarily lead to higher accuracies."
   ]
  },
  {
   "cell_type": "markdown",
   "metadata": {
    "id": "s_wLnPE1XEMm"
   },
   "source": [
    "## Normalizing the data"
   ]
  },
  {
   "cell_type": "code",
   "execution_count": 23,
   "metadata": {
    "id": "qUjsA9mbUR2n"
   },
   "outputs": [],
   "source": [
    "X_train = X_train/255"
   ]
  },
  {
   "cell_type": "markdown",
   "metadata": {
    "id": "WHIpPPNwXFvB"
   },
   "source": [
    "## Training the model"
   ]
  },
  {
   "cell_type": "code",
   "execution_count": null,
   "metadata": {
    "colab": {
     "base_uri": "https://localhost:8080/"
    },
    "id": "JUr9JiuxJyyO",
    "outputId": "4f548319-5d61-40ca-f279-a730ec379570"
   },
   "outputs": [
    {
     "name": "stdout",
     "output_type": "stream",
     "text": [
      "Epoch 1/10\n",
      "9312/9312 [==============================] - 28s 3ms/step - loss: 0.7730 - accuracy: 0.7870 - Recall: 0.6984 - Precision: 0.8921 - F1: 0.7667 - val_loss: 69.0976 - val_accuracy: 0.8629 - val_Recall: 0.8629 - val_Precision: 0.8629 - val_F1: 0.8629\n",
      "Epoch 2/10\n",
      "9312/9312 [==============================] - 26s 3ms/step - loss: 0.3226 - accuracy: 0.9110 - Recall: 0.8872 - Precision: 0.9405 - F1: 0.9125 - val_loss: 49.5551 - val_accuracy: 0.9056 - val_Recall: 0.9056 - val_Precision: 0.9056 - val_F1: 0.9056\n",
      "Epoch 3/10\n",
      "9312/9312 [==============================] - 24s 3ms/step - loss: 0.2455 - accuracy: 0.9323 - Recall: 0.9167 - Precision: 0.9521 - F1: 0.9337 - val_loss: 43.2079 - val_accuracy: 0.9169 - val_Recall: 0.9169 - val_Precision: 0.9169 - val_F1: 0.9169\n",
      "Epoch 4/10\n",
      "9312/9312 [==============================] - 25s 3ms/step - loss: 0.2077 - accuracy: 0.9424 - Recall: 0.9310 - Precision: 0.9570 - F1: 0.9436 - val_loss: 40.8072 - val_accuracy: 0.9251 - val_Recall: 0.9251 - val_Precision: 0.9251 - val_F1: 0.9251\n",
      "Epoch 5/10\n",
      "9312/9312 [==============================] - 25s 3ms/step - loss: 0.1847 - accuracy: 0.9492 - Recall: 0.9397 - Precision: 0.9617 - F1: 0.9504 - val_loss: 42.2870 - val_accuracy: 0.9248 - val_Recall: 0.9248 - val_Precision: 0.9248 - val_F1: 0.9248\n",
      "Epoch 6/10\n",
      "9312/9312 [==============================] - 26s 3ms/step - loss: 0.1692 - accuracy: 0.9529 - Recall: 0.9446 - Precision: 0.9641 - F1: 0.9541 - val_loss: 40.2178 - val_accuracy: 0.9291 - val_Recall: 0.9291 - val_Precision: 0.9291 - val_F1: 0.9291\n",
      "Epoch 7/10\n",
      "9312/9312 [==============================] - 23s 3ms/step - loss: 0.1576 - accuracy: 0.9564 - Recall: 0.9489 - Precision: 0.9662 - F1: 0.9573 - val_loss: 38.0707 - val_accuracy: 0.9313 - val_Recall: 0.9313 - val_Precision: 0.9313 - val_F1: 0.9313\n",
      "Epoch 8/10\n",
      "9312/9312 [==============================] - 24s 3ms/step - loss: 0.1481 - accuracy: 0.9584 - Recall: 0.9516 - Precision: 0.9677 - F1: 0.9595 - val_loss: 42.1919 - val_accuracy: 0.9282 - val_Recall: 0.9282 - val_Precision: 0.9282 - val_F1: 0.9282\n",
      "Epoch 9/10\n",
      "9312/9312 [==============================] - 24s 3ms/step - loss: 0.1412 - accuracy: 0.9607 - Recall: 0.9543 - Precision: 0.9693 - F1: 0.9616 - val_loss: 43.0004 - val_accuracy: 0.9286 - val_Recall: 0.9286 - val_Precision: 0.9286 - val_F1: 0.9286\n",
      "Epoch 10/10\n",
      "9312/9312 [==============================] - 24s 3ms/step - loss: 0.1344 - accuracy: 0.9625 - Recall: 0.9566 - Precision: 0.9705 - F1: 0.9634 - val_loss: 37.7962 - val_accuracy: 0.9350 - val_Recall: 0.9350 - val_Precision: 0.9350 - val_F1: 0.9350\n"
     ]
    }
   ],
   "source": [
    "history = model.fit(X_train, y_train, epochs=10, batch_size=32,validation_data=(X_test, y_test))"
   ]
  },
  {
   "cell_type": "code",
   "execution_count": null,
   "metadata": {
    "colab": {
     "base_uri": "https://localhost:8080/",
     "height": 283
    },
    "id": "AE9eFjEPXmop",
    "outputId": "ffb96c31-d917-41fc-83dd-15a8236a98ed"
   },
   "outputs": [
    {
     "data": {
      "text/plain": [
       "<matplotlib.axes._subplots.AxesSubplot at 0x7f6b9cdd0250>"
      ]
     },
     "execution_count": 26,
     "metadata": {},
     "output_type": "execute_result"
    },
    {
     "data": {
      "image/png": "[encoded data removed]",
      "text/plain": [
       "<Figure size 432x288 with 1 Axes>"
      ]
     },
     "metadata": {},
     "output_type": "display_data"
    }
   ],
   "source": [
    "model_loss = pd.DataFrame(history.history['accuracy'])\n",
    "model_loss.plot()"
   ]
  },
  {
   "cell_type": "code",
   "execution_count": null,
   "metadata": {
    "colab": {
     "base_uri": "https://localhost:8080/",
     "height": 286
    },
    "id": "bYEoXph0X8do",
    "outputId": "63cd0f7d-eafa-4fc9-a4b6-0c8ce7084e2f"
   },
   "outputs": [
    {
     "data": {
      "text/plain": [
       "<matplotlib.axes._subplots.AxesSubplot at 0x7f6b9cfdf5d0>"
      ]
     },
     "execution_count": 27,
     "metadata": {},
     "output_type": "execute_result"
    },
    {
     "data": {
      "image/png": "[encoded data removed]",
      "text/plain": [
       "<Figure size 432x288 with 1 Axes>"
      ]
     },
     "metadata": {},
     "output_type": "display_data"
    }
   ],
   "source": [
    "model_loss = pd.DataFrame(history.history['loss'])\n",
    "model_loss.plot()"
   ]
  },
  {
   "cell_type": "code",
   "execution_count": null,
   "metadata": {
    "colab": {
     "base_uri": "https://localhost:8080/"
    },
    "id": "oRoM3V8LYKP9",
    "outputId": "32844db0-f04d-4bf4-b5d0-844a060cb42a"
   },
   "outputs": [
    {
     "name": "stdout",
     "output_type": "stream",
     "text": [
      "              precision    recall  f1-score   support\n",
      "\n",
      "           0       0.95      0.93      0.94      2806\n",
      "           1       0.90      0.86      0.88      1673\n",
      "           2       0.94      0.98      0.96      4742\n",
      "           3       0.96      0.68      0.80      2044\n",
      "           4       0.76      0.97      0.85      2214\n",
      "           5       0.79      0.90      0.84       231\n",
      "           6       0.93      0.79      0.85      1183\n",
      "           7       0.93      0.89      0.91      1466\n",
      "           8       0.93      0.81      0.86       237\n",
      "           9       0.94      0.87      0.90      1668\n",
      "          10       0.85      0.89      0.87      1132\n",
      "          11       0.97      0.93      0.95      2319\n",
      "          12       0.98      0.92      0.95      2487\n",
      "          13       0.92      0.94      0.93      3756\n",
      "          14       0.91      0.99      0.95     11629\n",
      "          15       0.98      0.94      0.96      3868\n",
      "          16       0.98      0.76      0.85      1159\n",
      "          17       0.89      0.93      0.91      2296\n",
      "          18       0.96      0.99      0.97      9556\n",
      "          19       0.98      0.98      0.98      4447\n",
      "          20       0.96      0.95      0.95      5860\n",
      "          21       0.90      0.98      0.94       823\n",
      "          22       0.99      0.81      0.89      2198\n",
      "          23       0.93      0.91      0.92      1269\n",
      "          24       0.98      0.84      0.91      2202\n",
      "          25       0.92      0.94      0.93      1225\n",
      "\n",
      "    accuracy                           0.93     74490\n",
      "   macro avg       0.93      0.90      0.91     74490\n",
      "weighted avg       0.94      0.93      0.93     74490\n",
      "\n"
     ]
    }
   ],
   "source": [
    "y_pred = model.predict(X_test)\n",
    "y_pred = y_pred.argmax(axis = 1)\n",
    "print(classification_report(y_test.argmax(axis = 1),y_pred))"
   ]
  },
  {
   "cell_type": "code",
   "execution_count": null,
   "metadata": {
    "colab": {
     "base_uri": "https://localhost:8080/"
    },
    "id": "9VIcERFkMK5m",
    "outputId": "0794e933-603f-4e8e-c0e0-0365d59d1940"
   },
   "outputs": [
    {
     "name": "stdout",
     "output_type": "stream",
     "text": [
      "              precision    recall  f1-score   support\n",
      "\n",
      "           0       0.94      0.97      0.95     11063\n",
      "           1       0.91      0.95      0.93      6995\n",
      "           2       0.97      0.97      0.97     18667\n",
      "           3       0.96      0.88      0.91      8090\n",
      "           4       0.96      0.95      0.95      9226\n",
      "           5       0.97      0.91      0.94       932\n",
      "           6       0.92      0.93      0.92      4579\n",
      "           7       0.90      0.94      0.92      5752\n",
      "           8       0.95      0.84      0.89       883\n",
      "           9       0.95      0.92      0.93      6825\n",
      "          10       0.91      0.92      0.92      4471\n",
      "          11       0.96      0.98      0.97      9267\n",
      "          12       0.95      0.97      0.96      9849\n",
      "          13       0.96      0.96      0.96     15254\n",
      "          14       0.98      0.98      0.98     46196\n",
      "          15       0.95      0.98      0.97     15473\n",
      "          16       0.93      0.91      0.92      4653\n",
      "          17       0.95      0.94      0.95      9270\n",
      "          18       0.98      0.99      0.99     38863\n",
      "          19       0.99      0.98      0.98     18048\n",
      "          20       0.97      0.98      0.98     23148\n",
      "          21       0.97      0.97      0.97      3359\n",
      "          22       0.98      0.95      0.96      8586\n",
      "          23       0.97      0.94      0.95      5003\n",
      "          24       0.97      0.94      0.95      8657\n",
      "          25       0.97      0.96      0.96      4851\n",
      "\n",
      "    accuracy                           0.96    297960\n",
      "   macro avg       0.95      0.95      0.95    297960\n",
      "weighted avg       0.96      0.96      0.96    297960\n",
      "\n"
     ]
    }
   ],
   "source": [
    "y_pred = model.predict(X_train)\n",
    "y_pred = y_pred.argmax(axis = 1)\n",
    "print(classification_report(y_train.argmax(axis = 1),y_pred))"
   ]
  },
  {
   "cell_type": "markdown",
   "metadata": {
    "id": "V7xHJ2QbXHrM"
   },
   "source": [
    "## Part 1)"
   ]
  },
  {
   "cell_type": "markdown",
   "metadata": {
    "id": "WiF3IK7pXi49"
   },
   "source": [
    "### momentum = 0.5"
   ]
  },
  {
   "cell_type": "code",
   "execution_count": null,
   "metadata": {
    "id": "hPReQataKDdj"
   },
   "outputs": [],
   "source": [
    "model = Sequential()\n",
    "model.add(Input(shape=(28, 28, 1)))\n",
    "model.add(Flatten())\n",
    "model.add(Dense(50, activation='relu'))\n",
    "model.add(Dense(40, activation='relu'))\n",
    "model.add(Dense(30, activation='relu'))\n",
    "model.add(Dense(26, activation='softmax'))\n",
    "opt = tf.keras.optimizers.SGD(learning_rate=0.01,momentum=0.5)\n",
    "model.compile(loss='categorical_crossentropy', optimizer=opt, metrics=['accuracy', Recall, Precision, F1])"
   ]
  },
  {
   "cell_type": "code",
   "execution_count": null,
   "metadata": {
    "colab": {
     "base_uri": "https://localhost:8080/"
    },
    "id": "fmuXZkLnXhAn",
    "outputId": "600e229f-13c0-4dc0-ee3f-c38e19b8534f"
   },
   "outputs": [
    {
     "name": "stdout",
     "output_type": "stream",
     "text": [
      "Epoch 1/10\n",
      "9312/9312 [==============================] - 25s 3ms/step - loss: 0.5952 - accuracy: 0.8357 - Recall: 0.7750 - Precision: 0.9096 - F1: 0.8253 - val_loss: 52.5663 - val_accuracy: 0.8930 - val_Recall: 0.8930 - val_Precision: 0.8930 - val_F1: 0.8930\n",
      "Epoch 2/10\n",
      "9312/9312 [==============================] - 24s 3ms/step - loss: 0.2488 - accuracy: 0.9311 - Recall: 0.9162 - Precision: 0.9505 - F1: 0.9327 - val_loss: 80.8792 - val_accuracy: 0.8732 - val_Recall: 0.8732 - val_Precision: 0.8732 - val_F1: 0.8732\n",
      "Epoch 3/10\n",
      "9312/9312 [==============================] - 26s 3ms/step - loss: 0.1929 - accuracy: 0.9462 - Recall: 0.9360 - Precision: 0.9589 - F1: 0.9471 - val_loss: 45.4629 - val_accuracy: 0.9152 - val_Recall: 0.9152 - val_Precision: 0.9152 - val_F1: 0.9152\n",
      "Epoch 4/10\n",
      "9312/9312 [==============================] - 26s 3ms/step - loss: 0.1642 - accuracy: 0.9539 - Recall: 0.9463 - Precision: 0.9643 - F1: 0.9550 - val_loss: 44.6604 - val_accuracy: 0.9175 - val_Recall: 0.9175 - val_Precision: 0.9175 - val_F1: 0.9175\n",
      "Epoch 5/10\n",
      "9312/9312 [==============================] - 25s 3ms/step - loss: 0.1465 - accuracy: 0.9590 - Recall: 0.9525 - Precision: 0.9676 - F1: 0.9598 - val_loss: 46.4170 - val_accuracy: 0.9175 - val_Recall: 0.9175 - val_Precision: 0.9175 - val_F1: 0.9175\n",
      "Epoch 6/10\n",
      "9312/9312 [==============================] - 25s 3ms/step - loss: 0.1350 - accuracy: 0.9620 - Recall: 0.9564 - Precision: 0.9694 - F1: 0.9628 - val_loss: 42.6271 - val_accuracy: 0.9223 - val_Recall: 0.9223 - val_Precision: 0.9223 - val_F1: 0.9223\n",
      "Epoch 7/10\n",
      "9312/9312 [==============================] - 25s 3ms/step - loss: 0.1256 - accuracy: 0.9647 - Recall: 0.9593 - Precision: 0.9716 - F1: 0.9653 - val_loss: 42.4475 - val_accuracy: 0.9262 - val_Recall: 0.9262 - val_Precision: 0.9262 - val_F1: 0.9262\n",
      "Epoch 8/10\n",
      "9312/9312 [==============================] - 27s 3ms/step - loss: 0.1181 - accuracy: 0.9663 - Recall: 0.9616 - Precision: 0.9728 - F1: 0.9670 - val_loss: 43.6349 - val_accuracy: 0.9252 - val_Recall: 0.9252 - val_Precision: 0.9252 - val_F1: 0.9252\n",
      "Epoch 9/10\n",
      "9312/9312 [==============================] - 25s 3ms/step - loss: 0.1126 - accuracy: 0.9677 - Recall: 0.9633 - Precision: 0.9736 - F1: 0.9683 - val_loss: 41.4932 - val_accuracy: 0.9284 - val_Recall: 0.9284 - val_Precision: 0.9284 - val_F1: 0.9284\n",
      "Epoch 10/10\n",
      "9312/9312 [==============================] - 24s 3ms/step - loss: 0.1075 - accuracy: 0.9692 - Recall: 0.9652 - Precision: 0.9749 - F1: 0.9699 - val_loss: 43.7160 - val_accuracy: 0.9247 - val_Recall: 0.9247 - val_Precision: 0.9247 - val_F1: 0.9247\n"
     ]
    }
   ],
   "source": [
    "history = model.fit(X_train, y_train, epochs=10, batch_size=32,validation_data=(X_test, y_test))"
   ]
  },
  {
   "cell_type": "code",
   "execution_count": null,
   "metadata": {
    "colab": {
     "base_uri": "https://localhost:8080/",
     "height": 283
    },
    "id": "PyH13OTlcowF",
    "outputId": "e01b7dad-822b-4dea-8e79-5414e4aeec8c"
   },
   "outputs": [
    {
     "data": {
      "text/plain": [
       "<matplotlib.axes._subplots.AxesSubplot at 0x7f6b9eb1f750>"
      ]
     },
     "execution_count": 32,
     "metadata": {},
     "output_type": "execute_result"
    },
    {
     "data": {
      "image/png": "[encoded data removed]",
      "text/plain": [
       "<Figure size 432x288 with 1 Axes>"
      ]
     },
     "metadata": {},
     "output_type": "display_data"
    }
   ],
   "source": [
    "model_loss = pd.DataFrame(history.history['accuracy'])\n",
    "model_loss.plot()"
   ]
  },
  {
   "cell_type": "code",
   "execution_count": null,
   "metadata": {
    "colab": {
     "base_uri": "https://localhost:8080/",
     "height": 283
    },
    "id": "1I0BkuLecrNt",
    "outputId": "3f81a0df-784b-42cf-d9a1-c3b39c1efbde"
   },
   "outputs": [
    {
     "data": {
      "text/plain": [
       "<matplotlib.axes._subplots.AxesSubplot at 0x7f6b9e3f2550>"
      ]
     },
     "execution_count": 33,
     "metadata": {},
     "output_type": "execute_result"
    },
    {
     "data": {
      "image/png": "[encoded data removed]",
      "text/plain": [
       "<Figure size 432x288 with 1 Axes>"
      ]
     },
     "metadata": {},
     "output_type": "display_data"
    }
   ],
   "source": [
    "model_loss = pd.DataFrame(history.history['loss'])\n",
    "model_loss.plot()"
   ]
  },
  {
   "cell_type": "code",
   "execution_count": null,
   "metadata": {
    "colab": {
     "base_uri": "https://localhost:8080/"
    },
    "id": "J7qQxHczcusc",
    "outputId": "e2a27a2a-c4f1-423b-bcb1-2ca3cada3cf4"
   },
   "outputs": [
    {
     "name": "stdout",
     "output_type": "stream",
     "text": [
      "              precision    recall  f1-score   support\n",
      "\n",
      "           0       0.98      0.85      0.91      2806\n",
      "           1       0.85      0.86      0.86      1673\n",
      "           2       0.94      0.97      0.95      4742\n",
      "           3       0.97      0.72      0.83      2044\n",
      "           4       0.62      0.98      0.76      2214\n",
      "           5       0.87      0.80      0.83       231\n",
      "           6       0.93      0.77      0.84      1183\n",
      "           7       0.82      0.93      0.87      1466\n",
      "           8       0.91      0.86      0.89       237\n",
      "           9       0.92      0.85      0.88      1668\n",
      "          10       0.84      0.91      0.87      1132\n",
      "          11       0.99      0.78      0.88      2319\n",
      "          12       0.98      0.93      0.96      2487\n",
      "          13       0.93      0.93      0.93      3756\n",
      "          14       0.93      0.99      0.96     11629\n",
      "          15       0.99      0.93      0.95      3868\n",
      "          16       0.96      0.77      0.86      1159\n",
      "          17       0.92      0.89      0.90      2296\n",
      "          18       0.92      0.99      0.95      9556\n",
      "          19       0.97      0.95      0.96      4447\n",
      "          20       0.97      0.94      0.95      5860\n",
      "          21       0.95      0.96      0.96       823\n",
      "          22       1.00      0.80      0.89      2198\n",
      "          23       0.93      0.93      0.93      1269\n",
      "          24       0.95      0.89      0.92      2202\n",
      "          25       0.97      0.89      0.93      1225\n",
      "\n",
      "    accuracy                           0.92     74490\n",
      "   macro avg       0.92      0.89      0.90     74490\n",
      "weighted avg       0.93      0.92      0.93     74490\n",
      "\n"
     ]
    }
   ],
   "source": [
    "y_pred = model.predict(X_test)\n",
    "y_pred = y_pred.argmax(axis = 1)\n",
    "print(classification_report(y_test.argmax(axis = 1),y_pred))"
   ]
  },
  {
   "cell_type": "code",
   "execution_count": null,
   "metadata": {
    "colab": {
     "base_uri": "https://localhost:8080/"
    },
    "id": "7QL9lMmJMP1R",
    "outputId": "a9f316ec-fe08-48e3-efa5-ed6b9aaca006"
   },
   "outputs": [
    {
     "name": "stdout",
     "output_type": "stream",
     "text": [
      "              precision    recall  f1-score   support\n",
      "\n",
      "           0       0.98      0.96      0.97     11063\n",
      "           1       0.93      0.97      0.95      6995\n",
      "           2       0.97      0.98      0.98     18667\n",
      "           3       0.96      0.90      0.93      8090\n",
      "           4       0.96      0.96      0.96      9226\n",
      "           5       0.97      0.91      0.94       932\n",
      "           6       0.97      0.92      0.94      4579\n",
      "           7       0.94      0.95      0.95      5752\n",
      "           8       0.98      0.90      0.94       883\n",
      "           9       0.97      0.94      0.95      6825\n",
      "          10       0.95      0.93      0.94      4471\n",
      "          11       0.99      0.96      0.98      9267\n",
      "          12       0.96      0.98      0.97      9849\n",
      "          13       0.96      0.98      0.97     15254\n",
      "          14       0.98      0.99      0.98     46196\n",
      "          15       0.97      0.98      0.98     15473\n",
      "          16       0.93      0.94      0.94      4653\n",
      "          17       0.95      0.97      0.96      9270\n",
      "          18       0.99      0.99      0.99     38863\n",
      "          19       0.99      0.98      0.99     18048\n",
      "          20       0.98      0.99      0.98     23148\n",
      "          21       0.98      0.98      0.98      3359\n",
      "          22       0.98      0.96      0.97      8586\n",
      "          23       0.97      0.95      0.96      5003\n",
      "          24       0.95      0.97      0.96      8657\n",
      "          25       0.98      0.96      0.97      4851\n",
      "\n",
      "    accuracy                           0.97    297960\n",
      "   macro avg       0.97      0.96      0.96    297960\n",
      "weighted avg       0.97      0.97      0.97    297960\n",
      "\n"
     ]
    }
   ],
   "source": [
    "y_pred = model.predict(X_train)\n",
    "y_pred = y_pred.argmax(axis = 1)\n",
    "print(classification_report(y_train.argmax(axis = 1),y_pred))"
   ]
  },
  {
   "cell_type": "markdown",
   "metadata": {
    "id": "5Pts7_UJce9a"
   },
   "source": [
    "## Momentum = 0.9"
   ]
  },
  {
   "cell_type": "code",
   "execution_count": null,
   "metadata": {
    "id": "5Ej_19AqZ4HC"
   },
   "outputs": [],
   "source": [
    "model = Sequential()\n",
    "model.add(Input(shape=(28, 28, 1)))\n",
    "model.add(Flatten())\n",
    "model.add(Dense(50, activation='relu'))\n",
    "model.add(Dense(40, activation='relu'))\n",
    "model.add(Dense(30, activation='relu'))\n",
    "model.add(Dense(26, activation='softmax'))\n",
    "opt = tf.keras.optimizers.SGD(learning_rate=0.01,momentum=0.9)\n",
    "model.compile(loss='categorical_crossentropy', optimizer=opt, metrics=['accuracy', Recall, Precision, F1])"
   ]
  },
  {
   "cell_type": "code",
   "execution_count": null,
   "metadata": {
    "colab": {
     "base_uri": "https://localhost:8080/"
    },
    "id": "uikn_cg5ck6q",
    "outputId": "17906093-92fb-45fe-c812-2283c0e75563"
   },
   "outputs": [
    {
     "name": "stdout",
     "output_type": "stream",
     "text": [
      "Epoch 1/10\n",
      "9312/9312 [==============================] - 25s 3ms/step - loss: 0.3641 - accuracy: 0.8957 - Recall: 0.8708 - Precision: 0.9286 - F1: 0.8953 - val_loss: 57.0629 - val_accuracy: 0.8959 - val_Recall: 0.8959 - val_Precision: 0.8959 - val_F1: 0.8959\n",
      "Epoch 2/10\n",
      "9312/9312 [==============================] - 25s 3ms/step - loss: 0.1905 - accuracy: 0.9450 - Recall: 0.9366 - Precision: 0.9568 - F1: 0.9464 - val_loss: 42.4620 - val_accuracy: 0.9226 - val_Recall: 0.9226 - val_Precision: 0.9226 - val_F1: 0.9226\n",
      "Epoch 3/10\n",
      "9312/9312 [==============================] - 26s 3ms/step - loss: 0.1594 - accuracy: 0.9537 - Recall: 0.9474 - Precision: 0.9628 - F1: 0.9548 - val_loss: 53.8560 - val_accuracy: 0.9134 - val_Recall: 0.9134 - val_Precision: 0.9134 - val_F1: 0.9134\n",
      "Epoch 4/10\n",
      "9312/9312 [==============================] - 27s 3ms/step - loss: 0.1433 - accuracy: 0.9581 - Recall: 0.9526 - Precision: 0.9661 - F1: 0.9592 - val_loss: 67.1530 - val_accuracy: 0.8980 - val_Recall: 0.8980 - val_Precision: 0.8980 - val_F1: 0.8980\n",
      "Epoch 5/10\n",
      "9312/9312 [==============================] - 25s 3ms/step - loss: 0.1317 - accuracy: 0.9617 - Recall: 0.9567 - Precision: 0.9688 - F1: 0.9626 - val_loss: 50.7577 - val_accuracy: 0.9219 - val_Recall: 0.9219 - val_Precision: 0.9219 - val_F1: 0.9219\n",
      "Epoch 6/10\n",
      "9312/9312 [==============================] - 27s 3ms/step - loss: 0.1248 - accuracy: 0.9635 - Recall: 0.9589 - Precision: 0.9701 - F1: 0.9644 - val_loss: 48.1987 - val_accuracy: 0.9230 - val_Recall: 0.9230 - val_Precision: 0.9230 - val_F1: 0.9230\n",
      "Epoch 7/10\n",
      "9312/9312 [==============================] - 26s 3ms/step - loss: 0.1178 - accuracy: 0.9653 - Recall: 0.9608 - Precision: 0.9719 - F1: 0.9662 - val_loss: 51.9463 - val_accuracy: 0.9180 - val_Recall: 0.9180 - val_Precision: 0.9180 - val_F1: 0.9180\n",
      "Epoch 8/10\n",
      "9312/9312 [==============================] - 25s 3ms/step - loss: 0.1148 - accuracy: 0.9660 - Recall: 0.9621 - Precision: 0.9721 - F1: 0.9669 - val_loss: 58.1714 - val_accuracy: 0.9035 - val_Recall: 0.9034 - val_Precision: 0.9035 - val_F1: 0.9035\n",
      "Epoch 9/10\n",
      "9312/9312 [==============================] - 24s 3ms/step - loss: 0.1088 - accuracy: 0.9684 - Recall: 0.9643 - Precision: 0.9738 - F1: 0.9689 - val_loss: 51.2172 - val_accuracy: 0.9139 - val_Recall: 0.9139 - val_Precision: 0.9139 - val_F1: 0.9139\n",
      "Epoch 10/10\n",
      "9312/9312 [==============================] - 26s 3ms/step - loss: 0.1057 - accuracy: 0.9691 - Recall: 0.9652 - Precision: 0.9743 - F1: 0.9696 - val_loss: 42.7513 - val_accuracy: 0.9261 - val_Recall: 0.9261 - val_Precision: 0.9261 - val_F1: 0.9261\n"
     ]
    }
   ],
   "source": [
    "history = model.fit(X_train, y_train, epochs=10, batch_size=32,validation_data=(X_test, y_test))"
   ]
  },
  {
   "cell_type": "code",
   "execution_count": null,
   "metadata": {
    "colab": {
     "base_uri": "https://localhost:8080/",
     "height": 283
    },
    "id": "v8-Ze-brc7V_",
    "outputId": "b41eb3e9-7053-4c93-c9c6-a2c6dfd5b2e7"
   },
   "outputs": [
    {
     "data": {
      "text/plain": [
       "<matplotlib.axes._subplots.AxesSubplot at 0x7f6b9d958350>"
      ]
     },
     "execution_count": 38,
     "metadata": {},
     "output_type": "execute_result"
    },
    {
     "data": {
      "image/png": "[encoded data removed]",
      "text/plain": [
       "<Figure size 432x288 with 1 Axes>"
      ]
     },
     "metadata": {},
     "output_type": "display_data"
    }
   ],
   "source": [
    "model_loss = pd.DataFrame(history.history['accuracy'])\n",
    "model_loss.plot()"
   ]
  },
  {
   "cell_type": "code",
   "execution_count": null,
   "metadata": {
    "colab": {
     "base_uri": "https://localhost:8080/",
     "height": 283
    },
    "id": "kkzYpuCqc7WA",
    "outputId": "8e036cc7-b7f1-4162-c23d-6a829e5477ff"
   },
   "outputs": [
    {
     "data": {
      "text/plain": [
       "<matplotlib.axes._subplots.AxesSubplot at 0x7f6b9cbefe90>"
      ]
     },
     "execution_count": 39,
     "metadata": {},
     "output_type": "execute_result"
    },
    {
     "data": {
      "image/png": "[encoded data removed]",
      "text/plain": [
       "<Figure size 432x288 with 1 Axes>"
      ]
     },
     "metadata": {},
     "output_type": "display_data"
    }
   ],
   "source": [
    "model_loss = pd.DataFrame(history.history['loss'])\n",
    "model_loss.plot()"
   ]
  },
  {
   "cell_type": "code",
   "execution_count": null,
   "metadata": {
    "colab": {
     "base_uri": "https://localhost:8080/"
    },
    "id": "PZVULTzcc7WA",
    "outputId": "3fc23b79-a640-48e0-9aef-c9598f87e896"
   },
   "outputs": [
    {
     "name": "stdout",
     "output_type": "stream",
     "text": [
      "              precision    recall  f1-score   support\n",
      "\n",
      "           0       0.99      0.84      0.91      2806\n",
      "           1       0.96      0.85      0.90      1673\n",
      "           2       0.90      0.98      0.94      4742\n",
      "           3       0.97      0.62      0.76      2044\n",
      "           4       0.86      0.96      0.91      2214\n",
      "           5       0.48      0.96      0.64       231\n",
      "           6       0.82      0.89      0.86      1183\n",
      "           7       0.86      0.89      0.88      1466\n",
      "           8       0.73      0.95      0.82       237\n",
      "           9       0.87      0.91      0.89      1668\n",
      "          10       0.82      0.92      0.86      1132\n",
      "          11       0.93      0.93      0.93      2319\n",
      "          12       0.97      0.93      0.95      2487\n",
      "          13       0.93      0.95      0.94      3756\n",
      "          14       0.91      1.00      0.95     11629\n",
      "          15       0.99      0.88      0.93      3868\n",
      "          16       0.97      0.68      0.80      1159\n",
      "          17       0.94      0.87      0.91      2296\n",
      "          18       0.97      0.99      0.98      9556\n",
      "          19       0.95      0.99      0.97      4447\n",
      "          20       0.94      0.96      0.95      5860\n",
      "          21       0.75      0.99      0.85       823\n",
      "          22       1.00      0.77      0.87      2198\n",
      "          23       0.82      0.95      0.88      1269\n",
      "          24       0.97      0.76      0.85      2202\n",
      "          25       0.92      0.95      0.93      1225\n",
      "\n",
      "    accuracy                           0.93     74490\n",
      "   macro avg       0.89      0.90      0.89     74490\n",
      "weighted avg       0.93      0.93      0.93     74490\n",
      "\n"
     ]
    }
   ],
   "source": [
    "y_pred = model.predict(X_test)\n",
    "y_pred = y_pred.argmax(axis = 1)\n",
    "print(classification_report(y_test.argmax(axis = 1),y_pred))"
   ]
  },
  {
   "cell_type": "code",
   "execution_count": null,
   "metadata": {
    "colab": {
     "base_uri": "https://localhost:8080/"
    },
    "id": "3m_cWbNRMRgK",
    "outputId": "6a70ebd9-7eb3-4a0b-ed74-f22b40ff3e56"
   },
   "outputs": [
    {
     "name": "stdout",
     "output_type": "stream",
     "text": [
      "              precision    recall  f1-score   support\n",
      "\n",
      "           0       0.98      0.93      0.96     11063\n",
      "           1       0.94      0.97      0.96      6995\n",
      "           2       0.97      0.98      0.98     18667\n",
      "           3       0.92      0.96      0.94      8090\n",
      "           4       0.99      0.92      0.95      9226\n",
      "           5       0.94      0.95      0.95       932\n",
      "           6       0.92      0.96      0.94      4579\n",
      "           7       0.94      0.92      0.93      5752\n",
      "           8       0.93      0.95      0.94       883\n",
      "           9       0.94      0.96      0.95      6825\n",
      "          10       0.86      0.96      0.91      4471\n",
      "          11       0.96      0.98      0.97      9267\n",
      "          12       0.97      0.98      0.97      9849\n",
      "          13       0.97      0.97      0.97     15254\n",
      "          14       0.99      0.98      0.99     46196\n",
      "          15       0.98      0.98      0.98     15473\n",
      "          16       0.96      0.94      0.95      4653\n",
      "          17       0.95      0.95      0.95      9270\n",
      "          18       0.99      0.98      0.99     38863\n",
      "          19       0.98      0.99      0.99     18048\n",
      "          20       0.98      0.98      0.98     23148\n",
      "          21       0.96      0.99      0.97      3359\n",
      "          22       0.97      0.97      0.97      8586\n",
      "          23       0.98      0.94      0.96      5003\n",
      "          24       0.97      0.96      0.97      8657\n",
      "          25       0.98      0.96      0.97      4851\n",
      "\n",
      "    accuracy                           0.97    297960\n",
      "   macro avg       0.96      0.96      0.96    297960\n",
      "weighted avg       0.97      0.97      0.97    297960\n",
      "\n"
     ]
    }
   ],
   "source": [
    "y_pred = model.predict(X_train)\n",
    "y_pred = y_pred.argmax(axis = 1)\n",
    "print(classification_report(y_train.argmax(axis = 1),y_pred))"
   ]
  },
  {
   "cell_type": "markdown",
   "metadata": {
    "id": "5qp79bmnc9O9"
   },
   "source": [
    "## Momentum = 0.98"
   ]
  },
  {
   "cell_type": "code",
   "execution_count": null,
   "metadata": {
    "id": "Z6Lh9795c--f"
   },
   "outputs": [],
   "source": [
    "model = Sequential()\n",
    "model.add(Input(shape=(28, 28, 1)))\n",
    "model.add(Flatten())\n",
    "model.add(Dense(50, activation='relu'))\n",
    "model.add(Dense(40, activation='relu'))\n",
    "model.add(Dense(30, activation='relu'))\n",
    "model.add(Dense(26, activation='softmax'))\n",
    "opt = tf.keras.optimizers.SGD(learning_rate=0.01,momentum=0.98)\n",
    "model.compile(loss='categorical_crossentropy', optimizer=opt, metrics=['accuracy', Recall, Precision, F1])"
   ]
  },
  {
   "cell_type": "code",
   "execution_count": null,
   "metadata": {
    "colab": {
     "base_uri": "https://localhost:8080/"
    },
    "id": "7m8S76-vdAfN",
    "outputId": "6aad43eb-03f6-46a4-e59a-31e004e512b7"
   },
   "outputs": [
    {
     "name": "stdout",
     "output_type": "stream",
     "text": [
      "Epoch 1/10\n",
      "9312/9312 [==============================] - 26s 3ms/step - loss: 0.6132 - accuracy: 0.8442 - Recall: 0.8033 - Precision: 0.9009 - F1: 0.8463 - val_loss: 123.4490 - val_accuracy: 0.8382 - val_Recall: 0.8372 - val_Precision: 0.8427 - val_F1: 0.8399\n",
      "Epoch 2/10\n",
      "9312/9312 [==============================] - 26s 3ms/step - loss: 0.4555 - accuracy: 0.8964 - Recall: 0.8687 - Precision: 0.9353 - F1: 0.9001 - val_loss: 89.4178 - val_accuracy: 0.8713 - val_Recall: 0.8673 - val_Precision: 0.8870 - val_F1: 0.8768\n",
      "Epoch 3/10\n",
      "9312/9312 [==============================] - 26s 3ms/step - loss: 0.4695 - accuracy: 0.9001 - Recall: 0.8715 - Precision: 0.9406 - F1: 0.9041 - val_loss: 84.8749 - val_accuracy: 0.8761 - val_Recall: 0.8754 - val_Precision: 0.8918 - val_F1: 0.8834\n",
      "Epoch 4/10\n",
      "9312/9312 [==============================] - 26s 3ms/step - loss: 0.4574 - accuracy: 0.9042 - Recall: 0.8760 - Precision: 0.9472 - F1: 0.9096 - val_loss: 92.3990 - val_accuracy: 0.8531 - val_Recall: 0.8510 - val_Precision: 0.8880 - val_F1: 0.8688\n",
      "Epoch 5/10\n",
      "9312/9312 [==============================] - 26s 3ms/step - loss: 0.4861 - accuracy: 0.9012 - Recall: 0.8710 - Precision: 0.9496 - F1: 0.9079 - val_loss: 103.0301 - val_accuracy: 0.8132 - val_Recall: 0.7897 - val_Precision: 0.9037 - val_F1: 0.8418\n",
      "Epoch 6/10\n",
      "9312/9312 [==============================] - 26s 3ms/step - loss: 2.4911 - accuracy: 0.3031 - Recall: 0.1466 - Precision: 0.3595 - F1: 0.1841 - val_loss: 2.9328 - val_accuracy: 0.1561 - val_Recall: 0.0000e+00 - val_Precision: 0.0000e+00 - val_F1: 0.0000e+00\n",
      "Epoch 7/10\n",
      "9312/9312 [==============================] - 26s 3ms/step - loss: 2.9318 - accuracy: 0.1532 - Recall: 0.0000e+00 - Precision: 0.0000e+00 - F1: 0.0000e+00 - val_loss: 2.9327 - val_accuracy: 0.1561 - val_Recall: 0.0000e+00 - val_Precision: 0.0000e+00 - val_F1: 0.0000e+00\n",
      "Epoch 8/10\n",
      "9312/9312 [==============================] - 27s 3ms/step - loss: 2.9317 - accuracy: 0.1534 - Recall: 0.0000e+00 - Precision: 0.0000e+00 - F1: 0.0000e+00 - val_loss: 2.9330 - val_accuracy: 0.1561 - val_Recall: 0.0000e+00 - val_Precision: 0.0000e+00 - val_F1: 0.0000e+00\n",
      "Epoch 9/10\n",
      "9312/9312 [==============================] - 24s 3ms/step - loss: 2.9319 - accuracy: 0.1532 - Recall: 0.0000e+00 - Precision: 0.0000e+00 - F1: 0.0000e+00 - val_loss: 2.9329 - val_accuracy: 0.1561 - val_Recall: 0.0000e+00 - val_Precision: 0.0000e+00 - val_F1: 0.0000e+00\n",
      "Epoch 10/10\n",
      "9312/9312 [==============================] - 26s 3ms/step - loss: 2.9319 - accuracy: 0.1529 - Recall: 0.0000e+00 - Precision: 0.0000e+00 - F1: 0.0000e+00 - val_loss: 2.9322 - val_accuracy: 0.1561 - val_Recall: 0.0000e+00 - val_Precision: 0.0000e+00 - val_F1: 0.0000e+00\n"
     ]
    }
   ],
   "source": [
    "history = model.fit(X_train, y_train, epochs=10, batch_size=32,validation_data=(X_test, y_test))"
   ]
  },
  {
   "cell_type": "code",
   "execution_count": null,
   "metadata": {
    "colab": {
     "base_uri": "https://localhost:8080/",
     "height": 283
    },
    "id": "d3P2fyLPdBhf",
    "outputId": "525085b8-77da-477b-bc85-61c3e23f0e36"
   },
   "outputs": [
    {
     "data": {
      "text/plain": [
       "<matplotlib.axes._subplots.AxesSubplot at 0x7f6b9cbf3550>"
      ]
     },
     "execution_count": 44,
     "metadata": {},
     "output_type": "execute_result"
    },
    {
     "data": {
      "image/png": "[encoded data removed]",
      "text/plain": [
       "<Figure size 432x288 with 1 Axes>"
      ]
     },
     "metadata": {},
     "output_type": "display_data"
    }
   ],
   "source": [
    "model_loss = pd.DataFrame(history.history['accuracy'])\n",
    "model_loss.plot()"
   ]
  },
  {
   "cell_type": "code",
   "execution_count": null,
   "metadata": {
    "colab": {
     "base_uri": "https://localhost:8080/",
     "height": 283
    },
    "id": "QTBQguDGdCdD",
    "outputId": "0ce4b601-62fa-4edf-bcae-28fc94a9c4d0"
   },
   "outputs": [
    {
     "data": {
      "text/plain": [
       "<matplotlib.axes._subplots.AxesSubplot at 0x7f6b9d879cd0>"
      ]
     },
     "execution_count": 45,
     "metadata": {},
     "output_type": "execute_result"
    },
    {
     "data": {
      "image/png": "[encoded data removed]",
      "text/plain": [
       "<Figure size 432x288 with 1 Axes>"
      ]
     },
     "metadata": {},
     "output_type": "display_data"
    }
   ],
   "source": [
    "model_loss = pd.DataFrame(history.history['loss'])\n",
    "model_loss.plot()"
   ]
  },
  {
   "cell_type": "code",
   "execution_count": null,
   "metadata": {
    "colab": {
     "base_uri": "https://localhost:8080/"
    },
    "id": "YeLU1LpYdDWL",
    "outputId": "2ee1a5c1-71f7-4a88-bf08-68aaf9813efc"
   },
   "outputs": [
    {
     "name": "stdout",
     "output_type": "stream",
     "text": [
      "              precision    recall  f1-score   support\n",
      "\n",
      "           0       0.00      0.00      0.00      2806\n",
      "           1       0.00      0.00      0.00      1673\n",
      "           2       0.00      0.00      0.00      4742\n",
      "           3       0.00      0.00      0.00      2044\n",
      "           4       0.00      0.00      0.00      2214\n",
      "           5       0.00      0.00      0.00       231\n",
      "           6       0.00      0.00      0.00      1183\n",
      "           7       0.00      0.00      0.00      1466\n",
      "           8       0.00      0.00      0.00       237\n",
      "           9       0.00      0.00      0.00      1668\n",
      "          10       0.00      0.00      0.00      1132\n",
      "          11       0.00      0.00      0.00      2319\n",
      "          12       0.00      0.00      0.00      2487\n",
      "          13       0.00      0.00      0.00      3756\n",
      "          14       0.16      1.00      0.27     11629\n",
      "          15       0.00      0.00      0.00      3868\n",
      "          16       0.00      0.00      0.00      1159\n",
      "          17       0.00      0.00      0.00      2296\n",
      "          18       0.00      0.00      0.00      9556\n",
      "          19       0.00      0.00      0.00      4447\n",
      "          20       0.00      0.00      0.00      5860\n",
      "          21       0.00      0.00      0.00       823\n",
      "          22       0.00      0.00      0.00      2198\n",
      "          23       0.00      0.00      0.00      1269\n",
      "          24       0.00      0.00      0.00      2202\n",
      "          25       0.00      0.00      0.00      1225\n",
      "\n",
      "    accuracy                           0.16     74490\n",
      "   macro avg       0.01      0.04      0.01     74490\n",
      "weighted avg       0.02      0.16      0.04     74490\n",
      "\n"
     ]
    }
   ],
   "source": [
    "y_pred = model.predict(X_test)\n",
    "y_pred = y_pred.argmax(axis = 1)\n",
    "print(classification_report(y_test.argmax(axis = 1),y_pred))"
   ]
  },
  {
   "cell_type": "code",
   "execution_count": null,
   "metadata": {
    "colab": {
     "base_uri": "https://localhost:8080/"
    },
    "id": "1kWj0i35MTH2",
    "outputId": "945ba974-989d-45f2-b808-6f9f831eaa1f"
   },
   "outputs": [
    {
     "name": "stdout",
     "output_type": "stream",
     "text": [
      "              precision    recall  f1-score   support\n",
      "\n",
      "           0       0.00      0.00      0.00     11063\n",
      "           1       0.00      0.00      0.00      6995\n",
      "           2       0.00      0.00      0.00     18667\n",
      "           3       0.00      0.00      0.00      8090\n",
      "           4       0.00      0.00      0.00      9226\n",
      "           5       0.00      0.00      0.00       932\n",
      "           6       0.00      0.00      0.00      4579\n",
      "           7       0.00      0.00      0.00      5752\n",
      "           8       0.00      0.00      0.00       883\n",
      "           9       0.00      0.00      0.00      6825\n",
      "          10       0.00      0.00      0.00      4471\n",
      "          11       0.00      0.00      0.00      9267\n",
      "          12       0.00      0.00      0.00      9849\n",
      "          13       0.00      0.00      0.00     15254\n",
      "          14       0.16      1.00      0.27     46196\n",
      "          15       0.00      0.00      0.00     15473\n",
      "          16       0.00      0.00      0.00      4653\n",
      "          17       0.00      0.00      0.00      9270\n",
      "          18       0.00      0.00      0.00     38863\n",
      "          19       0.00      0.00      0.00     18048\n",
      "          20       0.00      0.00      0.00     23148\n",
      "          21       0.00      0.00      0.00      3359\n",
      "          22       0.00      0.00      0.00      8586\n",
      "          23       0.00      0.00      0.00      5003\n",
      "          24       0.00      0.00      0.00      8657\n",
      "          25       0.00      0.00      0.00      4851\n",
      "\n",
      "    accuracy                           0.16    297960\n",
      "   macro avg       0.01      0.04      0.01    297960\n",
      "weighted avg       0.02      0.16      0.04    297960\n",
      "\n"
     ]
    }
   ],
   "source": [
    "y_pred = model.predict(X_train)\n",
    "y_pred = y_pred.argmax(axis = 1)\n",
    "print(classification_report(y_train.argmax(axis = 1),y_pred))"
   ]
  },
  {
   "cell_type": "markdown",
   "metadata": {
    "id": "NKnE5T_XlJ24"
   },
   "source": [
    "## Analyzing the results\n",
    "\n",
    "As you can see, increasing momentum lead to quicker convergence and better performance as well. But increasing it too much(momentum = 0.98) led to instability."
   ]
  },
  {
   "cell_type": "markdown",
   "metadata": {
    "id": "qZ5w2TaadMPO"
   },
   "source": [
    "## Adam Optimizer\n",
    "\n",
    "By using `Adam` optimier, the overall F1-Score increased by 2% compared to `SGD`."
   ]
  },
  {
   "cell_type": "code",
   "execution_count": null,
   "metadata": {
    "id": "i9azCmygdEF6"
   },
   "outputs": [],
   "source": [
    "model = Sequential()\n",
    "model.add(Input(shape=(28, 28, 1)))\n",
    "model.add(Flatten())\n",
    "model.add(Dense(50, activation='relu'))\n",
    "model.add(Dense(40, activation='relu'))\n",
    "model.add(Dense(30, activation='relu'))\n",
    "model.add(Dense(26, activation='softmax'))\n",
    "opt = tf.keras.optimizers.Adam()\n",
    "model.compile(loss='categorical_crossentropy', optimizer=opt, metrics=['accuracy', Recall, Precision, F1])"
   ]
  },
  {
   "cell_type": "code",
   "execution_count": null,
   "metadata": {
    "colab": {
     "base_uri": "https://localhost:8080/"
    },
    "id": "GriQ4yl8dhmp",
    "outputId": "87541a81-4004-4b62-e4e0-8ac29ab772a5"
   },
   "outputs": [
    {
     "name": "stdout",
     "output_type": "stream",
     "text": [
      "Epoch 1/10\n",
      "9312/9312 [==============================] - 31s 3ms/step - loss: 0.3670 - accuracy: 0.8975 - Recall: 0.8680 - Precision: 0.9343 - F1: 0.8956 - val_loss: 41.6241 - val_accuracy: 0.9217 - val_Recall: 0.9217 - val_Precision: 0.9217 - val_F1: 0.9217\n",
      "Epoch 2/10\n",
      "9312/9312 [==============================] - 31s 3ms/step - loss: 0.1877 - accuracy: 0.9470 - Recall: 0.9390 - Precision: 0.9583 - F1: 0.9483 - val_loss: 39.6302 - val_accuracy: 0.9279 - val_Recall: 0.9279 - val_Precision: 0.9279 - val_F1: 0.9279\n",
      "Epoch 3/10\n",
      "9312/9312 [==============================] - 30s 3ms/step - loss: 0.1540 - accuracy: 0.9561 - Recall: 0.9499 - Precision: 0.9646 - F1: 0.9570 - val_loss: 38.4572 - val_accuracy: 0.9357 - val_Recall: 0.9358 - val_Precision: 0.9358 - val_F1: 0.9358\n",
      "Epoch 4/10\n",
      "9312/9312 [==============================] - 30s 3ms/step - loss: 0.1349 - accuracy: 0.9613 - Recall: 0.9562 - Precision: 0.9686 - F1: 0.9622 - val_loss: 50.4818 - val_accuracy: 0.9186 - val_Recall: 0.9186 - val_Precision: 0.9186 - val_F1: 0.9186\n",
      "Epoch 5/10\n",
      "9312/9312 [==============================] - 28s 3ms/step - loss: 0.1237 - accuracy: 0.9643 - Recall: 0.9598 - Precision: 0.9706 - F1: 0.9651 - val_loss: 45.2072 - val_accuracy: 0.9231 - val_Recall: 0.9231 - val_Precision: 0.9231 - val_F1: 0.9231\n",
      "Epoch 6/10\n",
      "9312/9312 [==============================] - 30s 3ms/step - loss: 0.1151 - accuracy: 0.9665 - Recall: 0.9625 - Precision: 0.9722 - F1: 0.9672 - val_loss: 51.7925 - val_accuracy: 0.9165 - val_Recall: 0.9165 - val_Precision: 0.9165 - val_F1: 0.9165\n",
      "Epoch 7/10\n",
      "9312/9312 [==============================] - 28s 3ms/step - loss: 0.1090 - accuracy: 0.9682 - Recall: 0.9645 - Precision: 0.9735 - F1: 0.9689 - val_loss: 50.6173 - val_accuracy: 0.9182 - val_Recall: 0.9182 - val_Precision: 0.9182 - val_F1: 0.9182\n",
      "Epoch 8/10\n",
      "9312/9312 [==============================] - 29s 3ms/step - loss: 0.1035 - accuracy: 0.9697 - Recall: 0.9662 - Precision: 0.9746 - F1: 0.9703 - val_loss: 36.6871 - val_accuracy: 0.9388 - val_Recall: 0.9388 - val_Precision: 0.9388 - val_F1: 0.9388\n",
      "Epoch 9/10\n",
      "9312/9312 [==============================] - 29s 3ms/step - loss: 0.0996 - accuracy: 0.9707 - Recall: 0.9674 - Precision: 0.9752 - F1: 0.9712 - val_loss: 38.7086 - val_accuracy: 0.9382 - val_Recall: 0.9382 - val_Precision: 0.9382 - val_F1: 0.9382\n",
      "Epoch 10/10\n",
      "9312/9312 [==============================] - 30s 3ms/step - loss: 0.0947 - accuracy: 0.9724 - Recall: 0.9694 - Precision: 0.9765 - F1: 0.9729 - val_loss: 31.5702 - val_accuracy: 0.9463 - val_Recall: 0.9463 - val_Precision: 0.9463 - val_F1: 0.9463\n"
     ]
    }
   ],
   "source": [
    "history = model.fit(X_train, y_train, epochs=10, batch_size=32,validation_data=(X_test, y_test))"
   ]
  },
  {
   "cell_type": "code",
   "execution_count": null,
   "metadata": {
    "colab": {
     "base_uri": "https://localhost:8080/",
     "height": 283
    },
    "id": "Bs9VO-epdinn",
    "outputId": "9da992f5-dfa6-41d2-d4e5-0fd6c9dd3da1"
   },
   "outputs": [
    {
     "data": {
      "text/plain": [
       "<matplotlib.axes._subplots.AxesSubplot at 0x7f6b9d6ef190>"
      ]
     },
     "execution_count": 50,
     "metadata": {},
     "output_type": "execute_result"
    },
    {
     "data": {
      "image/png": "[encoded data removed]",
      "text/plain": [
       "<Figure size 432x288 with 1 Axes>"
      ]
     },
     "metadata": {},
     "output_type": "display_data"
    }
   ],
   "source": [
    "model_loss = pd.DataFrame(history.history['accuracy'])\n",
    "model_loss.plot()"
   ]
  },
  {
   "cell_type": "code",
   "execution_count": null,
   "metadata": {
    "colab": {
     "base_uri": "https://localhost:8080/",
     "height": 283
    },
    "id": "fTN-TBCFdj0N",
    "outputId": "379f0bd8-7574-4ec7-d92e-cdacca89cd30"
   },
   "outputs": [
    {
     "data": {
      "text/plain": [
       "<matplotlib.axes._subplots.AxesSubplot at 0x7f6b9d6afd10>"
      ]
     },
     "execution_count": 51,
     "metadata": {},
     "output_type": "execute_result"
    },
    {
     "data": {
      "image/png": "[encoded data removed]",
      "text/plain": [
       "<Figure size 432x288 with 1 Axes>"
      ]
     },
     "metadata": {},
     "output_type": "display_data"
    }
   ],
   "source": [
    "model_loss = pd.DataFrame(history.history['loss'])\n",
    "model_loss.plot()"
   ]
  },
  {
   "cell_type": "code",
   "execution_count": null,
   "metadata": {
    "colab": {
     "base_uri": "https://localhost:8080/"
    },
    "id": "nICq8rvwdlAq",
    "outputId": "3078d429-7332-4d0f-d266-d138c5189afb"
   },
   "outputs": [
    {
     "name": "stdout",
     "output_type": "stream",
     "text": [
      "              precision    recall  f1-score   support\n",
      "\n",
      "           0       0.98      0.90      0.94      2806\n",
      "           1       0.97      0.88      0.92      1673\n",
      "           2       0.94      0.99      0.96      4742\n",
      "           3       0.97      0.85      0.90      2044\n",
      "           4       0.84      0.98      0.90      2214\n",
      "           5       0.78      0.80      0.79       231\n",
      "           6       0.94      0.87      0.91      1183\n",
      "           7       0.88      0.93      0.90      1466\n",
      "           8       0.93      0.89      0.91       237\n",
      "           9       0.94      0.90      0.92      1668\n",
      "          10       0.96      0.87      0.91      1132\n",
      "          11       0.98      0.97      0.97      2319\n",
      "          12       1.00      0.87      0.93      2487\n",
      "          13       0.85      0.98      0.91      3756\n",
      "          14       0.95      0.99      0.97     11629\n",
      "          15       0.98      0.96      0.97      3868\n",
      "          16       0.99      0.81      0.89      1159\n",
      "          17       0.89      0.95      0.92      2296\n",
      "          18       0.97      0.99      0.98      9556\n",
      "          19       0.98      0.97      0.98      4447\n",
      "          20       0.98      0.94      0.96      5860\n",
      "          21       0.77      1.00      0.87       823\n",
      "          22       1.00      0.77      0.87      2198\n",
      "          23       0.89      0.98      0.93      1269\n",
      "          24       0.98      0.87      0.92      2202\n",
      "          25       0.90      0.97      0.93      1225\n",
      "\n",
      "    accuracy                           0.95     74490\n",
      "   macro avg       0.93      0.92      0.92     74490\n",
      "weighted avg       0.95      0.95      0.95     74490\n",
      "\n"
     ]
    }
   ],
   "source": [
    "y_pred = model.predict(X_test)\n",
    "y_pred = y_pred.argmax(axis = 1)\n",
    "print(classification_report(y_test.argmax(axis = 1),y_pred))"
   ]
  },
  {
   "cell_type": "code",
   "execution_count": null,
   "metadata": {
    "colab": {
     "base_uri": "https://localhost:8080/"
    },
    "id": "cwoN8H4CMUn3",
    "outputId": "10c06a4c-bf4a-46cd-f350-8e931c9028dc"
   },
   "outputs": [
    {
     "name": "stdout",
     "output_type": "stream",
     "text": [
      "              precision    recall  f1-score   support\n",
      "\n",
      "           0       0.98      0.96      0.97     11063\n",
      "           1       0.96      0.97      0.96      6995\n",
      "           2       0.98      0.98      0.98     18667\n",
      "           3       0.90      0.97      0.94      8090\n",
      "           4       0.98      0.95      0.97      9226\n",
      "           5       0.96      0.88      0.92       932\n",
      "           6       0.95      0.95      0.95      4579\n",
      "           7       0.95      0.94      0.94      5752\n",
      "           8       0.98      0.89      0.94       883\n",
      "           9       0.98      0.93      0.95      6825\n",
      "          10       0.97      0.92      0.95      4471\n",
      "          11       0.99      0.98      0.98      9267\n",
      "          12       0.97      0.98      0.97      9849\n",
      "          13       0.97      0.98      0.97     15254\n",
      "          14       0.99      0.98      0.98     46196\n",
      "          15       0.98      0.99      0.98     15473\n",
      "          16       0.91      0.97      0.94      4653\n",
      "          17       0.94      0.97      0.96      9270\n",
      "          18       0.99      0.99      0.99     38863\n",
      "          19       0.99      0.99      0.99     18048\n",
      "          20       0.99      0.98      0.98     23148\n",
      "          21       0.96      0.99      0.97      3359\n",
      "          22       0.95      0.98      0.97      8586\n",
      "          23       0.97      0.97      0.97      5003\n",
      "          24       0.97      0.97      0.97      8657\n",
      "          25       0.95      0.99      0.97      4851\n",
      "\n",
      "    accuracy                           0.98    297960\n",
      "   macro avg       0.97      0.96      0.96    297960\n",
      "weighted avg       0.98      0.98      0.98    297960\n",
      "\n"
     ]
    }
   ],
   "source": [
    "y_pred = model.predict(X_train)\n",
    "y_pred = y_pred.argmax(axis = 1)\n",
    "print(classification_report(y_train.argmax(axis = 1),y_pred))"
   ]
  },
  {
   "cell_type": "markdown",
   "metadata": {
    "id": "jT4Iu0P2eFeO"
   },
   "source": [
    "## Part 2) Train the model for 20 epochs\n",
    "\n",
    "### Why to use more than one epoch?\n",
    "\n",
    "Passing the entire dataset through a neural network is not enough. And we need to pass the full dataset multiple times to the same neural network. But keep in mind that we are using a limited dataset and to optimise the learning and the graph we are using Gradient Descent which is an iterative process. So, updating the weights with single pass or one epoch is not enough.\n",
    "\n",
    "One epoch leads to **underfitting**.\n",
    "\n",
    "As we mentioned it is not necessary to use more than one epoch, because maybe we have a large enough dataset to train which does not happen so much in reality.\n",
    "\n",
    "As the number of epochs increases, more number of times the weight are changed in the neural network and the curve goes from underfitting to optimal to overfitting curve.\n",
    "\n",
    "### Is always increasing the epochs of training lead to better performance?\n",
    "**No**. Because if we choose the number of epochs too high, it'll result in **overfitting**. So we have to be careful in choosing the correct amount of epochs.\n",
    "\n",
    "Here's a couple of ways to handle this:\n",
    "\n",
    "- We need to come-up with a simple model with less number of parameters to learn\n",
    "- Add more data by augmentation\n",
    "- Add noise to dense or convolution layers\n",
    "- Add drop-out layers\n",
    "- Add l1 or l2 regularizers\n",
    "- Add early stopping\n",
    "- Check the model accuracy on validation data\n",
    "- Early stopping will tell you appropriate epochs without overfitting the model"
   ]
  },
  {
   "cell_type": "code",
   "execution_count": null,
   "metadata": {
    "id": "RUffpymHeHel"
   },
   "outputs": [],
   "source": [
    "model = Sequential()\n",
    "model.add(Input(shape=(28, 28, 1)))\n",
    "model.add(Flatten())\n",
    "model.add(Dense(50, activation='relu'))\n",
    "model.add(Dense(40, activation='relu'))\n",
    "model.add(Dense(30, activation='relu'))\n",
    "model.add(Dense(26, activation='softmax'))\n",
    "opt = tf.keras.optimizers.Adam()\n",
    "model.compile(loss='categorical_crossentropy', optimizer=opt, metrics=['accuracy', Recall, Precision, F1])"
   ]
  },
  {
   "cell_type": "code",
   "execution_count": null,
   "metadata": {
    "colab": {
     "base_uri": "https://localhost:8080/"
    },
    "id": "9dheqGqHefn0",
    "outputId": "8a40a87d-7cd1-4306-c42c-913fdf91d979"
   },
   "outputs": [
    {
     "name": "stdout",
     "output_type": "stream",
     "text": [
      "Epoch 1/20\n",
      "9312/9312 [==============================] - 31s 3ms/step - loss: 0.3484 - accuracy: 0.9034 - Recall: 0.8759 - Precision: 0.9369 - F1: 0.9012 - val_loss: 38.4361 - val_accuracy: 0.9307 - val_Recall: 0.9307 - val_Precision: 0.9307 - val_F1: 0.9307\n",
      "Epoch 2/20\n",
      "9312/9312 [==============================] - 30s 3ms/step - loss: 0.1828 - accuracy: 0.9481 - Recall: 0.9405 - Precision: 0.9590 - F1: 0.9495 - val_loss: 36.4427 - val_accuracy: 0.9345 - val_Recall: 0.9345 - val_Precision: 0.9345 - val_F1: 0.9345\n",
      "Epoch 3/20\n",
      "9312/9312 [==============================] - 33s 4ms/step - loss: 0.1522 - accuracy: 0.9562 - Recall: 0.9500 - Precision: 0.9646 - F1: 0.9571 - val_loss: 40.7496 - val_accuracy: 0.9267 - val_Recall: 0.9267 - val_Precision: 0.9267 - val_F1: 0.9267\n",
      "Epoch 4/20\n",
      "9312/9312 [==============================] - 31s 3ms/step - loss: 0.1354 - accuracy: 0.9606 - Recall: 0.9556 - Precision: 0.9676 - F1: 0.9615 - val_loss: 35.7777 - val_accuracy: 0.9411 - val_Recall: 0.9411 - val_Precision: 0.9411 - val_F1: 0.9411\n",
      "Epoch 5/20\n",
      "9312/9312 [==============================] - 31s 3ms/step - loss: 0.1237 - accuracy: 0.9642 - Recall: 0.9596 - Precision: 0.9702 - F1: 0.9648 - val_loss: 35.9641 - val_accuracy: 0.9366 - val_Recall: 0.9366 - val_Precision: 0.9366 - val_F1: 0.9366\n",
      "Epoch 6/20\n",
      "9312/9312 [==============================] - 31s 3ms/step - loss: 0.1146 - accuracy: 0.9665 - Recall: 0.9627 - Precision: 0.9722 - F1: 0.9673 - val_loss: 33.1733 - val_accuracy: 0.9457 - val_Recall: 0.9457 - val_Precision: 0.9457 - val_F1: 0.9457\n",
      "Epoch 7/20\n",
      "9312/9312 [==============================] - 31s 3ms/step - loss: 0.1082 - accuracy: 0.9683 - Recall: 0.9646 - Precision: 0.9732 - F1: 0.9688 - val_loss: 32.3203 - val_accuracy: 0.9454 - val_Recall: 0.9454 - val_Precision: 0.9454 - val_F1: 0.9454\n",
      "Epoch 8/20\n",
      "9312/9312 [==============================] - 28s 3ms/step - loss: 0.1038 - accuracy: 0.9691 - Recall: 0.9659 - Precision: 0.9740 - F1: 0.9698 - val_loss: 31.6211 - val_accuracy: 0.9454 - val_Recall: 0.9454 - val_Precision: 0.9454 - val_F1: 0.9454\n",
      "Epoch 9/20\n",
      "9312/9312 [==============================] - 32s 3ms/step - loss: 0.0993 - accuracy: 0.9701 - Recall: 0.9671 - Precision: 0.9749 - F1: 0.9709 - val_loss: 34.8476 - val_accuracy: 0.9420 - val_Recall: 0.9420 - val_Precision: 0.9420 - val_F1: 0.9420\n",
      "Epoch 10/20\n",
      "9312/9312 [==============================] - 28s 3ms/step - loss: 0.0945 - accuracy: 0.9718 - Recall: 0.9688 - Precision: 0.9761 - F1: 0.9724 - val_loss: 41.0005 - val_accuracy: 0.9365 - val_Recall: 0.9365 - val_Precision: 0.9365 - val_F1: 0.9365\n",
      "Epoch 11/20\n",
      "9312/9312 [==============================] - 31s 3ms/step - loss: 0.0916 - accuracy: 0.9728 - Recall: 0.9700 - Precision: 0.9769 - F1: 0.9734 - val_loss: 38.3919 - val_accuracy: 0.9412 - val_Recall: 0.9412 - val_Precision: 0.9412 - val_F1: 0.9412\n",
      "Epoch 12/20\n",
      "9312/9312 [==============================] - 29s 3ms/step - loss: 0.0885 - accuracy: 0.9738 - Recall: 0.9711 - Precision: 0.9778 - F1: 0.9744 - val_loss: 26.8297 - val_accuracy: 0.9549 - val_Recall: 0.9549 - val_Precision: 0.9549 - val_F1: 0.9549\n",
      "Epoch 13/20\n",
      "9312/9312 [==============================] - 31s 3ms/step - loss: 0.0854 - accuracy: 0.9745 - Recall: 0.9720 - Precision: 0.9782 - F1: 0.9750 - val_loss: 34.2988 - val_accuracy: 0.9451 - val_Recall: 0.9451 - val_Precision: 0.9451 - val_F1: 0.9451\n",
      "Epoch 14/20\n",
      "9312/9312 [==============================] - 29s 3ms/step - loss: 0.0839 - accuracy: 0.9750 - Recall: 0.9724 - Precision: 0.9784 - F1: 0.9753 - val_loss: 45.5665 - val_accuracy: 0.9284 - val_Recall: 0.9284 - val_Precision: 0.9284 - val_F1: 0.9284\n",
      "Epoch 15/20\n",
      "9312/9312 [==============================] - 29s 3ms/step - loss: 0.0815 - accuracy: 0.9756 - Recall: 0.9730 - Precision: 0.9790 - F1: 0.9759 - val_loss: 40.2108 - val_accuracy: 0.9355 - val_Recall: 0.9355 - val_Precision: 0.9355 - val_F1: 0.9355\n",
      "Epoch 16/20\n",
      "9312/9312 [==============================] - 29s 3ms/step - loss: 0.0797 - accuracy: 0.9761 - Recall: 0.9737 - Precision: 0.9793 - F1: 0.9764 - val_loss: 31.4047 - val_accuracy: 0.9488 - val_Recall: 0.9488 - val_Precision: 0.9488 - val_F1: 0.9488\n",
      "Epoch 17/20\n",
      "9312/9312 [==============================] - 29s 3ms/step - loss: 0.0777 - accuracy: 0.9765 - Recall: 0.9743 - Precision: 0.9797 - F1: 0.9769 - val_loss: 35.7415 - val_accuracy: 0.9440 - val_Recall: 0.9440 - val_Precision: 0.9440 - val_F1: 0.9440\n",
      "Epoch 18/20\n",
      "9312/9312 [==============================] - 31s 3ms/step - loss: 0.0761 - accuracy: 0.9772 - Recall: 0.9751 - Precision: 0.9804 - F1: 0.9777 - val_loss: 30.7039 - val_accuracy: 0.9512 - val_Recall: 0.9512 - val_Precision: 0.9512 - val_F1: 0.9512\n",
      "Epoch 19/20\n",
      "9312/9312 [==============================] - 29s 3ms/step - loss: 0.0743 - accuracy: 0.9776 - Recall: 0.9756 - Precision: 0.9805 - F1: 0.9780 - val_loss: 48.5583 - val_accuracy: 0.9267 - val_Recall: 0.9267 - val_Precision: 0.9267 - val_F1: 0.9267\n",
      "Epoch 20/20\n",
      "9312/9312 [==============================] - 31s 3ms/step - loss: 0.0736 - accuracy: 0.9776 - Recall: 0.9756 - Precision: 0.9804 - F1: 0.9780 - val_loss: 39.5513 - val_accuracy: 0.9407 - val_Recall: 0.9407 - val_Precision: 0.9407 - val_F1: 0.9407\n"
     ]
    }
   ],
   "source": [
    "history = model.fit(X_train, y_train, epochs=20, batch_size=32,validation_data=(X_test, y_test))"
   ]
  },
  {
   "cell_type": "code",
   "execution_count": null,
   "metadata": {
    "colab": {
     "base_uri": "https://localhost:8080/",
     "height": 284
    },
    "id": "h0Gl7dQzeiP4",
    "outputId": "fbf0d18d-6825-4c6b-8049-dd4e7b145b42"
   },
   "outputs": [
    {
     "data": {
      "text/plain": [
       "<matplotlib.axes._subplots.AxesSubplot at 0x7f6b9d5bf290>"
      ]
     },
     "execution_count": 56,
     "metadata": {},
     "output_type": "execute_result"
    },
    {
     "data": {
      "image/png": "[encoded data removed]",
      "text/plain": [
       "<Figure size 432x288 with 1 Axes>"
      ]
     },
     "metadata": {},
     "output_type": "display_data"
    }
   ],
   "source": [
    "model_loss = pd.DataFrame(history.history['accuracy'])\n",
    "model_loss.plot()"
   ]
  },
  {
   "cell_type": "code",
   "execution_count": null,
   "metadata": {
    "colab": {
     "base_uri": "https://localhost:8080/",
     "height": 283
    },
    "id": "4dMQ5gsmejZu",
    "outputId": "0714891b-e863-4ed4-ebb9-556d4fb86a7c"
   },
   "outputs": [
    {
     "data": {
      "text/plain": [
       "<matplotlib.axes._subplots.AxesSubplot at 0x7f6b9d3a6690>"
      ]
     },
     "execution_count": 57,
     "metadata": {},
     "output_type": "execute_result"
    },
    {
     "data": {
      "image/png": "[encoded data removed]",
      "text/plain": [
       "<Figure size 432x288 with 1 Axes>"
      ]
     },
     "metadata": {},
     "output_type": "display_data"
    }
   ],
   "source": [
    "model_loss = pd.DataFrame(history.history['loss'])\n",
    "model_loss.plot()"
   ]
  },
  {
   "cell_type": "code",
   "execution_count": null,
   "metadata": {
    "colab": {
     "base_uri": "https://localhost:8080/"
    },
    "id": "xgO1TABcekbI",
    "outputId": "f28e1bd8-c2e3-4394-f912-f92478696e45"
   },
   "outputs": [
    {
     "name": "stdout",
     "output_type": "stream",
     "text": [
      "              precision    recall  f1-score   support\n",
      "\n",
      "           0       0.98      0.94      0.96      2806\n",
      "           1       0.97      0.86      0.91      1673\n",
      "           2       0.94      0.99      0.96      4742\n",
      "           3       0.98      0.79      0.87      2044\n",
      "           4       0.79      0.98      0.88      2214\n",
      "           5       0.83      0.94      0.88       231\n",
      "           6       0.94      0.79      0.86      1183\n",
      "           7       0.87      0.94      0.90      1466\n",
      "           8       0.85      0.92      0.89       237\n",
      "           9       0.88      0.89      0.89      1668\n",
      "          10       0.95      0.83      0.88      1132\n",
      "          11       0.97      0.94      0.95      2319\n",
      "          12       0.99      0.92      0.96      2487\n",
      "          13       0.94      0.94      0.94      3756\n",
      "          14       0.94      0.99      0.97     11629\n",
      "          15       0.98      0.95      0.97      3868\n",
      "          16       0.98      0.73      0.83      1159\n",
      "          17       0.93      0.89      0.91      2296\n",
      "          18       0.94      1.00      0.97      9556\n",
      "          19       0.99      0.95      0.97      4447\n",
      "          20       0.97      0.96      0.96      5860\n",
      "          21       0.81      0.99      0.89       823\n",
      "          22       1.00      0.78      0.88      2198\n",
      "          23       0.78      0.98      0.87      1269\n",
      "          24       0.94      0.89      0.92      2202\n",
      "          25       0.93      0.96      0.95      1225\n",
      "\n",
      "    accuracy                           0.94     74490\n",
      "   macro avg       0.93      0.91      0.92     74490\n",
      "weighted avg       0.94      0.94      0.94     74490\n",
      "\n"
     ]
    }
   ],
   "source": [
    "y_pred = model.predict(X_test)\n",
    "y_pred = y_pred.argmax(axis = 1)\n",
    "print(classification_report(y_test.argmax(axis = 1),y_pred))"
   ]
  },
  {
   "cell_type": "code",
   "execution_count": null,
   "metadata": {
    "id": "x-3-93VgMWOC"
   },
   "outputs": [],
   "source": [
    "y_pred = model.predict(X_train)\n",
    "y_pred = y_pred.argmax(axis = 1)\n",
    "print(classification_report(y_train.argmax(axis = 1),y_pred))"
   ]
  },
  {
   "cell_type": "markdown",
   "metadata": {
    "id": "B0D6IVoKe73G"
   },
   "source": [
    "## Part 3) use MSE as loss function\n",
    "\n",
    "MSE performed much worse compared to Categorical Crossentropy.\n",
    "\n",
    "\n",
    "### Why not to use MSE as loss function for classification?\n",
    "\n",
    "As we see below, loss and accuracy does not change that much and also they does not have good values. So why this happens?\n",
    "\n",
    "In the case of classification, we take the argmax of the probability of each training instance.\n",
    "\n",
    "Now consider below example.\n",
    "\n",
    "Our probability utputs are 0.49 and 0.51. So the class predicted is class 1. Now imagine that true label is also 1.\n",
    "\n",
    "In such a case, if MSE is used, it will return 0 as a loss value, whereas the binary cross-entropy will return some \"tangible\" value. And, if somehow with all data samples, the trained model predicts a similar type of probability, then binary cross-entropy effectively return a big accumulative loss value, whereas MSE will return a 0.\n",
    "\n",
    "MSE is usable in regresssion.\n",
    "\n",
    "So we can see here MSE does not make enough Accuracy for us (And other metrics too).\n",
    "\n",
    "The **Mean Squared Error** is usually used for regression problems not classification."
   ]
  },
  {
   "cell_type": "code",
   "execution_count": null,
   "metadata": {
    "id": "X0ZdVHT5e_vC"
   },
   "outputs": [],
   "source": [
    "model = Sequential()\n",
    "model.add(Input(shape=(28, 28, 1)))\n",
    "model.add(Flatten())\n",
    "model.add(Dense(50, activation='relu'))\n",
    "model.add(Dense(40, activation='relu'))\n",
    "model.add(Dense(30, activation='relu'))\n",
    "model.add(Dense(26, activation='softmax'))\n",
    "opt = tf.keras.optimizers.Adam()\n",
    "model.compile(loss='mean_squared_error', optimizer=opt, metrics=['accuracy', Recall, Precision, F1])"
   ]
  },
  {
   "cell_type": "code",
   "execution_count": null,
   "metadata": {
    "colab": {
     "base_uri": "https://localhost:8080/"
    },
    "id": "WtellY2IfMbf",
    "outputId": "01972b82-4ae6-4617-fd68-831f079c035d"
   },
   "outputs": [
    {
     "name": "stdout",
     "output_type": "stream",
     "text": [
      "Epoch 1/20\n",
      "9312/9312 [==============================] - 30s 3ms/step - loss: 0.0756 - accuracy: 0.0171 - Recall: 0.0171 - Precision: 0.0171 - F1: 0.0171 - val_loss: 0.0756 - val_accuracy: 0.0170 - val_Recall: 0.0170 - val_Precision: 0.0170 - val_F1: 0.0170\n",
      "Epoch 2/20\n",
      "9312/9312 [==============================] - 31s 3ms/step - loss: 0.0756 - accuracy: 0.0168 - Recall: 0.0168 - Precision: 0.0168 - F1: 0.0168 - val_loss: 0.0756 - val_accuracy: 0.0170 - val_Recall: 0.0170 - val_Precision: 0.0170 - val_F1: 0.0170\n",
      "Epoch 3/20\n",
      "9312/9312 [==============================] - 35s 4ms/step - loss: 0.0756 - accuracy: 0.0168 - Recall: 0.0168 - Precision: 0.0168 - F1: 0.0168 - val_loss: 0.0756 - val_accuracy: 0.0170 - val_Recall: 0.0170 - val_Precision: 0.0170 - val_F1: 0.0170\n",
      "Epoch 4/20\n",
      "9312/9312 [==============================] - 31s 3ms/step - loss: 0.0756 - accuracy: 0.0168 - Recall: 0.0168 - Precision: 0.0168 - F1: 0.0168 - val_loss: 0.0756 - val_accuracy: 0.0170 - val_Recall: 0.0170 - val_Precision: 0.0170 - val_F1: 0.0170\n",
      "Epoch 5/20\n",
      "9312/9312 [==============================] - 32s 3ms/step - loss: 0.0756 - accuracy: 0.0168 - Recall: 0.0168 - Precision: 0.0168 - F1: 0.0168 - val_loss: 0.0756 - val_accuracy: 0.0170 - val_Recall: 0.0170 - val_Precision: 0.0170 - val_F1: 0.0170\n",
      "Epoch 6/20\n",
      "9312/9312 [==============================] - 31s 3ms/step - loss: 0.0756 - accuracy: 0.0168 - Recall: 0.0168 - Precision: 0.0168 - F1: 0.0168 - val_loss: 0.0756 - val_accuracy: 0.0170 - val_Recall: 0.0170 - val_Precision: 0.0170 - val_F1: 0.0170\n",
      "Epoch 7/20\n",
      "9312/9312 [==============================] - 29s 3ms/step - loss: 0.0756 - accuracy: 0.0168 - Recall: 0.0168 - Precision: 0.0168 - F1: 0.0168 - val_loss: 0.0756 - val_accuracy: 0.0170 - val_Recall: 0.0170 - val_Precision: 0.0170 - val_F1: 0.0170\n",
      "Epoch 8/20\n",
      "9312/9312 [==============================] - 31s 3ms/step - loss: 0.0756 - accuracy: 0.0168 - Recall: 0.0168 - Precision: 0.0168 - F1: 0.0168 - val_loss: 0.0756 - val_accuracy: 0.0170 - val_Recall: 0.0170 - val_Precision: 0.0170 - val_F1: 0.0170\n",
      "Epoch 9/20\n",
      "9312/9312 [==============================] - 31s 3ms/step - loss: 0.0756 - accuracy: 0.0168 - Recall: 0.0168 - Precision: 0.0168 - F1: 0.0168 - val_loss: 0.0756 - val_accuracy: 0.0170 - val_Recall: 0.0170 - val_Precision: 0.0170 - val_F1: 0.0170\n",
      "Epoch 10/20\n",
      "9312/9312 [==============================] - 31s 3ms/step - loss: 0.0756 - accuracy: 0.0168 - Recall: 0.0168 - Precision: 0.0168 - F1: 0.0168 - val_loss: 0.0756 - val_accuracy: 0.0170 - val_Recall: 0.0170 - val_Precision: 0.0170 - val_F1: 0.0170\n",
      "Epoch 11/20\n",
      "9312/9312 [==============================] - 31s 3ms/step - loss: 0.0756 - accuracy: 0.0168 - Recall: 0.0168 - Precision: 0.0168 - F1: 0.0168 - val_loss: 0.0756 - val_accuracy: 0.0170 - val_Recall: 0.0170 - val_Precision: 0.0170 - val_F1: 0.0170\n",
      "Epoch 12/20\n",
      "9312/9312 [==============================] - 30s 3ms/step - loss: 0.0756 - accuracy: 0.0168 - Recall: 0.0168 - Precision: 0.0168 - F1: 0.0168 - val_loss: 0.0756 - val_accuracy: 0.0170 - val_Recall: 0.0170 - val_Precision: 0.0170 - val_F1: 0.0170\n",
      "Epoch 13/20\n",
      "9312/9312 [==============================] - 29s 3ms/step - loss: 0.0756 - accuracy: 0.0168 - Recall: 0.0168 - Precision: 0.0168 - F1: 0.0168 - val_loss: 0.0756 - val_accuracy: 0.0170 - val_Recall: 0.0170 - val_Precision: 0.0170 - val_F1: 0.0170\n",
      "Epoch 14/20\n",
      "9312/9312 [==============================] - 29s 3ms/step - loss: 0.0756 - accuracy: 0.0168 - Recall: 0.0168 - Precision: 0.0168 - F1: 0.0168 - val_loss: 0.0756 - val_accuracy: 0.0170 - val_Recall: 0.0170 - val_Precision: 0.0170 - val_F1: 0.0170\n",
      "Epoch 15/20\n",
      "9312/9312 [==============================] - 29s 3ms/step - loss: 0.0756 - accuracy: 0.0168 - Recall: 0.0168 - Precision: 0.0168 - F1: 0.0168 - val_loss: 0.0756 - val_accuracy: 0.0170 - val_Recall: 0.0170 - val_Precision: 0.0170 - val_F1: 0.0170\n",
      "Epoch 16/20\n",
      "9312/9312 [==============================] - 31s 3ms/step - loss: 0.0756 - accuracy: 0.0168 - Recall: 0.0168 - Precision: 0.0168 - F1: 0.0168 - val_loss: 0.0756 - val_accuracy: 0.0170 - val_Recall: 0.0170 - val_Precision: 0.0170 - val_F1: 0.0170\n",
      "Epoch 17/20\n",
      "9312/9312 [==============================] - 31s 3ms/step - loss: 0.0756 - accuracy: 0.0168 - Recall: 0.0168 - Precision: 0.0168 - F1: 0.0168 - val_loss: 0.0756 - val_accuracy: 0.0170 - val_Recall: 0.0170 - val_Precision: 0.0170 - val_F1: 0.0170\n",
      "Epoch 18/20\n",
      "9312/9312 [==============================] - 31s 3ms/step - loss: 0.0756 - accuracy: 0.0168 - Recall: 0.0168 - Precision: 0.0168 - F1: 0.0168 - val_loss: 0.0756 - val_accuracy: 0.0170 - val_Recall: 0.0170 - val_Precision: 0.0170 - val_F1: 0.0170\n",
      "Epoch 19/20\n",
      "9312/9312 [==============================] - 30s 3ms/step - loss: 0.0756 - accuracy: 0.0168 - Recall: 0.0168 - Precision: 0.0168 - F1: 0.0168 - val_loss: 0.0756 - val_accuracy: 0.0170 - val_Recall: 0.0170 - val_Precision: 0.0170 - val_F1: 0.0170\n",
      "Epoch 20/20\n",
      "9312/9312 [==============================] - 29s 3ms/step - loss: 0.0756 - accuracy: 0.0168 - Recall: 0.0168 - Precision: 0.0168 - F1: 0.0168 - val_loss: 0.0756 - val_accuracy: 0.0170 - val_Recall: 0.0170 - val_Precision: 0.0170 - val_F1: 0.0170\n"
     ]
    }
   ],
   "source": [
    "history = model.fit(X_train, y_train, epochs=20, batch_size=32,validation_data=(X_test, y_test))"
   ]
  },
  {
   "cell_type": "code",
   "execution_count": null,
   "metadata": {
    "colab": {
     "base_uri": "https://localhost:8080/",
     "height": 283
    },
    "id": "ql0vHCqtfNsQ",
    "outputId": "15d71db6-ca35-49d2-8f68-3141084e457f"
   },
   "outputs": [
    {
     "data": {
      "text/plain": [
       "<matplotlib.axes._subplots.AxesSubplot at 0x7f296535be90>"
      ]
     },
     "execution_count": 15,
     "metadata": {},
     "output_type": "execute_result"
    },
    {
     "data": {
      "image/png": "[encoded data removed]",
      "text/plain": [
       "<Figure size 432x288 with 1 Axes>"
      ]
     },
     "metadata": {},
     "output_type": "display_data"
    }
   ],
   "source": [
    "model_loss = pd.DataFrame(history.history['accuracy'])\n",
    "model_loss.plot()"
   ]
  },
  {
   "cell_type": "code",
   "execution_count": null,
   "metadata": {
    "colab": {
     "base_uri": "https://localhost:8080/",
     "height": 283
    },
    "id": "BSVQQUNAfO2W",
    "outputId": "62a5f22a-825a-46d2-ab22-615b5eed0b4b"
   },
   "outputs": [
    {
     "data": {
      "text/plain": [
       "<matplotlib.axes._subplots.AxesSubplot at 0x7f296535bbd0>"
      ]
     },
     "execution_count": 16,
     "metadata": {},
     "output_type": "execute_result"
    },
    {
     "data": {
      "image/png": "[encoded data removed]",
      "text/plain": [
       "<Figure size 432x288 with 1 Axes>"
      ]
     },
     "metadata": {},
     "output_type": "display_data"
    }
   ],
   "source": [
    "model_loss = pd.DataFrame(history.history['loss'])\n",
    "model_loss.plot()"
   ]
  },
  {
   "cell_type": "code",
   "execution_count": null,
   "metadata": {
    "colab": {
     "base_uri": "https://localhost:8080/"
    },
    "id": "j2PPopPnfP3e",
    "outputId": "d7eefbef-e351-4e80-f93e-81c7017566c2"
   },
   "outputs": [
    {
     "name": "stdout",
     "output_type": "stream",
     "text": [
      "              precision    recall  f1-score   support\n",
      "\n",
      "           0       0.00      0.00      0.00      2806\n",
      "           1       0.00      0.00      0.00      1673\n",
      "           2       0.00      0.00      0.00      4742\n",
      "           3       0.00      0.00      0.00      2044\n",
      "           4       0.00      0.00      0.00      2214\n",
      "           5       0.00      0.00      0.00       231\n",
      "           6       0.00      0.00      0.00      1183\n",
      "           7       0.00      0.00      0.00      1466\n",
      "           8       0.00      0.00      0.00       237\n",
      "           9       0.00      0.00      0.00      1668\n",
      "          10       0.00      0.00      0.00      1132\n",
      "          11       0.00      0.00      0.00      2319\n",
      "          12       0.00      0.00      0.00      2487\n",
      "          13       0.00      0.00      0.00      3756\n",
      "          14       0.00      0.00      0.00     11629\n",
      "          15       0.00      0.00      0.00      3868\n",
      "          16       0.00      0.00      0.00      1159\n",
      "          17       0.00      0.00      0.00      2296\n",
      "          18       0.00      0.00      0.00      9556\n",
      "          19       0.00      0.00      0.00      4447\n",
      "          20       0.00      0.00      0.00      5860\n",
      "          21       0.00      0.00      0.00       823\n",
      "          22       0.00      0.00      0.00      2198\n",
      "          23       0.02      1.00      0.03      1269\n",
      "          24       0.00      0.00      0.00      2202\n",
      "          25       0.00      0.00      0.00      1225\n",
      "\n",
      "    accuracy                           0.02     74490\n",
      "   macro avg       0.00      0.04      0.00     74490\n",
      "weighted avg       0.00      0.02      0.00     74490\n",
      "\n"
     ]
    }
   ],
   "source": [
    "y_pred = model.predict(X_test)\n",
    "y_pred = y_pred.argmax(axis = 1)\n",
    "print(classification_report(y_test.argmax(axis = 1),y_pred))"
   ]
  },
  {
   "cell_type": "code",
   "execution_count": null,
   "metadata": {
    "colab": {
     "base_uri": "https://localhost:8080/"
    },
    "id": "XRyxNDblMYYL",
    "outputId": "1423d0a9-1f4f-4e78-e408-6fcbea0ad2f7"
   },
   "outputs": [
    {
     "name": "stdout",
     "output_type": "stream",
     "text": [
      "              precision    recall  f1-score   support\n",
      "\n",
      "           0       0.00      0.00      0.00     11063\n",
      "           1       0.00      0.00      0.00      6995\n",
      "           2       0.00      0.00      0.00     18667\n",
      "           3       0.00      0.00      0.00      8090\n",
      "           4       0.00      0.00      0.00      9226\n",
      "           5       0.00      0.00      0.00       932\n",
      "           6       0.00      0.00      0.00      4579\n",
      "           7       0.00      0.00      0.00      5752\n",
      "           8       0.00      0.00      0.00       883\n",
      "           9       0.00      0.00      0.00      6825\n",
      "          10       0.00      0.00      0.00      4471\n",
      "          11       0.00      0.00      0.00      9267\n",
      "          12       0.00      0.00      0.00      9849\n",
      "          13       0.00      0.00      0.00     15254\n",
      "          14       0.00      0.00      0.00     46196\n",
      "          15       0.00      0.00      0.00     15473\n",
      "          16       0.00      0.00      0.00      4653\n",
      "          17       0.00      0.00      0.00      9270\n",
      "          18       0.00      0.00      0.00     38863\n",
      "          19       0.00      0.00      0.00     18048\n",
      "          20       0.00      0.00      0.00     23148\n",
      "          21       0.00      0.00      0.00      3359\n",
      "          22       0.00      0.00      0.00      8586\n",
      "          23       0.02      1.00      0.03      5003\n",
      "          24       0.00      0.00      0.00      8657\n",
      "          25       0.00      0.00      0.00      4851\n",
      "\n",
      "    accuracy                           0.02    297960\n",
      "   macro avg       0.00      0.04      0.00    297960\n",
      "weighted avg       0.00      0.02      0.00    297960\n",
      "\n"
     ]
    }
   ],
   "source": [
    "y_pred = model.predict(X_train)\n",
    "y_pred = y_pred.argmax(axis = 1)\n",
    "print(classification_report(y_train.argmax(axis = 1),y_pred))"
   ]
  },
  {
   "cell_type": "markdown",
   "metadata": {
    "id": "CkZdiBaaf48c"
   },
   "source": [
    "## Part 4)"
   ]
  },
  {
   "cell_type": "markdown",
   "metadata": {
    "id": "T3M9j52agRSU"
   },
   "source": [
    "## Using Regularizers\n",
    "\n",
    "The simplest and perhaps most common regularization method is to add a penalty to the loss function in proportion to the size of the weights in the model.\n",
    "\n",
    "By using L2, also we can see above problem but it is not that much bad and at all we got very good result and this because of reducing noises and big changes in weights that was made by regularization.\n"
   ]
  },
  {
   "cell_type": "code",
   "execution_count": null,
   "metadata": {
    "id": "gSmYCxxlfvYo"
   },
   "outputs": [],
   "source": [
    "from tensorflow.keras import regularizers\n",
    "model = Sequential()\n",
    "model.add(Input(shape=(28, 28, 1)))\n",
    "model.add(Flatten())\n",
    "model.add(Dense(50, activation='relu',kernel_regularizer = regularizers.l2(0.0001) ))\n",
    "model.add(Dense(40, activation='relu',kernel_regularizer = regularizers.l2(0.0001) ))\n",
    "model.add(Dense(30, activation='relu',kernel_regularizer = regularizers.l2(0.0001) ))\n",
    "model.add(Dense(26, activation='softmax'))\n",
    "opt = tf.keras.optimizers.Adam()\n",
    "model.compile(loss='mean_squared_error', optimizer=opt, metrics=['accuracy', Recall, Precision, F1])"
   ]
  },
  {
   "cell_type": "code",
   "execution_count": null,
   "metadata": {
    "colab": {
     "base_uri": "https://localhost:8080/"
    },
    "id": "pmxcK9lkgjgi",
    "outputId": "f76456b1-3b53-4828-8599-fca39648eb15"
   },
   "outputs": [
    {
     "name": "stdout",
     "output_type": "stream",
     "text": [
      "Epoch 1/10\n",
      "9312/9312 [==============================] - 41s 4ms/step - loss: 0.0529 - accuracy: 0.2882 - Recall: 0.2488 - Precision: 0.3797 - F1: 0.2935 - val_loss: 0.0170 - val_accuracy: 0.6913 - val_Recall: 0.5874 - val_Precision: 0.8476 - val_F1: 0.6916\n",
      "Epoch 2/10\n",
      "9312/9312 [==============================] - 38s 4ms/step - loss: 0.0145 - accuracy: 0.7448 - Recall: 0.6721 - Precision: 0.8555 - F1: 0.7510 - val_loss: 0.0145 - val_accuracy: 0.7512 - val_Recall: 0.6828 - val_Precision: 0.8420 - val_F1: 0.7527\n",
      "Epoch 3/10\n",
      "9312/9312 [==============================] - 35s 4ms/step - loss: 0.0133 - accuracy: 0.7776 - Recall: 0.7242 - Precision: 0.8519 - F1: 0.7818 - val_loss: 0.0125 - val_accuracy: 0.7932 - val_Recall: 0.7425 - val_Precision: 0.8631 - val_F1: 0.7973\n",
      "Epoch 4/10\n",
      "9312/9312 [==============================] - 36s 4ms/step - loss: 0.0127 - accuracy: 0.7900 - Recall: 0.7424 - Precision: 0.8562 - F1: 0.7943 - val_loss: 0.0121 - val_accuracy: 0.8020 - val_Recall: 0.7550 - val_Precision: 0.8664 - val_F1: 0.8060\n",
      "Epoch 5/10\n",
      "9312/9312 [==============================] - 37s 4ms/step - loss: 0.0123 - accuracy: 0.7979 - Recall: 0.7530 - Precision: 0.8578 - F1: 0.8011 - val_loss: 0.0118 - val_accuracy: 0.8096 - val_Recall: 0.7659 - val_Precision: 0.8666 - val_F1: 0.8123\n",
      "Epoch 6/10\n",
      "9312/9312 [==============================] - 36s 4ms/step - loss: 0.0120 - accuracy: 0.8049 - Recall: 0.7631 - Precision: 0.8601 - F1: 0.8079 - val_loss: 0.0117 - val_accuracy: 0.8117 - val_Recall: 0.7663 - val_Precision: 0.8674 - val_F1: 0.8129\n",
      "Epoch 7/10\n",
      "9312/9312 [==============================] - 37s 4ms/step - loss: 0.0118 - accuracy: 0.8093 - Recall: 0.7689 - Precision: 0.8629 - F1: 0.8124 - val_loss: 0.0126 - val_accuracy: 0.7927 - val_Recall: 0.7528 - val_Precision: 0.8468 - val_F1: 0.7963\n",
      "Epoch 8/10\n",
      "9312/9312 [==============================] - 36s 4ms/step - loss: 0.0117 - accuracy: 0.8116 - Recall: 0.7712 - Precision: 0.8653 - F1: 0.8147 - val_loss: 0.0117 - val_accuracy: 0.8110 - val_Recall: 0.7670 - val_Precision: 0.8694 - val_F1: 0.8141\n",
      "Epoch 9/10\n",
      "9312/9312 [==============================] - 36s 4ms/step - loss: 0.0116 - accuracy: 0.8134 - Recall: 0.7740 - Precision: 0.8658 - F1: 0.8165 - val_loss: 0.0116 - val_accuracy: 0.8129 - val_Recall: 0.7767 - val_Precision: 0.8636 - val_F1: 0.8171\n",
      "Epoch 10/10\n",
      "9312/9312 [==============================] - 36s 4ms/step - loss: 0.0115 - accuracy: 0.8142 - Recall: 0.7766 - Precision: 0.8665 - F1: 0.8183 - val_loss: 0.0111 - val_accuracy: 0.8217 - val_Recall: 0.7879 - val_Precision: 0.8710 - val_F1: 0.8267\n"
     ]
    }
   ],
   "source": [
    "history = model.fit(X_train, y_train, epochs=10, batch_size=32,validation_data=(X_test, y_test))"
   ]
  },
  {
   "cell_type": "code",
   "execution_count": null,
   "metadata": {
    "colab": {
     "base_uri": "https://localhost:8080/",
     "height": 283
    },
    "id": "YNGAAu8Qgl0P",
    "outputId": "0a56c716-593c-4cf4-83c1-e60d19eef4fc"
   },
   "outputs": [
    {
     "data": {
      "text/plain": [
       "<matplotlib.axes._subplots.AxesSubplot at 0x7f82d64e4e10>"
      ]
     },
     "execution_count": 17,
     "metadata": {},
     "output_type": "execute_result"
    },
    {
     "data": {
      "image/png": "[encoded data removed]",
      "text/plain": [
       "<Figure size 432x288 with 1 Axes>"
      ]
     },
     "metadata": {
      "needs_background": "light"
     },
     "output_type": "display_data"
    }
   ],
   "source": [
    "model_loss = pd.DataFrame(history.history['accuracy'])\n",
    "model_loss.plot()"
   ]
  },
  {
   "cell_type": "code",
   "execution_count": null,
   "metadata": {
    "colab": {
     "base_uri": "https://localhost:8080/"
    },
    "id": "QA-9UQV-gpyB",
    "outputId": "0657e80f-e91d-44bb-ce43-5d56cc81c181"
   },
   "outputs": [
    {
     "name": "stdout",
     "output_type": "stream",
     "text": [
      "              precision    recall  f1-score   support\n",
      "\n",
      "           0       0.75      0.78      0.77      2806\n",
      "           1       0.81      0.68      0.74      1673\n",
      "           2       0.90      0.89      0.89      4742\n",
      "           3       0.61      0.70      0.65      2044\n",
      "           4       0.81      0.75      0.78      2214\n",
      "           5       0.62      0.39      0.48       231\n",
      "           6       0.62      0.67      0.64      1183\n",
      "           7       0.67      0.53      0.59      1466\n",
      "           8       0.57      0.26      0.36       237\n",
      "           9       0.84      0.60      0.70      1668\n",
      "          10       0.64      0.72      0.68      1132\n",
      "          11       0.88      0.87      0.87      2319\n",
      "          12       0.88      0.78      0.83      2487\n",
      "          13       0.65      0.79      0.71      3756\n",
      "          14       0.89      0.95      0.92     11629\n",
      "          15       0.91      0.86      0.89      3868\n",
      "          16       0.61      0.35      0.44      1159\n",
      "          17       0.70      0.73      0.71      2296\n",
      "          18       0.91      0.93      0.92      9556\n",
      "          19       0.94      0.94      0.94      4447\n",
      "          20       0.76      0.87      0.81      5860\n",
      "          21       0.82      0.77      0.80       823\n",
      "          22       0.78      0.63      0.70      2198\n",
      "          23       0.81      0.81      0.81      1269\n",
      "          24       0.84      0.74      0.79      2202\n",
      "          25       0.83      0.71      0.77      1225\n",
      "\n",
      "    accuracy                           0.82     74490\n",
      "   macro avg       0.77      0.72      0.74     74490\n",
      "weighted avg       0.82      0.82      0.82     74490\n",
      "\n"
     ]
    }
   ],
   "source": [
    "y_pred = model.predict(X_test)\n",
    "y_pred = y_pred.argmax(axis = 1)\n",
    "print(classification_report(y_test.argmax(axis = 1),y_pred))"
   ]
  },
  {
   "cell_type": "code",
   "execution_count": null,
   "metadata": {
    "colab": {
     "base_uri": "https://localhost:8080/"
    },
    "id": "Jv38lqeoMaGS",
    "outputId": "e272b39a-9e8f-4053-a3a4-c10e4079bbdb"
   },
   "outputs": [
    {
     "name": "stdout",
     "output_type": "stream",
     "text": [
      "              precision    recall  f1-score   support\n",
      "\n",
      "           0       0.75      0.79      0.77     11063\n",
      "           1       0.80      0.67      0.73      6995\n",
      "           2       0.88      0.89      0.89     18667\n",
      "           3       0.61      0.69      0.65      8090\n",
      "           4       0.81      0.74      0.78      9226\n",
      "           5       0.61      0.44      0.51       932\n",
      "           6       0.62      0.66      0.64      4579\n",
      "           7       0.68      0.53      0.60      5752\n",
      "           8       0.49      0.23      0.31       883\n",
      "           9       0.83      0.59      0.69      6825\n",
      "          10       0.62      0.70      0.66      4471\n",
      "          11       0.88      0.86      0.87      9267\n",
      "          12       0.88      0.78      0.83      9849\n",
      "          13       0.67      0.80      0.73     15254\n",
      "          14       0.90      0.95      0.92     46196\n",
      "          15       0.92      0.87      0.89     15473\n",
      "          16       0.62      0.36      0.45      4653\n",
      "          17       0.71      0.72      0.71      9270\n",
      "          18       0.91      0.93      0.92     38863\n",
      "          19       0.95      0.93      0.94     18048\n",
      "          20       0.75      0.88      0.81     23148\n",
      "          21       0.83      0.76      0.79      3359\n",
      "          22       0.77      0.64      0.70      8586\n",
      "          23       0.80      0.78      0.79      5003\n",
      "          24       0.83      0.75      0.79      8657\n",
      "          25       0.82      0.74      0.78      4851\n",
      "\n",
      "    accuracy                           0.82    297960\n",
      "   macro avg       0.77      0.72      0.74    297960\n",
      "weighted avg       0.82      0.82      0.82    297960\n",
      "\n"
     ]
    }
   ],
   "source": [
    "y_pred = model.predict(X_train)\n",
    "y_pred = y_pred.argmax(axis = 1)\n",
    "print(classification_report(y_train.argmax(axis = 1),y_pred))"
   ]
  },
  {
   "cell_type": "markdown",
   "metadata": {
    "id": "obtTS93thO8i"
   },
   "source": [
    "## Using Dropout\n",
    "\n",
    "Dropout is a regularization method that approximates training a large number of neural networks with different architectures in parallel.\n",
    "\n",
    "During training, some number of layer outputs are randomly ignored or “dropped out.” This has the effect of making the layer look-like and be treated-like a layer with a different number of nodes and connectivity to the prior layer. In effect, each update to a layer during training is performed with a different “view” of the configured layer.\n",
    "\n",
    "We got the best overall F1-score using Dropout layer."
   ]
  },
  {
   "cell_type": "code",
   "execution_count": 24,
   "metadata": {
    "id": "yci1RjkwgrGj"
   },
   "outputs": [],
   "source": [
    "from tensorflow.keras.layers import Dropout\n",
    "model = Sequential()\n",
    "model.add(Input(shape=(28, 28, 1)))\n",
    "model.add(Flatten())\n",
    "model.add(Dense(50, activation='relu'))\n",
    "model.add(Dropout(0.1))\n",
    "model.add(Dense(40, activation='relu'))\n",
    "model.add(Dropout(0.1))\n",
    "model.add(Dense(30, activation='relu'))\n",
    "model.add(Dropout(0.1))\n",
    "model.add(Dense(26, activation='softmax'))\n",
    "opt = tf.keras.optimizers.Adam()\n",
    "model.compile(loss='mean_squared_error', optimizer=opt, metrics=['accuracy', Recall, Precision, F1])"
   ]
  },
  {
   "cell_type": "code",
   "execution_count": 25,
   "metadata": {
    "colab": {
     "base_uri": "https://localhost:8080/"
    },
    "id": "hGE4LlSJh22m",
    "outputId": "04ab0a76-b4ba-485e-c43c-a73fd164f516"
   },
   "outputs": [
    {
     "name": "stdout",
     "output_type": "stream",
     "text": [
      "Epoch 1/10\n",
      "9312/9312 [==============================] - 39s 4ms/step - loss: 0.0094 - accuracy: 0.8290 - Recall: 0.7787 - Precision: 0.8999 - F1: 0.8294 - val_loss: 0.0071 - val_accuracy: 0.9080 - val_Recall: 0.9080 - val_Precision: 0.9080 - val_F1: 0.9080\n",
      "Epoch 2/10\n",
      "9312/9312 [==============================] - 35s 4ms/step - loss: 0.0061 - accuracy: 0.8946 - Recall: 0.8731 - Precision: 0.9262 - F1: 0.8984 - val_loss: 0.0063 - val_accuracy: 0.9186 - val_Recall: 0.9186 - val_Precision: 0.9186 - val_F1: 0.9186\n",
      "Epoch 3/10\n",
      "9312/9312 [==============================] - 35s 4ms/step - loss: 0.0055 - accuracy: 0.9067 - Recall: 0.8889 - Precision: 0.9315 - F1: 0.9093 - val_loss: 0.0062 - val_accuracy: 0.9187 - val_Recall: 0.9187 - val_Precision: 0.9187 - val_F1: 0.9187\n",
      "Epoch 4/10\n",
      "9312/9312 [==============================] - 36s 4ms/step - loss: 0.0051 - accuracy: 0.9122 - Recall: 0.8966 - Precision: 0.9349 - F1: 0.9150 - val_loss: 0.0055 - val_accuracy: 0.9285 - val_Recall: 0.9285 - val_Precision: 0.9285 - val_F1: 0.9285\n",
      "Epoch 5/10\n",
      "9312/9312 [==============================] - 35s 4ms/step - loss: 0.0049 - accuracy: 0.9160 - Recall: 0.9019 - Precision: 0.9379 - F1: 0.9192 - val_loss: 0.0059 - val_accuracy: 0.9237 - val_Recall: 0.9237 - val_Precision: 0.9237 - val_F1: 0.9237\n",
      "Epoch 6/10\n",
      "9312/9312 [==============================] - 35s 4ms/step - loss: 0.0047 - accuracy: 0.9190 - Recall: 0.9053 - Precision: 0.9392 - F1: 0.9216 - val_loss: 0.0055 - val_accuracy: 0.9279 - val_Recall: 0.9279 - val_Precision: 0.9279 - val_F1: 0.9279\n",
      "Epoch 7/10\n",
      "9312/9312 [==============================] - 36s 4ms/step - loss: 0.0046 - accuracy: 0.9215 - Recall: 0.9083 - Precision: 0.9411 - F1: 0.9241 - val_loss: 0.0062 - val_accuracy: 0.9197 - val_Recall: 0.9197 - val_Precision: 0.9197 - val_F1: 0.9197\n",
      "Epoch 8/10\n",
      "9312/9312 [==============================] - 35s 4ms/step - loss: 0.0045 - accuracy: 0.9238 - Recall: 0.9111 - Precision: 0.9420 - F1: 0.9260 - val_loss: 0.0065 - val_accuracy: 0.9153 - val_Recall: 0.9153 - val_Precision: 0.9153 - val_F1: 0.9153\n",
      "Epoch 9/10\n",
      "9312/9312 [==============================] - 35s 4ms/step - loss: 0.0044 - accuracy: 0.9249 - Recall: 0.9124 - Precision: 0.9429 - F1: 0.9271 - val_loss: 0.0057 - val_accuracy: 0.9251 - val_Recall: 0.9251 - val_Precision: 0.9251 - val_F1: 0.9251\n",
      "Epoch 10/10\n",
      "9312/9312 [==============================] - 36s 4ms/step - loss: 0.0043 - accuracy: 0.9264 - Recall: 0.9146 - Precision: 0.9445 - F1: 0.9290 - val_loss: 0.0061 - val_accuracy: 0.9205 - val_Recall: 0.9205 - val_Precision: 0.9205 - val_F1: 0.9205\n"
     ]
    }
   ],
   "source": [
    "history = model.fit(X_train, y_train, epochs=10, batch_size=32,validation_data=(X_test, y_test))"
   ]
  },
  {
   "cell_type": "code",
   "execution_count": 26,
   "metadata": {
    "colab": {
     "base_uri": "https://localhost:8080/",
     "height": 283
    },
    "id": "EVWwyYbih_dG",
    "outputId": "12366784-34b9-4407-8da8-815e9e0faeb7"
   },
   "outputs": [
    {
     "data": {
      "text/plain": [
       "<matplotlib.axes._subplots.AxesSubplot at 0x7fa186ef4850>"
      ]
     },
     "execution_count": 26,
     "metadata": {},
     "output_type": "execute_result"
    },
    {
     "data": {
      "image/png": "[encoded data removed]",
      "text/plain": [
       "<Figure size 432x288 with 1 Axes>"
      ]
     },
     "metadata": {
      "needs_background": "light"
     },
     "output_type": "display_data"
    }
   ],
   "source": [
    "model_loss = pd.DataFrame(history.history['accuracy'])\n",
    "model_loss.plot()"
   ]
  },
  {
   "cell_type": "code",
   "execution_count": 27,
   "metadata": {
    "colab": {
     "base_uri": "https://localhost:8080/"
    },
    "id": "boG2HaqdiAUo",
    "outputId": "cc833b2a-62c1-4288-dc66-ff1f10b5c4b7"
   },
   "outputs": [
    {
     "name": "stdout",
     "output_type": "stream",
     "text": [
      "              precision    recall  f1-score   support\n",
      "\n",
      "           0       0.92      0.94      0.93      2806\n",
      "           1       0.95      0.78      0.86      1673\n",
      "           2       0.89      0.98      0.93      4742\n",
      "           3       0.97      0.60      0.74      2044\n",
      "           4       0.88      0.92      0.90      2214\n",
      "           5       0.79      0.92      0.85       231\n",
      "           6       0.90      0.78      0.84      1183\n",
      "           7       0.90      0.88      0.89      1466\n",
      "           8       0.94      0.81      0.87       237\n",
      "           9       0.89      0.86      0.87      1668\n",
      "          10       0.90      0.85      0.88      1132\n",
      "          11       0.95      0.94      0.95      2319\n",
      "          12       0.97      0.92      0.94      2487\n",
      "          13       0.88      0.94      0.91      3756\n",
      "          14       0.94      0.99      0.96     11629\n",
      "          15       0.97      0.95      0.96      3868\n",
      "          16       0.96      0.67      0.79      1159\n",
      "          17       0.96      0.85      0.90      2296\n",
      "          18       0.87      0.99      0.93      9556\n",
      "          19       0.96      0.97      0.96      4447\n",
      "          20       0.94      0.95      0.95      5860\n",
      "          21       0.80      0.97      0.88       823\n",
      "          22       1.00      0.65      0.78      2198\n",
      "          23       0.91      0.92      0.92      1269\n",
      "          24       0.96      0.87      0.91      2202\n",
      "          25       0.92      0.93      0.92      1225\n",
      "\n",
      "    accuracy                           0.92     74490\n",
      "   macro avg       0.92      0.88      0.89     74490\n",
      "weighted avg       0.92      0.92      0.92     74490\n",
      "\n"
     ]
    }
   ],
   "source": [
    "y_pred = model.predict(X_test)\n",
    "y_pred = y_pred.argmax(axis = 1)\n",
    "print(classification_report(y_test.argmax(axis = 1),y_pred))"
   ]
  },
  {
   "cell_type": "code",
   "execution_count": 28,
   "metadata": {
    "colab": {
     "base_uri": "https://localhost:8080/"
    },
    "id": "RsaYJA0IiBNG",
    "outputId": "29ddb7a4-ca19-479d-c9bb-39ffbd71cc4f"
   },
   "outputs": [
    {
     "name": "stdout",
     "output_type": "stream",
     "text": [
      "              precision    recall  f1-score   support\n",
      "\n",
      "           0       0.94      0.95      0.95     11063\n",
      "           1       0.92      0.93      0.92      6995\n",
      "           2       0.97      0.97      0.97     18667\n",
      "           3       0.90      0.90      0.90      8090\n",
      "           4       0.95      0.92      0.94      9226\n",
      "           5       0.91      0.90      0.91       932\n",
      "           6       0.92      0.92      0.92      4579\n",
      "           7       0.93      0.89      0.91      5752\n",
      "           8       0.95      0.87      0.91       883\n",
      "           9       0.91      0.93      0.92      6825\n",
      "          10       0.92      0.88      0.90      4471\n",
      "          11       0.95      0.97      0.96      9267\n",
      "          12       0.96      0.95      0.96      9849\n",
      "          13       0.93      0.96      0.95     15254\n",
      "          14       0.98      0.98      0.98     46196\n",
      "          15       0.96      0.97      0.97     15473\n",
      "          16       0.92      0.89      0.91      4653\n",
      "          17       0.95      0.91      0.93      9270\n",
      "          18       0.99      0.98      0.98     38863\n",
      "          19       0.97      0.97      0.97     18048\n",
      "          20       0.97      0.98      0.97     23148\n",
      "          21       0.95      0.97      0.96      3359\n",
      "          22       0.95      0.94      0.94      8586\n",
      "          23       0.93      0.93      0.93      5003\n",
      "          24       0.92      0.94      0.93      8657\n",
      "          25       0.95      0.94      0.95      4851\n",
      "\n",
      "    accuracy                           0.96    297960\n",
      "   macro avg       0.94      0.94      0.94    297960\n",
      "weighted avg       0.96      0.96      0.96    297960\n",
      "\n"
     ]
    }
   ],
   "source": [
    "y_pred = model.predict(X_train)\n",
    "y_pred = y_pred.argmax(axis = 1)\n",
    "print(classification_report(y_train.argmax(axis = 1),y_pred))"
   ]
  },
  {
   "cell_type": "code",
   "execution_count": null,
   "metadata": {
    "id": "IhWU5f35N6Pn"
   },
   "outputs": [],
   "source": []
  }
 ],
 "metadata": {
  "accelerator": "GPU",
  "colab": {
   "collapsed_sections": [],
   "name": "AI_CA5_Phase2.ipynb",
   "provenance": []
  },
  "kernelspec": {
   "display_name": "Python 3 (ipykernel)",
   "language": "python",
   "name": "python3"
  },
  "language_info": {
   "codemirror_mode": {
    "name": "ipython",
    "version": 3
   },
   "file_extension": ".py",
   "mimetype": "text/x-python",
   "name": "python",
   "nbconvert_exporter": "python",
   "pygments_lexer": "ipython3",
   "version": "3.9.7"
  }
 },
 "nbformat": 4,
 "nbformat_minor": 1
}
