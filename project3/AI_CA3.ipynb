{
 "cells": [
  {
   "cell_type": "markdown",
   "metadata": {
    "id": "cF8sFP3Q0ztG"
   },
   "source": [
    "# Naive Bayes Classifier\n",
    "Danial Saeedi(810198571)"
   ]
  },
  {
   "cell_type": "markdown",
   "metadata": {
    "id": "cOrIFwjb1xud"
   },
   "source": [
    "# Import Dependencies"
   ]
  },
  {
   "cell_type": "code",
   "execution_count": null,
   "metadata": {
    "id": "L_Rs_6l83OdI"
   },
   "outputs": [],
   "source": [
    "!pip install hazm\n",
    "!pip install parsivar"
   ]
  },
  {
   "cell_type": "code",
   "execution_count": 1,
   "metadata": {
    "id": "aWsklLRB1HKV"
   },
   "outputs": [],
   "source": [
    "from __future__ import unicode_literals\n",
    "import re\n",
    "import math\n",
    "from hazm import *\n",
    "import hazm\n",
    "import parsivar\n",
    "import numpy as np\n",
    "import pandas as pd\n",
    "from prettytable import PrettyTable \n",
    "import matplotlib.pyplot as plt\n",
    "from math import log"
   ]
  },
  {
   "cell_type": "markdown",
   "metadata": {
    "id": "LSMt_bpM3W4L"
   },
   "source": [
    "# Importing the dataset"
   ]
  },
  {
   "cell_type": "code",
   "execution_count": 5,
   "metadata": {
    "id": "Ll4UJAN53eyp"
   },
   "outputs": [],
   "source": [
    "!mkdir dataset/"
   ]
  },
  {
   "cell_type": "code",
   "execution_count": 7,
   "metadata": {
    "colab": {
     "base_uri": "https://localhost:8080/"
    },
    "id": "ztJE1ORl0vrK",
    "outputId": "94a1b147-87d8-4a75-a6eb-599a5765a8da"
   },
   "outputs": [
    {
     "name": "stdout",
     "output_type": "stream",
     "text": [
      "Archive:  /content/drive/MyDrive/Data.zip\n",
      "  inflating: ./dataset/train.csv     \n",
      "  inflating: ./dataset/test.csv      \n"
     ]
    }
   ],
   "source": [
    "!unzip /content/drive/MyDrive/Data.zip -d ./dataset"
   ]
  },
  {
   "cell_type": "code",
   "execution_count": 2,
   "metadata": {
    "id": "pydRnpPc3T2_"
   },
   "outputs": [],
   "source": [
    "df_train = pd.read_csv('dataset/train.csv')\n",
    "df_test = pd.read_csv('dataset/test.csv')"
   ]
  },
  {
   "cell_type": "code",
   "execution_count": 5,
   "metadata": {
    "colab": {
     "base_uri": "https://localhost:8080/"
    },
    "id": "oU89x4HP33RX",
    "outputId": "696a2f26-6332-4a9d-b426-d079aedb9dee"
   },
   "outputs": [
    {
     "data": {
      "text/plain": [
       "array(['هنر و سینما', 'علم و تکنولوژی', 'سلامت و زیبایی', 'بازی ویدیویی'],\n",
       "      dtype=object)"
      ]
     },
     "execution_count": 5,
     "metadata": {},
     "output_type": "execute_result"
    }
   ],
   "source": [
    "df_train['label'].unique()"
   ]
  },
  {
   "cell_type": "code",
   "execution_count": 6,
   "metadata": {},
   "outputs": [
    {
     "data": {
      "text/plain": [
       "علم و تکنولوژی    277\n",
       "بازی ویدیویی      197\n",
       "هنر و سینما       167\n",
       "سلامت و زیبایی    161\n",
       "Name: label, dtype: int64"
      ]
     },
     "execution_count": 6,
     "metadata": {},
     "output_type": "execute_result"
    }
   ],
   "source": [
    "df_test['label'].value_counts()"
   ]
  },
  {
   "cell_type": "markdown",
   "metadata": {
    "id": "IpcQFhpU6EWR"
   },
   "source": [
    "# Part 1: Pre-processing Data"
   ]
  },
  {
   "cell_type": "code",
   "execution_count": 243,
   "metadata": {
    "id": "BlSM8JiTHJjG"
   },
   "outputs": [],
   "source": [
    "stop_words = set(hazm.stopwords_list(\"stopwords.txt\"))"
   ]
  },
  {
   "cell_type": "code",
   "execution_count": 251,
   "metadata": {
    "id": "HfG3tT5WHUp9"
   },
   "outputs": [],
   "source": [
    "def clean_data(text):\n",
    "    # Removing stop words\n",
    "    text = str(text)\n",
    "    words = [word for word in text.split() if word not in stop_words]\n",
    "    text = \" \".join(words)\n",
    "\n",
    "    normalizer = Normalizer()\n",
    "\n",
    "    text = normalizer.normalize(text)\n",
    " \n",
    "    # Split and remove useless chars\n",
    "    text_words = text.split()\n",
    "    for i in [',', '.', '-', '*', '!','?','(',')','،','؛',':','؟']:\n",
    "        text_words = [x.strip(i) for x in text_words] \n",
    "    \n",
    "    stemmer = Stemmer()\n",
    "    lemmatizer = Lemmatizer()\n",
    "\n",
    "    cleaned = []\n",
    "    for word in text_words:\n",
    "        s = stemmer.stem(word)\n",
    "        l = lemmatizer.lemmatize(s)\n",
    "\n",
    "        cleaned.append(l)\n",
    "\n",
    "    # To list\n",
    "    return \" \".join(list(dict.fromkeys(cleaned)))"
   ]
  },
  {
   "cell_type": "code",
   "execution_count": 252,
   "metadata": {
    "colab": {
     "base_uri": "https://localhost:8080/"
    },
    "id": "AEGVRUx_Igr2",
    "outputId": "6646668f-735d-4d12-da3e-dfbf9c947504"
   },
   "outputs": [
    {
     "name": "stdout",
     "output_type": "stream",
     "text": [
      "پنج فیلمساز که کوئنتین تارانتینو عاشق سینما کرد#کن ک یک ماه اکر مهم فیل مانده اس البته دو مه داشت#دار مرد ایرلند اسکورسیز فهرس انتظار #است خوره فیلم منتظر دیدن روز روزگار هالیوود #هست آدم کتاب رو تاثیر گذاشت#گذار آن‌قدر مفصل شد#شو ویدیو همه بررس بیل بک پالپ فیکشن بقیه توانست#توان المان آن گرفته کشف کارگرد تقریبا جا عنو تاثیرگذار کارنامه یاد ۱ هاوارد هاکس آمریکا اواسط دهه بیس میلاد کار شروع گستره تنوع حیرت‌انگیز سال ۱۹۳۲ گنگستر صور زخم شهر رسید س کمد درجه بزرگ کردن بیب منش کاره آتش‌پاره ساخت ۱۹۵۹ به وسترن تاریخ ساخ نام همیشه آمد#آ ریو براوو  شیوه کاملا کلاسیک نمی‌خواس زیبایی‌شناس فر حواس مخاطب قصه پر کند ژانر ساخته نقطه اوج تجربه کرده اسکروبال کمدی-رمانتیک گنگستری محبوب دیده ۲ مارتین کارگردان عصر متفاوت اکثرا دلیل توجه قرار راننده تاکس علاقه داس فرد جامعه‌ستیز تراویس بیکل خواست#خواه خیابان نیویورک آلودگی پاک جزو موج نو ۷۰ بود#باش فرانسیس فوردکوپولا وارد جر اصل اسپیلبرگ جورج لوکاس برد#بر جدید ساخت#ساز قلمروز ایجاد گاو خشمگین کازینو باید ببینید پیشگا حت جه قهرمان مشتاق حریص‌اند این اشتیاق کاراک کاراکتر سرا ۳ برا دی‌پالما خلاف جریان نسل فارغ‌التحصیل مدرسه آمریکاست شبیه تکنسین بی‌احساس استاد تریلر روانشناس کر وح وا دخ نوجو خجالت مادر سلطه‌گر حما همکلاس سخره گرفت#گیر قدرت ماورالطبیعه آشکار نزدیک تارانتینوست مشهور صحنه چیز کنترل خشونت تسخیرناپذیر نسخه ۴ سرجیو لئونه ایتالیا چهره اسپاگت خاطر دلار ب خوب بد ز شناخت#شناس آخر روایت نیهیلیست ضدقهرمان الگو علاوه تغییر داد استفاده پرده عریض عیار زیاد حرص خشون عامل محرکه موسیق انیو موریکونه نمونه مثال زدن روا کمک تصویر ساز صدر آثار ۵ ژ لوک گدار عجیب نیس فرانسه جوان جد جسار تجربه‌گرا تحت‌تاثیر فرانسو نفس افتاده نا ثب مجاور پیچیده صدا توانس خلق پنجاه مسیر عوض پیرو خله محسوب باز جین سیبرگ پل بلموندو دزد خرده‌پاس پلیس تعقیب دوست دانشجو روزنامه‌نگار پیوست#پیوند فرار آگوس عناصر خواه دید چیس\n"
     ]
    }
   ],
   "source": [
    "print(clean_data(df_train.iloc[1]['content']))"
   ]
  },
  {
   "cell_type": "code",
   "execution_count": 253,
   "metadata": {
    "colab": {
     "base_uri": "https://localhost:8080/"
    },
    "id": "XZb1bafFONxV",
    "outputId": "8951a551-17af-46f5-db0a-7da9d8539ba5"
   },
   "outputs": [
    {
     "data": {
      "text/plain": [
       "هنر و سینما       1300\n",
       "علم و تکنولوژی    1300\n",
       "سلامت و زیبایی    1300\n",
       "بازی ویدیویی      1300\n",
       "Name: label, dtype: int64"
      ]
     },
     "execution_count": 253,
     "metadata": {},
     "output_type": "execute_result"
    }
   ],
   "source": [
    "df_train['label'].value_counts()"
   ]
  },
  {
   "cell_type": "markdown",
   "metadata": {},
   "source": [
    "# Question 1\n",
    "\n",
    "## Stemming\n",
    "We're going to use Hazm Stemmer in order to remove or stem the last few characters of the words that are not important such as ها in کتاب‌ها.\n",
    "\n",
    "## Lemmatization\n",
    "We're going to use Hazm Lemmatizer in order to convert the word to its meaningful base form, which is called Lemma."
   ]
  },
  {
   "cell_type": "markdown",
   "metadata": {},
   "source": [
    "# Question 2\n",
    "\n",
    "$$ P(c|x) = \\frac{P(x|c)P(c)}{P(x)} $$\n",
    "\n",
    "\n",
    "* **Posterior** is the probability that the event `c` will occur given the knowledge that an event `x` has already occurred. In this problem, posterior is the probability of the occurness of the class `c` given the word `x`. This can be computed by the given formula. We will compare this probability for 4 classes to choose one of the classes for the given content. \n",
    "* **Prior** is the probability of the the class `c`. We know that the training data is **symmetric**. Therefore, we do not need to compute it and it will be $1/4=0.25$. But if we didn't had this assumption, we could compute it by dividing the frequency of the class c by the sum of the frequency of all the classes in the training data.\n",
    "* **Likelihood** is the probability that the event `x` will occur given the knowledge that an event `c` has already occurred. In this problem, likelihood is the probability of the occurness of the word `x` given the class `c` that can be one of the 4 classes. This probability can be computed by dividing the frequency of the word `x` in the class `c` by the sum of frequency of all the words in the class `c`. \n",
    "* **Evidence** is the probability of the `x` used to update the prior. In this problem, evidence is the probability of the occurness of the word `x` in the given text. It can be easily computed by dividing the frequency of the word `x` by the sum of the frequency of all the words in the text. But we do not need to compute this probability because we want to compare two classes and this parameter is same for all classes, so we can ignore it."
   ]
  },
  {
   "cell_type": "markdown",
   "metadata": {},
   "source": [
    "# Question 3\n",
    "Consider this example:\n",
    "<pre>\n",
    " بیا و برگ سفر ساز و زاد ره برگیر           که عاقبت برود هر که او ز مادر زاد\n",
    " </pre>\n",
    "\n",
    "As you can see, زاد has two different meaning depending on the position of the words. Therefore, these two verses have completely different concepts.\n",
    "\n",
    "Using bigram for this sentence would be better than unigram because مادر زاد and زاد سفر could be a much better indicator. In this example bigram is enough.\n",
    "\n",
    "**Note:** Bigrams could also be used to increase accuracy. Here we only consider a word by itself and not its position in the sentence."
   ]
  },
  {
   "cell_type": "markdown",
   "metadata": {},
   "source": [
    "# Question 4\n",
    "\n",
    "In case that there is word contained only one type of class, Naive Bayes will definetly choose that genre as the answer which might be wrong in some cases.\n",
    "\n",
    "When word $x$ hasn't appeared in genre $c$, we have that $P(x|c) = 0$\n",
    "The reason is that $log(0) = - \\infty$ so the sum $ sum_{i=1}^{n} log(P(x_i | c)) $ will converge to $- \\infty$ and never will be chosen as the genre since wre choosing the genre which maximizes the sum mentioned above."
   ]
  },
  {
   "cell_type": "markdown",
   "metadata": {},
   "source": [
    "# Question 5\n",
    "\n",
    "Additive Smoothing is a technique to smooth categorical data. This technique is introduced to solve the problem of zero probability. A small-sample correction, or pseudo-count, will be incorporated in every probability estimate. Consequently, o probability will be zero. this is a way of regularizing Naive Bayes. Based on the formula, we have a parameter called smoothing that is shown by lambda and K is the number of the unique words in the training data.\n",
    "\n",
    "Here's how we calculate probability:\n",
    "\n",
    "$$ P(Word|Class) = \\frac{WC + \\alpha}{TW + \\alpha.D} $$\n",
    "\n",
    "* WC: Word Count\n",
    "* TW: Total Words\n",
    "\n",
    "Where $\\alpha$ is a positive constant and $D$ is the number of distinct words in that category.\n",
    "\n",
    "\n",
    "This will avoid the $- \\infty$ problem mentioned in Question 4 since the fraction will never be equal to 0 because of the positive $\\alpha$ in the numerator."
   ]
  },
  {
   "cell_type": "markdown",
   "metadata": {
    "id": "V4XgSaEoRhyK"
   },
   "source": [
    "# Part 2"
   ]
  },
  {
   "cell_type": "code",
   "execution_count": 254,
   "metadata": {
    "id": "burnQWxdOajz"
   },
   "outputs": [],
   "source": [
    "art_cinema = dict()\n",
    "science_tech = dict()\n",
    "beauty_health = dict()\n",
    "video_games = dict()"
   ]
  },
  {
   "cell_type": "code",
   "execution_count": 255,
   "metadata": {
    "id": "b8oDjyXdOxQp"
   },
   "outputs": [],
   "source": [
    "art_cinema_count = 0\n",
    "science_tech_count = 0\n",
    "beauty_health_count = 0\n",
    "video_games_count = 0"
   ]
  },
  {
   "cell_type": "code",
   "execution_count": 256,
   "metadata": {
    "id": "4qMwj3ubPWyu"
   },
   "outputs": [],
   "source": [
    "for index, row in df_train.iterrows():\n",
    "    tokens = word_tokenize(clean_data(row['content']))\n",
    "    for token in tokens:\n",
    "        cat = row['label']\n",
    "        if (cat == 'بازی ویدیویی'):\n",
    "            video_games[token] = video_games.get(token, 0) + 1\n",
    "            video_games_count += 1\n",
    "            \n",
    "        elif (cat == 'سلامت و زیبایی'):\n",
    "            beauty_health[token] = beauty_health.get(token, 0) + 1\n",
    "            beauty_health_count += 1\n",
    "            \n",
    "        elif (cat == 'علم و تکنولوژی'):\n",
    "            science_tech[token] = science_tech.get(token, 0) + 1\n",
    "            science_tech_count += 1\n",
    "            \n",
    "        elif (cat == 'هنر و سینما'):\n",
    "            art_cinema[token] = art_cinema.get(token, 0) + 1\n",
    "            art_cinema_count += 1\n",
    "                "
   ]
  },
  {
   "cell_type": "code",
   "execution_count": 257,
   "metadata": {
    "id": "kG_TQSIgRWJ9"
   },
   "outputs": [],
   "source": [
    "distinct_art_cinema = len(list(art_cinema.keys()))\n",
    "distinct_science_tech = len(list(science_tech.keys()))\n",
    "distinct_beauty_health = len(list(beauty_health.keys()))\n",
    "distinct_video_games = len(list(video_games.keys()))"
   ]
  },
  {
   "cell_type": "markdown",
   "metadata": {
    "id": "925QoXVpUQag"
   },
   "source": [
    "# Question 6"
   ]
  },
  {
   "cell_type": "markdown",
   "metadata": {
    "id": "K0mVEg1yWnyd"
   },
   "source": [
    "## Art & Cinema"
   ]
  },
  {
   "cell_type": "code",
   "execution_count": 258,
   "metadata": {
    "colab": {
     "base_uri": "https://localhost:8080/",
     "height": 280
    },
    "id": "VodaUKNUSP2b",
    "outputId": "c70e29f4-0e43-4af7-900d-52f7c670f3dd"
   },
   "outputs": [
    {
     "data": {
      "image/png": "[encoded data removed]",
      "text/plain": [
       "<Figure size 432x288 with 1 Axes>"
      ]
     },
     "metadata": {
      "needs_background": "light"
     },
     "output_type": "display_data"
    }
   ],
   "source": [
    "from matplotlib import pyplot as plt\n",
    "from operator import itemgetter\n",
    "\n",
    "res = dict(sorted(art_cinema.items(), key = itemgetter(1), reverse = True)[:6])\n",
    "keys = res.keys()\n",
    "values = res.values()\n",
    "plt.bar(keys, values)\n",
    "plt.xlabel('Top 6 words in art & cinema section')\n",
    "plt.ylabel('frequency')\n",
    "plt.show()"
   ]
  },
  {
   "cell_type": "code",
   "execution_count": 259,
   "metadata": {
    "colab": {
     "base_uri": "https://localhost:8080/"
    },
    "id": "9XWzxQsyT1Af",
    "outputId": "aa03a00c-0b68-4cc4-bd65-435f294966f7"
   },
   "outputs": [
    {
     "data": {
      "text/plain": [
       "{'این': 1285,\n",
       " 'بود#باش': 1146,\n",
       " 'شد#شو': 1222,\n",
       " 'کرد#کن': 1210,\n",
       " 'که': 1287,\n",
       " 'یک': 1163}"
      ]
     },
     "execution_count": 259,
     "metadata": {},
     "output_type": "execute_result"
    }
   ],
   "source": [
    "dict(sorted(art_cinema.items(), key = itemgetter(1), reverse = True)[:6])"
   ]
  },
  {
   "cell_type": "markdown",
   "metadata": {
    "id": "5qe16s7sW2X5"
   },
   "source": [
    "## Science & Tech"
   ]
  },
  {
   "cell_type": "code",
   "execution_count": 260,
   "metadata": {
    "colab": {
     "base_uri": "https://localhost:8080/",
     "height": 280
    },
    "id": "CkJQ5fBwUsyP",
    "outputId": "7cdcaddf-5e80-41c3-fb1f-72e5ebbd4220"
   },
   "outputs": [
    {
     "data": {
      "image/png": "[encoded data removed]",
      "text/plain": [
       "<Figure size 432x288 with 1 Axes>"
      ]
     },
     "metadata": {
      "needs_background": "light"
     },
     "output_type": "display_data"
    }
   ],
   "source": [
    "res = dict(sorted(science_tech.items(), key = itemgetter(1), reverse = True)[:6])\n",
    "keys = res.keys()\n",
    "values = res.values()\n",
    "plt.bar(keys, values)\n",
    "plt.xlabel('Top 6 words in Science & Tech')\n",
    "plt.ylabel('Frequency')\n",
    "plt.show()"
   ]
  },
  {
   "cell_type": "code",
   "execution_count": 261,
   "metadata": {
    "colab": {
     "base_uri": "https://localhost:8080/"
    },
    "id": "GCuf7Q7LW8yj",
    "outputId": "e04ab692-cc7c-45f3-cae3-294c4229e5ae"
   },
   "outputs": [
    {
     "data": {
      "text/plain": [
       "{'این': 1285,\n",
       " 'بود#باش': 1146,\n",
       " 'شد#شو': 1222,\n",
       " 'کرد#کن': 1210,\n",
       " 'که': 1287,\n",
       " 'یک': 1163}"
      ]
     },
     "execution_count": 261,
     "metadata": {},
     "output_type": "execute_result"
    }
   ],
   "source": [
    "dict(sorted(art_cinema.items(), key = itemgetter(1), reverse = True)[:6])"
   ]
  },
  {
   "cell_type": "markdown",
   "metadata": {
    "id": "Ia0lUAwaXPCx"
   },
   "source": [
    "## Beauty & Health"
   ]
  },
  {
   "cell_type": "code",
   "execution_count": 262,
   "metadata": {
    "colab": {
     "base_uri": "https://localhost:8080/",
     "height": 280
    },
    "id": "ItV10EvbXOdV",
    "outputId": "0fff69ef-ab6b-4cfa-a8dd-41c12a580cca"
   },
   "outputs": [
    {
     "data": {
      "image/png": "[encoded data removed]",
      "text/plain": [
       "<Figure size 432x288 with 1 Axes>"
      ]
     },
     "metadata": {
      "needs_background": "light"
     },
     "output_type": "display_data"
    }
   ],
   "source": [
    "res = dict(sorted(beauty_health.items(), key = itemgetter(1), reverse = True)[:6])\n",
    "keys = res.keys()\n",
    "values = res.values()\n",
    "plt.bar(keys, values)\n",
    "plt.xlabel('Top 6 words in Beauty & Health')\n",
    "plt.ylabel('Frequency')\n",
    "plt.show()"
   ]
  },
  {
   "cell_type": "code",
   "execution_count": 263,
   "metadata": {
    "colab": {
     "base_uri": "https://localhost:8080/"
    },
    "id": "MjI5qMNgXiZM",
    "outputId": "78dbb4e8-7a35-4857-9907-3b6e1c410616"
   },
   "outputs": [
    {
     "data": {
      "text/plain": [
       "{'این': 1277,\n",
       " 'برا': 1212,\n",
       " 'شد#شو': 1197,\n",
       " 'کرد#کن': 1263,\n",
       " 'که': 1264,\n",
       " 'یک': 1161}"
      ]
     },
     "execution_count": 263,
     "metadata": {},
     "output_type": "execute_result"
    }
   ],
   "source": [
    "dict(sorted(beauty_health.items(), key = itemgetter(1), reverse = True)[:6])"
   ]
  },
  {
   "cell_type": "markdown",
   "metadata": {
    "id": "l-giVpdPX9-z"
   },
   "source": [
    "## Video Games"
   ]
  },
  {
   "cell_type": "code",
   "execution_count": 264,
   "metadata": {
    "colab": {
     "base_uri": "https://localhost:8080/",
     "height": 280
    },
    "id": "9GkkUDv4XvWQ",
    "outputId": "7b1d21f5-6499-4398-d8c5-5f56a714cb36"
   },
   "outputs": [
    {
     "data": {
      "image/png": "[encoded data removed]",
      "text/plain": [
       "<Figure size 432x288 with 1 Axes>"
      ]
     },
     "metadata": {
      "needs_background": "light"
     },
     "output_type": "display_data"
    }
   ],
   "source": [
    "res = dict(sorted(video_games.items(), key = itemgetter(1), reverse = True)[:6])\n",
    "keys = res.keys()\n",
    "values = res.values()\n",
    "plt.bar(keys, values)\n",
    "plt.xlabel('Top 6 words in Video Games')\n",
    "plt.ylabel('Frequency')\n",
    "plt.show()"
   ]
  },
  {
   "cell_type": "code",
   "execution_count": 265,
   "metadata": {
    "colab": {
     "base_uri": "https://localhost:8080/"
    },
    "id": "vUEhs5LKYIWl",
    "outputId": "524bfba6-e624-460c-dca4-a33d0cbcedff"
   },
   "outputs": [
    {
     "data": {
      "text/plain": [
       "{'اس': 1118,\n",
       " 'این': 1252,\n",
       " 'باز': 1212,\n",
       " 'شد#شو': 1071,\n",
       " 'کرد#کن': 1074,\n",
       " 'که': 1219}"
      ]
     },
     "execution_count": 265,
     "metadata": {},
     "output_type": "execute_result"
    }
   ],
   "source": [
    "dict(sorted(video_games.items(), key = itemgetter(1), reverse = True)[:6])"
   ]
  },
  {
   "cell_type": "markdown",
   "metadata": {
    "id": "hBMDWNG2yJeN"
   },
   "source": [
    "# Util"
   ]
  },
  {
   "cell_type": "code",
   "execution_count": 266,
   "metadata": {
    "id": "_kUwuUAPyLL9"
   },
   "outputs": [],
   "source": [
    "def printResult(tp,fp,fn,correct):\n",
    "    for i in range(4):\n",
    "        precision = tp[i] / (tp[i] + fp[i])\n",
    "        recall = tp[i] / (tp[i] + fn[i])\n",
    "        F1_score = (2 * precision * recall) / (precision + recall)\n",
    "\n",
    "        print(\"Category \", i)\n",
    "        print(\"True Positive Count: \", tp[i])\n",
    "        print(\"False Positive Count: \", fp[i])\n",
    "        print(\"False Negative Count: \", fn[i])\n",
    "        print(\"Precision:\", precision)\n",
    "        print(\"F1_score:\", F1_score)\n",
    "        print(\"Recall:\", recall)\n",
    "        print(\"------------------------------\")\n",
    "\n",
    "    print(\"Accuracy is \", correct/len(df_test))"
   ]
  },
  {
   "cell_type": "markdown",
   "metadata": {},
   "source": [
    "# Question 7\n",
    "If the model always labels every data a specific class(like video games), the **recall** value for video games category will be 100%. Obviously this is not good. So recall metric alone is not enough to evaluate a model.\n",
    "\n",
    "**Precision** alone is not enough to evaluate a model. Consider a model that wrongly detects all the contetns as video games class except one content that is really recommended. Therefore the precision of this model will be 1. Obviously this is not good. So precision metric alone is not enough to evaluate a model."
   ]
  },
  {
   "cell_type": "markdown",
   "metadata": {},
   "source": [
    "# Question 8\n",
    "The F1 score is the harmonic mean of precision and recall taking both metrics into account. It uses the harmonic mean instead of a simple average because it punishes extreme values. A classifier with a precision of 1.0 and a recall of 0.0 has a simple average of 0.5 but an F1 score of 0."
   ]
  },
  {
   "cell_type": "markdown",
   "metadata": {},
   "source": [
    "# Question 9:\n",
    "* **Micro:** computes f1 by value total true positives, false negatives and false positives (no matter of the prediction for each label in the dataset)\n",
    "\n",
    "* **Macro:** computess f1 for each label, and returns the average without considering the proportion for each label in the dataset.\n",
    "\n",
    "* **Weighted:** computes f1 for each label, and returns the average considering the proportion for each label in the dataset."
   ]
  },
  {
   "cell_type": "markdown",
   "metadata": {
    "id": "R48sAdtv13cU"
   },
   "source": [
    "# Question 10:"
   ]
  },
  {
   "cell_type": "markdown",
   "metadata": {
    "id": "V6_1TR9sZq2k"
   },
   "source": [
    "## Without additive smoothing"
   ]
  },
  {
   "cell_type": "code",
   "execution_count": 10,
   "metadata": {
    "id": "lSNxhNgNbbvQ"
   },
   "outputs": [
    {
     "data": {
      "text/plain": [
       "3"
      ]
     },
     "execution_count": 10,
     "metadata": {},
     "output_type": "execute_result"
    }
   ],
   "source": [
    "def get_category_index(cat):\n",
    "    genres = ['هنر و سینما', 'علم و تکنولوژی', 'سلامت و زیبایی', 'بازی ویدیویی']\n",
    "    return genres.index(cat)\n",
    "\n",
    "get_category_index('بازی ویدیویی')"
   ]
  },
  {
   "cell_type": "code",
   "execution_count": 268,
   "metadata": {
    "id": "M9JBsY6Sx0LK"
   },
   "outputs": [],
   "source": [
    "tp = [0, 0, 0, 0]\n",
    "fp = [0, 0, 0, 0]\n",
    "fn = [0, 0, 0, 0]\n",
    "correct = 0"
   ]
  },
  {
   "cell_type": "code",
   "execution_count": 269,
   "metadata": {
    "id": "C3MDbLFXYOk4"
   },
   "outputs": [],
   "source": [
    "ZERO = 1/999999999999999999999999999999999999999999999\n",
    "\n",
    "def get_class_prob(cat,cat_count,t):\n",
    "    if (t not in cat):\n",
    "        return log(ZERO)\n",
    "    else:\n",
    "        return log((cat[t]) / (cat_count))\n",
    "\n",
    "def calculate_prob_without_additive_smoothing(content):\n",
    "    tokens = word_tokenize(clean_data(content))\n",
    "    class_prob = [0, 0, 0, 0]\n",
    "\n",
    "\n",
    "    for token in tokens:\n",
    "        \n",
    "        class_prob[0] += get_class_prob(art_cinema,art_cinema_count,token)\n",
    "        \n",
    "        class_prob[1] += get_class_prob(science_tech,science_tech_count,token)\n",
    "        \n",
    "        class_prob[2] += get_class_prob(beauty_health,beauty_health_count,token)\n",
    "\n",
    "        class_prob[3] += get_class_prob(video_games,video_games_count,token)\n",
    "\n",
    "        \n",
    "    return class_prob"
   ]
  },
  {
   "cell_type": "code",
   "execution_count": 270,
   "metadata": {
    "id": "rXhtXVI6bJI9"
   },
   "outputs": [],
   "source": [
    "for index, row in df_test.iterrows():\n",
    "    \n",
    "    prob_over_classes = calculate_prob_without_additive_smoothing(row['content'])\n",
    "\n",
    "    max_prob_class = max(prob_over_classes)\n",
    "\n",
    "    predict = prob_over_classes.index(max_prob_class, 0)\n",
    "\n",
    "    category = get_category_index(row['label'])\n",
    "\n",
    "    if category == predict:\n",
    "        correct += 1\n",
    "    \n",
    "    if (category == predict):\n",
    "        tp[predict] += 1\n",
    "    else:\n",
    "        fp[predict] += 1\n",
    "        fn[category] += 1\n"
   ]
  },
  {
   "cell_type": "code",
   "execution_count": 271,
   "metadata": {
    "colab": {
     "base_uri": "https://localhost:8080/"
    },
    "id": "xM27RaNSce_k",
    "outputId": "62a327b5-6f59-400f-9721-a4fb3e5f6674"
   },
   "outputs": [
    {
     "name": "stdout",
     "output_type": "stream",
     "text": [
      "Without additive smoothing:\n",
      "\n",
      "Category  0\n",
      "True Positive Count:  164\n",
      "False Positive Count:  17\n",
      "False Negative Count:  3\n",
      "Precision: 0.9060773480662984\n",
      "F1_score: 0.9425287356321839\n",
      "Recall: 0.9820359281437125\n",
      "------------------------------\n",
      "Category  1\n",
      "True Positive Count:  253\n",
      "False Positive Count:  7\n",
      "False Negative Count:  24\n",
      "Precision: 0.9730769230769231\n",
      "F1_score: 0.9422718808193669\n",
      "Recall: 0.9133574007220217\n",
      "------------------------------\n",
      "Category  2\n",
      "True Positive Count:  152\n",
      "False Positive Count:  22\n",
      "False Negative Count:  9\n",
      "Precision: 0.8735632183908046\n",
      "F1_score: 0.9074626865671642\n",
      "Recall: 0.9440993788819876\n",
      "------------------------------\n",
      "Category  3\n",
      "True Positive Count:  182\n",
      "False Positive Count:  5\n",
      "False Negative Count:  15\n",
      "Precision: 0.9732620320855615\n",
      "F1_score: 0.9479166666666666\n",
      "Recall: 0.9238578680203046\n",
      "------------------------------\n",
      "Accuracy is  0.9364089775561097\n"
     ]
    }
   ],
   "source": [
    "print(\"Without additive smoothing:\\n\")\n",
    "printResult(tp,fp,fn,correct)"
   ]
  },
  {
   "cell_type": "markdown",
   "metadata": {},
   "source": [
    "## Macro Average\n",
    "$$F_1 = \\frac{0.94+0.91+0.94+0.92}{4} = 0.9275\\$$\n",
    "\n",
    "$$Precision = \\frac{0.90 + 0.97 + 0.87 + 0.97}{4} = 0.9275\\$$\n",
    "\n",
    "$$Recall = \\frac{0.98 + 0.91 + 0.94 + 0.92}{4} = 0.9375\\$$\n",
    "\n",
    "## Macro Average\n",
    "\n",
    "$$Precision = \\frac{TP_1 + TP_2 + TP_3 + TP_4}{TP_1 + FP_1 + TP_2 + FP_2 + TP_3 + FP_3 + TP_4 + FP_4} = 0.93\\$$\n",
    "\n",
    "$$Recall = \\frac{TP_1 + TP_2 + TP_3 + TP_4}{TP_1 + FN_1 + TP_2 + FN_2 + TP_3 + FN_3 + TP_4 + FN_4} = 0.93\\$$\n",
    "\n",
    "$$ F_1 = 2\\frac{Precision.Recall}{Precision + Recall} = 0.93\\$$\n",
    "\n",
    "# Weighted Average\n",
    "\n",
    "$$F_1 = \\frac{(277\\times0.94+197\\times0.91+167\\times0.94+161\\times0.92)}{277+197+167+161} = 0.9286\\$$\n",
    "\n",
    "$$Precision = \\frac{(277\\times0.90+197\\times0.97+167\\times0.87+161\\times0.94)}{277+197+167+161} = 0.9189\\$$\n",
    "\n",
    "$$Recall = \\frac{(277\\times0.98+197\\times0.91+167\\times0.94+161\\times0.92)}{277+197+167+161} = 0.9424\\$$"
   ]
  },
  {
   "cell_type": "markdown",
   "metadata": {
    "id": "PJK_bd9Pg_kh"
   },
   "source": [
    "## With additive smoothing"
   ]
  },
  {
   "cell_type": "code",
   "execution_count": 272,
   "metadata": {
    "id": "CS36uE24ypdT"
   },
   "outputs": [],
   "source": [
    "tp = [0, 0, 0, 0]\n",
    "fp = [0, 0, 0, 0]\n",
    "fn = [0, 0, 0, 0]\n",
    "correct = 0\n",
    "\n",
    "miss_classified = []\n",
    "class_miss_classified = []"
   ]
  },
  {
   "cell_type": "code",
   "execution_count": 273,
   "metadata": {
    "id": "5HqgOlesc_Ci"
   },
   "outputs": [],
   "source": [
    "def calculate_prob_with_additive_smoothing(content):\n",
    "    k = 1\n",
    "    tokens = word_tokenize(clean_data(content))\n",
    "    class_prob = [0, 0, 0, 0]\n",
    "    \n",
    "    \n",
    "    for token in tokens:\n",
    "        \n",
    "        class_prob[0] += log((art_cinema.get(token, 0) + k) / (art_cinema_count + k * distinct_art_cinema))\n",
    "            \n",
    "        class_prob[1] += log((science_tech.get(token, 0) + k) / (science_tech_count + k * distinct_science_tech))\n",
    "            \n",
    "        class_prob[2] += log((beauty_health.get(token, 0) + k) / (beauty_health_count + k * distinct_beauty_health))\n",
    "            \n",
    "        class_prob[3] += log((video_games.get(token, 0) + k) / (video_games_count + k * distinct_video_games))\n",
    "        \n",
    "\n",
    "    return class_prob"
   ]
  },
  {
   "cell_type": "code",
   "execution_count": 274,
   "metadata": {
    "id": "V4RA6IRCdaoZ"
   },
   "outputs": [],
   "source": [
    "for index, row in df_test.iterrows():\n",
    "    \n",
    "    prob_over_classes = calculate_prob_with_additive_smoothing(row['content'])\n",
    "\n",
    "    max_prob_class = max(prob_over_classes)\n",
    "\n",
    "    prediction = prob_over_classes.index(max_prob_class, 0)\n",
    "    \n",
    "    \n",
    "    category = get_category_index(row['label'])\n",
    "\n",
    "    if category == prediction:\n",
    "        correct += 1\n",
    "    \n",
    "    if (category == prediction):\n",
    "        tp[prediction] += 1\n",
    "    else:\n",
    "        fp[prediction] += 1\n",
    "        fn[category] += 1\n",
    "        miss_classified.append(row)\n",
    "        class_miss_classified.append(prediction)\n"
   ]
  },
  {
   "cell_type": "code",
   "execution_count": 275,
   "metadata": {
    "colab": {
     "base_uri": "https://localhost:8080/"
    },
    "id": "JrTM-k8odoJ0",
    "outputId": "f87ca5db-236c-46d0-ccd1-a73096b5220a"
   },
   "outputs": [
    {
     "name": "stdout",
     "output_type": "stream",
     "text": [
      "RESULTS WITH ADDITIVE SOOTHING:\n",
      "Category  0\n",
      "True Positive Count:  159\n",
      "False Positive Count:  8\n",
      "False Negative Count:  8\n",
      "Precision: 0.9520958083832335\n",
      "F1_score: 0.9520958083832335\n",
      "Recall: 0.9520958083832335\n",
      "------------------------------\n",
      "Category  1\n",
      "True Positive Count:  268\n",
      "False Positive Count:  15\n",
      "False Negative Count:  9\n",
      "Precision: 0.9469964664310954\n",
      "F1_score: 0.9571428571428571\n",
      "Recall: 0.9675090252707581\n",
      "------------------------------\n",
      "Category  2\n",
      "True Positive Count:  150\n",
      "False Positive Count:  6\n",
      "False Negative Count:  11\n",
      "Precision: 0.9615384615384616\n",
      "F1_score: 0.9463722397476341\n",
      "Recall: 0.9316770186335404\n",
      "------------------------------\n",
      "Category  3\n",
      "True Positive Count:  187\n",
      "False Positive Count:  9\n",
      "False Negative Count:  10\n",
      "Precision: 0.9540816326530612\n",
      "F1_score: 0.9516539440203563\n",
      "Recall: 0.949238578680203\n",
      "------------------------------\n",
      "Accuracy is  0.9526184538653366\n"
     ]
    }
   ],
   "source": [
    "print(\"RESULTS WITH ADDITIVE SOOTHING:\")\n",
    "printResult(tp,fp,fn,correct)"
   ]
  },
  {
   "cell_type": "markdown",
   "metadata": {},
   "source": [
    "## Macro Average\n",
    "$$F_1 = \\frac{0.95+0.95+0.94+0.95}{4} = 0.9475\\$$\n",
    "\n",
    "$$Precision = \\frac{0.95 + 0.94 + 0.96 + 0.95}{4} = 0.95\\$$\n",
    "\n",
    "$$Recall = \\frac{0.95 + 0.96 + 0.93 + 0.94}{4} = 0.945\\$$\n",
    "\n",
    "## Macro Average\n",
    "\n",
    "$$Precision = \\frac{TP_1 + TP_2 + TP_3 + TP_4}{TP_1 + FP_1 + TP_2 + FP_2 + TP_3 + FP_3 + TP_4 + FP_4} = 0.9526$$\n",
    "\n",
    "$$Recall = \\frac{TP_1 + TP_2 + TP_3 + TP_4}{TP_1 + FN_1 + TP_2 + FN_2 + TP_3 + FN_3 + TP_4 + FN_4} = 0.9526$$\n",
    "\n",
    "$$ F_1 = 2\\frac{Precision.Recall}{Precision + Recall} = 0.9526\\$$\n",
    "\n",
    "# Weighted Average\n",
    "\n",
    "$$F_1 = \\frac{(277\\times0.95+197\\times0.95+167\\times0.94+161\\times0.95)}{277+197+167+161} = 0.9479\\$$\n",
    "\n",
    "$$Precision = \\frac{(277\\times0.95+197\\times0.94+167\\times0.96+161\\times0.95)}{277+197+167+161} = 0.9496\\$$\n",
    "\n",
    "$$Recall = \\frac{(277\\times0.95+197\\times0.96+167\\times0.93+161\\times0.94)}{277+197+167+161} = 0.9462\\$$"
   ]
  },
  {
   "cell_type": "markdown",
   "metadata": {
    "id": "f5hQuH501_Eg"
   },
   "source": [
    "# Question 11\n",
    "\n",
    "As you can see, the overall performance of our model is better with additive smoothing."
   ]
  },
  {
   "cell_type": "markdown",
   "metadata": {
    "id": "yCFuMbcb1A0G"
   },
   "source": [
    "# Question 12:"
   ]
  },
  {
   "cell_type": "code",
   "execution_count": 276,
   "metadata": {
    "colab": {
     "base_uri": "https://localhost:8080/",
     "height": 206
    },
    "id": "qdaioG02n_Q5",
    "outputId": "27e44095-896a-41d8-c2c1-debd6cbd8729"
   },
   "outputs": [
    {
     "data": {
      "text/html": [
       "\n",
       "  <div id=\"df-cfecdabd-32fc-419d-b7e4-bc03fe7707e8\">\n",
       "    <div class=\"colab-df-container\">\n",
       "      <div>\n",
       "<style scoped>\n",
       "    .dataframe tbody tr th:only-of-type {\n",
       "        vertical-align: middle;\n",
       "    }\n",
       "\n",
       "    .dataframe tbody tr th {\n",
       "        vertical-align: top;\n",
       "    }\n",
       "\n",
       "    .dataframe thead th {\n",
       "        text-align: right;\n",
       "    }\n",
       "</style>\n",
       "<table border=\"1\" class=\"dataframe\">\n",
       "  <thead>\n",
       "    <tr style=\"text-align: right;\">\n",
       "      <th></th>\n",
       "      <th>content</th>\n",
       "      <th>label</th>\n",
       "    </tr>\n",
       "  </thead>\n",
       "  <tbody>\n",
       "    <tr>\n",
       "      <th>50</th>\n",
       "      <td>دیزنی به کمک دوربین‌های نوکیا، محتوای واقعیت م...</td>\n",
       "      <td>هنر و سینما</td>\n",
       "    </tr>\n",
       "    <tr>\n",
       "      <th>53</th>\n",
       "      <td>Ryzen Threadripper: قوی‌ترین پردازنده‌های AMD ...</td>\n",
       "      <td>بازی ویدیویی</td>\n",
       "    </tr>\n",
       "    <tr>\n",
       "      <th>98</th>\n",
       "      <td>آلیسیا ویکاندر در نقش لارا کرافت آلیسیا ویکاند...</td>\n",
       "      <td>هنر و سینما</td>\n",
       "    </tr>\n",
       "    <tr>\n",
       "      <th>173</th>\n",
       "      <td>همه چیز درباره ارزش پول (داستان پول – قسمت ۵) ...</td>\n",
       "      <td>علم و تکنولوژی</td>\n",
       "    </tr>\n",
       "    <tr>\n",
       "      <th>202</th>\n",
       "      <td>تریلر جدید سریال The Walking Dead مقدمه‌ای برا...</td>\n",
       "      <td>هنر و سینما</td>\n",
       "    </tr>\n",
       "  </tbody>\n",
       "</table>\n",
       "</div>\n",
       "      <button class=\"colab-df-convert\" onclick=\"convertToInteractive('df-cfecdabd-32fc-419d-b7e4-bc03fe7707e8')\"\n",
       "              title=\"Convert this dataframe to an interactive table.\"\n",
       "              style=\"display:none;\">\n",
       "        \n",
       "  <svg xmlns=\"http://www.w3.org/2000/svg\" height=\"24px\"viewBox=\"0 0 24 24\"\n",
       "       width=\"24px\">\n",
       "    <path d=\"M0 0h24v24H0V0z\" fill=\"none\"/>\n",
       "    <path d=\"M18.56 5.44l.94 2.06.94-2.06 2.06-.94-2.06-.94-.94-2.06-.94 2.06-2.06.94zm-11 1L8.5 8.5l.94-2.06 2.06-.94-2.06-.94L8.5 2.5l-.94 2.06-2.06.94zm10 10l.94 2.06.94-2.06 2.06-.94-2.06-.94-.94-2.06-.94 2.06-2.06.94z\"/><path d=\"M17.41 7.96l-1.37-1.37c-.4-.4-.92-.59-1.43-.59-.52 0-1.04.2-1.43.59L10.3 9.45l-7.72 7.72c-.78.78-.78 2.05 0 2.83L4 21.41c.39.39.9.59 1.41.59.51 0 1.02-.2 1.41-.59l7.78-7.78 2.81-2.81c.8-.78.8-2.07 0-2.86zM5.41 20L4 18.59l7.72-7.72 1.47 1.35L5.41 20z\"/>\n",
       "  </svg>\n",
       "      </button>\n",
       "      \n",
       "  <style>\n",
       "    .colab-df-container {\n",
       "      display:flex;\n",
       "      flex-wrap:wrap;\n",
       "      gap: 12px;\n",
       "    }\n",
       "\n",
       "    .colab-df-convert {\n",
       "      background-color: #E8F0FE;\n",
       "      border: none;\n",
       "      border-radius: 50%;\n",
       "      cursor: pointer;\n",
       "      display: none;\n",
       "      fill: #1967D2;\n",
       "      height: 32px;\n",
       "      padding: 0 0 0 0;\n",
       "      width: 32px;\n",
       "    }\n",
       "\n",
       "    .colab-df-convert:hover {\n",
       "      background-color: #E2EBFA;\n",
       "      box-shadow: 0px 1px 2px rgba(60, 64, 67, 0.3), 0px 1px 3px 1px rgba(60, 64, 67, 0.15);\n",
       "      fill: #174EA6;\n",
       "    }\n",
       "\n",
       "    [theme=dark] .colab-df-convert {\n",
       "      background-color: #3B4455;\n",
       "      fill: #D2E3FC;\n",
       "    }\n",
       "\n",
       "    [theme=dark] .colab-df-convert:hover {\n",
       "      background-color: #434B5C;\n",
       "      box-shadow: 0px 1px 3px 1px rgba(0, 0, 0, 0.15);\n",
       "      filter: drop-shadow(0px 1px 2px rgba(0, 0, 0, 0.3));\n",
       "      fill: #FFFFFF;\n",
       "    }\n",
       "  </style>\n",
       "\n",
       "      <script>\n",
       "        const buttonEl =\n",
       "          document.querySelector('#df-cfecdabd-32fc-419d-b7e4-bc03fe7707e8 button.colab-df-convert');\n",
       "        buttonEl.style.display =\n",
       "          google.colab.kernel.accessAllowed ? 'block' : 'none';\n",
       "\n",
       "        async function convertToInteractive(key) {\n",
       "          const element = document.querySelector('#df-cfecdabd-32fc-419d-b7e4-bc03fe7707e8');\n",
       "          const dataTable =\n",
       "            await google.colab.kernel.invokeFunction('convertToInteractive',\n",
       "                                                     [key], {});\n",
       "          if (!dataTable) return;\n",
       "\n",
       "          const docLinkHtml = 'Like what you see? Visit the ' +\n",
       "            '<a target=\"_blank\" href=https://colab.research.google.com/notebooks/data_table.ipynb>data table notebook</a>'\n",
       "            + ' to learn more about interactive tables.';\n",
       "          element.innerHTML = '';\n",
       "          dataTable['output_type'] = 'display_data';\n",
       "          await google.colab.output.renderOutput(dataTable, element);\n",
       "          const docLink = document.createElement('div');\n",
       "          docLink.innerHTML = docLinkHtml;\n",
       "          element.appendChild(docLink);\n",
       "        }\n",
       "      </script>\n",
       "    </div>\n",
       "  </div>\n",
       "  "
      ],
      "text/plain": [
       "                                               content           label\n",
       "50   دیزنی به کمک دوربین‌های نوکیا، محتوای واقعیت م...     هنر و سینما\n",
       "53   Ryzen Threadripper: قوی‌ترین پردازنده‌های AMD ...    بازی ویدیویی\n",
       "98   آلیسیا ویکاندر در نقش لارا کرافت آلیسیا ویکاند...     هنر و سینما\n",
       "173  همه چیز درباره ارزش پول (داستان پول – قسمت ۵) ...  علم و تکنولوژی\n",
       "202  تریلر جدید سریال The Walking Dead مقدمه‌ای برا...     هنر و سینما"
      ]
     },
     "execution_count": 276,
     "metadata": {},
     "output_type": "execute_result"
    }
   ],
   "source": [
    "miss_classified = pd.DataFrame(miss_classified)\n",
    "miss_classified.head(5)"
   ]
  },
  {
   "cell_type": "code",
   "execution_count": 277,
   "metadata": {
    "colab": {
     "base_uri": "https://localhost:8080/"
    },
    "id": "uI9CDA840XoB",
    "outputId": "367c5ea8-b100-4c30-af56-d350e3e84086"
   },
   "outputs": [
    {
     "name": "stdout",
     "output_type": "stream",
     "text": [
      "[3, 1, 3, 2, 3, 0, 0, 0, 1, 1]\n"
     ]
    }
   ],
   "source": [
    "print(class_miss_classified[:10])"
   ]
  },
  {
   "cell_type": "code",
   "execution_count": 278,
   "metadata": {
    "colab": {
     "base_uri": "https://localhost:8080/"
    },
    "id": "9SCBuSMx0l0c",
    "outputId": "541a4576-2b74-48bf-b09a-a1bd1febff96"
   },
   "outputs": [
    {
     "name": "stdout",
     "output_type": "stream",
     "text": [
      "دیزنی به کمک دوربین‌های نوکیا، محتوای واقعیت مجازی می‌سازد نوکیا سال گذشته از یک دوربین واقعیت مجازی به اسم OZO VR رونمایی کرد. این دوربین با قیمت ۶۰ هزار دلاری‌اش، اصلا به درد فیلم‌بردارهای آماتور نمی‌خورد و برای استودیوهای فیلم‌سازی و فیلم‌برداران حرفه‌ای طراحی شده است. استودیوی فیلم‌سازی دیزنی هم اخیرا با نوکیا وارد همکاری جدیدی شده است. دیزنی می‌خواهد با دوربین واقعیت مجازی نوکیا، فیلم‌هایی مختص هدست‌های واقعیت مجازی بسازد. دیزنی گفته است که می‌خواهد از دوربین نوکیا برای ساخت تجربه‌های جدید واقعیت مجازی استفاده کند. دوربین OZO VR شرکت نوکیا قابلیت‌های قدرتمندی مثل توانایی پیش‌نمایش ویدیوهای ضبط شده دارد و می‌تواند به صورت بی‌سیم هم کار کند. این دوربین می‌تواند حتی صدا و تصویر ۳۶۰ درجه را به دیگر دستگاه‌ها بفرستد. دوربین OZO VR هشت سنسور تصویربرداری، میکروفون داخلی و قابلیت ضبط ویدیوهای سه‌بعدی را دارد. دیزنی گفته است که می‌خواهد از این دوربین نوکیا برای ساخت تجربه‌های جدید واقعیت مجازی استفاده کند. البته این تجربه‌ها قرار نیست فیلم‌های بلند باشند. دیزنی می‌خواهد تجربه‌های کوتاه‌تری بسازد. برای مثال، این استودیوی فیلم‌سازی مراحل انتخاب بازیگران فیلم کتاب جنگل (Jungle Book) را با استفاده از دوربین OZO VR ضبط کرده است. نوکیا می‌گوید که دوربین OZO VR و متعلقات‌اش، به استودیوهای فیلم‌سازی در مراحل پس‌تولید فیلم‌ها کمک خواهد کرد و از هزینه‌ها و زمانی که باید برای ساخت ویدیوهای واقعیت مجازی صرف کنند، می‌کاهد. منبع: Ubergizmo\n"
     ]
    }
   ],
   "source": [
    "print(miss_classified['content'].iloc[0])"
   ]
  },
  {
   "cell_type": "markdown",
   "metadata": {},
   "source": [
    "This article was mis classified for video games category because there are words that are associted with video games like `virtual reality`. One reason for mis classification would be that our model is more sensitive to  frequent words in each category. We could remove some of the most frequent words in order to increase the overall performance."
   ]
  }
 ],
 "metadata": {
  "colab": {
   "collapsed_sections": [],
   "name": "AI_CA3.ipynb",
   "provenance": []
  },
  "kernelspec": {
   "display_name": "Python 3 (ipykernel)",
   "language": "python",
   "name": "python3"
  },
  "language_info": {
   "codemirror_mode": {
    "name": "ipython",
    "version": 3
   },
   "file_extension": ".py",
   "mimetype": "text/x-python",
   "name": "python",
   "nbconvert_exporter": "python",
   "pygments_lexer": "ipython3",
   "version": "3.9.7"
  }
 },
 "nbformat": 4,
 "nbformat_minor": 1
}
