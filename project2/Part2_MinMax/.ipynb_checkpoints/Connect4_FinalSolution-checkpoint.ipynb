{
 "cells": [
  {
   "cell_type": "markdown",
   "metadata": {
    "id": "g09j2eg5vlD-"
   },
   "source": [
    "# Computer Assignment 2: Connect-4 MinMax\n",
    "In this assignment the game logic is already implemented. The task is to implement MinMax algorithm with/without alpha-beat pruning for [connect-4 game](https://en.wikipedia.org/wiki/Connect_Four).\n",
    "\n",
    "\n",
    "> Connect Four (also known as Four Up, Plot Four, Find Four, Captain's Mistress, Four in a Row, Drop Four, and Gravitrips in the Soviet Union) is a two-player connection board game, in which the players choose a color and then take turns dropping colored tokens into a seven-column, six-row vertically suspended grid. The pieces fall straight down, occupying the lowest available space within the column. The objective of the game is to be the first to form a horizontal, vertical, or diagonal line of four of one's own tokens. Connect Four is a solved game. The first player can always win by playing the right moves.[(Source)](https://en.wikipedia.org/wiki/Connect_Four)\n",
    "\n",
    "Author: **Danial Saeedi** (Student ID: 810198571)\n"
   ]
  },
  {
   "cell_type": "markdown",
   "metadata": {
    "id": "Rth9JRYrvlEB"
   },
   "source": [
    "# Heuristic Function\n",
    "\n",
    "The heuristic adds a point to a player for each empty slot that could grant a player victory. The `calculate_score` calculates the heuristic value for each game state. The score that `calculate_score` returns is the cumulative score per coordination/point.\n",
    "\n",
    "`point_score_calculator` : Each coordinate evaluates if a possible win can be found vertically, horizontally or in both diagonals.\n",
    "\n",
    "**Note:** `calculate_score` returns $+\\infty$ if the player(YOU) wins and returns $-\\infty$ if the computer(CPU) wins."
   ]
  },
  {
   "cell_type": "markdown",
   "metadata": {
    "id": "6Dxn4RIuvlEC"
   },
   "source": [
    "# Import dependencies"
   ]
  },
  {
   "cell_type": "code",
   "execution_count": 2,
   "metadata": {
    "id": "EibEMGhuvlED"
   },
   "outputs": [],
   "source": [
    "from random import random\n",
    "import copy\n",
    "import numpy as np\n",
    "import time"
   ]
  },
  {
   "cell_type": "markdown",
   "metadata": {
    "id": "kegCJ4HevlED"
   },
   "source": [
    "# MinMax without pruning"
   ]
  },
  {
   "cell_type": "code",
   "execution_count": 3,
   "metadata": {
    "id": "w6XoEtXevlEE"
   },
   "outputs": [],
   "source": [
    "class MinMaxHandler:\n",
    "    def __init__(self,cols = 7, rows = 6, search_depth = 4, CPU = -1, HUMAN_PLAYER = 1):\n",
    "        self.cols = cols\n",
    "        self.rows = rows\n",
    "        self.search_depth = search_depth\n",
    "        self.CPU = CPU\n",
    "        self.HUMAN_PLAYER = HUMAN_PLAYER\n",
    "    \n",
    "    def calculate_number_of_possible_moves(self,game_state):\n",
    "        possible_moves = self.cols\n",
    "        for i in range(0, self.cols):\n",
    "            if game_state[0][i] != 0:\n",
    "                possible_moves -= 1\n",
    "        return possible_moves\n",
    "\n",
    "    def minimax(self,game_state, depth, player, opponent):\n",
    "        possible_moves = self.calculate_number_of_possible_moves(game_state)\n",
    "        \n",
    "        # Evaluate Socre if there's possible moves or the depth is 0 and also return None for best_column\n",
    "        if depth == 0 or possible_moves == 0:\n",
    "            score = self.calculate_score(game_state, player, opponent)\n",
    "            return None, score\n",
    "\n",
    "        highest_score = None\n",
    "        optimal_column = None\n",
    "\n",
    "        for i in range(0, self.cols):\n",
    "            # Skip this col if col is full\n",
    "            if game_state[0][i] != 0:\n",
    "                continue\n",
    "\n",
    "            currentMove = [0, i]\n",
    "\n",
    "            for j in range(0, self.rows - 1):\n",
    "                if game_state[j + 1][i] != 0:\n",
    "                    game_state[j][i] = player\n",
    "                    currentMove[0] = j\n",
    "                    break\n",
    "                elif j == self.rows - 2:\n",
    "                    game_state[j+1][i] = player\n",
    "                    currentMove[0] = j+1\n",
    "\n",
    "            # Recursive minimax call, with reduced depth\n",
    "            move, score = self.minimax(game_state, depth - 1, opponent, player)\n",
    "\n",
    "            game_state[currentMove[0]][currentMove[1]] = 0\n",
    "\n",
    "            if player == self.CPU:\n",
    "                if highest_score == None or score > highest_score:\n",
    "                    highest_score = score\n",
    "                    optimal_column = currentMove\n",
    "            else:\n",
    "                if highest_score == None or score < highest_score:\n",
    "                    highest_score = score\n",
    "                    optimal_column = currentMove\n",
    "\n",
    "        return optimal_column, highest_score\n",
    "\n",
    "    \"\"\"\n",
    "    This method calculates the score of each game state(board). \n",
    "    Return +inf if the you win and return -inf if CPU wins.\n",
    "    \"\"\"\n",
    "    def calculate_score(self,game_state, player, opponent):\n",
    "        # Return infinity if a self.YOU has won in the given board\n",
    "        total_score = self.get_game_status(game_state)\n",
    "\n",
    "        if total_score == player:\n",
    "            return float(\"inf\")\n",
    "        elif total_score == opponent:\n",
    "            return float(\"-inf\")\n",
    "        else:\n",
    "            total_score = 0\n",
    "\n",
    "        for i in range(0, self.rows):\n",
    "            for j in range(0, self.cols):\n",
    "                if game_state[i][j] == 0:\n",
    "                    total_score += self.point_score_calculator(game_state, i, j, player, opponent)\n",
    "\n",
    "        return total_score\n",
    "      \n",
    "    \n",
    "    \"\"\"\n",
    "    This method calculates the score of point (x,y).\n",
    "    For each point (x,y) we calculate vertical, horizontal, and both diagonal line score.\n",
    "    \"\"\"\n",
    "    def point_score_calculator(self,game_state, x, y, player, opponent):\n",
    "        score = 0\n",
    "\n",
    "         # Calculates horizontal line score\n",
    "        score += self.line_score_calculator(game_state=game_state,x=x,y=y,row_increament_direction=0,col_increm_direction=-1,first_row_cond=None,second_row_cond=None,first_col_cond=-1,second_col_cond=self.cols,player=player,opponent=opponent)\n",
    "\n",
    "        # Calculates vertical line score\n",
    "        score += self.line_score_calculator(game_state=game_state,x=x,y=y,row_increament_direction=-1,col_increm_direction=0,first_row_cond=-1,second_row_cond=self.rows,first_col_cond=None,second_col_cond=None,player=player,opponent=opponent)\n",
    "\n",
    "         # Calculates diagonal y= -ax+b score\n",
    "        score += self.line_score_calculator(game_state=game_state,x=x,y=y,row_increament_direction=-1,col_increm_direction=-1,first_row_cond=-1,second_row_cond=self.rows,first_col_cond=-1,second_col_cond=self.cols,player=player,opponent=opponent)\n",
    "\n",
    "        # Calculates diagonal y=ax+b score\n",
    "        score += self.line_score_calculator(game_state=game_state,x=x,y=y,row_increament_direction=-1,col_increm_direction=1,first_row_cond=-1,second_row_cond=self.rows,first_col_cond=self.cols,second_col_cond=-1,player=player,opponent=opponent)\n",
    "        return score\n",
    "\n",
    "    \"\"\"\n",
    "    This method searches horizontal, vertical, and diagonal lines and determines the score of (x,y).\n",
    "    \"\"\"\n",
    "    def line_score_calculator(self,game_state,x,y,row_increament_direction,col_increm_direction,first_row_cond,second_row_cond,first_col_cond,second_col_cond,player,opponent):\n",
    "        total_score = 0\n",
    "        curr_in_line = 0\n",
    "        values_in_a_row = 0\n",
    "        values_in_a_row_previous = 0\n",
    "\n",
    "        row = x + row_increament_direction\n",
    "        column = y + col_increm_direction\n",
    "        is_first = True\n",
    "        while row != first_row_cond and column != first_col_cond and game_state[row][column] != 0:\n",
    "            if is_first:\n",
    "                curr_in_line = game_state[row][column]\n",
    "                is_first = False\n",
    "            if curr_in_line == game_state[row][column]:\n",
    "                values_in_a_row += 1\n",
    "            else:\n",
    "                break\n",
    "            row += row_increament_direction\n",
    "            column += col_increm_direction\n",
    "\n",
    "        row = x - row_increament_direction\n",
    "        column = y - col_increm_direction\n",
    "        is_first = True\n",
    "        while row != second_row_cond and column != second_col_cond and game_state[row][column] != 0:\n",
    "            if is_first:\n",
    "                is_first = False\n",
    "\n",
    "                if curr_in_line != game_state[row][column]:\n",
    "                    if values_in_a_row == 3 and curr_in_line == player:\n",
    "                        total_score += 1\n",
    "                    elif values_in_a_row == 3 and curr_in_line == opponent:\n",
    "                        total_score -= 1\n",
    "                else:\n",
    "                    values_in_a_row_previous = values_in_a_row\n",
    "\n",
    "                values_in_a_row = 0\n",
    "                curr_in_line = game_state[row][column]\n",
    "\n",
    "            if curr_in_line == game_state[row][column]:\n",
    "                values_in_a_row += 1\n",
    "            else:\n",
    "                break\n",
    "            row -= row_increament_direction\n",
    "            column -= col_increm_direction\n",
    "\n",
    "        if values_in_a_row + values_in_a_row_previous >= 3 and curr_in_line == player:\n",
    "            total_score += 1\n",
    "        elif values_in_a_row + values_in_a_row_previous >= 3 and curr_in_line == opponent:\n",
    "            total_score -= 1\n",
    "\n",
    "        return total_score\n",
    "\n",
    "    \"\"\"\n",
    "    This method runs the minmax method and returns the move to be selected. And also it checks if any immediate wins or loose is possible at given game state.\n",
    "    \"\"\"\n",
    "    def optimal_column(self,game_state, player, opponent):\n",
    "        for i in range(0, self.cols):\n",
    "            # If moves cannot be made on i column, skip it\n",
    "            if game_state[0][i] != 0:\n",
    "                continue\n",
    "\n",
    "            currentMove = [0, i]\n",
    "\n",
    "            for j in range(0, self.rows - 1):\n",
    "                if game_state[j + 1][i] != 0:\n",
    "                    game_state[j][i] = player\n",
    "                    currentMove[0] = j\n",
    "                    break\n",
    "                elif j == self.rows - 2:\n",
    "                    game_state[j+1][i] = player\n",
    "                    currentMove[0] = j+1\n",
    "\n",
    "            winner = self.get_game_status(game_state)\n",
    "            game_state[currentMove[0]][currentMove[1]] = 0\n",
    "\n",
    "            if winner == self.CPU:\n",
    "                return currentMove[1]\n",
    "\n",
    "        for i in range(0, self.cols):\n",
    "            # If moves cannot be made on i column, skip it\n",
    "            if game_state[0][i] != 0:\n",
    "                continue\n",
    "\n",
    "            currentMove = [0, i]\n",
    "\n",
    "            for j in range(0, self.rows - 1):\n",
    "                if game_state[j + 1][i] != 0:\n",
    "                    game_state[j][i] = opponent\n",
    "                    currentMove[0] = j\n",
    "                    break\n",
    "                elif j == self.rows - 2:\n",
    "                    game_state[j+1][i] = opponent\n",
    "                    currentMove[0] = j+1\n",
    "\n",
    "            winner = self.get_game_status(game_state)\n",
    "            game_state[currentMove[0]][currentMove[1]] = 0\n",
    "\n",
    "            if winner == self.HUMAN_PLAYER:\n",
    "                return currentMove[1]\n",
    "\n",
    "        move, score = self.minimax(game_state, self.search_depth, player, opponent)\n",
    "        return move[1]\n",
    "    \n",
    "    \"\"\"\n",
    "    This method returns the game status. If this method returns 0, that means the no one won.\n",
    "    \"\"\"\n",
    "    def get_game_status(self,game_state):\n",
    "        if self.get_horizontal_status(game_state) != 0:\n",
    "            return self.get_horizontal_status(game_state)\n",
    "        \n",
    "        if self.get_vertical_status(game_state) != 0:\n",
    "            return self.get_vertical_status(game_state)\n",
    "        \n",
    "        if self.get_diagonal_status(game_state) != 0:\n",
    "            return self.get_diagonal_status(game_state)\n",
    "        \n",
    "        # 0 means no one won!\n",
    "        return 0\n",
    "    \n",
    "    def get_horizontal_status(self,game_state):\n",
    "        CPU_connected_4 = 0\n",
    "        YOU_connected_4 = 0\n",
    "        curr = 0\n",
    "        curr_count = 0\n",
    "\n",
    "        for i in range(0, self.rows):\n",
    "            for j in range(0, self.cols):\n",
    "                if curr_count == 0:\n",
    "                    if game_state[i][j] != 0:\n",
    "                        curr = game_state[i][j]\n",
    "                        curr_count += 1\n",
    "                elif curr_count == 4:\n",
    "                    if curr == self.CPU:\n",
    "                        CPU_connected_4 += 1\n",
    "                    else:\n",
    "                        YOU_connected_4 += 1\n",
    "                    curr_count = 0\n",
    "                    break\n",
    "                elif game_state[i][j] != curr:\n",
    "                    if game_state[i][j] != 0:\n",
    "                        curr = game_state[i][j]\n",
    "                        curr_count = 1\n",
    "                    else:\n",
    "                        curr = 0\n",
    "                        curr_count = 0\n",
    "                else:\n",
    "                    curr_count += 1\n",
    "\n",
    "            if curr_count == 4:\n",
    "                if curr == self.CPU:\n",
    "                    CPU_connected_4 += 1\n",
    "                else:\n",
    "                    YOU_connected_4 += 1\n",
    "            curr = 0\n",
    "            curr_count = 0\n",
    "\n",
    "        \n",
    "        if YOU_connected_4 > 0:\n",
    "            return self.HUMAN_PLAYER\n",
    "        elif CPU_connected_4 > 0:\n",
    "            return self.CPU\n",
    "        else:\n",
    "            return 0\n",
    "    \n",
    "    def get_horizontal_status(self,game_state):\n",
    "        CPU_connected_4 = 0\n",
    "        YOU_connected_4 = 0\n",
    "        curr = 0\n",
    "        curr_count = 0\n",
    "\n",
    "        for i in range(0, self.rows):\n",
    "            for j in range(0, self.cols):\n",
    "                if curr_count == 0:\n",
    "                    if game_state[i][j] != 0:\n",
    "                        curr = game_state[i][j]\n",
    "                        curr_count += 1\n",
    "                elif curr_count == 4:\n",
    "                    if curr == self.CPU:\n",
    "                        CPU_connected_4 += 1\n",
    "                    else:\n",
    "                        YOU_connected_4 += 1\n",
    "                    curr_count = 0\n",
    "                    break\n",
    "                elif game_state[i][j] != curr:\n",
    "                    if game_state[i][j] != 0:\n",
    "                        curr = game_state[i][j]\n",
    "                        curr_count = 1\n",
    "                    else:\n",
    "                        curr = 0\n",
    "                        curr_count = 0\n",
    "                else:\n",
    "                    curr_count += 1\n",
    "\n",
    "            if curr_count == 4:\n",
    "                if curr == self.CPU:\n",
    "                    CPU_connected_4 += 1\n",
    "                else:\n",
    "                    YOU_connected_4 += 1\n",
    "            curr = 0\n",
    "            curr_count = 0\n",
    "\n",
    "        \n",
    "        if YOU_connected_4 > 0:\n",
    "            return self.HUMAN_PLAYER\n",
    "        elif CPU_connected_4 > 0:\n",
    "            return self.CPU\n",
    "        else:\n",
    "            return 0\n",
    "    \n",
    "    def get_horizontal_status(self,game_state):\n",
    "        CPU_connected_4 = 0\n",
    "        YOU_connected_4 = 0\n",
    "        curr = 0\n",
    "        curr_count = 0\n",
    "\n",
    "        for j in range(0, self.cols):\n",
    "            for i in range(0, self.rows):\n",
    "                if curr_count == 0:\n",
    "                    if game_state[i][j] != 0:\n",
    "                        curr = game_state[i][j]\n",
    "                        curr_count += 1\n",
    "                elif curr_count == 4:\n",
    "                    if curr == self.CPU:\n",
    "                        CPU_connected_4 += 1\n",
    "                    else:\n",
    "                        YOU_connected_4 += 1\n",
    "                    curr_count = 0\n",
    "                    break\n",
    "                elif game_state[i][j] != curr:\n",
    "                    if game_state[i][j] != 0:\n",
    "                        curr = game_state[i][j]\n",
    "                        curr_count = 1\n",
    "                    else:\n",
    "                        curr = 0\n",
    "                        curr_count = 0\n",
    "                else:\n",
    "                    curr_count += 1\n",
    "\n",
    "            if curr_count == 4:\n",
    "                if curr == self.CPU:\n",
    "                    CPU_connected_4 += 1\n",
    "                else:\n",
    "                    YOU_connected_4 += 1\n",
    "            curr = 0\n",
    "            curr_count = 0\n",
    "\n",
    "        \n",
    "        if YOU_connected_4 > 0:\n",
    "            return self.HUMAN_PLAYER\n",
    "        elif CPU_connected_4 > 0:\n",
    "            return self.CPU\n",
    "        else:\n",
    "            return 0\n",
    "    \n",
    "    def get_vertical_status(self,game_state):\n",
    "        CPU_connected_4 = 0\n",
    "        YOU_connected_4 = 0\n",
    "        curr = 0\n",
    "        curr_count = 0\n",
    "\n",
    "        for j in range(0, self.cols):\n",
    "            for i in range(0, self.rows):\n",
    "                if curr_count == 0:\n",
    "                    if game_state[i][j] != 0:\n",
    "                        curr = game_state[i][j]\n",
    "                        curr_count += 1\n",
    "                elif curr_count == 4:\n",
    "                    if curr == self.CPU:\n",
    "                        CPU_connected_4 += 1\n",
    "                    else:\n",
    "                        YOU_connected_4 += 1\n",
    "                    curr_count = 0\n",
    "                    break\n",
    "                elif game_state[i][j] != curr:\n",
    "                    if game_state[i][j] != 0:\n",
    "                        curr = game_state[i][j]\n",
    "                        curr_count = 1\n",
    "                    else:\n",
    "                        curr = 0\n",
    "                        curr_count = 0\n",
    "                else:\n",
    "                    curr_count += 1\n",
    "\n",
    "            if curr_count == 4:\n",
    "                if curr == self.CPU:\n",
    "                    CPU_connected_4 += 1\n",
    "                else:\n",
    "                    YOU_connected_4 += 1\n",
    "            curr = 0\n",
    "            curr_count = 0\n",
    "\n",
    "        \n",
    "        if YOU_connected_4 > 0:\n",
    "            return self.HUMAN_PLAYER\n",
    "        elif CPU_connected_4 > 0:\n",
    "            return self.CPU\n",
    "        else:\n",
    "            return 0\n",
    "    \n",
    "    def get_diagonal_status(self,game_state):\n",
    "        CPU_connected_4 = 0\n",
    "        YOU_connected_4 = 0\n",
    "        curr = 0\n",
    "        curr_count = 0\n",
    "\n",
    "        # Check diagonal wins\n",
    "        np_matrix = np.array(game_state)\n",
    "        diags = [np_matrix[::-1,:].diagonal(i) for i in range(-np_matrix.shape[0]+1,np_matrix.shape[1])]\n",
    "        diags.extend(np_matrix.diagonal(i) for i in range(np_matrix.shape[1]-1,-np_matrix.shape[0],-1))\n",
    "        diags_list = [n.tolist() for n in diags]\n",
    "\n",
    "        for i in range(0, len(diags_list)):\n",
    "            if len(diags_list[i]) >= 4:\n",
    "                for j in range(0, len(diags_list[i])):\n",
    "                    if curr_count == 0:\n",
    "                        if diags_list[i][j] != 0:\n",
    "                            curr = diags_list[i][j]\n",
    "                            curr_count += 1\n",
    "                    elif curr_count == 4:\n",
    "                        if curr == self.CPU:\n",
    "                            CPU_connected_4 += 1\n",
    "                        else:\n",
    "                            YOU_connected_4 += 1\n",
    "                        curr_count = 0\n",
    "                        break\n",
    "                    elif diags_list[i][j] != curr:\n",
    "                        if diags_list[i][j] != 0:\n",
    "                            curr = diags_list[i][j]\n",
    "                            curr_count = 1\n",
    "                        else:\n",
    "                            curr = 0\n",
    "                            curr_count = 0\n",
    "                    else:\n",
    "                        curr_count += 1\n",
    "\n",
    "                if curr_count == 4:\n",
    "                    if curr == self.CPU:\n",
    "                        CPU_connected_4 += 1\n",
    "                    else:\n",
    "                        YOU_connected_4 += 1\n",
    "                curr = 0\n",
    "                curr_count = 0\n",
    "\n",
    "\n",
    "        \n",
    "        if YOU_connected_4 > 0:\n",
    "            return self.HUMAN_PLAYER\n",
    "        elif CPU_connected_4 > 0:\n",
    "            return self.CPU\n",
    "        else:\n",
    "            return 0\n"
   ]
  },
  {
   "cell_type": "markdown",
   "metadata": {
    "id": "DHHJWGm3vlEK"
   },
   "source": [
    "# MinMax with Alpha-beta pruning"
   ]
  },
  {
   "cell_type": "code",
   "execution_count": 4,
   "metadata": {
    "id": "k249-4XrvlEM"
   },
   "outputs": [],
   "source": [
    "class MinMaxHandlerAlphaBetaPruning:\n",
    "    def __init__(self,cols = 7, rows = 6, search_depth = 4, CPU = -1, HUMAN_PLAYER = 1):\n",
    "        self.cols = cols\n",
    "        self.rows = rows\n",
    "        self.search_depth = search_depth\n",
    "        self.CPU = CPU\n",
    "        self.HUMAN_PLAYER = HUMAN_PLAYER\n",
    "    \n",
    "    def calculate_number_of_possible_moves(self,game_state):\n",
    "        possible_moves = self.cols\n",
    "        for i in range(0, self.cols):\n",
    "            if game_state[0][i] != 0:\n",
    "                possible_moves -= 1\n",
    "        return possible_moves\n",
    "\n",
    "    def minimax(self,game_state, depth, player, opponent, alpha = float(\"-inf\"), beta = float(\"inf\")):\n",
    "        possible_moves = self.calculate_number_of_possible_moves(game_state)\n",
    "        \n",
    "        # Evaluate Socre if there's possible moves or the depth is 0 and also return None for best_column\n",
    "        if depth == 0 or possible_moves == 0:\n",
    "            score = self.calculate_score(game_state, player, opponent)\n",
    "            return None, score\n",
    "\n",
    "        highest_score = None\n",
    "        optimal_column = None\n",
    "\n",
    "        for i in range(0, self.cols):\n",
    "            # Skip this col if col is full\n",
    "            if game_state[0][i] != 0:\n",
    "                continue\n",
    "\n",
    "            currentMove = [0, i]\n",
    "\n",
    "            for j in range(0, self.rows - 1):\n",
    "                if game_state[j + 1][i] != 0:\n",
    "                    game_state[j][i] = player\n",
    "                    currentMove[0] = j\n",
    "                    break\n",
    "                elif j == self.rows - 2:\n",
    "                    game_state[j+1][i] = player\n",
    "                    currentMove[0] = j+1\n",
    "\n",
    "            # Recursive minimax call, with reduced depth\n",
    "            move, score = self.minimax(game_state, depth - 1, opponent, player)\n",
    "\n",
    "            game_state[currentMove[0]][currentMove[1]] = 0\n",
    "\n",
    "            if player == self.CPU:\n",
    "                if highest_score == None or score > highest_score:\n",
    "                    highest_score = score\n",
    "                    optimal_column = currentMove\n",
    "                \n",
    "                beta = min(beta, highest_score)\n",
    "\n",
    "                if beta <= alpha:\n",
    "                    break\n",
    "            else:\n",
    "                if highest_score == None or score < highest_score:\n",
    "                    highest_score = score\n",
    "                    optimal_column = currentMove\n",
    "                \n",
    "                alpha = max(alpha, highest_score)\n",
    "\n",
    "                if beta <= alpha:\n",
    "                    break\n",
    "\n",
    "        return optimal_column, highest_score\n",
    "\n",
    "    \"\"\"\n",
    "    This method calculates the score of each game state(board). \n",
    "    Return +inf if the you win and return -inf if CPU wins.\n",
    "    \"\"\"\n",
    "    def calculate_score(self,game_state, player, opponent):\n",
    "        # Return infinity if a self.YOU has won in the given board\n",
    "        total_score = self.get_game_status(game_state)\n",
    "\n",
    "        if total_score == player:\n",
    "            return float(\"inf\")\n",
    "        elif total_score == opponent:\n",
    "            return float(\"-inf\")\n",
    "        else:\n",
    "            total_score = 0\n",
    "\n",
    "        for i in range(0, self.rows):\n",
    "            for j in range(0, self.cols):\n",
    "                if game_state[i][j] == 0:\n",
    "                    total_score += self.point_score_calculator(game_state, i, j, player, opponent)\n",
    "\n",
    "        return total_score\n",
    "      \n",
    "    \n",
    "    \"\"\"\n",
    "    This method calculates the score of point (x,y).\n",
    "    For each point (x,y) we calculate vertical, horizontal, and both diagonal line score.\n",
    "    \"\"\"\n",
    "    def point_score_calculator(self,game_state, x, y, player, opponent):\n",
    "        score = 0\n",
    "\n",
    "         # Calculates horizontal line score\n",
    "        score += self.line_score_calculator(game_state=game_state,x=x,y=y,row_increament_direction=0,col_increm_direction=-1,first_row_cond=None,second_row_cond=None,first_col_cond=-1,second_col_cond=self.cols,player=player,opponent=opponent)\n",
    "\n",
    "        # Calculates vertical line score\n",
    "        score += self.line_score_calculator(game_state=game_state,x=x,y=y,row_increament_direction=-1,col_increm_direction=0,first_row_cond=-1,second_row_cond=self.rows,first_col_cond=None,second_col_cond=None,player=player,opponent=opponent)\n",
    "\n",
    "         # Calculates diagonal y= -ax+b score\n",
    "        score += self.line_score_calculator(game_state=game_state,x=x,y=y,row_increament_direction=-1,col_increm_direction=-1,first_row_cond=-1,second_row_cond=self.rows,first_col_cond=-1,second_col_cond=self.cols,player=player,opponent=opponent)\n",
    "\n",
    "        # Calculates diagonal y=ax+b score\n",
    "        score += self.line_score_calculator(game_state=game_state,x=x,y=y,row_increament_direction=-1,col_increm_direction=1,first_row_cond=-1,second_row_cond=self.rows,first_col_cond=self.cols,second_col_cond=-1,player=player,opponent=opponent)\n",
    "        return score\n",
    "\n",
    "    \"\"\"\n",
    "    This method searches horizontal, vertical, and diagonal lines and determines the score of (x,y).\n",
    "    \"\"\"\n",
    "    def line_score_calculator(self,game_state,x,y,row_increament_direction,col_increm_direction,first_row_cond,second_row_cond,first_col_cond,second_col_cond,player,opponent):\n",
    "        total_score = 0\n",
    "        curr_in_line = 0\n",
    "        values_in_a_row = 0\n",
    "        values_in_a_row_previous = 0\n",
    "\n",
    "        row = x + row_increament_direction\n",
    "        column = y + col_increm_direction\n",
    "        is_first = True\n",
    "        while row != first_row_cond and column != first_col_cond and game_state[row][column] != 0:\n",
    "            if is_first:\n",
    "                curr_in_line = game_state[row][column]\n",
    "                is_first = False\n",
    "            if curr_in_line == game_state[row][column]:\n",
    "                values_in_a_row += 1\n",
    "            else:\n",
    "                break\n",
    "            row += row_increament_direction\n",
    "            column += col_increm_direction\n",
    "\n",
    "        row = x - row_increament_direction\n",
    "        column = y - col_increm_direction\n",
    "        is_first = True\n",
    "        while row != second_row_cond and column != second_col_cond and game_state[row][column] != 0:\n",
    "            if is_first:\n",
    "                is_first = False\n",
    "\n",
    "                if curr_in_line != game_state[row][column]:\n",
    "                    if values_in_a_row == 3 and curr_in_line == player:\n",
    "                        total_score += 1\n",
    "                    elif values_in_a_row == 3 and curr_in_line == opponent:\n",
    "                        total_score -= 1\n",
    "                else:\n",
    "                    values_in_a_row_previous = values_in_a_row\n",
    "\n",
    "                values_in_a_row = 0\n",
    "                curr_in_line = game_state[row][column]\n",
    "\n",
    "            if curr_in_line == game_state[row][column]:\n",
    "                values_in_a_row += 1\n",
    "            else:\n",
    "                break\n",
    "            row -= row_increament_direction\n",
    "            column -= col_increm_direction\n",
    "\n",
    "        if values_in_a_row + values_in_a_row_previous >= 3 and curr_in_line == player:\n",
    "            total_score += 1\n",
    "        elif values_in_a_row + values_in_a_row_previous >= 3 and curr_in_line == opponent:\n",
    "            total_score -= 1\n",
    "\n",
    "        return total_score\n",
    "\n",
    "    \"\"\"\n",
    "    This method runs the minmax method and returns the move to be selected. And also it checks if any immediate wins or loose is possible at given game state.\n",
    "    \"\"\"\n",
    "    def optimal_column(self,game_state, player, opponent):\n",
    "        for i in range(0, self.cols):\n",
    "            # If moves cannot be made on i column, skip it\n",
    "            if game_state[0][i] != 0:\n",
    "                continue\n",
    "\n",
    "            currentMove = [0, i]\n",
    "\n",
    "            for j in range(0, self.rows - 1):\n",
    "                if game_state[j + 1][i] != 0:\n",
    "                    game_state[j][i] = player\n",
    "                    currentMove[0] = j\n",
    "                    break\n",
    "                elif j == self.rows - 2:\n",
    "                    game_state[j+1][i] = player\n",
    "                    currentMove[0] = j+1\n",
    "\n",
    "            winner = self.get_game_status(game_state)\n",
    "            game_state[currentMove[0]][currentMove[1]] = 0\n",
    "\n",
    "            if winner == self.CPU:\n",
    "                return currentMove[1]\n",
    "\n",
    "        for i in range(0, self.cols):\n",
    "            # If moves cannot be made on i column, skip it\n",
    "            if game_state[0][i] != 0:\n",
    "                continue\n",
    "\n",
    "            currentMove = [0, i]\n",
    "\n",
    "            for j in range(0, self.rows - 1):\n",
    "                if game_state[j + 1][i] != 0:\n",
    "                    game_state[j][i] = opponent\n",
    "                    currentMove[0] = j\n",
    "                    break\n",
    "                elif j == self.rows - 2:\n",
    "                    game_state[j+1][i] = opponent\n",
    "                    currentMove[0] = j+1\n",
    "\n",
    "            winner = self.get_game_status(game_state)\n",
    "            game_state[currentMove[0]][currentMove[1]] = 0\n",
    "\n",
    "            if winner == self.HUMAN_PLAYER:\n",
    "                return currentMove[1]\n",
    "\n",
    "        move, score = self.minimax(game_state, self.search_depth, player, opponent)\n",
    "        return move[1]\n",
    "    \n",
    "    \"\"\"\n",
    "    This method returns the game status. If this method returns 0, that means the no one won.\n",
    "    \"\"\"\n",
    "    def get_game_status(self,game_state):\n",
    "        if self.get_horizontal_status(game_state) != 0:\n",
    "            return self.get_horizontal_status(game_state)\n",
    "        \n",
    "        if self.get_vertical_status(game_state) != 0:\n",
    "            return self.get_vertical_status(game_state)\n",
    "        \n",
    "        if self.get_diagonal_status(game_state) != 0:\n",
    "            return self.get_diagonal_status(game_state)\n",
    "        \n",
    "        # 0 means no one won!\n",
    "        return 0\n",
    "    \n",
    "    def get_horizontal_status(self,game_state):\n",
    "        CPU_connected_4 = 0\n",
    "        YOU_connected_4 = 0\n",
    "        curr = 0\n",
    "        curr_count = 0\n",
    "\n",
    "        for i in range(0, self.rows):\n",
    "            for j in range(0, self.cols):\n",
    "                if curr_count == 0:\n",
    "                    if game_state[i][j] != 0:\n",
    "                        curr = game_state[i][j]\n",
    "                        curr_count += 1\n",
    "                elif curr_count == 4:\n",
    "                    if curr == self.CPU:\n",
    "                        CPU_connected_4 += 1\n",
    "                    else:\n",
    "                        YOU_connected_4 += 1\n",
    "                    curr_count = 0\n",
    "                    break\n",
    "                elif game_state[i][j] != curr:\n",
    "                    if game_state[i][j] != 0:\n",
    "                        curr = game_state[i][j]\n",
    "                        curr_count = 1\n",
    "                    else:\n",
    "                        curr = 0\n",
    "                        curr_count = 0\n",
    "                else:\n",
    "                    curr_count += 1\n",
    "\n",
    "            if curr_count == 4:\n",
    "                if curr == self.CPU:\n",
    "                    CPU_connected_4 += 1\n",
    "                else:\n",
    "                    YOU_connected_4 += 1\n",
    "            curr = 0\n",
    "            curr_count = 0\n",
    "\n",
    "        \n",
    "        if YOU_connected_4 > 0:\n",
    "            return self.HUMAN_PLAYER\n",
    "        elif CPU_connected_4 > 0:\n",
    "            return self.CPU\n",
    "        else:\n",
    "            return 0\n",
    "    \n",
    "    def get_horizontal_status(self,game_state):\n",
    "        CPU_connected_4 = 0\n",
    "        YOU_connected_4 = 0\n",
    "        curr = 0\n",
    "        curr_count = 0\n",
    "\n",
    "        for i in range(0, self.rows):\n",
    "            for j in range(0, self.cols):\n",
    "                if curr_count == 0:\n",
    "                    if game_state[i][j] != 0:\n",
    "                        curr = game_state[i][j]\n",
    "                        curr_count += 1\n",
    "                elif curr_count == 4:\n",
    "                    if curr == self.CPU:\n",
    "                        CPU_connected_4 += 1\n",
    "                    else:\n",
    "                        YOU_connected_4 += 1\n",
    "                    curr_count = 0\n",
    "                    break\n",
    "                elif game_state[i][j] != curr:\n",
    "                    if game_state[i][j] != 0:\n",
    "                        curr = game_state[i][j]\n",
    "                        curr_count = 1\n",
    "                    else:\n",
    "                        curr = 0\n",
    "                        curr_count = 0\n",
    "                else:\n",
    "                    curr_count += 1\n",
    "\n",
    "            if curr_count == 4:\n",
    "                if curr == self.CPU:\n",
    "                    CPU_connected_4 += 1\n",
    "                else:\n",
    "                    YOU_connected_4 += 1\n",
    "            curr = 0\n",
    "            curr_count = 0\n",
    "\n",
    "        \n",
    "        if YOU_connected_4 > 0:\n",
    "            return self.HUMAN_PLAYER\n",
    "        elif CPU_connected_4 > 0:\n",
    "            return self.CPU\n",
    "        else:\n",
    "            return 0\n",
    "    \n",
    "    def get_horizontal_status(self,game_state):\n",
    "        CPU_connected_4 = 0\n",
    "        YOU_connected_4 = 0\n",
    "        curr = 0\n",
    "        curr_count = 0\n",
    "\n",
    "        for j in range(0, self.cols):\n",
    "            for i in range(0, self.rows):\n",
    "                if curr_count == 0:\n",
    "                    if game_state[i][j] != 0:\n",
    "                        curr = game_state[i][j]\n",
    "                        curr_count += 1\n",
    "                elif curr_count == 4:\n",
    "                    if curr == self.CPU:\n",
    "                        CPU_connected_4 += 1\n",
    "                    else:\n",
    "                        YOU_connected_4 += 1\n",
    "                    curr_count = 0\n",
    "                    break\n",
    "                elif game_state[i][j] != curr:\n",
    "                    if game_state[i][j] != 0:\n",
    "                        curr = game_state[i][j]\n",
    "                        curr_count = 1\n",
    "                    else:\n",
    "                        curr = 0\n",
    "                        curr_count = 0\n",
    "                else:\n",
    "                    curr_count += 1\n",
    "\n",
    "            if curr_count == 4:\n",
    "                if curr == self.CPU:\n",
    "                    CPU_connected_4 += 1\n",
    "                else:\n",
    "                    YOU_connected_4 += 1\n",
    "            curr = 0\n",
    "            curr_count = 0\n",
    "\n",
    "        \n",
    "        if YOU_connected_4 > 0:\n",
    "            return self.HUMAN_PLAYER\n",
    "        elif CPU_connected_4 > 0:\n",
    "            return self.CPU\n",
    "        else:\n",
    "            return 0\n",
    "    \n",
    "    def get_vertical_status(self,game_state):\n",
    "        CPU_connected_4 = 0\n",
    "        YOU_connected_4 = 0\n",
    "        curr = 0\n",
    "        curr_count = 0\n",
    "\n",
    "        for j in range(0, self.cols):\n",
    "            for i in range(0, self.rows):\n",
    "                if curr_count == 0:\n",
    "                    if game_state[i][j] != 0:\n",
    "                        curr = game_state[i][j]\n",
    "                        curr_count += 1\n",
    "                elif curr_count == 4:\n",
    "                    if curr == self.CPU:\n",
    "                        CPU_connected_4 += 1\n",
    "                    else:\n",
    "                        YOU_connected_4 += 1\n",
    "                    curr_count = 0\n",
    "                    break\n",
    "                elif game_state[i][j] != curr:\n",
    "                    if game_state[i][j] != 0:\n",
    "                        curr = game_state[i][j]\n",
    "                        curr_count = 1\n",
    "                    else:\n",
    "                        curr = 0\n",
    "                        curr_count = 0\n",
    "                else:\n",
    "                    curr_count += 1\n",
    "\n",
    "            if curr_count == 4:\n",
    "                if curr == self.CPU:\n",
    "                    CPU_connected_4 += 1\n",
    "                else:\n",
    "                    YOU_connected_4 += 1\n",
    "            curr = 0\n",
    "            curr_count = 0\n",
    "\n",
    "        \n",
    "        if YOU_connected_4 > 0:\n",
    "            return self.HUMAN_PLAYER\n",
    "        elif CPU_connected_4 > 0:\n",
    "            return self.CPU\n",
    "        else:\n",
    "            return 0\n",
    "    \n",
    "    def get_diagonal_status(self,game_state):\n",
    "        CPU_connected_4 = 0\n",
    "        YOU_connected_4 = 0\n",
    "        curr = 0\n",
    "        curr_count = 0\n",
    "\n",
    "        # Check diagonal wins\n",
    "        np_matrix = np.array(game_state)\n",
    "        diags = [np_matrix[::-1,:].diagonal(i) for i in range(-np_matrix.shape[0]+1,np_matrix.shape[1])]\n",
    "        diags.extend(np_matrix.diagonal(i) for i in range(np_matrix.shape[1]-1,-np_matrix.shape[0],-1))\n",
    "        diags_list = [n.tolist() for n in diags]\n",
    "\n",
    "        for i in range(0, len(diags_list)):\n",
    "            if len(diags_list[i]) >= 4:\n",
    "                for j in range(0, len(diags_list[i])):\n",
    "                    if curr_count == 0:\n",
    "                        if diags_list[i][j] != 0:\n",
    "                            curr = diags_list[i][j]\n",
    "                            curr_count += 1\n",
    "                    elif curr_count == 4:\n",
    "                        if curr == self.CPU:\n",
    "                            CPU_connected_4 += 1\n",
    "                        else:\n",
    "                            YOU_connected_4 += 1\n",
    "                        curr_count = 0\n",
    "                        break\n",
    "                    elif diags_list[i][j] != curr:\n",
    "                        if diags_list[i][j] != 0:\n",
    "                            curr = diags_list[i][j]\n",
    "                            curr_count = 1\n",
    "                        else:\n",
    "                            curr = 0\n",
    "                            curr_count = 0\n",
    "                    else:\n",
    "                        curr_count += 1\n",
    "\n",
    "                if curr_count == 4:\n",
    "                    if curr == self.CPU:\n",
    "                        CPU_connected_4 += 1\n",
    "                    else:\n",
    "                        YOU_connected_4 += 1\n",
    "                curr = 0\n",
    "                curr_count = 0\n",
    "\n",
    "\n",
    "        \n",
    "        if YOU_connected_4 > 0:\n",
    "            return self.HUMAN_PLAYER\n",
    "        elif CPU_connected_4 > 0:\n",
    "            return self.CPU\n",
    "        else:\n",
    "            return 0"
   ]
  },
  {
   "cell_type": "markdown",
   "metadata": {
    "id": "JactOFxuvlEN"
   },
   "source": [
    "# Game Logic"
   ]
  },
  {
   "cell_type": "code",
   "execution_count": 5,
   "metadata": {
    "id": "Wnh9qgOtvlEO"
   },
   "outputs": [],
   "source": [
    "class ConnectSin:\n",
    "    YOU = 1\n",
    "    CPU = -1\n",
    "    EMPTY = 0\n",
    "    DRAW = 0\n",
    "    __CONNECT_NUMBER = 4\n",
    "    board = None\n",
    "\n",
    "    def __init__(self, board_size=(6, 7), silent=False):\n",
    "        \"\"\"\n",
    "        The main class for the connect4 game\n",
    "\n",
    "        Inputs\n",
    "        ----------\n",
    "        board_size : a tuple representing the board size in format: (rows, columns)\n",
    "        silent     : whether the game prints outputs or not\n",
    "        \"\"\"\n",
    "        assert len(board_size) == 2, \"board size should be a 1*2 tuple\"\n",
    "        assert board_size[0] > 4 and board_size[1] > 4, \"board size should be at least 5*5\"\n",
    "\n",
    "        self.columns = board_size[1] \n",
    "        self.rows = board_size[0]\n",
    "        self.silent = silent\n",
    "        self.board_size = self.rows * self.columns\n",
    "    \n",
    "    \n",
    "    def run(self, starter=1):\n",
    "        \"\"\"\n",
    "        runs the game!\n",
    "\n",
    "        Inputs\n",
    "        ----------\n",
    "        starter : either -1,1 or None. -1 if cpu starts the game, 1 if you start the game. None if you want the starter\n",
    "            to be assigned randomly \n",
    "\n",
    "        Output\n",
    "        ----------\n",
    "        (int) either 1,0,-1. 1 meaning you have won, -1 meaning the player has won and 0 means that the game has drawn\n",
    "        \"\"\"\n",
    "        if (not starter):\n",
    "            starter = self.__get_random_starter()\n",
    "        assert starter in [self.YOU, self.CPU], \"starter value can only be 1,-1 or None\"\n",
    "        \n",
    "        self.__init_board()\n",
    "\n",
    "        \n",
    "        turns_played = 0\n",
    "        current_player = starter\n",
    "\n",
    "        while(turns_played < self.board_size):\n",
    "            \n",
    "            if (current_player == self.YOU):\n",
    "                self.__print_board()\n",
    "                player_input = self.get_your_input()\n",
    "            elif (current_player == self.CPU):\n",
    "                player_input = self.__get_cpu_input()\n",
    "                if player_input == None:\n",
    "                    break\n",
    "                player_input += 1\n",
    "            else:\n",
    "                raise Exception(\"A problem has happend! contact no one, there is no fix!\")\n",
    "            if (not self.register_input(player_input, current_player)):\n",
    "                self.__print(\"this move is invalid!\")\n",
    "                continue\n",
    "            current_player = self.__change_turn(current_player)\n",
    "            potential_winner = self.check_for_winners()\n",
    "            turns_played += 1\n",
    "            if (potential_winner != 0):\n",
    "                self.__print_board()\n",
    "                self.__print_winner_message(potential_winner)\n",
    "                return potential_winner\n",
    "        self.__print_board()\n",
    "        self.__print(\"The game has ended in a draw!\")\n",
    "        return self.DRAW\n",
    "\n",
    "    def get_your_input(self):\n",
    "        \"\"\"\n",
    "        gets your input\n",
    "\n",
    "        Output\n",
    "        ----------\n",
    "        (int) an integer between 1 and column count. the column to put a piece in\n",
    "        \"\"\"\n",
    "        \n",
    "        if ALPHA_BETA_PRUNING == False:\n",
    "            minmax_handler = MinMaxHandler(self.columns,self.rows,SEARCH_DEPTH,self.CPU,self.YOU)\n",
    "        else:\n",
    "            minmax_handler = MinMaxHandlerAlphaBetaPruning(self.columns,self.rows,SEARCH_DEPTH,self.CPU,self.YOU)\n",
    "        return minmax_handler.optimal_column(self.board, self.CPU, self.YOU) + 1\n",
    "\n",
    "    def check_for_winners(self):\n",
    "        \"\"\"\n",
    "        checks if anyone has won in this position\n",
    "\n",
    "        Output\n",
    "        ----------\n",
    "        (int) either 1,0,-1. 1 meaning you have won, -1 meaning the player has won and 0 means that nothing has happened\n",
    "        \"\"\"\n",
    "        have_you_won = self.check_if_player_has_won(self.YOU)\n",
    "        if have_you_won:\n",
    "            return self.YOU\n",
    "        has_cpu_won = self.check_if_player_has_won(self.CPU)\n",
    "        if has_cpu_won:\n",
    "            return self.CPU\n",
    "        return self.EMPTY\n",
    "\n",
    "    def check_if_player_has_won(self, player_id):\n",
    "        \"\"\"\n",
    "        checks if player with player_id has won\n",
    "\n",
    "        Inputs\n",
    "        ----------\n",
    "        player_id : the id for the player to check\n",
    "\n",
    "        Output\n",
    "        ----------\n",
    "        (boolean) true if the player has won in this position\n",
    "        \"\"\"\n",
    "        return (\n",
    "            self.__has_player_won_diagonally(player_id)\n",
    "            or self.__has_player_won_horizentally(player_id)\n",
    "            or self.__has_player_won_vertically(player_id)\n",
    "        )\n",
    "    \n",
    "    def is_move_valid(self, move):\n",
    "        \"\"\"\n",
    "        checks if this move can be played\n",
    "\n",
    "        Inputs\n",
    "        ----------\n",
    "        move : the column to place a piece in, in range [1, column count]\n",
    "\n",
    "        Output\n",
    "        ----------\n",
    "        (boolean) true if the move can be played\n",
    "        \"\"\"\n",
    "        if (move < 1 or move > self.columns):\n",
    "            return False\n",
    "        column_index = move - 1\n",
    "        return self.board[0][column_index] == 0\n",
    "    \n",
    "    def get_possible_moves(self):\n",
    "        \"\"\"\n",
    "        returns a list of possible moves for the next move\n",
    "\n",
    "        Output\n",
    "        ----------\n",
    "        (list) a list of numbers of columns that a piece can be placed in\n",
    "        \"\"\"\n",
    "        possible_moves = []\n",
    "        for i in range(self.columns):\n",
    "            move = i + 1\n",
    "            if (self.is_move_valid(move)):\n",
    "                possible_moves.append(move)\n",
    "        return possible_moves\n",
    "    \n",
    "    def register_input(self, player_input, current_player):\n",
    "        \"\"\"\n",
    "        registers move to board, remember that this function changes the board\n",
    "\n",
    "        Inputs\n",
    "        ----------\n",
    "        player_input : the column to place a piece in, in range [1, column count]\n",
    "        current_player: ID of the current player, either self.YOU or self.CPU\n",
    "\n",
    "        \"\"\"\n",
    "        if (not self.is_move_valid(player_input)):\n",
    "            return False\n",
    "        self.__drop_piece_in_column(player_input, current_player)\n",
    "        return True\n",
    "\n",
    "    def __init_board(self):\n",
    "        self.board = []\n",
    "        for i in range(self.rows):\n",
    "            self.board.append([self.EMPTY] * self.columns)\n",
    "\n",
    "    def __print(self, message: str):\n",
    "        if not self.silent:\n",
    "            print(message)\n",
    "\n",
    "    def __has_player_won_horizentally(self, player_id):\n",
    "        for i in range(self.rows):\n",
    "            for j in range(self.columns - self.__CONNECT_NUMBER + 1):\n",
    "                has_won = True\n",
    "                for x in range(self.__CONNECT_NUMBER):\n",
    "                    if self.board[i][j + x] != player_id:\n",
    "                        has_won = False\n",
    "                        break\n",
    "                if has_won:\n",
    "                    return True\n",
    "        return False\n",
    "\n",
    "    def __has_player_won_vertically(self, player_id):\n",
    "        for i in range(self.rows - self.__CONNECT_NUMBER + 1):\n",
    "            for j in range(self.columns):\n",
    "                has_won = True\n",
    "                for x in range(self.__CONNECT_NUMBER):\n",
    "                    if self.board[i + x][j] != player_id:\n",
    "                        has_won = False\n",
    "                        break\n",
    "                if has_won:\n",
    "                    return True\n",
    "        return False\n",
    "\n",
    "    def __has_player_won_diagonally(self, player_id):\n",
    "        for i in range(self.rows - self.__CONNECT_NUMBER + 1):\n",
    "            for j in range(self.columns - self.__CONNECT_NUMBER + 1):\n",
    "                has_won = True\n",
    "                for x in range(self.__CONNECT_NUMBER):\n",
    "                    if self.board[i + x][j + x] != player_id:\n",
    "                        has_won = False\n",
    "                        break\n",
    "                if has_won:\n",
    "                    return True\n",
    "                has_won = True\n",
    "                for x in range(self.__CONNECT_NUMBER):\n",
    "                    if self.board[i + self.__CONNECT_NUMBER - 1 - x][j + x] != player_id:\n",
    "                        has_won = False\n",
    "                        break\n",
    "                if has_won:\n",
    "                    return True\n",
    "        return False\n",
    "\n",
    "    def __get_random_starter(self):\n",
    "        players = [self.YOU, self.CPU]\n",
    "        return players[int(random() * len(players))]\n",
    "    \n",
    "    def __drop_piece_in_column(self, move, current_player):\n",
    "        last_empty_space = 0\n",
    "        column_index = move - 1\n",
    "        for i in range(self.rows):\n",
    "            if (self.board[i][column_index] == 0):\n",
    "                last_empty_space = i\n",
    "        self.board[last_empty_space][column_index] = current_player\n",
    "        return True\n",
    "        \n",
    "    def __print_winner_message(self, winner):\n",
    "        if (winner == self.YOU):\n",
    "            self.__print(\"congrats! you have won!\")\n",
    "        else:\n",
    "            self.__print(\"gg. CPU has won!\")\n",
    "    \n",
    "    def __change_turn(self, turn):\n",
    "        if (turn == self.YOU): \n",
    "            return self.CPU\n",
    "        else:\n",
    "            return self.YOU\n",
    "\n",
    "    def __print_board(self):\n",
    "        if (self.silent): return\n",
    "        print(\"Y: you, C: CPU\")\n",
    "        for i in range(self.rows):\n",
    "            for j in range(self.columns):\n",
    "                house_char = \"O\"\n",
    "                if (self.board[i][j] == self.YOU):\n",
    "                    house_char = \"Y\"\n",
    "                elif (self.board[i][j] == self.CPU):\n",
    "                    house_char = \"C\"\n",
    "                    \n",
    "                print(f\"{house_char}\", end=\" \")\n",
    "            print()\n",
    "    \n",
    "    \n",
    "    def __get_cpu_input(self):\n",
    "        \"\"\"\n",
    "        This is where clean code goes to die.\n",
    "        \"\"\"\n",
    "        bb = copy.deepcopy(self.board)\n",
    "        pm = self.get_possible_moves()\n",
    "        for m in pm:\n",
    "            self.register_input(m, self.CPU)\n",
    "            if (self.check_if_player_has_won(self.CPU)):\n",
    "                self.board = bb\n",
    "                return m\n",
    "            self.board = copy.deepcopy(bb)\n",
    "        if (self.is_move_valid((self.columns // 2) + 1)):\n",
    "            c = 0\n",
    "            cl = (self.columns // 2) + 1\n",
    "            for x in range(self.rows):\n",
    "                if (self.board[x][cl] == self.CPU):\n",
    "                    c += 1\n",
    "            if (random() < 0.65):\n",
    "                return cl\n",
    "        return pm[int(random() * len(pm))]\n"
   ]
  },
  {
   "cell_type": "markdown",
   "metadata": {
    "id": "w1Os2mHTvlEP"
   },
   "source": [
    "# Running one example"
   ]
  },
  {
   "cell_type": "code",
   "execution_count": 6,
   "metadata": {
    "colab": {
     "base_uri": "https://localhost:8080/"
    },
    "id": "NCAcCZ5IvlEP",
    "outputId": "9b93afe2-a362-4341-ae01-fe0e30c144f1"
   },
   "outputs": [
    {
     "name": "stdout",
     "output_type": "stream",
     "text": [
      "Y: you, C: CPU\n",
      "O O O O O O O \n",
      "O O O O O O O \n",
      "O O O O O O O \n",
      "O O O O O O O \n",
      "O O O O O O O \n",
      "O O O O O O O \n",
      "Y: you, C: CPU\n",
      "O O O O O O O \n",
      "O O O O O O O \n",
      "O O O O O O O \n",
      "O O O O O O O \n",
      "O O O O O O O \n",
      "Y O O O C O O \n",
      "Y: you, C: CPU\n",
      "O O O O O O O \n",
      "O O O O O O O \n",
      "O O O O O O O \n",
      "O O O O O O O \n",
      "Y O O O C O O \n",
      "Y O O O C O O \n",
      "Y: you, C: CPU\n",
      "O O O O O O O \n",
      "O O O O O O O \n",
      "O O O O O O O \n",
      "Y O O O C O O \n",
      "Y O O O C O O \n",
      "Y O O O C O O \n",
      "Y: you, C: CPU\n",
      "O O O O O O O \n",
      "O O O O C O O \n",
      "O O O O Y O O \n",
      "Y O O O C O O \n",
      "Y O O O C O O \n",
      "Y O O O C O O \n",
      "Y: you, C: CPU\n",
      "O O O O O O O \n",
      "O O O O C O O \n",
      "Y O O O Y O O \n",
      "Y O O O C O O \n",
      "Y O O O C O O \n",
      "Y O O O C O O \n",
      "congrats! you have won!\n",
      "Time: 1.8361177444458008 seconds \n",
      "\n"
     ]
    }
   ],
   "source": [
    "SEARCH_DEPTH = 4\n",
    "ALPHA_BETA_PRUNING = False\n",
    "\n",
    "board_sizes_to_check = [(6,7), \n",
    "                        (7,8), \n",
    "                        (7,10)]\n",
    "game = ConnectSin(board_size=(6,7),silent=False)\n",
    "start = time.time()\n",
    "game.run()\n",
    "end = time.time()\n",
    "print(\"Time: %s seconds\" % (end - start) , \"\\n\")"
   ]
  },
  {
   "cell_type": "code",
   "execution_count": 45,
   "metadata": {
    "id": "ixTE6PVlvlEQ"
   },
   "outputs": [],
   "source": [
    "def calculate_victory_chance(board_size,count = 200,search_depth = 4,pruning = False):\n",
    "    SEARCH_DEPTH = search_depth\n",
    "    ALPHA_BETA_PRUNING = pruning\n",
    "\n",
    "    won_rounds = 0\n",
    "    worst_execution_time = -1\n",
    "    for i in range(count):\n",
    "        game = ConnectSin(board_size=board_size,silent=True)\n",
    "        start = time.time()\n",
    "        # 1 is self.YOU\n",
    "        if(game.run() == 1):\n",
    "            won_rounds += 1\n",
    "        end = time.time()\n",
    "\n",
    "        exec_time = (end - start)\n",
    "        worst_execution_time = max(worst_execution_time,exec_time)\n",
    "        \n",
    "    print(\"Execution time per round: %s seconds\" % worst_execution_time)\n",
    "    print(\"Victory Chance: \",str((won_rounds/count)*100)+\"%\")\n",
    "    "
   ]
  },
  {
   "cell_type": "markdown",
   "metadata": {
    "id": "JbyPA0kevlEQ"
   },
   "source": [
    "# Without pruning"
   ]
  },
  {
   "cell_type": "markdown",
   "metadata": {
    "id": "k394YQmMvlEQ"
   },
   "source": [
    "## search_depth = 1"
   ]
  },
  {
   "cell_type": "code",
   "execution_count": 34,
   "metadata": {
    "colab": {
     "base_uri": "https://localhost:8080/"
    },
    "id": "e2jEzJy5vlEQ",
    "outputId": "08167426-d1d5-4a6f-d6f0-3df581e62208"
   },
   "outputs": [
    {
     "name": "stdout",
     "output_type": "stream",
     "text": [
      "Execution time per round: 2.0678925510406494 seconds\n",
      "Victory Chance:  100.0%\n"
     ]
    }
   ],
   "source": [
    "calculate_victory_chance((6,7),search_depth=1,pruning=False)"
   ]
  },
  {
   "cell_type": "code",
   "execution_count": 35,
   "metadata": {
    "colab": {
     "base_uri": "https://localhost:8080/"
    },
    "id": "2U21st-cvlER",
    "outputId": "9180ef84-2f41-46be-9da0-ff503d5020e0"
   },
   "outputs": [
    {
     "name": "stdout",
     "output_type": "stream",
     "text": [
      "Execution time per round: 4.100736951828003 seconds\n",
      "Victory Chance:  100.0%\n"
     ]
    }
   ],
   "source": [
    "calculate_victory_chance((7,8),search_depth=1,pruning=False)"
   ]
  },
  {
   "cell_type": "code",
   "execution_count": null,
   "metadata": {
    "colab": {
     "base_uri": "https://localhost:8080/"
    },
    "id": "dfEYjhFyvlER",
    "outputId": "282ce4bb-fdcc-48c2-89bd-d8add2795795"
   },
   "outputs": [
    {
     "name": "stdout",
     "output_type": "stream",
     "text": [
      "Execution time per round: 11.980258703231812 seconds\n",
      "Victory Chance:  100.0%\n"
     ]
    }
   ],
   "source": [
    "calculate_victory_chance((7,10),search_depth=1,pruning=False)"
   ]
  },
  {
   "cell_type": "markdown",
   "metadata": {
    "id": "YMqbgB_5vlES"
   },
   "source": [
    "## search_depth = 3"
   ]
  },
  {
   "cell_type": "code",
   "execution_count": 27,
   "metadata": {
    "colab": {
     "base_uri": "https://localhost:8080/"
    },
    "id": "Cnn-FBdYvlES",
    "outputId": "5b9ec7e5-c750-45a4-bbe7-ed060f84076c"
   },
   "outputs": [
    {
     "name": "stdout",
     "output_type": "stream",
     "text": [
      "Execution time per round: 1.984256479286193 seconds\n",
      "Victory Chance:  100.0%\n"
     ]
    }
   ],
   "source": [
    "calculate_victory_chance((6,7),search_depth=3,pruning=False)"
   ]
  },
  {
   "cell_type": "code",
   "execution_count": 28,
   "metadata": {
    "colab": {
     "base_uri": "https://localhost:8080/"
    },
    "id": "6_cN4p_5vlES",
    "outputId": "ddecbd5c-b0e0-422f-8a51-c1e93b5ff652"
   },
   "outputs": [
    {
     "name": "stdout",
     "output_type": "stream",
     "text": [
      "Execution time per round: 4.1001853692356 seconds\n",
      "Victory Chance:  100.0%\n"
     ]
    }
   ],
   "source": [
    "calculate_victory_chance((7,8),search_depth=3,pruning=False)"
   ]
  },
  {
   "cell_type": "code",
   "execution_count": null,
   "metadata": {
    "colab": {
     "base_uri": "https://localhost:8080/"
    },
    "id": "t6Hnv7hFvlES",
    "outputId": "a369aeea-980d-4627-d752-95fac105abc1"
   },
   "outputs": [
    {
     "name": "stdout",
     "output_type": "stream",
     "text": [
      "Execution time per round: 12.032996416091919 seconds\n",
      "Victory Chance:  100.0%\n"
     ]
    }
   ],
   "source": [
    "calculate_victory_chance((7,10),search_depth=3,pruning=False)"
   ]
  },
  {
   "cell_type": "markdown",
   "metadata": {
    "id": "jAi6-L8WvlES"
   },
   "source": [
    "## search_depth = 5\n"
   ]
  },
  {
   "cell_type": "code",
   "execution_count": 26,
   "metadata": {
    "colab": {
     "base_uri": "https://localhost:8080/"
    },
    "id": "3PGEQVi5vlET",
    "outputId": "98337a29-5bd7-4b54-dfe1-c59ed1f507a1"
   },
   "outputs": [
    {
     "name": "stdout",
     "output_type": "stream",
     "text": [
      "Execution time per round: 1.971895170211792 seconds\n",
      "Victory Chance:  100.0%\n"
     ]
    }
   ],
   "source": [
    "calculate_victory_chance((6,7),search_depth=5,pruning=False)"
   ]
  },
  {
   "cell_type": "code",
   "execution_count": 29,
   "metadata": {
    "colab": {
     "base_uri": "https://localhost:8080/"
    },
    "id": "E-9jHGAzvlET",
    "outputId": "d989b899-fc83-4087-b632-4e60f6fb0992"
   },
   "outputs": [
    {
     "name": "stdout",
     "output_type": "stream",
     "text": [
      "Execution time per round: 4.21871853692356 seconds\n",
      "Victory Chance:  100.0%\n"
     ]
    }
   ],
   "source": [
    "calculate_victory_chance((7,8),search_depth=5,pruning=False)"
   ]
  },
  {
   "cell_type": "code",
   "execution_count": null,
   "metadata": {
    "colab": {
     "base_uri": "https://localhost:8080/"
    },
    "id": "NnfJWvhIvlET",
    "outputId": "0e1bb61a-6fd3-4471-e7e8-3ee64b31d629"
   },
   "outputs": [
    {
     "name": "stdout",
     "output_type": "stream",
     "text": [
      "Execution time per round: 12.065927743911743 seconds\n",
      "Victory Chance:  100.0%\n"
     ]
    }
   ],
   "source": [
    "calculate_victory_chance((7,10),search_depth=5,pruning=False)"
   ]
  },
  {
   "cell_type": "markdown",
   "metadata": {
    "id": "uN0BvzX0vlET"
   },
   "source": [
    "## search_depth = 7\n"
   ]
  },
  {
   "cell_type": "code",
   "execution_count": null,
   "metadata": {
    "colab": {
     "base_uri": "https://localhost:8080/"
    },
    "id": "P3UURcrCvlET",
    "outputId": "302caff9-65f0-4fd8-cbce-cc3e54aa87d6"
   },
   "outputs": [
    {
     "name": "stdout",
     "output_type": "stream",
     "text": [
      "Execution time per round: 1.8072891235351562 seconds\n",
      "Victory Chance:  100.0%\n"
     ]
    }
   ],
   "source": [
    "calculate_victory_chance((6,7),search_depth=7,pruning=False)"
   ]
  },
  {
   "cell_type": "code",
   "execution_count": null,
   "metadata": {
    "colab": {
     "base_uri": "https://localhost:8080/"
    },
    "id": "yaPof53CvlET",
    "outputId": "1f520cb2-a56e-4851-8c63-8fef64028523"
   },
   "outputs": [
    {
     "name": "stdout",
     "output_type": "stream",
     "text": [
      "Execution time per round: 3.966726779937744 seconds\n",
      "Victory Chance:  100.0%\n"
     ]
    }
   ],
   "source": [
    "calculate_victory_chance((7,8),search_depth=7,pruning=False)"
   ]
  },
  {
   "cell_type": "code",
   "execution_count": 30,
   "metadata": {
    "colab": {
     "base_uri": "https://localhost:8080/"
    },
    "id": "Z0VNHlz6vlEU",
    "outputId": "0c909b3a-0697-4083-f2b6-fe7df618df5a"
   },
   "outputs": [
    {
     "name": "stdout",
     "output_type": "stream",
     "text": [
      "Execution time per round: 48.958349466323853 seconds\n",
      "Victory Chance:  100.0%\n"
     ]
    }
   ],
   "source": [
    "calculate_victory_chance((7,10),search_depth=7,pruning=False)"
   ]
  },
  {
   "cell_type": "markdown",
   "metadata": {
    "id": "bmsLhVQkvlEU"
   },
   "source": [
    "# With alpha-beta pruning"
   ]
  },
  {
   "cell_type": "markdown",
   "metadata": {
    "id": "2eN-UAGnvlEU"
   },
   "source": [
    "## search_depth = 1"
   ]
  },
  {
   "cell_type": "code",
   "execution_count": 19,
   "metadata": {
    "colab": {
     "base_uri": "https://localhost:8080/"
    },
    "id": "eFJVVDLlvlEU",
    "outputId": "65ac666c-d1d1-4d68-e69e-2b2cbf174963"
   },
   "outputs": [
    {
     "name": "stdout",
     "output_type": "stream",
     "text": [
      "Execution time per round: 1.92844557762146 seconds\n",
      "Victory Chance:  100.0%\n"
     ]
    }
   ],
   "source": [
    "calculate_victory_chance((6,7),search_depth=1,pruning=True)"
   ]
  },
  {
   "cell_type": "code",
   "execution_count": null,
   "metadata": {
    "colab": {
     "base_uri": "https://localhost:8080/"
    },
    "id": "3foIqZdHvlEU",
    "outputId": "26e4827b-6da0-46c6-c5ca-0079ee7b71ae"
   },
   "outputs": [
    {
     "name": "stdout",
     "output_type": "stream",
     "text": [
      "Execution time per round: 3.9984326362609863 seconds\n",
      "Victory Chance:  100.0%\n"
     ]
    }
   ],
   "source": [
    "calculate_victory_chance((7,8),search_depth=1,pruning=True)\n"
   ]
  },
  {
   "cell_type": "code",
   "execution_count": null,
   "metadata": {
    "colab": {
     "base_uri": "https://localhost:8080/"
    },
    "id": "PdZqJN-XvlEU",
    "outputId": "8d04e1d2-e404-4778-fe12-cdf95e86aa13"
   },
   "outputs": [
    {
     "name": "stdout",
     "output_type": "stream",
     "text": [
      "Execution time per round: 11.965786933898926 seconds\n",
      "Victory Chance:  100.0%\n"
     ]
    }
   ],
   "source": [
    "calculate_victory_chance((7,10),search_depth=1,pruning=True)"
   ]
  },
  {
   "cell_type": "markdown",
   "metadata": {
    "id": "_gXcwRzCvlEV"
   },
   "source": [
    "## search_depth = 3"
   ]
  },
  {
   "cell_type": "code",
   "execution_count": null,
   "metadata": {
    "colab": {
     "base_uri": "https://localhost:8080/"
    },
    "id": "Uy-DOGPzvlEV",
    "outputId": "043c0f4c-e784-4f8a-8875-e519a8e8c0b2"
   },
   "outputs": [
    {
     "name": "stdout",
     "output_type": "stream",
     "text": [
      "Execution time per round: 1.785003662109375 seconds\n",
      "Victory Chance:  100.0%\n"
     ]
    }
   ],
   "source": [
    "calculate_victory_chance((6,7),search_depth=3,pruning=True)\n"
   ]
  },
  {
   "cell_type": "code",
   "execution_count": null,
   "metadata": {
    "colab": {
     "base_uri": "https://localhost:8080/"
    },
    "id": "pTJOYn0tvlEV",
    "outputId": "53fb4cb8-240b-43c7-dcae-d78cdd7a3c41"
   },
   "outputs": [
    {
     "name": "stdout",
     "output_type": "stream",
     "text": [
      "Execution time per round: 3.9781312942504883 seconds\n",
      "Victory Chance:  100.0%\n"
     ]
    }
   ],
   "source": [
    "calculate_victory_chance((7,8),search_depth=3,pruning=True)\n"
   ]
  },
  {
   "cell_type": "code",
   "execution_count": null,
   "metadata": {
    "colab": {
     "base_uri": "https://localhost:8080/"
    },
    "id": "rNxF6WdnvlEV",
    "outputId": "582d35e0-a90b-43b0-e6c8-95ac4c834566"
   },
   "outputs": [
    {
     "name": "stdout",
     "output_type": "stream",
     "text": [
      "Execution time per round: 11.90968370437622 seconds\n",
      "Victory Chance:  100.0%\n"
     ]
    }
   ],
   "source": [
    "calculate_victory_chance((7,10),search_depth=3,pruning=True)"
   ]
  },
  {
   "cell_type": "markdown",
   "metadata": {
    "id": "9qX8F-xNvlEV"
   },
   "source": [
    "## search_depth = 5"
   ]
  },
  {
   "cell_type": "code",
   "execution_count": null,
   "metadata": {
    "colab": {
     "base_uri": "https://localhost:8080/"
    },
    "id": "K2Fd6s1fvlEV",
    "outputId": "7f623676-befe-4ba5-e7ee-feae08602dfa"
   },
   "outputs": [
    {
     "name": "stdout",
     "output_type": "stream",
     "text": [
      "Execution time per round: 1.7722375392913818 seconds\n",
      "Victory Chance:  100.0%\n"
     ]
    }
   ],
   "source": [
    "calculate_victory_chance((6,7),search_depth=5,pruning=True)\n"
   ]
  },
  {
   "cell_type": "code",
   "execution_count": null,
   "metadata": {
    "colab": {
     "base_uri": "https://localhost:8080/"
    },
    "id": "AE--HALhvlEV",
    "outputId": "2c0af7b2-f209-4382-c240-db768b5e2894"
   },
   "outputs": [
    {
     "name": "stdout",
     "output_type": "stream",
     "text": [
      "Execution time per round: 4.034052133560181 seconds\n",
      "Victory Chance:  100.0%\n"
     ]
    }
   ],
   "source": [
    "calculate_victory_chance((7,8),search_depth=5,pruning=True)\n"
   ]
  },
  {
   "cell_type": "code",
   "execution_count": null,
   "metadata": {
    "colab": {
     "base_uri": "https://localhost:8080/"
    },
    "id": "hkjO5yFyvlEW",
    "outputId": "77ab84d1-55be-4820-fe9b-51d4f47e7ea5"
   },
   "outputs": [
    {
     "name": "stdout",
     "output_type": "stream",
     "text": [
      "Execution time per round: 11.929307222366333 seconds\n",
      "Victory Chance:  100.0%\n"
     ]
    }
   ],
   "source": [
    "calculate_victory_chance((7,10),search_depth=5,pruning=True)"
   ]
  },
  {
   "cell_type": "markdown",
   "metadata": {
    "id": "7uefXKejvlEW"
   },
   "source": [
    "## search_depth = 7"
   ]
  },
  {
   "cell_type": "code",
   "execution_count": null,
   "metadata": {
    "colab": {
     "base_uri": "https://localhost:8080/"
    },
    "id": "VhGsbPiLvlEW",
    "outputId": "de2d7ef3-a059-46ea-9744-c05eadfcfb68"
   },
   "outputs": [
    {
     "name": "stdout",
     "output_type": "stream",
     "text": [
      "Execution time per round: 1.7761046886444092 seconds\n",
      "Victory Chance:  100.0%\n"
     ]
    }
   ],
   "source": [
    "calculate_victory_chance((6,7),search_depth=7,pruning=True)"
   ]
  },
  {
   "cell_type": "code",
   "execution_count": null,
   "metadata": {
    "colab": {
     "base_uri": "https://localhost:8080/"
    },
    "id": "ZoL-sA_5vlEW",
    "outputId": "7376bf29-5abf-4556-e814-f8288b9ace08"
   },
   "outputs": [
    {
     "name": "stdout",
     "output_type": "stream",
     "text": [
      "Execution time per round: 3.9375979900360107 seconds\n",
      "Victory Chance:  100.0%\n"
     ]
    }
   ],
   "source": [
    "calculate_victory_chance((7,8),search_depth=7,pruning=True)"
   ]
  },
  {
   "cell_type": "code",
   "execution_count": 31,
   "metadata": {
    "colab": {
     "base_uri": "https://localhost:8080/"
    },
    "id": "X4BTOXB-vlEW",
    "outputId": "f3c0e45c-672a-4768-8199-1c8c699611d9"
   },
   "outputs": [
    {
     "name": "stdout",
     "output_type": "stream",
     "text": [
      "Execution time per round: 17.925866603851318 seconds\n",
      "Victory Chance:  100.0%\n"
     ]
    }
   ],
   "source": [
    "calculate_victory_chance((7,10),search_depth=7,pruning=True)"
   ]
  },
  {
   "cell_type": "markdown",
   "metadata": {
    "id": "Hom4SFG44l-n"
   },
   "source": [
    "# Questions\n",
    "## Question 1\n",
    "A good heuristic is able to distinguish better game states from worse game states. That means if a given game state has more chance for our agent to win, has to have better heuristic value and if the given game state has less chance for our agent to to win, then the heuristic value for this state has to be lower.\n",
    "\n",
    "The heurstic that I've chosen is better because the heurstic value for game states that are likely to win is high.\n",
    "## Question 2\n",
    "Increasing search depth could increase execution time, seen nodes, victory chance. Because higher search depth means the agent is able to see more moves in the future and make the best decision based on those game states.\n",
    "## Question 3\n",
    "The effectiveness of the alpha-beta pruning depends on the order in which children are visited.If children of a node are visited in the worst possible order, it may be that no pruning occurs.\n",
    "- For max nodes, we want to visit the best child first so that time is not wasted in the rest of the children exploring worse scenarios.\n",
    "- For min nodes, we want to visit the worst child first\n",
    "\n",
    "The way we could improve order of children in this project is to sort them."
   ]
  },
  {
   "cell_type": "markdown",
   "metadata": {
    "id": "XKD54_AM5WXF"
   },
   "source": [
    "# Results\n",
    "\n",
    "Here's how victory chance is calculated:\n",
    "\n",
    "Victory Chance = #wins/#total games.\n",
    "\n",
    "In this experiment, we run minmax algorithm with/without pruning 200 times."
   ]
  },
  {
   "cell_type": "code",
   "execution_count": 2,
   "metadata": {
    "id": "G3OzxO1J5cxu"
   },
   "outputs": [],
   "source": [
    "import pandas as pd"
   ]
  },
  {
   "cell_type": "markdown",
   "metadata": {
    "id": "l82dKlyTmiru"
   },
   "source": [
    "## Without pruning"
   ]
  },
  {
   "cell_type": "code",
   "execution_count": 3,
   "metadata": {
    "colab": {
     "base_uri": "https://localhost:8080/",
     "height": 425
    },
    "id": "KTQXejU1eMj2",
    "outputId": "5c051141-0ed4-476e-fc1d-ec76620c2e04"
   },
   "outputs": [
    {
     "data": {
      "text/html": [
       "\n",
       "  <div id=\"df-540d6591-c55f-47b0-ac61-6bc3bc29a000\">\n",
       "    <div class=\"colab-df-container\">\n",
       "      <div>\n",
       "<style scoped>\n",
       "    .dataframe tbody tr th:only-of-type {\n",
       "        vertical-align: middle;\n",
       "    }\n",
       "\n",
       "    .dataframe tbody tr th {\n",
       "        vertical-align: top;\n",
       "    }\n",
       "\n",
       "    .dataframe thead th {\n",
       "        text-align: right;\n",
       "    }\n",
       "</style>\n",
       "<table border=\"1\" class=\"dataframe\">\n",
       "  <thead>\n",
       "    <tr style=\"text-align: right;\">\n",
       "      <th></th>\n",
       "      <th>Board Size</th>\n",
       "      <th>Search Depth</th>\n",
       "      <th>Victory Chance</th>\n",
       "      <th>Exec. Time Per Round</th>\n",
       "    </tr>\n",
       "  </thead>\n",
       "  <tbody>\n",
       "    <tr>\n",
       "      <th>0</th>\n",
       "      <td>(6,7)</td>\n",
       "      <td>1</td>\n",
       "      <td>100%</td>\n",
       "      <td>2.0678925510406494 seconds</td>\n",
       "    </tr>\n",
       "    <tr>\n",
       "      <th>1</th>\n",
       "      <td>(7,8)</td>\n",
       "      <td>1</td>\n",
       "      <td>100%</td>\n",
       "      <td>4.100736951828003 seconds</td>\n",
       "    </tr>\n",
       "    <tr>\n",
       "      <th>2</th>\n",
       "      <td>(7,10)</td>\n",
       "      <td>1</td>\n",
       "      <td>100%</td>\n",
       "      <td>11.980258703231812 seconds</td>\n",
       "    </tr>\n",
       "    <tr>\n",
       "      <th>3</th>\n",
       "      <td>(6,7)</td>\n",
       "      <td>3</td>\n",
       "      <td>100%</td>\n",
       "      <td>1.984256479286193 seconds</td>\n",
       "    </tr>\n",
       "    <tr>\n",
       "      <th>4</th>\n",
       "      <td>(7,8)</td>\n",
       "      <td>3</td>\n",
       "      <td>100%</td>\n",
       "      <td>4.1001853692356 seconds</td>\n",
       "    </tr>\n",
       "    <tr>\n",
       "      <th>5</th>\n",
       "      <td>(7,10)</td>\n",
       "      <td>3</td>\n",
       "      <td>100%</td>\n",
       "      <td>11.90968370437622 seconds</td>\n",
       "    </tr>\n",
       "    <tr>\n",
       "      <th>6</th>\n",
       "      <td>(6,7)</td>\n",
       "      <td>5</td>\n",
       "      <td>100%</td>\n",
       "      <td>1.7722375392913818 seconds</td>\n",
       "    </tr>\n",
       "    <tr>\n",
       "      <th>7</th>\n",
       "      <td>(7,8)</td>\n",
       "      <td>5</td>\n",
       "      <td>100%</td>\n",
       "      <td>4.034052133560181 seconds</td>\n",
       "    </tr>\n",
       "    <tr>\n",
       "      <th>8</th>\n",
       "      <td>(7,10)</td>\n",
       "      <td>5</td>\n",
       "      <td>100%</td>\n",
       "      <td>11.929307222366333 seconds</td>\n",
       "    </tr>\n",
       "    <tr>\n",
       "      <th>9</th>\n",
       "      <td>(6,7)</td>\n",
       "      <td>7</td>\n",
       "      <td>100%</td>\n",
       "      <td>1.8072891235351562 seconds</td>\n",
       "    </tr>\n",
       "    <tr>\n",
       "      <th>10</th>\n",
       "      <td>(7,8)</td>\n",
       "      <td>7</td>\n",
       "      <td>100%</td>\n",
       "      <td>3.9375979900360107 seconds</td>\n",
       "    </tr>\n",
       "    <tr>\n",
       "      <th>11</th>\n",
       "      <td>(7,10)</td>\n",
       "      <td>7</td>\n",
       "      <td>100%</td>\n",
       "      <td>48.958349466323853 seconds</td>\n",
       "    </tr>\n",
       "  </tbody>\n",
       "</table>\n",
       "</div>\n",
       "      <button class=\"colab-df-convert\" onclick=\"convertToInteractive('df-540d6591-c55f-47b0-ac61-6bc3bc29a000')\"\n",
       "              title=\"Convert this dataframe to an interactive table.\"\n",
       "              style=\"display:none;\">\n",
       "        \n",
       "  <svg xmlns=\"http://www.w3.org/2000/svg\" height=\"24px\"viewBox=\"0 0 24 24\"\n",
       "       width=\"24px\">\n",
       "    <path d=\"M0 0h24v24H0V0z\" fill=\"none\"/>\n",
       "    <path d=\"M18.56 5.44l.94 2.06.94-2.06 2.06-.94-2.06-.94-.94-2.06-.94 2.06-2.06.94zm-11 1L8.5 8.5l.94-2.06 2.06-.94-2.06-.94L8.5 2.5l-.94 2.06-2.06.94zm10 10l.94 2.06.94-2.06 2.06-.94-2.06-.94-.94-2.06-.94 2.06-2.06.94z\"/><path d=\"M17.41 7.96l-1.37-1.37c-.4-.4-.92-.59-1.43-.59-.52 0-1.04.2-1.43.59L10.3 9.45l-7.72 7.72c-.78.78-.78 2.05 0 2.83L4 21.41c.39.39.9.59 1.41.59.51 0 1.02-.2 1.41-.59l7.78-7.78 2.81-2.81c.8-.78.8-2.07 0-2.86zM5.41 20L4 18.59l7.72-7.72 1.47 1.35L5.41 20z\"/>\n",
       "  </svg>\n",
       "      </button>\n",
       "      \n",
       "  <style>\n",
       "    .colab-df-container {\n",
       "      display:flex;\n",
       "      flex-wrap:wrap;\n",
       "      gap: 12px;\n",
       "    }\n",
       "\n",
       "    .colab-df-convert {\n",
       "      background-color: #E8F0FE;\n",
       "      border: none;\n",
       "      border-radius: 50%;\n",
       "      cursor: pointer;\n",
       "      display: none;\n",
       "      fill: #1967D2;\n",
       "      height: 32px;\n",
       "      padding: 0 0 0 0;\n",
       "      width: 32px;\n",
       "    }\n",
       "\n",
       "    .colab-df-convert:hover {\n",
       "      background-color: #E2EBFA;\n",
       "      box-shadow: 0px 1px 2px rgba(60, 64, 67, 0.3), 0px 1px 3px 1px rgba(60, 64, 67, 0.15);\n",
       "      fill: #174EA6;\n",
       "    }\n",
       "\n",
       "    [theme=dark] .colab-df-convert {\n",
       "      background-color: #3B4455;\n",
       "      fill: #D2E3FC;\n",
       "    }\n",
       "\n",
       "    [theme=dark] .colab-df-convert:hover {\n",
       "      background-color: #434B5C;\n",
       "      box-shadow: 0px 1px 3px 1px rgba(0, 0, 0, 0.15);\n",
       "      filter: drop-shadow(0px 1px 2px rgba(0, 0, 0, 0.3));\n",
       "      fill: #FFFFFF;\n",
       "    }\n",
       "  </style>\n",
       "\n",
       "      <script>\n",
       "        const buttonEl =\n",
       "          document.querySelector('#df-540d6591-c55f-47b0-ac61-6bc3bc29a000 button.colab-df-convert');\n",
       "        buttonEl.style.display =\n",
       "          google.colab.kernel.accessAllowed ? 'block' : 'none';\n",
       "\n",
       "        async function convertToInteractive(key) {\n",
       "          const element = document.querySelector('#df-540d6591-c55f-47b0-ac61-6bc3bc29a000');\n",
       "          const dataTable =\n",
       "            await google.colab.kernel.invokeFunction('convertToInteractive',\n",
       "                                                     [key], {});\n",
       "          if (!dataTable) return;\n",
       "\n",
       "          const docLinkHtml = 'Like what you see? Visit the ' +\n",
       "            '<a target=\"_blank\" href=https://colab.research.google.com/notebooks/data_table.ipynb>data table notebook</a>'\n",
       "            + ' to learn more about interactive tables.';\n",
       "          element.innerHTML = '';\n",
       "          dataTable['output_type'] = 'display_data';\n",
       "          await google.colab.output.renderOutput(dataTable, element);\n",
       "          const docLink = document.createElement('div');\n",
       "          docLink.innerHTML = docLinkHtml;\n",
       "          element.appendChild(docLink);\n",
       "        }\n",
       "      </script>\n",
       "    </div>\n",
       "  </div>\n",
       "  "
      ],
      "text/plain": [
       "   Board Size  Search Depth Victory Chance        Exec. Time Per Round\n",
       "0       (6,7)             1           100%  2.0678925510406494 seconds\n",
       "1       (7,8)             1           100%   4.100736951828003 seconds\n",
       "2      (7,10)             1           100%  11.980258703231812 seconds\n",
       "3       (6,7)             3           100%   1.984256479286193 seconds\n",
       "4       (7,8)             3           100%     4.1001853692356 seconds\n",
       "5      (7,10)             3           100%   11.90968370437622 seconds\n",
       "6       (6,7)             5           100%  1.7722375392913818 seconds\n",
       "7       (7,8)             5           100%   4.034052133560181 seconds\n",
       "8      (7,10)             5           100%  11.929307222366333 seconds\n",
       "9       (6,7)             7           100%  1.8072891235351562 seconds\n",
       "10      (7,8)             7           100%  3.9375979900360107 seconds\n",
       "11     (7,10)             7           100%  48.958349466323853 seconds"
      ]
     },
     "execution_count": 3,
     "metadata": {},
     "output_type": "execute_result"
    }
   ],
   "source": [
    "without_pruning = pd.DataFrame({\n",
    "    'Board Size': ['(6,7)','(7,8)','(7,10)','(6,7)','(7,8)','(7,10)','(6,7)','(7,8)','(7,10)','(6,7)','(7,8)','(7,10)'],\n",
    "    'Search Depth': [1,1,1,3,3,3,5,5,5,7,7,7],\n",
    "    'Victory Chance': ['100%','100%','100%','100%','100%','100%','100%','100%','100%','100%','100%','100%'],\n",
    "    'Exec. Time Per Round': ['2.0678925510406494 seconds','4.100736951828003 seconds','11.980258703231812 seconds',\n",
    "                             '1.984256479286193 seconds','4.1001853692356 seconds','11.90968370437622 seconds',\n",
    "                             '1.7722375392913818 seconds', '4.034052133560181 seconds','11.929307222366333 seconds',\n",
    "                             '1.8072891235351562 seconds','3.9375979900360107 seconds','48.958349466323853 seconds']\n",
    "})\n",
    "\n",
    "without_pruning"
   ]
  },
  {
   "cell_type": "markdown",
   "metadata": {
    "id": "MsysU7IMpWJv"
   },
   "source": [
    "## With Alpha-Beta Pruning"
   ]
  },
  {
   "cell_type": "code",
   "execution_count": 4,
   "metadata": {
    "colab": {
     "base_uri": "https://localhost:8080/",
     "height": 425
    },
    "id": "d27epjhWmyKm",
    "outputId": "04316547-74f9-41cb-b8bd-0dbb006679d6"
   },
   "outputs": [
    {
     "data": {
      "text/html": [
       "\n",
       "  <div id=\"df-66cad51e-9562-4a95-b7f5-7200d7857228\">\n",
       "    <div class=\"colab-df-container\">\n",
       "      <div>\n",
       "<style scoped>\n",
       "    .dataframe tbody tr th:only-of-type {\n",
       "        vertical-align: middle;\n",
       "    }\n",
       "\n",
       "    .dataframe tbody tr th {\n",
       "        vertical-align: top;\n",
       "    }\n",
       "\n",
       "    .dataframe thead th {\n",
       "        text-align: right;\n",
       "    }\n",
       "</style>\n",
       "<table border=\"1\" class=\"dataframe\">\n",
       "  <thead>\n",
       "    <tr style=\"text-align: right;\">\n",
       "      <th></th>\n",
       "      <th>Board Size</th>\n",
       "      <th>Search Depth</th>\n",
       "      <th>Victory Chance</th>\n",
       "      <th>Exec. Time Per Round</th>\n",
       "    </tr>\n",
       "  </thead>\n",
       "  <tbody>\n",
       "    <tr>\n",
       "      <th>0</th>\n",
       "      <td>(6,7)</td>\n",
       "      <td>1</td>\n",
       "      <td>100%</td>\n",
       "      <td>1.92844557762146 seconds</td>\n",
       "    </tr>\n",
       "    <tr>\n",
       "      <th>1</th>\n",
       "      <td>(7,8)</td>\n",
       "      <td>1</td>\n",
       "      <td>100%</td>\n",
       "      <td>3.9984326362609863 seconds</td>\n",
       "    </tr>\n",
       "    <tr>\n",
       "      <th>2</th>\n",
       "      <td>(7,10)</td>\n",
       "      <td>1</td>\n",
       "      <td>100%</td>\n",
       "      <td>11.965786933898926 seconds</td>\n",
       "    </tr>\n",
       "    <tr>\n",
       "      <th>3</th>\n",
       "      <td>(6,7)</td>\n",
       "      <td>3</td>\n",
       "      <td>100%</td>\n",
       "      <td>1.785003662109375 seconds</td>\n",
       "    </tr>\n",
       "    <tr>\n",
       "      <th>4</th>\n",
       "      <td>(7,8)</td>\n",
       "      <td>3</td>\n",
       "      <td>100%</td>\n",
       "      <td>3.9781312942504883 seconds</td>\n",
       "    </tr>\n",
       "    <tr>\n",
       "      <th>5</th>\n",
       "      <td>(7,10)</td>\n",
       "      <td>3</td>\n",
       "      <td>100%</td>\n",
       "      <td>12.032996416091919 seconds</td>\n",
       "    </tr>\n",
       "    <tr>\n",
       "      <th>6</th>\n",
       "      <td>(6,7)</td>\n",
       "      <td>5</td>\n",
       "      <td>100%</td>\n",
       "      <td>1.971895170211792 seconds</td>\n",
       "    </tr>\n",
       "    <tr>\n",
       "      <th>7</th>\n",
       "      <td>(7,8)</td>\n",
       "      <td>5</td>\n",
       "      <td>100%</td>\n",
       "      <td>4.21871853692356 seconds</td>\n",
       "    </tr>\n",
       "    <tr>\n",
       "      <th>8</th>\n",
       "      <td>(7,10)</td>\n",
       "      <td>5</td>\n",
       "      <td>100%</td>\n",
       "      <td>12.065927743911743 seconds</td>\n",
       "    </tr>\n",
       "    <tr>\n",
       "      <th>9</th>\n",
       "      <td>(6,7)</td>\n",
       "      <td>7</td>\n",
       "      <td>100%</td>\n",
       "      <td>1.7761046886444092 seconds</td>\n",
       "    </tr>\n",
       "    <tr>\n",
       "      <th>10</th>\n",
       "      <td>(7,8)</td>\n",
       "      <td>7</td>\n",
       "      <td>100%</td>\n",
       "      <td>3.966726779937744 seconds</td>\n",
       "    </tr>\n",
       "    <tr>\n",
       "      <th>11</th>\n",
       "      <td>(7,10)</td>\n",
       "      <td>7</td>\n",
       "      <td>100%</td>\n",
       "      <td>17.925866603851318 seconds</td>\n",
       "    </tr>\n",
       "  </tbody>\n",
       "</table>\n",
       "</div>\n",
       "      <button class=\"colab-df-convert\" onclick=\"convertToInteractive('df-66cad51e-9562-4a95-b7f5-7200d7857228')\"\n",
       "              title=\"Convert this dataframe to an interactive table.\"\n",
       "              style=\"display:none;\">\n",
       "        \n",
       "  <svg xmlns=\"http://www.w3.org/2000/svg\" height=\"24px\"viewBox=\"0 0 24 24\"\n",
       "       width=\"24px\">\n",
       "    <path d=\"M0 0h24v24H0V0z\" fill=\"none\"/>\n",
       "    <path d=\"M18.56 5.44l.94 2.06.94-2.06 2.06-.94-2.06-.94-.94-2.06-.94 2.06-2.06.94zm-11 1L8.5 8.5l.94-2.06 2.06-.94-2.06-.94L8.5 2.5l-.94 2.06-2.06.94zm10 10l.94 2.06.94-2.06 2.06-.94-2.06-.94-.94-2.06-.94 2.06-2.06.94z\"/><path d=\"M17.41 7.96l-1.37-1.37c-.4-.4-.92-.59-1.43-.59-.52 0-1.04.2-1.43.59L10.3 9.45l-7.72 7.72c-.78.78-.78 2.05 0 2.83L4 21.41c.39.39.9.59 1.41.59.51 0 1.02-.2 1.41-.59l7.78-7.78 2.81-2.81c.8-.78.8-2.07 0-2.86zM5.41 20L4 18.59l7.72-7.72 1.47 1.35L5.41 20z\"/>\n",
       "  </svg>\n",
       "      </button>\n",
       "      \n",
       "  <style>\n",
       "    .colab-df-container {\n",
       "      display:flex;\n",
       "      flex-wrap:wrap;\n",
       "      gap: 12px;\n",
       "    }\n",
       "\n",
       "    .colab-df-convert {\n",
       "      background-color: #E8F0FE;\n",
       "      border: none;\n",
       "      border-radius: 50%;\n",
       "      cursor: pointer;\n",
       "      display: none;\n",
       "      fill: #1967D2;\n",
       "      height: 32px;\n",
       "      padding: 0 0 0 0;\n",
       "      width: 32px;\n",
       "    }\n",
       "\n",
       "    .colab-df-convert:hover {\n",
       "      background-color: #E2EBFA;\n",
       "      box-shadow: 0px 1px 2px rgba(60, 64, 67, 0.3), 0px 1px 3px 1px rgba(60, 64, 67, 0.15);\n",
       "      fill: #174EA6;\n",
       "    }\n",
       "\n",
       "    [theme=dark] .colab-df-convert {\n",
       "      background-color: #3B4455;\n",
       "      fill: #D2E3FC;\n",
       "    }\n",
       "\n",
       "    [theme=dark] .colab-df-convert:hover {\n",
       "      background-color: #434B5C;\n",
       "      box-shadow: 0px 1px 3px 1px rgba(0, 0, 0, 0.15);\n",
       "      filter: drop-shadow(0px 1px 2px rgba(0, 0, 0, 0.3));\n",
       "      fill: #FFFFFF;\n",
       "    }\n",
       "  </style>\n",
       "\n",
       "      <script>\n",
       "        const buttonEl =\n",
       "          document.querySelector('#df-66cad51e-9562-4a95-b7f5-7200d7857228 button.colab-df-convert');\n",
       "        buttonEl.style.display =\n",
       "          google.colab.kernel.accessAllowed ? 'block' : 'none';\n",
       "\n",
       "        async function convertToInteractive(key) {\n",
       "          const element = document.querySelector('#df-66cad51e-9562-4a95-b7f5-7200d7857228');\n",
       "          const dataTable =\n",
       "            await google.colab.kernel.invokeFunction('convertToInteractive',\n",
       "                                                     [key], {});\n",
       "          if (!dataTable) return;\n",
       "\n",
       "          const docLinkHtml = 'Like what you see? Visit the ' +\n",
       "            '<a target=\"_blank\" href=https://colab.research.google.com/notebooks/data_table.ipynb>data table notebook</a>'\n",
       "            + ' to learn more about interactive tables.';\n",
       "          element.innerHTML = '';\n",
       "          dataTable['output_type'] = 'display_data';\n",
       "          await google.colab.output.renderOutput(dataTable, element);\n",
       "          const docLink = document.createElement('div');\n",
       "          docLink.innerHTML = docLinkHtml;\n",
       "          element.appendChild(docLink);\n",
       "        }\n",
       "      </script>\n",
       "    </div>\n",
       "  </div>\n",
       "  "
      ],
      "text/plain": [
       "   Board Size  Search Depth Victory Chance        Exec. Time Per Round\n",
       "0       (6,7)             1           100%    1.92844557762146 seconds\n",
       "1       (7,8)             1           100%  3.9984326362609863 seconds\n",
       "2      (7,10)             1           100%  11.965786933898926 seconds\n",
       "3       (6,7)             3           100%   1.785003662109375 seconds\n",
       "4       (7,8)             3           100%  3.9781312942504883 seconds\n",
       "5      (7,10)             3           100%  12.032996416091919 seconds\n",
       "6       (6,7)             5           100%   1.971895170211792 seconds\n",
       "7       (7,8)             5           100%    4.21871853692356 seconds\n",
       "8      (7,10)             5           100%  12.065927743911743 seconds\n",
       "9       (6,7)             7           100%  1.7761046886444092 seconds\n",
       "10      (7,8)             7           100%   3.966726779937744 seconds\n",
       "11     (7,10)             7           100%  17.925866603851318 seconds"
      ]
     },
     "execution_count": 4,
     "metadata": {},
     "output_type": "execute_result"
    }
   ],
   "source": [
    "alpha_beta_pruning = pd.DataFrame({\n",
    "    'Board Size': ['(6,7)','(7,8)','(7,10)','(6,7)','(7,8)','(7,10)','(6,7)','(7,8)','(7,10)','(6,7)','(7,8)','(7,10)'],\n",
    "    'Search Depth': [1,1,1,3,3,3,5,5,5,7,7,7],\n",
    "    'Victory Chance': ['100%','100%','100%','100%','100%','100%','100%','100%','100%','100%','100%','100%'],\n",
    "    'Exec. Time Per Round': ['1.92844557762146 seconds','3.9984326362609863 seconds','11.965786933898926 seconds',\n",
    "                             '1.785003662109375 seconds','3.9781312942504883 seconds','12.032996416091919 seconds',\n",
    "                             '1.971895170211792 seconds', '4.21871853692356 seconds','12.065927743911743 seconds',\n",
    "                             '1.7761046886444092 seconds','3.966726779937744 seconds','17.925866603851318 seconds']\n",
    "})\n",
    "\n",
    "alpha_beta_pruning"
   ]
  }
 ],
 "metadata": {
  "colab": {
   "collapsed_sections": [
    "JbyPA0kevlEQ",
    "k394YQmMvlEQ",
    "YMqbgB_5vlES",
    "jAi6-L8WvlES",
    "2eN-UAGnvlEU",
    "_gXcwRzCvlEV",
    "9qX8F-xNvlEV"
   ],
   "name": "Connect4_FinalSolution.ipynb",
   "provenance": []
  },
  "kernelspec": {
   "display_name": "Python 3 (ipykernel)",
   "language": "python",
   "name": "python3"
  },
  "language_info": {
   "codemirror_mode": {
    "name": "ipython",
    "version": 3
   },
   "file_extension": ".py",
   "mimetype": "text/x-python",
   "name": "python",
   "nbconvert_exporter": "python",
   "pygments_lexer": "ipython3",
   "version": "3.9.7"
  }
 },
 "nbformat": 4,
 "nbformat_minor": 1
}
