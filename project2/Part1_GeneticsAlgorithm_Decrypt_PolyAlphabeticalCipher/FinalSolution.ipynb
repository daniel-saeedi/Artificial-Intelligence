{
 "cells": [
  {
   "cell_type": "markdown",
   "metadata": {
    "id": "D6ayPTJd0i7v"
   },
   "source": [
    "# Computer Assignment 2: Decrypting Poly-Alphabetic Cipher using Genetic Algorithm\n",
    "The goal of this assignment is to get more fimiliar with Genetics Algorithms(GA) and use them in practice. GA is usually used when the problem has a lot of states.This problem has $26!$ states!. It is obvious that the brute force solution is not feasible! That's why GA algorithm is useful for this problem. \n",
    "\n",
    "**Note:** The `global_text.txt` is the reference text.\n",
    "\n",
    "**Author:** Danial Saeedi(810198571)"
   ]
  },
  {
   "cell_type": "markdown",
   "metadata": {
    "id": "HCDzRdmf0oge"
   },
   "source": [
    "# Import Dependencies"
   ]
  },
  {
   "cell_type": "code",
   "execution_count": 1,
   "metadata": {
    "id": "4B2k3MnTUBwm"
   },
   "outputs": [],
   "source": [
    "import re\n",
    "import string\n",
    "import random\n",
    "from operator import itemgetter\n",
    "import numpy as np\n",
    "import time"
   ]
  },
  {
   "cell_type": "markdown",
   "metadata": {
    "id": "AMh2b-7J0uHO"
   },
   "source": [
    "# Constants"
   ]
  },
  {
   "cell_type": "code",
   "execution_count": 10,
   "metadata": {
    "id": "V66B0gvdUBwj"
   },
   "outputs": [],
   "source": [
    "POPULATION_SIZE = 100\n",
    "ELITISM_RATE = 0.1\n",
    "CROSSOVER_RATE = 0.65\n",
    "CONSTANT = 14\n",
    "MAX_GENERATIONS = 1000\n",
    "MUTATION_PROBABILITY = 0.1"
   ]
  },
  {
   "cell_type": "markdown",
   "metadata": {
    "id": "hlSmNyw20wq_"
   },
   "source": [
    "# Implementing Decrypter"
   ]
  },
  {
   "cell_type": "markdown",
   "metadata": {
    "id": "xA3eZd_5UBwm"
   },
   "source": [
    "The algorithm mentioned in this project is a famous substituion cipher called [Polyalphabetic Substitution](https://en.wikipedia.org/wiki/Polyalphabetic_cipher#:~:text=A%20polyalphabetic%20cipher%20is%20any,is%20a%20simplified%20special%20case.).\n",
    "Some of the code for decrypting polyalphabetic cipher can be found [here](https://gist.github.com/ourway/8a567f0c201359237925)."
   ]
  },
  {
   "cell_type": "code",
   "execution_count": 3,
   "metadata": {
    "id": "X70mSO2VUBwn"
   },
   "outputs": [],
   "source": [
    "alphabet = string.ascii_lowercase\n",
    "ignore_chars = string.digits + string.punctuation + string.whitespace\n",
    "\n",
    "def cycle_get(lst,index):\n",
    "    new_index = index % len(lst)\n",
    "    return(lst[new_index])\n",
    "\n",
    "def cycle_increment_index(index,lst):\n",
    "    if index == len(lst) - 1:\n",
    "        index = 0\n",
    "    else:\n",
    "        index += 1\n",
    "    return(index)\n",
    "\n",
    "def shift(letter,value):\n",
    "    current_letter_value = alphabet.find(letter)\n",
    "    end_value = current_letter_value + value\n",
    "    return(cycle_get(alphabet,end_value))\n",
    "\n",
    "def convert_key_to_numbers(key):\n",
    "    return([alphabet.find(i) for i in key])\n",
    "\n",
    "def decrypt(text,key):\n",
    "    text = text.lower()\n",
    "    key = convert_key_to_numbers(key)\n",
    "    index_of_key = 0\n",
    "    result = \"\"\n",
    "    for char in text:\n",
    "        if char in ignore_chars:\n",
    "            result += char\n",
    "        else:\n",
    "            result += shift(char,- key[index_of_key])\n",
    "            index_of_key = cycle_increment_index(index_of_key,key)\n",
    "    return(result)"
   ]
  },
  {
   "cell_type": "markdown",
   "metadata": {
    "id": "Z1ioIzPV2_g1"
   },
   "source": [
    "# Part 0: Data cleaning & make dictionary\n",
    "Before creating the dictionary, we have to clean our `global_text.txt`. The cleaning of this dataset is done by removing stop words and useless characters like *, !, and etc. The clean data method in Decoder class will clean the data.\n",
    "\n",
    "1. Converting all letter to lowercase.\n",
    "2. Converting all non-alphabet characters with space.\n",
    "3. Removing duplicate words with mapping.\n",
    "4. Removing stop words.\n",
    "\n",
    "So now we have a dictionary which we can used it to find the fitness of each Chromosome."
   ]
  },
  {
   "cell_type": "code",
   "execution_count": 4,
   "metadata": {
    "colab": {
     "base_uri": "https://localhost:8080/"
    },
    "id": "kRj1W_oW2_g2",
    "outputId": "697c1d7c-948a-4813-af39-c6bdc3052c9e"
   },
   "outputs": [
    {
     "data": {
      "text/plain": [
       "326"
      ]
     },
     "execution_count": 4,
     "metadata": {},
     "output_type": "execute_result"
    }
   ],
   "source": [
    "# A list of stop words\n",
    "stop_words = {'those', 'on', 'own', '’ve', 'yourselves', 'around', 'between', 'four', 'been', 'alone', 'off', 'am', 'then', 'other', 'can', 'regarding', 'hereafter', 'front', 'too', 'used', 'wherein', '‘ll', 'doing', 'everything', 'up', 'onto', 'never', 'either', 'how', 'before', 'anyway', 'since', 'through', 'amount', 'now', 'he', 'was', 'have', 'into', 'because', 'not', 'therefore', 'they', 'n’t', 'even', 'whom', 'it', 'see', 'somewhere', 'thereupon', 'nothing', 'whereas', 'much', 'whenever', 'seem', 'until', 'whereby', 'at', 'also', 'some', 'last', 'than', 'get', 'already', 'our', 'once', 'will', 'noone', \"'m\", 'that', 'what', 'thus', 'no', 'myself', 'out', 'next', 'whatever', 'although', 'though', 'which', 'would', 'therein', 'nor', 'somehow', 'whereupon', 'besides', 'whoever', 'ourselves', 'few', 'did', 'without', 'third', 'anything', 'twelve', 'against', 'while', 'twenty', 'if', 'however', 'herself', 'when', 'may', 'ours', 'six', 'done', 'seems', 'else', 'call', 'perhaps', 'had', 'nevertheless', 'where', 'otherwise', 'still', 'within', 'its', 'for', 'together', 'elsewhere', 'throughout', 'of', 'others', 'show', '’s', 'anywhere', 'anyhow', 'as', 'are', 'the', 'hence', 'something', 'hereby', 'nowhere', 'latterly', 'say', 'does', 'neither', 'his', 'go', 'forty', 'put', 'their', 'by', 'namely', 'could', 'five', 'unless', 'itself', 'is', 'nine', 'whereafter', 'down', 'bottom', 'thereby', 'such', 'both', 'she', 'become', 'whole', 'who', 'yourself', 'every', 'thru', 'except', 'very', 'several', 'among', 'being', 'be', 'mine', 'further', 'n‘t', 'here', 'during', 'why', 'with', 'just', \"'s\", 'becomes', '’ll', 'about', 'a', 'using', 'seeming', \"'d\", \"'ll\", \"'re\", 'due', 'wherever', 'beforehand', 'fifty', 'becoming', 'might', 'amongst', 'my', 'empty', 'thence', 'thereafter', 'almost', 'least', 'someone', 'often', 'from', 'keep', 'him', 'or', '‘m', 'top', 'her', 'nobody', 'sometime', 'across', '‘s', '’re', 'hundred', 'only', 'via', 'name', 'eight', 'three', 'back', 'to', 'all', 'became', 'move', 'me', 'we', 'formerly', 'so', 'i', 'whence', 'under', 'always', 'himself', 'in', 'herein', 'more', 'after', 'themselves', 'you', 'above', 'sixty', 'them', 'your', 'made', 'indeed', 'most', 'everywhere', 'fifteen', 'but', 'must', 'along', 'beside', 'hers', 'side', 'former', 'anyone', 'full', 'has', 'yours', 'whose', 'behind', 'please', 'ten', 'seemed', 'sometimes', 'should', 'over', 'take', 'each', 'same', 'rather', 'really', 'latter', 'and', 'ca', 'hereupon', 'part', 'per', 'eleven', 'ever', '‘re', 'enough', \"n't\", 'again', '‘d', 'us', 'yet', 'moreover', 'mostly', 'one', 'meanwhile', 'whither', 'there', 'toward', '’m', \"'ve\", '’d', 'give', 'do', 'an', 'quite', 'these', 'everyone', 'towards', 'this', 'cannot', 'afterwards', 'beyond', 'make', 'were', 'whether', 'well', 'another', 'below', 'first', 'upon', 'any', 'none', 'many', 'serious', 'various', 're', 'two', 'less', '‘ve'}\n",
    "len(stop_words)"
   ]
  },
  {
   "cell_type": "code",
   "execution_count": 5,
   "metadata": {
    "id": "udgfPLol2_g4"
   },
   "outputs": [],
   "source": [
    "def clean_data(global_text):\n",
    "  # Removing useless characters\n",
    "  global_text = re.sub(r'[^A-Za-z]', ' ', global_text)\n",
    "\n",
    "  # Removing stop words\n",
    "  words = [word for word in global_text.split() if word.lower() not in stop_words]\n",
    "  global_text = \" \".join(words)\n",
    "\n",
    "  # Split\n",
    "  global_text_words = global_text.split()\n",
    "\n",
    "  # To list\n",
    "  global_text_words = list(dict.fromkeys(global_text_words))\n",
    "  return global_text_words"
   ]
  },
  {
   "cell_type": "code",
   "execution_count": 6,
   "metadata": {
    "id": "TINb0FEE2_g4"
   },
   "outputs": [],
   "source": [
    "def create_dictionary(path = \"global_text.txt\"):\n",
    "    global_text = open(path).read().lower()\n",
    "    global_text_words = clean_data(global_text)\n",
    "\n",
    "    # Returns a set of words\n",
    "    return set(global_text_words)"
   ]
  },
  {
   "cell_type": "code",
   "execution_count": 7,
   "metadata": {
    "colab": {
     "base_uri": "https://localhost:8080/"
    },
    "id": "gBWW0qhM2_g5",
    "outputId": "f2974b5f-3252-496e-ca25-72d05c788892"
   },
   "outputs": [
    {
     "data": {
      "text/plain": [
       "['shows',\n",
       " 'conditional',\n",
       " 'serve',\n",
       " 'remains',\n",
       " 'fine',\n",
       " 'consider',\n",
       " 'produces',\n",
       " 'fosters',\n",
       " 'nd',\n",
       " 'offered',\n",
       " 'powerful',\n",
       " 'colonization',\n",
       " 'determine',\n",
       " 'bug',\n",
       " 'average',\n",
       " 'priorprobabilities',\n",
       " 'subgenius',\n",
       " 'mathew',\n",
       " 'experience',\n",
       " 'terrify',\n",
       " 'response',\n",
       " 'atheism',\n",
       " 'arise',\n",
       " 'satisfactorily',\n",
       " 'shovelling',\n",
       " 'flips',\n",
       " 'purpose',\n",
       " 'plans',\n",
       " 'component',\n",
       " 'chemical',\n",
       " 'sentence',\n",
       " 'morris',\n",
       " 'considering',\n",
       " 'amechanical',\n",
       " 'conscious',\n",
       " 'interchangeableatoms',\n",
       " 'thump',\n",
       " 'practicing',\n",
       " 'washington',\n",
       " 'christianity',\n",
       " 'instinctivebehaviour',\n",
       " 'boat',\n",
       " 'algorithm',\n",
       " 'miserable',\n",
       " 'congo',\n",
       " 'christmas',\n",
       " 'told',\n",
       " 'savages',\n",
       " 'don',\n",
       " 'blissful']"
      ]
     },
     "execution_count": 7,
     "metadata": {},
     "output_type": "execute_result"
    }
   ],
   "source": [
    "list(create_dictionary())[:50]"
   ]
  },
  {
   "cell_type": "code",
   "execution_count": null,
   "metadata": {
    "colab": {
     "base_uri": "https://localhost:8080/"
    },
    "id": "aFT1rS_i2_g5",
    "outputId": "fad8e9b5-2d60-4100-9030-d391fc5d4923"
   },
   "outputs": [],
   "source": [
    "print('Original Length: ',len(globalText))\n",
    "print('After removing the stop words: ',len(create_dictionary()))\n",
    "print('Diff: ',len(globalText) - len(create_dictionary()))"
   ]
  },
  {
   "cell_type": "markdown",
   "metadata": {
    "id": "_JVP7FN52_g6"
   },
   "source": [
    "# Part 1: Define Gene & Chromosome\n",
    "**Gene:** Here we assign each gene a character. Each gene represents a character of the encryption key.\n",
    "\n",
    "\n",
    "**Chromosome:** Each chromosome consists of 14 genes. So each chromosome represents a potential encryption key.\n",
    "For instance, this a chromosome:\n",
    "\n",
    "> qgberyehnglsip\n",
    "\n"
   ]
  },
  {
   "cell_type": "markdown",
   "metadata": {
    "id": "5OMMqNHi2_g6"
   },
   "source": [
    "# Part 2: Generate Primitive Population\n",
    "`POPULATION_SIZE` is the primitive population size. The method `make_chromosomes` will create a random chromosome. Note that in that method `random` function has been used."
   ]
  },
  {
   "cell_type": "markdown",
   "metadata": {
    "id": "srfkAGlB2_g7"
   },
   "source": [
    "# Part 3: Implement & define fitness function\n",
    "`fitness` method in Decoder method calculates the fitness value. In this function, the deciphered text will be calculated and then count how many words in the deciphered text is inside the **dictionary**.The number of words(which can be found in the dictionary) is the `fitness value` for each chromosome. Then, Chromosoles will be sorted in reverse mode because we want to choose the best of them for the next generation."
   ]
  },
  {
   "cell_type": "markdown",
   "metadata": {
    "id": "JCWi5snN2_g7"
   },
   "source": [
    "# Part 4: Impelementing the crossover and mutation\n",
    "\n",
    "## Selection\n",
    "\n",
    "Here, we're going to use rank base selection for this problem. And also `elitism` selection will be used.\n",
    "\n",
    "## Crossovers\n",
    "\n",
    "In order to implementation of crossover, the order 1 method will be used. In the crossover method, two different points will be chosen and then copy the values between these points to the offspring and then complete the chromosome. The crossover happens in `65%` of the population. The parents will be chosen based on their rank.\n",
    "\n",
    "## Mutation\n",
    "\n",
    "In this part, we're going to replace each character with a random character with 0.1 probability"
   ]
  },
  {
   "cell_type": "markdown",
   "metadata": {
    "id": "aYi2H-jh1pXh"
   },
   "source": [
    "# Part 5: Decrypting without key"
   ]
  },
  {
   "cell_type": "code",
   "execution_count": 11,
   "metadata": {
    "id": "K31tKi04UBwp"
   },
   "outputs": [],
   "source": [
    "class Decoder:\n",
    "    def __init__(self, globalText, encodedText, keyLength = CONSTANT):\n",
    "        self.encodedText = re.sub(r'[^A-Za-z]', ' ', encodedText)\n",
    "        self.encodedTextWords = self.cleanData(self.encodedText.lower())\n",
    "        self.key_length =keyLength\n",
    "        self.globalText = globalText\n",
    "        self.dictionary = {}\n",
    "        self.createDictionary()\n",
    "        self.population = []\n",
    "        self.make_chromosomes()\n",
    "    \n",
    "    \n",
    "    def cleanData(self, dataSet):\n",
    "        dataSet = re.sub(r'[^A-Za-z]', ' ', dataSet)\n",
    "        dataSetWords = dataSet.split()\n",
    "        dataSetWords = list(dict.fromkeys(dataSetWords))\n",
    "        return dataSetWords\n",
    "    \n",
    "    \n",
    "    def createDictionary(self):\n",
    "        dataSet = self.globalText.lower()\n",
    "        dataSetWords = self.cleanData(dataSet)\n",
    "        self.dictionary = set(dataSetWords)\n",
    "    \n",
    "    def make_random_string(self,length):\n",
    "        letters = string.ascii_lowercase\n",
    "        return ''.join(random.choice(letters) for i in range(length))\n",
    "\n",
    "    def make_chromosomes(self):\n",
    "        for i in range(POPULATION_SIZE):\n",
    "            self.population.append(self.make_random_string(self.key_length))\n",
    "    \n",
    "    def calculate_population_fitness(self):\n",
    "        populationScores = [[self.fitness(self.population[i]), i] for i in range(len(self.population))]\n",
    "        populationScores = sorted(populationScores, key=itemgetter(0), reverse = True)\n",
    "        return populationScores\n",
    "    \n",
    "    def fitness(self, chromosome):\n",
    "        decipheredWords = decrypt(self.encodedText, chromosome)\n",
    "        \n",
    "        counter = 0\n",
    "        for word in decipheredWords:\n",
    "            if word in self.dictionary:\n",
    "                counter += 1\n",
    "                \n",
    "        return counter\n",
    "    \n",
    "    def makeChild(self, first, second):\n",
    "        size = len(first)\n",
    "        point1 = random.randint(1, size - 1)\n",
    "        point2 = random.randint(1, size - 1)\n",
    "        if point2 >= point1:\n",
    "            point2 += 1\n",
    "        else:\n",
    "            point1, point2 = point2, point1\n",
    "        \n",
    "        first_child = first[:point1] + second[point1:point2] + first[point2:]\n",
    "        second_child = second[:point1] + first[point1:point2] + second[point2:]\n",
    "\n",
    "        return first_child, second_child\n",
    "\n",
    "           \n",
    "    \n",
    "    def split_into_chars(self,string):\n",
    "        string = string.lower()\n",
    "        l = []\n",
    "        for i in range(len(string)):\n",
    "            l.append(string[i])\n",
    "\n",
    "        return l\n",
    "    def crossover(self, father, mother):\n",
    "        return self.makeChild(father, mother)\n",
    "    \n",
    "    def mutation(self, chromosome):\n",
    "        letters = string.ascii_lowercase\n",
    "        size = len(chromosome)\n",
    "        for i in range(len(chromosome)):\n",
    "            if random.random() < MUTATION_PROBABILITY:\n",
    "              chromosome = chromosome[:i] + random.choice(letters) + chromosome[i+1:]\n",
    "        \n",
    "        return chromosome\n",
    "    def decode(self):\n",
    "        sumOfRanks = (len(self.population) * len(self.population) + 1)/2\n",
    "        ranksProbabilities = [(i+1)/sumOfRanks for i in range(len(self.population))]\n",
    "        ranksProbabilities = sorted(ranksProbabilities, reverse = True)\n",
    "       \n",
    "        generation = 0\n",
    "        while True:\n",
    "            populationScores = self.calculate_population_fitness()\n",
    "            \n",
    "\n",
    "            generation += 1\n",
    "\n",
    "            if generation >= 1000:\n",
    "                chromosome = self.population[populationScores[0][1]]\n",
    "                print(populationScores)\n",
    "                print(\"The final chromosome is: \")\n",
    "                print(chromosome)\n",
    "                \n",
    "                return decrypt(self.encodedText,chromosome)\n",
    "\n",
    "          \n",
    "            newPopulation = []\n",
    "            \n",
    "            newPopulation.extend([self.population[populationScores[i][1]] for i in range(int(POPULATION_SIZE*ELITISM_RATE))])\n",
    "            \n",
    "            size = int(CROSSOVER_RATE*POPULATION_SIZE) \n",
    "            \n",
    "            for i in range(size):\n",
    "                parent = np.random.choice(self.population,2 , ranksProbabilities) \n",
    "                offspring1, offspring2 = self.crossover(parent[0] , parent[1]) \n",
    "\n",
    "                # print(offspring)\n",
    "                newPopulation.append(self.mutation(offspring1))\n",
    "                newPopulation.append(self.mutation(offspring2))\n",
    "            \n",
    "            self.population = newPopulation"
   ]
  },
  {
   "cell_type": "code",
   "execution_count": 12,
   "metadata": {
    "colab": {
     "base_uri": "https://localhost:8080/"
    },
    "id": "HZ-qrV4BUBwq",
    "outputId": "50272eca-ef07-4fd6-e713-df5fadc2ddcc"
   },
   "outputs": [
    {
     "name": "stdout",
     "output_type": "stream",
     "text": [
      "[[2421, 0], [2421, 1], [2421, 2], [2421, 3], [2421, 4], [2421, 5], [2421, 6], [2421, 7], [2421, 8], [2421, 9], [2400, 22], [2368, 19], [2346, 47], [2315, 76], [2311, 29], [2291, 18], [2287, 115], [2264, 23], [2260, 28], [2260, 100], [2260, 127], [2258, 108], [2252, 57], [2231, 99], [2229, 40], [2222, 114], [2219, 13], [2218, 80], [2217, 35], [2216, 46], [2216, 54], [2213, 109], [2211, 52], [2210, 75], [2207, 51], [2207, 85], [2200, 81], [2198, 112], [2197, 73], [2195, 44], [2192, 15], [2189, 53], [2189, 104], [2188, 82], [2185, 79], [2183, 84], [2183, 137], [2181, 59], [2174, 66], [2173, 45], [2173, 55], [2171, 43], [2168, 120], [2167, 41], [2167, 125], [2166, 34], [2165, 62], [2165, 126], [2164, 103], [2161, 63], [2160, 21], [2159, 122], [2156, 116], [2155, 92], [2153, 32], [2153, 89], [2152, 113], [2149, 118], [2147, 72], [2147, 136], [2146, 25], [2146, 101], [2145, 65], [2143, 119], [2143, 130], [2140, 39], [2129, 12], [2128, 132], [2127, 14], [2125, 111], [2123, 48], [2122, 11], [2121, 93], [2118, 94], [2118, 105], [2118, 133], [2114, 110], [2113, 69], [2112, 121], [2110, 102], [2108, 106], [2107, 123], [2104, 67], [2100, 88], [2097, 37], [2096, 90], [2095, 107], [2094, 56], [2092, 83], [2091, 131], [2090, 95], [2085, 135], [2083, 33], [2079, 42], [2074, 96], [2071, 24], [2070, 61], [2069, 77], [2067, 17], [2066, 49], [2062, 87], [2061, 138], [2060, 50], [2059, 60], [2057, 16], [2056, 26], [2056, 98], [2056, 124], [2054, 86], [2051, 117], [2043, 129], [2035, 134], [2034, 27], [2033, 91], [2032, 97], [2030, 78], [2025, 10], [2024, 38], [2024, 58], [2009, 20], [2009, 30], [2007, 71], [2004, 74], [2003, 64], [1992, 68], [1992, 139], [1988, 31], [1976, 36], [1950, 70], [1933, 128]]\n",
      "The final chromosome is: \n",
      "michaeljackson\n",
      "Time: 276.6093211174011 seconds \n",
      "\n",
      "The decoded text is: \n",
      "\n",
      "albert einstein old grove rd  nassau point peconic  long island  august  nd        f d  roosevelt  president of the united states  white house washington  d c   sir   some recent work by e  fermi and l  szilard  which has been communicated to me in manuscript  leads me to expect that the element uranium may be turned into a new and important source of energy in the immediate future  certain aspects of the situation which has arisen seem to call for watchfulness and  if necessary  quick action on the part of the administration  i believe therefore that it is my duty to bring to your attention the following facts and recommendations   in the course of the last four months it has been made probable through the work of joliot in france as well as fermi and szilard in america that it may become possible to set up a nuclear chain reaction in a large mass of uranium by which vast amounts of power and large quantities of new radium like elements would be generated  now it appears almost certain that this could be achieved in the immediate future   this phenomenon would also lead to the construction of bombs  and it is conceivable though much less certain that extremely powerful bombs of a new type may thus be constructed  a single bomb of this type  carried by boat and exploded in a port  might very well destroy the whole port together with some of the surrounding territory  however  such bombs might very well prove to be too heavy for transportation by air   the united states has only very poor ores of uranium in moderate quantities  there is some good ore in canada and the former czechoslovakia  while the most important source of uranium is belgian congo   in view of this situation you may think it desirable to have some permanent contact maintained between the administration and the group of physicists working on chain reactions in america  one possible way of achieving this might be for you to entrust with this task a person who has your confidence and who could perhaps serve in an inofficial capacity  his task might comprise the following   a   to approach government departments  keep them informed of the further development  and put forward recommendations for government action  giving particular attention to the problem of securing a supply of uranium ore for the united states   b   to speed up the experimental work  which is at present being carried on within the limits of the budgets of university laboratories  by providing funds  if such funds be required  through his contacts with private persons who are willing to make contributions for this cause  and perhaps also by obtaining the co operation of industrial laboratories which have the necessary equipment   i understand that germany has actually stopped the sale of uranium from the czechoslovakian mines which she has taken over  that she should have taken such early action might perhaps be understood on the ground that the son of the german under secretary of state  von weizsacker  is attached to the kaiser wilhelm institut in berlin where some of the american work on uranium is now being repeated   yours very truly   albert einstein \n"
     ]
    }
   ],
   "source": [
    "encodedText = open('encoded_text.txt').read()\n",
    "globalText = open('global_text.txt').read()\n",
    "\n",
    "d = Decoder(globalText, encodedText, keyLength = CONSTANT)\n",
    "start = time.time()\n",
    "decodedText = d.decode()\n",
    "end = time.time()\n",
    "\n",
    "print(\"Time: %s seconds\" % (end - start) , \"\\n\")\n",
    "print(\"The decoded text is: \\n\")\n",
    "print(decodedText)"
   ]
  },
  {
   "cell_type": "markdown",
   "metadata": {
    "id": "iwuUFYXUyaqH"
   },
   "source": [
    "# Decrypted Text"
   ]
  },
  {
   "cell_type": "markdown",
   "metadata": {
    "id": "k4ctTGzqu99f"
   },
   "source": [
    "<p>\n",
    "albert einstein old grove rd  nassau point peconic  long island  august  nd        f d  roosevelt  president of the united states  white house washington  d c   sir   some recent work by e  fermi and l  szilard  which has been communicated to me in manuscript  leads me to expect that the element uranium may be turned into a new and important source of energy in the immediate future  certain aspects of the situation which has arisen seem to call for watchfulness and  if necessary  quick action on the part of the administration  i believe therefore that it is my duty to bring to your attention the following facts and recommendations   in the course of the last four months it has been made probable through the work of joliot in france as well as fermi and szilard in america that it may become possible to set up a nuclear chain reaction in a large mass of uranium by which vast amounts of power and large quantities of new radium like elements would be generated  now it appears almost certain that this could be achieved in the immediate future   this phenomenon would also lead to the construction of bombs  and it is conceivable though much less certain that extremely powerful bombs of a new type may thus be constructed  a single bomb of this type  carried by boat and exploded in a port  might very well destroy the whole port together with some of the surrounding territory  however  such bombs might very well prove to be too heavy for transportation by air   the united states has only very poor ores of uranium in moderate quantities  there is some good ore in canada and the former czechoslovakia  while the most important source of uranium is belgian congo   in view of this situation you may think it desirable to have some permanent contact maintained between the administration and the group of physicists working on chain reactions in america  one possible way of achieving this might be for you to entrust with this task a person who has your confidence and who could perhaps serve in an inofficial capacity  his task might comprise the following   a   to approach government departments  keep them informed of the further development  and put forward recommendations for government action  giving particular attention to the problem of securing a supply of uranium ore for the united states   b   to speed up the experimental work  which is at present being carried on within the limits of the budgets of university laboratories  by providing funds  if such funds be required  through his contacts with private persons who are willing to make contributions for this cause  and perhaps also by obtaining the co operation of industrial laboratories which have the necessary equipment   i understand that germany has actually stopped the sale of uranium from the czechoslovakian mines which she has taken over  that she should have taken such early action might perhaps be understood on the ground that the son of the german under secretary of state  von weizsacker  is attached to the kaiser wilhelm institut in berlin where some of the american work on uranium is now being repeated   yours very truly   albert einstein \n",
    "\n",
    "</p>"
   ]
  },
  {
   "cell_type": "code",
   "execution_count": 102,
   "metadata": {
    "colab": {
     "base_uri": "https://localhost:8080/",
     "height": 409
    },
    "id": "7nC-ZBYnudqm",
    "outputId": "eb660002-6f94-48cd-adaf-586a021e52b0"
   },
   "outputs": [
    {
     "data": {
      "application/vnd.google.colaboratory.intrinsic+json": {
       "type": "string"
      },
      "text/plain": [
       "'albert einstein old grove rd  nassau point peconic  long island  august  nd        f d  roosevelt  president of the united states  white house washington  d c   sir   some recent work by e  fermi and l  szilard  which has been communicated to me in manuscript  leads me to expect that the element uranium may be turned into a new and important source of energy in the immediate future  certain aspects of the situation which has arisen seem to call for watchfulness and  if necessary  quick action on the part of the administration  i believe therefore that it is my duty to bring to your attention the following facts and recommendations   in the course of the last four months it has been made probable through the work of joliot in france as well as fermi and szilard in america that it may become possible to set up a nuclear chain reaction in a large mass of uranium by which vast amounts of power and large quantities of new radium like elements would be generated  now it appears almost certain that this could be achieved in the immediate future   this phenomenon would also lead to the construction of bombs  and it is conceivable though much less certain that extremely powerful bombs of a new type may thus be constructed  a single bomb of this type  carried by boat and exploded in a port  might very well destroy the whole port together with some of the surrounding territory  however  such bombs might very well prove to be too heavy for transportation by air   the united states has only very poor ores of uranium in moderate quantities  there is some good ore in canada and the former czechoslovakia  while the most important source of uranium is belgian congo   in view of this situation you may think it desirable to have some permanent contact maintained between the administration and the group of physicists working on chain reactions in america  one possible way of achieving this might be for you to entrust with this task a person who has your confidence and who could perhaps serve in an inofficial capacity  his task might comprise the following   a   to approach government departments  keep them informed of the further development  and put forward recommendations for government action  giving particular attention to the problem of securing a supply of uranium ore for the united states   b   to speed up the experimental work  which is at present being carried on within the limits of the budgets of university laboratories  by providing funds  if such funds be required  through his contacts with private persons who are willing to make contributions for this cause  and perhaps also by obtaining the co operation of industrial laboratories which have the necessary equipment   i understand that germany has actually stopped the sale of uranium from the czechoslovakian mines which she has taken over  that she should have taken such early action might perhaps be understood on the ground that the son of the german under secretary of state  von weizsacker  is attached to the kaiser wilhelm institut in berlin where some of the american work on uranium is now being repeated   yours very truly   albert einstein '"
      ]
     },
     "execution_count": 102,
     "metadata": {},
     "output_type": "execute_result"
    }
   ],
   "source": [
    "decrypt(d.encodedText,'alberteinstein')"
   ]
  },
  {
   "cell_type": "markdown",
   "metadata": {
    "id": "NTo5mc-B6EZv"
   },
   "source": [
    "# Part 6\n",
    "\n",
    "### 1. Too small or too large primitive population\n",
    "\n",
    "\n",
    "\n",
    "\n",
    "*   If the population size is set **too high** the population will have too much bad genetic material to provide a good fitness.\n",
    "*   If the primitive population size is **set too low** the genetic algorithm will have too few possible ways to alter new individuals so the fitness will be low.\n",
    "\n",
    "\n",
    "\n",
    "\n",
    "\n",
    "[Source](https://www.diva-portal.org/smash/get/diva2:832349/FULLTEXT01.pdf)\n",
    "\n",
    "### 2. What if we increase the population size in each round?\n",
    "This population increase doesn't help our algorithm because the number of generations is very big, and it makes the population very large and makes the processing time a lot.\n",
    "\n",
    "### 3. Why genetic algorithms use crossover and mutation together?What happens when you don't use one of them?\n",
    "\n",
    "**Crossover** leads to making a **new generation**. It makes completely **new solutions** and leads to **significant improvement** in the **fitness scores**. But, using just crossover may lead to **stuck** in some situations. So, mutation helps to change the current answer a little to make a possibly better generation.\n",
    "\n",
    "### 4. Why genetic algorithms use crossover and mutation together?What happens when you don't use one of them?\n",
    "\n",
    "**Crossover** leads to making a **new generation**. It makes completely **new solutions** and leads to **significant improvement** in the **fitness scores**. But, using just crossover may lead to **stuck** in some situations. So, mutation helps to change the current answer a little to make a possibly better generation.\n",
    "\n",
    "If we use just crossover in the genetic algorithm, its very potential to stuck in the local extremum for a long time. So, the mutation is an important part of the genetic algorithm.\n",
    "\n",
    "### 5. What should we do if the population didn't change after some generations?\n",
    "\n",
    "We could increase ELITISM_RATE or CROSSOVER_RATE values.\n",
    "\n",
    "### 6. If we had to choose one of between crossover and mutation, which one is more effective? why?\n",
    "\n",
    "Crossover. Because crossover leads to making a new generation. It makes completely new solutions and leads to significant improvement in the fitness scores.\n",
    "\n",
    "### 7. If we had to choose one of between crossover and mutation, which one is more effective? why?\n",
    "\n",
    "Crossover. Because crossover leads to making a new generation. It makes completely new solutions and leads to significant improvement in the fitness scores.\n",
    "\n",
    "### 8. How to speedup\n",
    "* We can reduce MAX_GENERATIONS.\n",
    "* Decrease population size."
   ]
  }
 ],
 "metadata": {
  "colab": {
   "collapsed_sections": [
    "D6ayPTJd0i7v"
   ],
   "name": "FinalSolution.ipynb",
   "provenance": []
  },
  "interpreter": {
   "hash": "5637242735df105300a10f363d5c0d18b4b77d7105ef62addc8c3980e22cd89c"
  },
  "kernelspec": {
   "display_name": "Python 3 (ipykernel)",
   "language": "python",
   "name": "python3"
  },
  "language_info": {
   "codemirror_mode": {
    "name": "ipython",
    "version": 3
   },
   "file_extension": ".py",
   "mimetype": "text/x-python",
   "name": "python",
   "nbconvert_exporter": "python",
   "pygments_lexer": "ipython3",
   "version": "3.9.7"
  }
 },
 "nbformat": 4,
 "nbformat_minor": 1
}
