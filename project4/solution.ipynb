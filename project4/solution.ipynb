{
 "cells": [
  {
   "cell_type": "markdown",
   "metadata": {},
   "source": [
    "# Computer Assignment 4\n",
    "\n",
    "Danial Saeedi(810198571)"
   ]
  },
  {
   "cell_type": "markdown",
   "metadata": {},
   "source": [
    "# Importing Dependencies"
   ]
  },
  {
   "cell_type": "code",
   "execution_count": 134,
   "metadata": {},
   "outputs": [],
   "source": [
    "import numpy as np\n",
    "import pandas as pd\n",
    "import seaborn as sns\n",
    "import matplotlib.pyplot as plt\n",
    "from sklearn.impute import KNNImputer\n",
    "from pandas.api.types import is_numeric_dtype\n",
    "from sklearn.model_selection import train_test_split\n",
    "from sklearn.neighbors import KNeighborsRegressor\n",
    "from sklearn.tree import DecisionTreeRegressor  \n",
    "from sklearn.linear_model import LinearRegression\n",
    "from sklearn.metrics import mean_absolute_error\n",
    "from sklearn.metrics import mean_squared_error\n",
    "from sklearn.metrics import make_scorer\n",
    "from sklearn.model_selection import GridSearchCV\n",
    "from sklearn.ensemble import VotingRegressor\n",
    "from sklearn.ensemble import RandomForestRegressor\n",
    "from sklearn import tree\n",
    "from sklearn.metrics import f1_score\n",
    "from sklearn.metrics import precision_score\n",
    "from sklearn.metrics import recall_score\n",
    "from sklearn.ensemble import RandomForestClassifier\n",
    "from sklearn.metrics import confusion_matrix"
   ]
  },
  {
   "cell_type": "code",
   "execution_count": 2,
   "metadata": {},
   "outputs": [
    {
     "data": {
      "text/html": [
       "<div>\n",
       "<style scoped>\n",
       "    .dataframe tbody tr th:only-of-type {\n",
       "        vertical-align: middle;\n",
       "    }\n",
       "\n",
       "    .dataframe tbody tr th {\n",
       "        vertical-align: top;\n",
       "    }\n",
       "\n",
       "    .dataframe thead th {\n",
       "        text-align: right;\n",
       "    }\n",
       "</style>\n",
       "<table border=\"1\" class=\"dataframe\">\n",
       "  <thead>\n",
       "    <tr style=\"text-align: right;\">\n",
       "      <th></th>\n",
       "      <th>artist_name</th>\n",
       "      <th>track_name</th>\n",
       "      <th>popularity</th>\n",
       "      <th>acousticness</th>\n",
       "      <th>danceability</th>\n",
       "      <th>duration_ms</th>\n",
       "      <th>energy</th>\n",
       "      <th>instrumentalness</th>\n",
       "      <th>key</th>\n",
       "      <th>liveness</th>\n",
       "      <th>loudness</th>\n",
       "      <th>mode</th>\n",
       "      <th>speechiness</th>\n",
       "      <th>tempo</th>\n",
       "      <th>valence</th>\n",
       "      <th>music_genre</th>\n",
       "    </tr>\n",
       "  </thead>\n",
       "  <tbody>\n",
       "    <tr>\n",
       "      <th>0</th>\n",
       "      <td>Blockhead</td>\n",
       "      <td>Cheer up, You're Not Dead Yet</td>\n",
       "      <td>44.0</td>\n",
       "      <td>0.00621</td>\n",
       "      <td>0.711</td>\n",
       "      <td>285987.0</td>\n",
       "      <td>0.6210</td>\n",
       "      <td>0.029700</td>\n",
       "      <td>G</td>\n",
       "      <td>0.1590</td>\n",
       "      <td>-7.429</td>\n",
       "      <td>Major</td>\n",
       "      <td>0.0382</td>\n",
       "      <td>142.065</td>\n",
       "      <td>0.6070</td>\n",
       "      <td>Jazz</td>\n",
       "    </tr>\n",
       "    <tr>\n",
       "      <th>1</th>\n",
       "      <td>FloFilz</td>\n",
       "      <td>Corners</td>\n",
       "      <td>34.0</td>\n",
       "      <td>0.34700</td>\n",
       "      <td>0.729</td>\n",
       "      <td>103703.0</td>\n",
       "      <td>0.5150</td>\n",
       "      <td>0.006920</td>\n",
       "      <td>C</td>\n",
       "      <td>0.1270</td>\n",
       "      <td>-10.147</td>\n",
       "      <td>Major</td>\n",
       "      <td>0.1840</td>\n",
       "      <td>79.969</td>\n",
       "      <td>0.2870</td>\n",
       "      <td>Jazz</td>\n",
       "    </tr>\n",
       "    <tr>\n",
       "      <th>2</th>\n",
       "      <td>Bonobo</td>\n",
       "      <td>We Could Forever</td>\n",
       "      <td>51.0</td>\n",
       "      <td>0.01810</td>\n",
       "      <td>0.669</td>\n",
       "      <td>NaN</td>\n",
       "      <td>0.8850</td>\n",
       "      <td>0.880000</td>\n",
       "      <td>G</td>\n",
       "      <td>0.2650</td>\n",
       "      <td>-7.080</td>\n",
       "      <td>Minor</td>\n",
       "      <td>0.0378</td>\n",
       "      <td>NaN</td>\n",
       "      <td>0.6360</td>\n",
       "      <td>Jazz</td>\n",
       "    </tr>\n",
       "    <tr>\n",
       "      <th>3</th>\n",
       "      <td>Nils Landgren</td>\n",
       "      <td>A Child Is Born</td>\n",
       "      <td>39.0</td>\n",
       "      <td>0.91800</td>\n",
       "      <td>0.484</td>\n",
       "      <td>228733.0</td>\n",
       "      <td>0.0693</td>\n",
       "      <td>0.000069</td>\n",
       "      <td>F</td>\n",
       "      <td>0.1390</td>\n",
       "      <td>-15.542</td>\n",
       "      <td>Major</td>\n",
       "      <td>0.0346</td>\n",
       "      <td>82.707</td>\n",
       "      <td>0.2060</td>\n",
       "      <td>Jazz</td>\n",
       "    </tr>\n",
       "    <tr>\n",
       "      <th>4</th>\n",
       "      <td>Masayoshi Takanaka</td>\n",
       "      <td>Samba Pati</td>\n",
       "      <td>36.0</td>\n",
       "      <td>0.03450</td>\n",
       "      <td>0.473</td>\n",
       "      <td>342867.0</td>\n",
       "      <td>0.8230</td>\n",
       "      <td>0.446000</td>\n",
       "      <td>G</td>\n",
       "      <td>0.3060</td>\n",
       "      <td>-6.625</td>\n",
       "      <td>Major</td>\n",
       "      <td>0.0630</td>\n",
       "      <td>104.694</td>\n",
       "      <td>0.3830</td>\n",
       "      <td>Jazz</td>\n",
       "    </tr>\n",
       "    <tr>\n",
       "      <th>...</th>\n",
       "      <td>...</td>\n",
       "      <td>...</td>\n",
       "      <td>...</td>\n",
       "      <td>...</td>\n",
       "      <td>...</td>\n",
       "      <td>...</td>\n",
       "      <td>...</td>\n",
       "      <td>...</td>\n",
       "      <td>...</td>\n",
       "      <td>...</td>\n",
       "      <td>...</td>\n",
       "      <td>...</td>\n",
       "      <td>...</td>\n",
       "      <td>...</td>\n",
       "      <td>...</td>\n",
       "      <td>...</td>\n",
       "    </tr>\n",
       "    <tr>\n",
       "      <th>29995</th>\n",
       "      <td>Wolfgang Amadeus Mozart</td>\n",
       "      <td>Die Zauberflöte, K. 620: Wie stark ist nicht d...</td>\n",
       "      <td>22.0</td>\n",
       "      <td>0.91100</td>\n",
       "      <td>0.326</td>\n",
       "      <td>368640.0</td>\n",
       "      <td>0.1330</td>\n",
       "      <td>0.000000</td>\n",
       "      <td>G</td>\n",
       "      <td>0.1300</td>\n",
       "      <td>-20.493</td>\n",
       "      <td>Major</td>\n",
       "      <td>0.0557</td>\n",
       "      <td>92.090</td>\n",
       "      <td>0.2060</td>\n",
       "      <td>Classical</td>\n",
       "    </tr>\n",
       "    <tr>\n",
       "      <th>29996</th>\n",
       "      <td>New York Philharmonic</td>\n",
       "      <td>Symphony No. 2 in D Major, Op. 73: II. Adagio ...</td>\n",
       "      <td>26.0</td>\n",
       "      <td>0.96500</td>\n",
       "      <td>0.126</td>\n",
       "      <td>514213.0</td>\n",
       "      <td>0.2040</td>\n",
       "      <td>0.869000</td>\n",
       "      <td>B</td>\n",
       "      <td>0.1060</td>\n",
       "      <td>-16.474</td>\n",
       "      <td>Major</td>\n",
       "      <td>0.0395</td>\n",
       "      <td>82.437</td>\n",
       "      <td>0.0387</td>\n",
       "      <td>Classical</td>\n",
       "    </tr>\n",
       "    <tr>\n",
       "      <th>29997</th>\n",
       "      <td>Georges Bizet</td>\n",
       "      <td>Bizet: Carmen, WD 31, Act 1 Scene 4: No. 5, Ha...</td>\n",
       "      <td>54.0</td>\n",
       "      <td>0.97600</td>\n",
       "      <td>0.363</td>\n",
       "      <td>262147.0</td>\n",
       "      <td>0.1150</td>\n",
       "      <td>0.000000</td>\n",
       "      <td>D</td>\n",
       "      <td>0.0992</td>\n",
       "      <td>-17.325</td>\n",
       "      <td>Major</td>\n",
       "      <td>0.0689</td>\n",
       "      <td>NaN</td>\n",
       "      <td>0.2310</td>\n",
       "      <td>Classical</td>\n",
       "    </tr>\n",
       "    <tr>\n",
       "      <th>29998</th>\n",
       "      <td>Edvard Grieg</td>\n",
       "      <td>Peer Gynt-Suite Nr. 1, Op. 46: I. Morning</td>\n",
       "      <td>42.0</td>\n",
       "      <td>0.98500</td>\n",
       "      <td>0.123</td>\n",
       "      <td>259573.0</td>\n",
       "      <td>0.0174</td>\n",
       "      <td>0.906000</td>\n",
       "      <td>E</td>\n",
       "      <td>0.1250</td>\n",
       "      <td>-23.671</td>\n",
       "      <td>Major</td>\n",
       "      <td>0.0408</td>\n",
       "      <td>71.705</td>\n",
       "      <td>0.0352</td>\n",
       "      <td>Classical</td>\n",
       "    </tr>\n",
       "    <tr>\n",
       "      <th>29999</th>\n",
       "      <td>Johann Sebastian Bach</td>\n",
       "      <td>Suite No. 2 in B Minor, BWV 1067: VI. Menuet</td>\n",
       "      <td>36.0</td>\n",
       "      <td>0.77200</td>\n",
       "      <td>0.486</td>\n",
       "      <td>74600.0</td>\n",
       "      <td>0.1570</td>\n",
       "      <td>0.906000</td>\n",
       "      <td>G#</td>\n",
       "      <td>0.1470</td>\n",
       "      <td>-19.078</td>\n",
       "      <td>Minor</td>\n",
       "      <td>0.0375</td>\n",
       "      <td>124.737</td>\n",
       "      <td>0.6190</td>\n",
       "      <td>Classical</td>\n",
       "    </tr>\n",
       "  </tbody>\n",
       "</table>\n",
       "<p>30000 rows × 16 columns</p>\n",
       "</div>"
      ],
      "text/plain": [
       "                   artist_name  \\\n",
       "0                    Blockhead   \n",
       "1                      FloFilz   \n",
       "2                       Bonobo   \n",
       "3                Nils Landgren   \n",
       "4           Masayoshi Takanaka   \n",
       "...                        ...   \n",
       "29995  Wolfgang Amadeus Mozart   \n",
       "29996    New York Philharmonic   \n",
       "29997            Georges Bizet   \n",
       "29998             Edvard Grieg   \n",
       "29999    Johann Sebastian Bach   \n",
       "\n",
       "                                              track_name  popularity  \\\n",
       "0                          Cheer up, You're Not Dead Yet        44.0   \n",
       "1                                                Corners        34.0   \n",
       "2                                       We Could Forever        51.0   \n",
       "3                                        A Child Is Born        39.0   \n",
       "4                                             Samba Pati        36.0   \n",
       "...                                                  ...         ...   \n",
       "29995  Die Zauberflöte, K. 620: Wie stark ist nicht d...        22.0   \n",
       "29996  Symphony No. 2 in D Major, Op. 73: II. Adagio ...        26.0   \n",
       "29997  Bizet: Carmen, WD 31, Act 1 Scene 4: No. 5, Ha...        54.0   \n",
       "29998          Peer Gynt-Suite Nr. 1, Op. 46: I. Morning        42.0   \n",
       "29999       Suite No. 2 in B Minor, BWV 1067: VI. Menuet        36.0   \n",
       "\n",
       "       acousticness  danceability  duration_ms  energy  instrumentalness key  \\\n",
       "0           0.00621         0.711     285987.0  0.6210          0.029700   G   \n",
       "1           0.34700         0.729     103703.0  0.5150          0.006920   C   \n",
       "2           0.01810         0.669          NaN  0.8850          0.880000   G   \n",
       "3           0.91800         0.484     228733.0  0.0693          0.000069   F   \n",
       "4           0.03450         0.473     342867.0  0.8230          0.446000   G   \n",
       "...             ...           ...          ...     ...               ...  ..   \n",
       "29995       0.91100         0.326     368640.0  0.1330          0.000000   G   \n",
       "29996       0.96500         0.126     514213.0  0.2040          0.869000   B   \n",
       "29997       0.97600         0.363     262147.0  0.1150          0.000000   D   \n",
       "29998       0.98500         0.123     259573.0  0.0174          0.906000   E   \n",
       "29999       0.77200         0.486      74600.0  0.1570          0.906000  G#   \n",
       "\n",
       "       liveness  loudness   mode  speechiness    tempo  valence music_genre  \n",
       "0        0.1590    -7.429  Major       0.0382  142.065   0.6070        Jazz  \n",
       "1        0.1270   -10.147  Major       0.1840   79.969   0.2870        Jazz  \n",
       "2        0.2650    -7.080  Minor       0.0378      NaN   0.6360        Jazz  \n",
       "3        0.1390   -15.542  Major       0.0346   82.707   0.2060        Jazz  \n",
       "4        0.3060    -6.625  Major       0.0630  104.694   0.3830        Jazz  \n",
       "...         ...       ...    ...          ...      ...      ...         ...  \n",
       "29995    0.1300   -20.493  Major       0.0557   92.090   0.2060   Classical  \n",
       "29996    0.1060   -16.474  Major       0.0395   82.437   0.0387   Classical  \n",
       "29997    0.0992   -17.325  Major       0.0689      NaN   0.2310   Classical  \n",
       "29998    0.1250   -23.671  Major       0.0408   71.705   0.0352   Classical  \n",
       "29999    0.1470   -19.078  Minor       0.0375  124.737   0.6190   Classical  \n",
       "\n",
       "[30000 rows x 16 columns]"
      ]
     },
     "execution_count": 2,
     "metadata": {},
     "output_type": "execute_result"
    }
   ],
   "source": [
    "df = pd.read_csv('dataset.csv');\n",
    "df"
   ]
  },
  {
   "cell_type": "markdown",
   "metadata": {},
   "source": [
    "# Exploratory Data Analysis & Visualization"
   ]
  },
  {
   "cell_type": "markdown",
   "metadata": {},
   "source": [
    "## Part 1\n",
    "\n",
    "Pandas **describe** is used to view some basic statistical details like percentile, mean, std etc. of a data frame or a series of numeric values."
   ]
  },
  {
   "cell_type": "code",
   "execution_count": 3,
   "metadata": {},
   "outputs": [
    {
     "data": {
      "text/html": [
       "<div>\n",
       "<style scoped>\n",
       "    .dataframe tbody tr th:only-of-type {\n",
       "        vertical-align: middle;\n",
       "    }\n",
       "\n",
       "    .dataframe tbody tr th {\n",
       "        vertical-align: top;\n",
       "    }\n",
       "\n",
       "    .dataframe thead th {\n",
       "        text-align: right;\n",
       "    }\n",
       "</style>\n",
       "<table border=\"1\" class=\"dataframe\">\n",
       "  <thead>\n",
       "    <tr style=\"text-align: right;\">\n",
       "      <th></th>\n",
       "      <th>popularity</th>\n",
       "      <th>acousticness</th>\n",
       "      <th>danceability</th>\n",
       "      <th>duration_ms</th>\n",
       "      <th>energy</th>\n",
       "      <th>instrumentalness</th>\n",
       "      <th>liveness</th>\n",
       "      <th>loudness</th>\n",
       "      <th>speechiness</th>\n",
       "      <th>tempo</th>\n",
       "      <th>valence</th>\n",
       "    </tr>\n",
       "  </thead>\n",
       "  <tbody>\n",
       "    <tr>\n",
       "      <th>count</th>\n",
       "      <td>30000.000000</td>\n",
       "      <td>30000.000000</td>\n",
       "      <td>30000.000000</td>\n",
       "      <td>2.699000e+04</td>\n",
       "      <td>30000.000000</td>\n",
       "      <td>30000.000000</td>\n",
       "      <td>30000.000000</td>\n",
       "      <td>30000.000000</td>\n",
       "      <td>30000.000000</td>\n",
       "      <td>27067.000000</td>\n",
       "      <td>30000.000000</td>\n",
       "    </tr>\n",
       "    <tr>\n",
       "      <th>mean</th>\n",
       "      <td>47.769533</td>\n",
       "      <td>0.359661</td>\n",
       "      <td>0.540929</td>\n",
       "      <td>2.466460e+05</td>\n",
       "      <td>0.556709</td>\n",
       "      <td>0.180807</td>\n",
       "      <td>0.183610</td>\n",
       "      <td>-10.079862</td>\n",
       "      <td>0.083861</td>\n",
       "      <td>117.559824</td>\n",
       "      <td>0.446563</td>\n",
       "    </tr>\n",
       "    <tr>\n",
       "      <th>std</th>\n",
       "      <td>14.512665</td>\n",
       "      <td>0.364182</td>\n",
       "      <td>0.181719</td>\n",
       "      <td>1.126005e+05</td>\n",
       "      <td>0.277856</td>\n",
       "      <td>0.329365</td>\n",
       "      <td>0.150733</td>\n",
       "      <td>6.953936</td>\n",
       "      <td>0.093366</td>\n",
       "      <td>30.719934</td>\n",
       "      <td>0.248745</td>\n",
       "    </tr>\n",
       "    <tr>\n",
       "      <th>min</th>\n",
       "      <td>0.000000</td>\n",
       "      <td>0.000001</td>\n",
       "      <td>0.059600</td>\n",
       "      <td>1.550900e+04</td>\n",
       "      <td>0.000792</td>\n",
       "      <td>0.000000</td>\n",
       "      <td>0.015700</td>\n",
       "      <td>-47.046000</td>\n",
       "      <td>0.022300</td>\n",
       "      <td>34.347000</td>\n",
       "      <td>0.000000</td>\n",
       "    </tr>\n",
       "    <tr>\n",
       "      <th>25%</th>\n",
       "      <td>39.000000</td>\n",
       "      <td>0.029600</td>\n",
       "      <td>0.423000</td>\n",
       "      <td>1.904930e+05</td>\n",
       "      <td>0.361000</td>\n",
       "      <td>0.000000</td>\n",
       "      <td>0.095800</td>\n",
       "      <td>-12.057250</td>\n",
       "      <td>0.035000</td>\n",
       "      <td>92.340000</td>\n",
       "      <td>0.243000</td>\n",
       "    </tr>\n",
       "    <tr>\n",
       "      <th>50%</th>\n",
       "      <td>49.000000</td>\n",
       "      <td>0.205000</td>\n",
       "      <td>0.553000</td>\n",
       "      <td>2.245600e+05</td>\n",
       "      <td>0.602000</td>\n",
       "      <td>0.000089</td>\n",
       "      <td>0.122000</td>\n",
       "      <td>-7.623000</td>\n",
       "      <td>0.045100</td>\n",
       "      <td>115.491000</td>\n",
       "      <td>0.435000</td>\n",
       "    </tr>\n",
       "    <tr>\n",
       "      <th>75%</th>\n",
       "      <td>57.000000</td>\n",
       "      <td>0.710000</td>\n",
       "      <td>0.671000</td>\n",
       "      <td>2.726670e+05</td>\n",
       "      <td>0.786000</td>\n",
       "      <td>0.125250</td>\n",
       "      <td>0.222000</td>\n",
       "      <td>-5.429750</td>\n",
       "      <td>0.080300</td>\n",
       "      <td>139.817500</td>\n",
       "      <td>0.639000</td>\n",
       "    </tr>\n",
       "    <tr>\n",
       "      <th>max</th>\n",
       "      <td>99.000000</td>\n",
       "      <td>0.996000</td>\n",
       "      <td>0.977000</td>\n",
       "      <td>3.195440e+06</td>\n",
       "      <td>0.998000</td>\n",
       "      <td>0.994000</td>\n",
       "      <td>0.996000</td>\n",
       "      <td>1.342000</td>\n",
       "      <td>0.941000</td>\n",
       "      <td>219.331000</td>\n",
       "      <td>0.985000</td>\n",
       "    </tr>\n",
       "  </tbody>\n",
       "</table>\n",
       "</div>"
      ],
      "text/plain": [
       "         popularity  acousticness  danceability   duration_ms        energy  \\\n",
       "count  30000.000000  30000.000000  30000.000000  2.699000e+04  30000.000000   \n",
       "mean      47.769533      0.359661      0.540929  2.466460e+05      0.556709   \n",
       "std       14.512665      0.364182      0.181719  1.126005e+05      0.277856   \n",
       "min        0.000000      0.000001      0.059600  1.550900e+04      0.000792   \n",
       "25%       39.000000      0.029600      0.423000  1.904930e+05      0.361000   \n",
       "50%       49.000000      0.205000      0.553000  2.245600e+05      0.602000   \n",
       "75%       57.000000      0.710000      0.671000  2.726670e+05      0.786000   \n",
       "max       99.000000      0.996000      0.977000  3.195440e+06      0.998000   \n",
       "\n",
       "       instrumentalness      liveness      loudness   speechiness  \\\n",
       "count      30000.000000  30000.000000  30000.000000  30000.000000   \n",
       "mean           0.180807      0.183610    -10.079862      0.083861   \n",
       "std            0.329365      0.150733      6.953936      0.093366   \n",
       "min            0.000000      0.015700    -47.046000      0.022300   \n",
       "25%            0.000000      0.095800    -12.057250      0.035000   \n",
       "50%            0.000089      0.122000     -7.623000      0.045100   \n",
       "75%            0.125250      0.222000     -5.429750      0.080300   \n",
       "max            0.994000      0.996000      1.342000      0.941000   \n",
       "\n",
       "              tempo       valence  \n",
       "count  27067.000000  30000.000000  \n",
       "mean     117.559824      0.446563  \n",
       "std       30.719934      0.248745  \n",
       "min       34.347000      0.000000  \n",
       "25%       92.340000      0.243000  \n",
       "50%      115.491000      0.435000  \n",
       "75%      139.817500      0.639000  \n",
       "max      219.331000      0.985000  "
      ]
     },
     "execution_count": 3,
     "metadata": {},
     "output_type": "execute_result"
    }
   ],
   "source": [
    "df.describe()"
   ]
  },
  {
   "cell_type": "markdown",
   "metadata": {},
   "source": [
    "Pandas **info()** function is used to get a concise summary of the dataframe. It comes really handy when doing exploratory analysis of the data. To get a quick overview of the dataset we use the dataframe.info() function.\n",
    "\n"
   ]
  },
  {
   "cell_type": "code",
   "execution_count": 4,
   "metadata": {},
   "outputs": [
    {
     "name": "stdout",
     "output_type": "stream",
     "text": [
      "<class 'pandas.core.frame.DataFrame'>\n",
      "RangeIndex: 30000 entries, 0 to 29999\n",
      "Data columns (total 16 columns):\n",
      " #   Column            Non-Null Count  Dtype  \n",
      "---  ------            --------------  -----  \n",
      " 0   artist_name       28506 non-null  object \n",
      " 1   track_name        30000 non-null  object \n",
      " 2   popularity        30000 non-null  float64\n",
      " 3   acousticness      30000 non-null  float64\n",
      " 4   danceability      30000 non-null  float64\n",
      " 5   duration_ms       26990 non-null  float64\n",
      " 6   energy            30000 non-null  float64\n",
      " 7   instrumentalness  30000 non-null  float64\n",
      " 8   key               30000 non-null  object \n",
      " 9   liveness          30000 non-null  float64\n",
      " 10  loudness          30000 non-null  float64\n",
      " 11  mode              30000 non-null  object \n",
      " 12  speechiness       30000 non-null  float64\n",
      " 13  tempo             27067 non-null  float64\n",
      " 14  valence           30000 non-null  float64\n",
      " 15  music_genre       30000 non-null  object \n",
      "dtypes: float64(11), object(5)\n",
      "memory usage: 3.7+ MB\n"
     ]
    }
   ],
   "source": [
    "df.info()"
   ]
  },
  {
   "cell_type": "markdown",
   "metadata": {},
   "source": [
    "There are 30000 records in this dataset. The average popularity of all songs is 47%. The average duration of songs is approximately 246 seconds. Also based on info function, there are some null values in artist_name, duration_ms, and tempo."
   ]
  },
  {
   "cell_type": "markdown",
   "metadata": {},
   "source": [
    "## Part 2\n",
    "In this part the combination of two Pandas methods (isnull and sum) is used in oreder to count number of missing values at each column.\n",
    "\n"
   ]
  },
  {
   "cell_type": "code",
   "execution_count": 5,
   "metadata": {},
   "outputs": [],
   "source": [
    "# Got this code from a stackoverflow question\n",
    "def printMissingPercentage(data):\n",
    "    missing_values = data.isnull().sum() * 100 / len(data)\n",
    "    missing_values = pd.DataFrame({'Property': data.columns,\n",
    "                                 'NA values percentage': missing_values})\n",
    "    missing_values.sort_values('NA values percentage', inplace=True, ascending=False)\n",
    "    missing_values.reset_index(inplace=True, drop=True)\n",
    "    print(missing_values)"
   ]
  },
  {
   "cell_type": "code",
   "execution_count": 6,
   "metadata": {},
   "outputs": [
    {
     "name": "stdout",
     "output_type": "stream",
     "text": [
      "            Property  NA values percentage\n",
      "0        duration_ms             10.033333\n",
      "1              tempo              9.776667\n",
      "2        artist_name              4.980000\n",
      "3         track_name              0.000000\n",
      "4         popularity              0.000000\n",
      "5       acousticness              0.000000\n",
      "6       danceability              0.000000\n",
      "7             energy              0.000000\n",
      "8   instrumentalness              0.000000\n",
      "9                key              0.000000\n",
      "10          liveness              0.000000\n",
      "11          loudness              0.000000\n",
      "12              mode              0.000000\n",
      "13       speechiness              0.000000\n",
      "14           valence              0.000000\n",
      "15       music_genre              0.000000\n"
     ]
    }
   ],
   "source": [
    "printMissingPercentage(df)"
   ]
  },
  {
   "cell_type": "markdown",
   "metadata": {},
   "source": [
    "## Part 3\n",
    "\n",
    "According to the distribution plot of numerical feature, the distribution is **normal**."
   ]
  },
  {
   "cell_type": "markdown",
   "metadata": {},
   "source": [
    "### Tempo"
   ]
  },
  {
   "cell_type": "code",
   "execution_count": 7,
   "metadata": {},
   "outputs": [
    {
     "data": {
      "image/png": "[encoded data removed]",
      "text/plain": [
       "<Figure size 432x288 with 1 Axes>"
      ]
     },
     "metadata": {
      "needs_background": "light"
     },
     "output_type": "display_data"
    }
   ],
   "source": [
    "plt.hist(df.tempo, \n",
    "         range=(df.tempo.min(),\n",
    "                df.tempo.max()+1), \n",
    "         bins=25, \n",
    "         alpha=0.5) \n",
    "# set title and labels\n",
    "plt.xlabel(\"tempo\") \n",
    "plt.ylabel(\"Count\") \n",
    "plt.title(\"Histogram of tempo\") \n",
    "plt.show()"
   ]
  },
  {
   "cell_type": "markdown",
   "metadata": {},
   "source": [
    "### Popularity"
   ]
  },
  {
   "cell_type": "code",
   "execution_count": 8,
   "metadata": {},
   "outputs": [
    {
     "data": {
      "image/png": "[encoded data removed]",
      "text/plain": [
       "<Figure size 432x288 with 1 Axes>"
      ]
     },
     "metadata": {
      "needs_background": "light"
     },
     "output_type": "display_data"
    }
   ],
   "source": [
    "plt.hist(df.popularity, \n",
    "         range=(df.popularity.min(),\n",
    "                df.popularity.max()+1), \n",
    "         bins=25, \n",
    "         alpha=0.5) \n",
    "# set title and labels\n",
    "plt.xlabel(\"Popularity\") \n",
    "plt.ylabel(\"Count\") \n",
    "plt.title(\"Histogram of popularity\") \n",
    "plt.show()"
   ]
  },
  {
   "cell_type": "markdown",
   "metadata": {},
   "source": [
    "### Acousticness"
   ]
  },
  {
   "cell_type": "code",
   "execution_count": 9,
   "metadata": {},
   "outputs": [
    {
     "data": {
      "image/png": "[encoded data removed]",
      "text/plain": [
       "<Figure size 432x288 with 1 Axes>"
      ]
     },
     "metadata": {
      "needs_background": "light"
     },
     "output_type": "display_data"
    }
   ],
   "source": [
    "plt.hist(df.acousticness, \n",
    "         range=(df.acousticness.min(),\n",
    "                df.acousticness.max()+1), \n",
    "         bins=25, \n",
    "         alpha=0.5) \n",
    "# set title and labels\n",
    "plt.xlabel(\"Acousticness\") \n",
    "plt.ylabel(\"Count\") \n",
    "plt.title(\"Histogram of Acousticness\") \n",
    "plt.show()"
   ]
  },
  {
   "cell_type": "markdown",
   "metadata": {},
   "source": [
    "### Danceability"
   ]
  },
  {
   "cell_type": "code",
   "execution_count": 10,
   "metadata": {},
   "outputs": [
    {
     "data": {
      "image/png": "[encoded data removed]",
      "text/plain": [
       "<Figure size 432x288 with 1 Axes>"
      ]
     },
     "metadata": {
      "needs_background": "light"
     },
     "output_type": "display_data"
    }
   ],
   "source": [
    "plt.hist(df.danceability, \n",
    "         range=(df.danceability.min(),\n",
    "                df.danceability.max()+1), \n",
    "         bins=25, \n",
    "         alpha=0.5) \n",
    "# set title and labels\n",
    "plt.xlabel(\"Danceability\") \n",
    "plt.ylabel(\"Count\") \n",
    "plt.title(\"Histogram of Danceability\") \n",
    "plt.show()"
   ]
  },
  {
   "cell_type": "markdown",
   "metadata": {},
   "source": [
    "### Duration(ms)"
   ]
  },
  {
   "cell_type": "code",
   "execution_count": 11,
   "metadata": {},
   "outputs": [
    {
     "data": {
      "image/png": "[encoded data removed]",
      "text/plain": [
       "<Figure size 432x288 with 1 Axes>"
      ]
     },
     "metadata": {
      "needs_background": "light"
     },
     "output_type": "display_data"
    }
   ],
   "source": [
    "plt.hist(df.duration_ms, \n",
    "         range=(df.duration_ms.min(),\n",
    "                df.duration_ms.max()+1), \n",
    "         bins=25, \n",
    "         alpha=0.5) \n",
    "# set title and labels\n",
    "plt.xlabel(\"duration_ms\") \n",
    "plt.ylabel(\"Count\") \n",
    "plt.title(\"Histogram of duration_ms\") \n",
    "plt.show()"
   ]
  },
  {
   "cell_type": "markdown",
   "metadata": {},
   "source": [
    "### Energy"
   ]
  },
  {
   "cell_type": "code",
   "execution_count": 12,
   "metadata": {},
   "outputs": [
    {
     "data": {
      "image/png": "[encoded data removed]",
      "text/plain": [
       "<Figure size 432x288 with 1 Axes>"
      ]
     },
     "metadata": {
      "needs_background": "light"
     },
     "output_type": "display_data"
    }
   ],
   "source": [
    "plt.hist(df.energy, \n",
    "         range=(df.energy.min(),\n",
    "                df.energy.max()+1), \n",
    "         bins=25, \n",
    "         alpha=0.5) \n",
    "# set title and labels\n",
    "plt.xlabel(\"energy\") \n",
    "plt.ylabel(\"Count\") \n",
    "plt.title(\"Histogram of energy\") \n",
    "plt.show()"
   ]
  },
  {
   "cell_type": "markdown",
   "metadata": {},
   "source": [
    "### instrumentalness"
   ]
  },
  {
   "cell_type": "code",
   "execution_count": 13,
   "metadata": {},
   "outputs": [
    {
     "data": {
      "image/png": "[encoded data removed]",
      "text/plain": [
       "<Figure size 432x288 with 1 Axes>"
      ]
     },
     "metadata": {
      "needs_background": "light"
     },
     "output_type": "display_data"
    }
   ],
   "source": [
    "plt.hist(df.instrumentalness, \n",
    "         range=(df.instrumentalness.min(),\n",
    "                df.instrumentalness.max()+1), \n",
    "         bins=25, \n",
    "         alpha=0.5) \n",
    "# set title and labels\n",
    "plt.xlabel(\"instrumentalness\") \n",
    "plt.ylabel(\"Count\") \n",
    "plt.title(\"Histogram of instrumentalness\") \n",
    "plt.show()"
   ]
  },
  {
   "cell_type": "markdown",
   "metadata": {},
   "source": [
    "### liveness"
   ]
  },
  {
   "cell_type": "code",
   "execution_count": 14,
   "metadata": {},
   "outputs": [
    {
     "data": {
      "image/png": "[encoded data removed]",
      "text/plain": [
       "<Figure size 432x288 with 1 Axes>"
      ]
     },
     "metadata": {
      "needs_background": "light"
     },
     "output_type": "display_data"
    }
   ],
   "source": [
    "plt.hist(df.liveness, \n",
    "         range=(df.liveness.min(),\n",
    "                df.liveness.max()+1), \n",
    "         bins=25, \n",
    "         alpha=0.5) \n",
    "# set title and labels\n",
    "plt.xlabel(\"liveness\") \n",
    "plt.ylabel(\"Count\") \n",
    "plt.title(\"Histogram of liveness\") \n",
    "plt.show()"
   ]
  },
  {
   "cell_type": "markdown",
   "metadata": {},
   "source": [
    "### loudness"
   ]
  },
  {
   "cell_type": "code",
   "execution_count": 15,
   "metadata": {},
   "outputs": [
    {
     "data": {
      "image/png": "[encoded data removed]",
      "text/plain": [
       "<Figure size 432x288 with 1 Axes>"
      ]
     },
     "metadata": {
      "needs_background": "light"
     },
     "output_type": "display_data"
    }
   ],
   "source": [
    "plt.hist(df.loudness, \n",
    "         range=(df.loudness.min(),\n",
    "                df.loudness.max()+1), \n",
    "         bins=25, \n",
    "         alpha=0.5) \n",
    "# set title and labels\n",
    "plt.xlabel(\"loudness\") \n",
    "plt.ylabel(\"Count\") \n",
    "plt.title(\"Histogram of loudness\") \n",
    "plt.show()"
   ]
  },
  {
   "cell_type": "markdown",
   "metadata": {},
   "source": [
    "### valence"
   ]
  },
  {
   "cell_type": "code",
   "execution_count": 16,
   "metadata": {},
   "outputs": [
    {
     "data": {
      "image/png": "[encoded data removed]",
      "text/plain": [
       "<Figure size 432x288 with 1 Axes>"
      ]
     },
     "metadata": {
      "needs_background": "light"
     },
     "output_type": "display_data"
    }
   ],
   "source": [
    "plt.hist(df.valence, \n",
    "         range=(df.valence.min(),\n",
    "                df.valence.max()+1), \n",
    "         bins=25, \n",
    "         alpha=0.5) \n",
    "# set title and labels\n",
    "plt.xlabel(\"valence\") \n",
    "plt.ylabel(\"Count\") \n",
    "plt.title(\"Histogram of valence\") \n",
    "plt.show()"
   ]
  },
  {
   "cell_type": "markdown",
   "metadata": {},
   "source": [
    "### Key"
   ]
  },
  {
   "cell_type": "code",
   "execution_count": 17,
   "metadata": {},
   "outputs": [
    {
     "data": {
      "image/png": "[encoded data removed]",
      "text/plain": [
       "<Figure size 432x288 with 1 Axes>"
      ]
     },
     "metadata": {
      "needs_background": "light"
     },
     "output_type": "display_data"
    }
   ],
   "source": [
    "counts = df['key'].value_counts()\n",
    "plt.bar(counts.index, counts.values)\n",
    "plt.show()"
   ]
  },
  {
   "cell_type": "markdown",
   "metadata": {},
   "source": [
    "### Mode"
   ]
  },
  {
   "cell_type": "code",
   "execution_count": 18,
   "metadata": {},
   "outputs": [
    {
     "data": {
      "image/png": "[encoded data removed]",
      "text/plain": [
       "<Figure size 432x288 with 1 Axes>"
      ]
     },
     "metadata": {
      "needs_background": "light"
     },
     "output_type": "display_data"
    }
   ],
   "source": [
    "counts = df['mode'].value_counts()\n",
    "plt.bar(counts.index, counts.values)\n",
    "plt.show()"
   ]
  },
  {
   "cell_type": "markdown",
   "metadata": {},
   "source": [
    "### Music Genre"
   ]
  },
  {
   "cell_type": "code",
   "execution_count": 19,
   "metadata": {},
   "outputs": [
    {
     "data": {
      "image/png": "[encoded data removed]",
      "text/plain": [
       "<Figure size 432x288 with 1 Axes>"
      ]
     },
     "metadata": {
      "needs_background": "light"
     },
     "output_type": "display_data"
    }
   ],
   "source": [
    "counts = df['music_genre'].value_counts()\n",
    "plt.bar(counts.index, counts.values)\n",
    "plt.show()"
   ]
  },
  {
   "cell_type": "markdown",
   "metadata": {},
   "source": [
    "# Preprocessing"
   ]
  },
  {
   "cell_type": "markdown",
   "metadata": {},
   "source": [
    "## Part 1\n",
    "There are multiple ways to deal with missing values. Here,  we'll discuss some common methods:\n",
    "\n",
    "1. **Deleting Rows or Cols with missing values:** Missing values can be handled by deleting the rows or columns having null values. If columns have more than half of the rows as null then the entire column can be dropped. The rows which are having one or more columns values as null can also be dropped.\n",
    "\n",
    "    **Pros :** \n",
    "- A model trained with the removal of all missing values creates a robust model.\n",
    "\n",
    "    **Cons :**\n",
    "- Loss of a lot of information.\n",
    "- Works poorly if the percentage of missing values is excessive in comparison to the complete dataset.\n",
    "\n",
    "2. **Impute missing values with Mean/Median:** Columns in the dataset which are having numeric continuous values can be replaced with the mean, median, or mode of remaining values in the column. This method can prevent the loss of data compared to the earlier method. Replacing the above two approximations (mean, median) is a statistical approach to handle the missing values.\n",
    "\n",
    "    **Pros :** \n",
    "- Prevent data loss which results in deletion of rows or columns\n",
    "- Works well with a small dataset and is easy to implement.\n",
    "\n",
    "    **Cons :**\n",
    "- Works only with numerical continuous variables.\n",
    "- Can cause data leakage\n",
    "- Do not factor the covariance between features.\n",
    "\n",
    "3. **Imputation method for categorical columns:** When missing values is from categorical columns (string or numerical) then the missing values can be replaced with the most frequent category. If the number of missing values is very large then it can be replaced with a new category.\n",
    "\n",
    "    **Pros :** \n",
    "- Prevent data loss which results in deletion of rows or columns\n",
    "- Works well with a small dataset and is easy to implement.\n",
    "- Negates the loss of data by adding a unique category\n",
    "\n",
    "    **Cons :**\n",
    "- Works only with categorical variables.\n",
    "- Addition of new features to the model while encoding, which may result in poor performance"
   ]
  },
  {
   "cell_type": "markdown",
   "metadata": {},
   "source": [
    "## Part 2\n",
    "\n",
    "In this project, we're going to fill numerical cols with the **average** of its column and for non-numerical cols with the **mode** of its column. "
   ]
  },
  {
   "cell_type": "code",
   "execution_count": 20,
   "metadata": {},
   "outputs": [],
   "source": [
    "df['duration_ms'] = df['duration_ms'].fillna(df['duration_ms'].mean())"
   ]
  },
  {
   "cell_type": "code",
   "execution_count": 21,
   "metadata": {},
   "outputs": [],
   "source": [
    "df['tempo'] = df['tempo'].fillna(df['tempo'].mean())"
   ]
  },
  {
   "cell_type": "code",
   "execution_count": 22,
   "metadata": {},
   "outputs": [],
   "source": [
    "df['artist_name'] = df['artist_name'].fillna(df['artist_name'].mode()[0])"
   ]
  },
  {
   "cell_type": "code",
   "execution_count": 23,
   "metadata": {},
   "outputs": [
    {
     "name": "stdout",
     "output_type": "stream",
     "text": [
      "            Property  NA values percentage\n",
      "0        artist_name                   0.0\n",
      "1         track_name                   0.0\n",
      "2         popularity                   0.0\n",
      "3       acousticness                   0.0\n",
      "4       danceability                   0.0\n",
      "5        duration_ms                   0.0\n",
      "6             energy                   0.0\n",
      "7   instrumentalness                   0.0\n",
      "8                key                   0.0\n",
      "9           liveness                   0.0\n",
      "10          loudness                   0.0\n",
      "11              mode                   0.0\n",
      "12       speechiness                   0.0\n",
      "13             tempo                   0.0\n",
      "14           valence                   0.0\n",
      "15       music_genre                   0.0\n"
     ]
    }
   ],
   "source": [
    "printMissingPercentage(df)"
   ]
  },
  {
   "cell_type": "markdown",
   "metadata": {},
   "source": [
    "## Part 3: Why normalization?\n",
    "\n",
    "- It is used to remove the duplicate data and database anomalies from the relational table.\n",
    "- Normalization helps to reduce redundancy and complexity by examining new data types used in the table.\n",
    "- It is helpful to divide the large database table into smaller tables and link them using relationship.\n",
    "- It avoids duplicate data or no repeating groups into a table.\n",
    "- It reduces the chances for anomalies to occur in a database.\n",
    "\n",
    "**Normalizing** a vector most often means dividing by a norm of the vector. It also often refers to rescaling by the minimum and range of the vector, to make all the elements lie between 0 and 1 thus bringing all the values of numeric columns in the dataset to a common scale.\n",
    "\n",
    "**Standardizing** a vector most often means subtracting a measure of location and dividing by a measure of scale. For example, if the vector contains random values with a Gaussian distribution, you might subtract the mean and divide by the standard deviation, thereby obtaining a “standard normal” random variable with mean 0 and standard deviation 1.\n",
    "\n",
    "Standardizing the features around the center and 0 with a standard deviation of 1 is important when we compare measurements that have different units. Variables that are measured at different scales do not contribute equally to the analysis and might end up creating a bais.\n",
    "\n",
    "For example, A variable that ranges between 0 and 1000 will outweigh a variable that ranges between 0 and 1. Using these variables without standardization will give the variable with the larger range weight of 1000 in the analysis. Transforming the data to comparable scales can prevent this problem. Typical data standardization procedures equalize the range and/or data variability.\n",
    "\n",
    "Similarly, the goal of normalization is to change the values of numeric columns in the dataset to a common scale, without distorting differences in the ranges of values. For machine learning, every dataset does not require normalization. It is required only when features have different ranges.\n",
    "\n",
    "For example, consider a data set containing two features, age, and income(x2). Where age ranges from 0–100, while income ranges from 0–100,000 and higher. Income is about 1,000 times larger than age. So, these two features are in very different ranges. When we do further analysis, like multivariate linear regression, for example, the attributed income will intrinsically influence the result more due to its larger value. But this doesn’t necessarily mean it is more important as a predictor. So we normalize the data to bring all the variables to the same range.\n",
    "\n",
    "Normalization is a good technique to use when you do not know the distribution of your data or when you know the distribution is not Gaussian (a bell curve). Normalization is useful when your data has varying scales and the algorithm you are using does not make assumptions about the distribution of your data, such as k-nearest neighbors and artificial neural networks.\n",
    "\n",
    "Standardization assumes that your data has a Gaussian (bell curve) distribution. This does not strictly have to be true, but the technique is more effective if your attribute distribution is Gaussian. Standardization is useful when your data has varying scales and the algorithm you are using does make assumptions about your data having a Gaussian distribution, such as linear regression, logistic regression, and linear discriminant analysis."
   ]
  },
  {
   "cell_type": "markdown",
   "metadata": {},
   "source": [
    "## Part 4\n",
    "In our dataset we have the problems mentioned above and so we do standardizing using (or Z-score normalization), which means centering the variable at zero and standardizing the variance at 1. The procedure involves subtracting the mean of each observation and then dividing by the standard deviation: The result of standardization is that the features will be rescaled so that they’ll have the properties of a standard normal distribution with\n",
    "\n",
    "$μ=0 , σ=1$"
   ]
  },
  {
   "cell_type": "code",
   "execution_count": 24,
   "metadata": {},
   "outputs": [],
   "source": [
    "standardizing_columns = ['popularity','acousticness','danceability','duration_ms','energy','instrumentalness','liveness','loudness','speechiness','tempo','valence']\n",
    "for col in standardizing_columns:\n",
    "    df[col] = (df[col]-df[col].mean())/df[col].std()"
   ]
  },
  {
   "cell_type": "markdown",
   "metadata": {},
   "source": [
    "## Part 5\n",
    "\n",
    "1. **One Hot Encoding**: In this method, we map each category to a vector that contains 1 and 0 denoting the presence of the feature or not. The number of vectors depends on the categories which we want to keep. For high cardinality features, this method produces a lot of columns that slows down the learning significantly. There is a buzz between one hot encoding and dummy encoding and when to use one. They are much alike except one hot encoding produces the number of columns equal to the number of categories and dummy producing is one less. This should ultimately be handled by the modeler accordingly in the validation process.\n",
    "\n",
    "2. **Label Encoding**: In this encoding each category is assigned a value from 1 through N (here N is the number of category for the feature). It may look like (Car<Bus<Truck ….0 < 1 < 2). Categories that have some ties or are close to each other lose some information after encoding."
   ]
  },
  {
   "cell_type": "code",
   "execution_count": 25,
   "metadata": {},
   "outputs": [
    {
     "data": {
      "text/plain": [
       "array(['Jazz', 'Alternative', 'Country', 'Rap', 'Rock', 'Classical'],\n",
       "      dtype=object)"
      ]
     },
     "execution_count": 25,
     "metadata": {},
     "output_type": "execute_result"
    }
   ],
   "source": [
    "df['music_genre'].unique()"
   ]
  },
  {
   "cell_type": "markdown",
   "metadata": {},
   "source": [
    "In this project we're going to use one-hot encoding because one hot encoding makes our training data more useful and expressive, and it can be rescaled easily. By using numeric values, we more easily determine a probability for our values. In particular, one hot encoding is used for our output values, since it provides more nuanced predictions than single labels."
   ]
  },
  {
   "cell_type": "code",
   "execution_count": 26,
   "metadata": {},
   "outputs": [],
   "source": [
    "from sklearn import preprocessing\n",
    "\n",
    "le = preprocessing.LabelEncoder()\n",
    "\n",
    "df['music_genre_categorical'] = le.fit_transform(df['music_genre'])\n",
    "\n",
    "# df = pd.get_dummies(df,prefix=['music_genre'], columns = ['music_genre'], drop_first=True)"
   ]
  },
  {
   "cell_type": "code",
   "execution_count": 27,
   "metadata": {},
   "outputs": [
    {
     "data": {
      "text/html": [
       "<div>\n",
       "<style scoped>\n",
       "    .dataframe tbody tr th:only-of-type {\n",
       "        vertical-align: middle;\n",
       "    }\n",
       "\n",
       "    .dataframe tbody tr th {\n",
       "        vertical-align: top;\n",
       "    }\n",
       "\n",
       "    .dataframe thead th {\n",
       "        text-align: right;\n",
       "    }\n",
       "</style>\n",
       "<table border=\"1\" class=\"dataframe\">\n",
       "  <thead>\n",
       "    <tr style=\"text-align: right;\">\n",
       "      <th></th>\n",
       "      <th>artist_name</th>\n",
       "      <th>track_name</th>\n",
       "      <th>popularity</th>\n",
       "      <th>acousticness</th>\n",
       "      <th>danceability</th>\n",
       "      <th>duration_ms</th>\n",
       "      <th>energy</th>\n",
       "      <th>instrumentalness</th>\n",
       "      <th>key</th>\n",
       "      <th>liveness</th>\n",
       "      <th>loudness</th>\n",
       "      <th>mode</th>\n",
       "      <th>speechiness</th>\n",
       "      <th>tempo</th>\n",
       "      <th>valence</th>\n",
       "      <th>music_genre</th>\n",
       "      <th>music_genre_categorical</th>\n",
       "    </tr>\n",
       "  </thead>\n",
       "  <tbody>\n",
       "    <tr>\n",
       "      <th>0</th>\n",
       "      <td>Blockhead</td>\n",
       "      <td>Cheer up, You're Not Dead Yet</td>\n",
       "      <td>-0.259741</td>\n",
       "      <td>-0.970532</td>\n",
       "      <td>0.935904</td>\n",
       "      <td>3.683534e-01</td>\n",
       "      <td>0.231381</td>\n",
       "      <td>-0.458783</td>\n",
       "      <td>G</td>\n",
       "      <td>-0.163272</td>\n",
       "      <td>0.381203</td>\n",
       "      <td>Major</td>\n",
       "      <td>-0.489052</td>\n",
       "      <td>8.398059e-01</td>\n",
       "      <td>0.644987</td>\n",
       "      <td>Jazz</td>\n",
       "      <td>3</td>\n",
       "    </tr>\n",
       "    <tr>\n",
       "      <th>1</th>\n",
       "      <td>FloFilz</td>\n",
       "      <td>Corners</td>\n",
       "      <td>-0.948794</td>\n",
       "      <td>-0.034765</td>\n",
       "      <td>1.034959</td>\n",
       "      <td>-1.338391e+00</td>\n",
       "      <td>-0.150111</td>\n",
       "      <td>-0.527946</td>\n",
       "      <td>C</td>\n",
       "      <td>-0.375567</td>\n",
       "      <td>-0.009655</td>\n",
       "      <td>Major</td>\n",
       "      <td>1.072549</td>\n",
       "      <td>-1.288258e+00</td>\n",
       "      <td>-0.641471</td>\n",
       "      <td>Jazz</td>\n",
       "      <td>3</td>\n",
       "    </tr>\n",
       "    <tr>\n",
       "      <th>2</th>\n",
       "      <td>Bonobo</td>\n",
       "      <td>We Could Forever</td>\n",
       "      <td>0.222596</td>\n",
       "      <td>-0.937884</td>\n",
       "      <td>0.704778</td>\n",
       "      <td>1.201735e-13</td>\n",
       "      <td>1.181513</td>\n",
       "      <td>2.122853</td>\n",
       "      <td>G</td>\n",
       "      <td>0.539958</td>\n",
       "      <td>0.431391</td>\n",
       "      <td>Minor</td>\n",
       "      <td>-0.493336</td>\n",
       "      <td>-2.751628e-13</td>\n",
       "      <td>0.761572</td>\n",
       "      <td>Jazz</td>\n",
       "      <td>3</td>\n",
       "    </tr>\n",
       "    <tr>\n",
       "      <th>3</th>\n",
       "      <td>Nils Landgren</td>\n",
       "      <td>A Child Is Born</td>\n",
       "      <td>-0.604268</td>\n",
       "      <td>1.533131</td>\n",
       "      <td>-0.313279</td>\n",
       "      <td>-1.677218e-01</td>\n",
       "      <td>-1.754179</td>\n",
       "      <td>-0.548746</td>\n",
       "      <td>F</td>\n",
       "      <td>-0.295956</td>\n",
       "      <td>-0.785474</td>\n",
       "      <td>Major</td>\n",
       "      <td>-0.527610</td>\n",
       "      <td>-1.194425e+00</td>\n",
       "      <td>-0.967105</td>\n",
       "      <td>Jazz</td>\n",
       "      <td>3</td>\n",
       "    </tr>\n",
       "    <tr>\n",
       "      <th>4</th>\n",
       "      <td>Masayoshi Takanaka</td>\n",
       "      <td>Samba Pati</td>\n",
       "      <td>-0.810984</td>\n",
       "      <td>-0.892852</td>\n",
       "      <td>-0.373812</td>\n",
       "      <td>9.009268e-01</td>\n",
       "      <td>0.958376</td>\n",
       "      <td>0.805165</td>\n",
       "      <td>G</td>\n",
       "      <td>0.811962</td>\n",
       "      <td>0.496821</td>\n",
       "      <td>Major</td>\n",
       "      <td>-0.223430</td>\n",
       "      <td>-4.409188e-01</td>\n",
       "      <td>-0.255534</td>\n",
       "      <td>Jazz</td>\n",
       "      <td>3</td>\n",
       "    </tr>\n",
       "    <tr>\n",
       "      <th>...</th>\n",
       "      <td>...</td>\n",
       "      <td>...</td>\n",
       "      <td>...</td>\n",
       "      <td>...</td>\n",
       "      <td>...</td>\n",
       "      <td>...</td>\n",
       "      <td>...</td>\n",
       "      <td>...</td>\n",
       "      <td>...</td>\n",
       "      <td>...</td>\n",
       "      <td>...</td>\n",
       "      <td>...</td>\n",
       "      <td>...</td>\n",
       "      <td>...</td>\n",
       "      <td>...</td>\n",
       "      <td>...</td>\n",
       "      <td>...</td>\n",
       "    </tr>\n",
       "    <tr>\n",
       "      <th>29995</th>\n",
       "      <td>Wolfgang Amadeus Mozart</td>\n",
       "      <td>Die Zauberflöte, K. 620: Wie stark ist nicht d...</td>\n",
       "      <td>-1.775658</td>\n",
       "      <td>1.513910</td>\n",
       "      <td>-1.182754</td>\n",
       "      <td>1.142242e+00</td>\n",
       "      <td>-1.524924</td>\n",
       "      <td>-0.548956</td>\n",
       "      <td>G</td>\n",
       "      <td>-0.355665</td>\n",
       "      <td>-1.497445</td>\n",
       "      <td>Major</td>\n",
       "      <td>-0.301617</td>\n",
       "      <td>-8.728649e-01</td>\n",
       "      <td>-0.967105</td>\n",
       "      <td>Classical</td>\n",
       "      <td>1</td>\n",
       "    </tr>\n",
       "    <tr>\n",
       "      <th>29996</th>\n",
       "      <td>New York Philharmonic</td>\n",
       "      <td>Symphony No. 2 in D Major, Op. 73: II. Adagio ...</td>\n",
       "      <td>-1.500037</td>\n",
       "      <td>1.662188</td>\n",
       "      <td>-2.283356</td>\n",
       "      <td>2.505257e+00</td>\n",
       "      <td>-1.269396</td>\n",
       "      <td>2.089455</td>\n",
       "      <td>B</td>\n",
       "      <td>-0.514887</td>\n",
       "      <td>-0.919499</td>\n",
       "      <td>Major</td>\n",
       "      <td>-0.475128</td>\n",
       "      <td>-1.203678e+00</td>\n",
       "      <td>-1.639681</td>\n",
       "      <td>Classical</td>\n",
       "      <td>1</td>\n",
       "    </tr>\n",
       "    <tr>\n",
       "      <th>29997</th>\n",
       "      <td>Georges Bizet</td>\n",
       "      <td>Bizet: Carmen, WD 31, Act 1 Scene 4: No. 5, Ha...</td>\n",
       "      <td>0.429312</td>\n",
       "      <td>1.692392</td>\n",
       "      <td>-0.979143</td>\n",
       "      <td>1.451370e-01</td>\n",
       "      <td>-1.589705</td>\n",
       "      <td>-0.548956</td>\n",
       "      <td>D</td>\n",
       "      <td>-0.559999</td>\n",
       "      <td>-1.041876</td>\n",
       "      <td>Major</td>\n",
       "      <td>-0.160237</td>\n",
       "      <td>-2.751628e-13</td>\n",
       "      <td>-0.866601</td>\n",
       "      <td>Classical</td>\n",
       "      <td>1</td>\n",
       "    </tr>\n",
       "    <tr>\n",
       "      <th>29998</th>\n",
       "      <td>Edvard Grieg</td>\n",
       "      <td>Peer Gynt-Suite Nr. 1, Op. 46: I. Morning</td>\n",
       "      <td>-0.397552</td>\n",
       "      <td>1.717105</td>\n",
       "      <td>-2.299865</td>\n",
       "      <td>1.210364e-01</td>\n",
       "      <td>-1.940966</td>\n",
       "      <td>2.201793</td>\n",
       "      <td>E</td>\n",
       "      <td>-0.388836</td>\n",
       "      <td>-1.954453</td>\n",
       "      <td>Major</td>\n",
       "      <td>-0.461204</td>\n",
       "      <td>-1.571470e+00</td>\n",
       "      <td>-1.653752</td>\n",
       "      <td>Classical</td>\n",
       "      <td>1</td>\n",
       "    </tr>\n",
       "    <tr>\n",
       "      <th>29999</th>\n",
       "      <td>Johann Sebastian Bach</td>\n",
       "      <td>Suite No. 2 in B Minor, BWV 1067: VI. Menuet</td>\n",
       "      <td>-0.810984</td>\n",
       "      <td>1.132233</td>\n",
       "      <td>-0.302273</td>\n",
       "      <td>-1.610885e+00</td>\n",
       "      <td>-1.438548</td>\n",
       "      <td>2.201793</td>\n",
       "      <td>G#</td>\n",
       "      <td>-0.242883</td>\n",
       "      <td>-1.293963</td>\n",
       "      <td>Minor</td>\n",
       "      <td>-0.496549</td>\n",
       "      <td>2.459658e-01</td>\n",
       "      <td>0.693229</td>\n",
       "      <td>Classical</td>\n",
       "      <td>1</td>\n",
       "    </tr>\n",
       "  </tbody>\n",
       "</table>\n",
       "<p>30000 rows × 17 columns</p>\n",
       "</div>"
      ],
      "text/plain": [
       "                   artist_name  \\\n",
       "0                    Blockhead   \n",
       "1                      FloFilz   \n",
       "2                       Bonobo   \n",
       "3                Nils Landgren   \n",
       "4           Masayoshi Takanaka   \n",
       "...                        ...   \n",
       "29995  Wolfgang Amadeus Mozart   \n",
       "29996    New York Philharmonic   \n",
       "29997            Georges Bizet   \n",
       "29998             Edvard Grieg   \n",
       "29999    Johann Sebastian Bach   \n",
       "\n",
       "                                              track_name  popularity  \\\n",
       "0                          Cheer up, You're Not Dead Yet   -0.259741   \n",
       "1                                                Corners   -0.948794   \n",
       "2                                       We Could Forever    0.222596   \n",
       "3                                        A Child Is Born   -0.604268   \n",
       "4                                             Samba Pati   -0.810984   \n",
       "...                                                  ...         ...   \n",
       "29995  Die Zauberflöte, K. 620: Wie stark ist nicht d...   -1.775658   \n",
       "29996  Symphony No. 2 in D Major, Op. 73: II. Adagio ...   -1.500037   \n",
       "29997  Bizet: Carmen, WD 31, Act 1 Scene 4: No. 5, Ha...    0.429312   \n",
       "29998          Peer Gynt-Suite Nr. 1, Op. 46: I. Morning   -0.397552   \n",
       "29999       Suite No. 2 in B Minor, BWV 1067: VI. Menuet   -0.810984   \n",
       "\n",
       "       acousticness  danceability   duration_ms    energy  instrumentalness  \\\n",
       "0         -0.970532      0.935904  3.683534e-01  0.231381         -0.458783   \n",
       "1         -0.034765      1.034959 -1.338391e+00 -0.150111         -0.527946   \n",
       "2         -0.937884      0.704778  1.201735e-13  1.181513          2.122853   \n",
       "3          1.533131     -0.313279 -1.677218e-01 -1.754179         -0.548746   \n",
       "4         -0.892852     -0.373812  9.009268e-01  0.958376          0.805165   \n",
       "...             ...           ...           ...       ...               ...   \n",
       "29995      1.513910     -1.182754  1.142242e+00 -1.524924         -0.548956   \n",
       "29996      1.662188     -2.283356  2.505257e+00 -1.269396          2.089455   \n",
       "29997      1.692392     -0.979143  1.451370e-01 -1.589705         -0.548956   \n",
       "29998      1.717105     -2.299865  1.210364e-01 -1.940966          2.201793   \n",
       "29999      1.132233     -0.302273 -1.610885e+00 -1.438548          2.201793   \n",
       "\n",
       "      key  liveness  loudness   mode  speechiness         tempo   valence  \\\n",
       "0       G -0.163272  0.381203  Major    -0.489052  8.398059e-01  0.644987   \n",
       "1       C -0.375567 -0.009655  Major     1.072549 -1.288258e+00 -0.641471   \n",
       "2       G  0.539958  0.431391  Minor    -0.493336 -2.751628e-13  0.761572   \n",
       "3       F -0.295956 -0.785474  Major    -0.527610 -1.194425e+00 -0.967105   \n",
       "4       G  0.811962  0.496821  Major    -0.223430 -4.409188e-01 -0.255534   \n",
       "...    ..       ...       ...    ...          ...           ...       ...   \n",
       "29995   G -0.355665 -1.497445  Major    -0.301617 -8.728649e-01 -0.967105   \n",
       "29996   B -0.514887 -0.919499  Major    -0.475128 -1.203678e+00 -1.639681   \n",
       "29997   D -0.559999 -1.041876  Major    -0.160237 -2.751628e-13 -0.866601   \n",
       "29998   E -0.388836 -1.954453  Major    -0.461204 -1.571470e+00 -1.653752   \n",
       "29999  G# -0.242883 -1.293963  Minor    -0.496549  2.459658e-01  0.693229   \n",
       "\n",
       "      music_genre  music_genre_categorical  \n",
       "0            Jazz                        3  \n",
       "1            Jazz                        3  \n",
       "2            Jazz                        3  \n",
       "3            Jazz                        3  \n",
       "4            Jazz                        3  \n",
       "...           ...                      ...  \n",
       "29995   Classical                        1  \n",
       "29996   Classical                        1  \n",
       "29997   Classical                        1  \n",
       "29998   Classical                        1  \n",
       "29999   Classical                        1  \n",
       "\n",
       "[30000 rows x 17 columns]"
      ]
     },
     "execution_count": 27,
     "metadata": {},
     "output_type": "execute_result"
    }
   ],
   "source": [
    "df"
   ]
  },
  {
   "cell_type": "markdown",
   "metadata": {},
   "source": [
    "## Part 6\n",
    "\n",
    "Since each artist usually performs in one category, `artist_name` is useful feature to predict music genre. We could use LabelEncoder from Sklearn. This method encodes target labels with value between `0` and `n_classes-1`.\n"
   ]
  },
  {
   "cell_type": "code",
   "execution_count": 28,
   "metadata": {},
   "outputs": [
    {
     "data": {
      "text/html": [
       "<div>\n",
       "<style scoped>\n",
       "    .dataframe tbody tr th:only-of-type {\n",
       "        vertical-align: middle;\n",
       "    }\n",
       "\n",
       "    .dataframe tbody tr th {\n",
       "        vertical-align: top;\n",
       "    }\n",
       "\n",
       "    .dataframe thead th {\n",
       "        text-align: right;\n",
       "    }\n",
       "</style>\n",
       "<table border=\"1\" class=\"dataframe\">\n",
       "  <thead>\n",
       "    <tr style=\"text-align: right;\">\n",
       "      <th></th>\n",
       "      <th>artist_name</th>\n",
       "      <th>track_name</th>\n",
       "      <th>popularity</th>\n",
       "      <th>acousticness</th>\n",
       "      <th>danceability</th>\n",
       "      <th>duration_ms</th>\n",
       "      <th>energy</th>\n",
       "      <th>instrumentalness</th>\n",
       "      <th>key</th>\n",
       "      <th>liveness</th>\n",
       "      <th>loudness</th>\n",
       "      <th>mode</th>\n",
       "      <th>speechiness</th>\n",
       "      <th>tempo</th>\n",
       "      <th>valence</th>\n",
       "      <th>music_genre</th>\n",
       "      <th>music_genre_categorical</th>\n",
       "    </tr>\n",
       "  </thead>\n",
       "  <tbody>\n",
       "    <tr>\n",
       "      <th>0</th>\n",
       "      <td>531</td>\n",
       "      <td>Cheer up, You're Not Dead Yet</td>\n",
       "      <td>-0.259741</td>\n",
       "      <td>-0.970532</td>\n",
       "      <td>0.935904</td>\n",
       "      <td>3.683534e-01</td>\n",
       "      <td>0.231381</td>\n",
       "      <td>-0.458783</td>\n",
       "      <td>10</td>\n",
       "      <td>-0.163272</td>\n",
       "      <td>0.381203</td>\n",
       "      <td>0</td>\n",
       "      <td>-0.489052</td>\n",
       "      <td>8.398059e-01</td>\n",
       "      <td>0.644987</td>\n",
       "      <td>Jazz</td>\n",
       "      <td>3</td>\n",
       "    </tr>\n",
       "    <tr>\n",
       "      <th>1</th>\n",
       "      <td>1511</td>\n",
       "      <td>Corners</td>\n",
       "      <td>-0.948794</td>\n",
       "      <td>-0.034765</td>\n",
       "      <td>1.034959</td>\n",
       "      <td>-1.338391e+00</td>\n",
       "      <td>-0.150111</td>\n",
       "      <td>-0.527946</td>\n",
       "      <td>3</td>\n",
       "      <td>-0.375567</td>\n",
       "      <td>-0.009655</td>\n",
       "      <td>0</td>\n",
       "      <td>1.072549</td>\n",
       "      <td>-1.288258e+00</td>\n",
       "      <td>-0.641471</td>\n",
       "      <td>Jazz</td>\n",
       "      <td>3</td>\n",
       "    </tr>\n",
       "    <tr>\n",
       "      <th>2</th>\n",
       "      <td>582</td>\n",
       "      <td>We Could Forever</td>\n",
       "      <td>0.222596</td>\n",
       "      <td>-0.937884</td>\n",
       "      <td>0.704778</td>\n",
       "      <td>1.201735e-13</td>\n",
       "      <td>1.181513</td>\n",
       "      <td>2.122853</td>\n",
       "      <td>10</td>\n",
       "      <td>0.539958</td>\n",
       "      <td>0.431391</td>\n",
       "      <td>1</td>\n",
       "      <td>-0.493336</td>\n",
       "      <td>-2.751628e-13</td>\n",
       "      <td>0.761572</td>\n",
       "      <td>Jazz</td>\n",
       "      <td>3</td>\n",
       "    </tr>\n",
       "    <tr>\n",
       "      <th>3</th>\n",
       "      <td>3210</td>\n",
       "      <td>A Child Is Born</td>\n",
       "      <td>-0.604268</td>\n",
       "      <td>1.533131</td>\n",
       "      <td>-0.313279</td>\n",
       "      <td>-1.677218e-01</td>\n",
       "      <td>-1.754179</td>\n",
       "      <td>-0.548746</td>\n",
       "      <td>8</td>\n",
       "      <td>-0.295956</td>\n",
       "      <td>-0.785474</td>\n",
       "      <td>0</td>\n",
       "      <td>-0.527610</td>\n",
       "      <td>-1.194425e+00</td>\n",
       "      <td>-0.967105</td>\n",
       "      <td>Jazz</td>\n",
       "      <td>3</td>\n",
       "    </tr>\n",
       "    <tr>\n",
       "      <th>4</th>\n",
       "      <td>2874</td>\n",
       "      <td>Samba Pati</td>\n",
       "      <td>-0.810984</td>\n",
       "      <td>-0.892852</td>\n",
       "      <td>-0.373812</td>\n",
       "      <td>9.009268e-01</td>\n",
       "      <td>0.958376</td>\n",
       "      <td>0.805165</td>\n",
       "      <td>10</td>\n",
       "      <td>0.811962</td>\n",
       "      <td>0.496821</td>\n",
       "      <td>0</td>\n",
       "      <td>-0.223430</td>\n",
       "      <td>-4.409188e-01</td>\n",
       "      <td>-0.255534</td>\n",
       "      <td>Jazz</td>\n",
       "      <td>3</td>\n",
       "    </tr>\n",
       "    <tr>\n",
       "      <th>...</th>\n",
       "      <td>...</td>\n",
       "      <td>...</td>\n",
       "      <td>...</td>\n",
       "      <td>...</td>\n",
       "      <td>...</td>\n",
       "      <td>...</td>\n",
       "      <td>...</td>\n",
       "      <td>...</td>\n",
       "      <td>...</td>\n",
       "      <td>...</td>\n",
       "      <td>...</td>\n",
       "      <td>...</td>\n",
       "      <td>...</td>\n",
       "      <td>...</td>\n",
       "      <td>...</td>\n",
       "      <td>...</td>\n",
       "      <td>...</td>\n",
       "    </tr>\n",
       "    <tr>\n",
       "      <th>29995</th>\n",
       "      <td>4924</td>\n",
       "      <td>Die Zauberflöte, K. 620: Wie stark ist nicht d...</td>\n",
       "      <td>-1.775658</td>\n",
       "      <td>1.513910</td>\n",
       "      <td>-1.182754</td>\n",
       "      <td>1.142242e+00</td>\n",
       "      <td>-1.524924</td>\n",
       "      <td>-0.548956</td>\n",
       "      <td>10</td>\n",
       "      <td>-0.355665</td>\n",
       "      <td>-1.497445</td>\n",
       "      <td>0</td>\n",
       "      <td>-0.301617</td>\n",
       "      <td>-8.728649e-01</td>\n",
       "      <td>-0.967105</td>\n",
       "      <td>Classical</td>\n",
       "      <td>1</td>\n",
       "    </tr>\n",
       "    <tr>\n",
       "      <th>29996</th>\n",
       "      <td>3176</td>\n",
       "      <td>Symphony No. 2 in D Major, Op. 73: II. Adagio ...</td>\n",
       "      <td>-1.500037</td>\n",
       "      <td>1.662188</td>\n",
       "      <td>-2.283356</td>\n",
       "      <td>2.505257e+00</td>\n",
       "      <td>-1.269396</td>\n",
       "      <td>2.089455</td>\n",
       "      <td>2</td>\n",
       "      <td>-0.514887</td>\n",
       "      <td>-0.919499</td>\n",
       "      <td>0</td>\n",
       "      <td>-0.475128</td>\n",
       "      <td>-1.203678e+00</td>\n",
       "      <td>-1.639681</td>\n",
       "      <td>Classical</td>\n",
       "      <td>1</td>\n",
       "    </tr>\n",
       "    <tr>\n",
       "      <th>29997</th>\n",
       "      <td>1662</td>\n",
       "      <td>Bizet: Carmen, WD 31, Act 1 Scene 4: No. 5, Ha...</td>\n",
       "      <td>0.429312</td>\n",
       "      <td>1.692392</td>\n",
       "      <td>-0.979143</td>\n",
       "      <td>1.451370e-01</td>\n",
       "      <td>-1.589705</td>\n",
       "      <td>-0.548956</td>\n",
       "      <td>5</td>\n",
       "      <td>-0.559999</td>\n",
       "      <td>-1.041876</td>\n",
       "      <td>0</td>\n",
       "      <td>-0.160237</td>\n",
       "      <td>-2.751628e-13</td>\n",
       "      <td>-0.866601</td>\n",
       "      <td>Classical</td>\n",
       "      <td>1</td>\n",
       "    </tr>\n",
       "    <tr>\n",
       "      <th>29998</th>\n",
       "      <td>1330</td>\n",
       "      <td>Peer Gynt-Suite Nr. 1, Op. 46: I. Morning</td>\n",
       "      <td>-0.397552</td>\n",
       "      <td>1.717105</td>\n",
       "      <td>-2.299865</td>\n",
       "      <td>1.210364e-01</td>\n",
       "      <td>-1.940966</td>\n",
       "      <td>2.201793</td>\n",
       "      <td>7</td>\n",
       "      <td>-0.388836</td>\n",
       "      <td>-1.954453</td>\n",
       "      <td>0</td>\n",
       "      <td>-0.461204</td>\n",
       "      <td>-1.571470e+00</td>\n",
       "      <td>-1.653752</td>\n",
       "      <td>Classical</td>\n",
       "      <td>1</td>\n",
       "    </tr>\n",
       "    <tr>\n",
       "      <th>29999</th>\n",
       "      <td>2219</td>\n",
       "      <td>Suite No. 2 in B Minor, BWV 1067: VI. Menuet</td>\n",
       "      <td>-0.810984</td>\n",
       "      <td>1.132233</td>\n",
       "      <td>-0.302273</td>\n",
       "      <td>-1.610885e+00</td>\n",
       "      <td>-1.438548</td>\n",
       "      <td>2.201793</td>\n",
       "      <td>11</td>\n",
       "      <td>-0.242883</td>\n",
       "      <td>-1.293963</td>\n",
       "      <td>1</td>\n",
       "      <td>-0.496549</td>\n",
       "      <td>2.459658e-01</td>\n",
       "      <td>0.693229</td>\n",
       "      <td>Classical</td>\n",
       "      <td>1</td>\n",
       "    </tr>\n",
       "  </tbody>\n",
       "</table>\n",
       "<p>30000 rows × 17 columns</p>\n",
       "</div>"
      ],
      "text/plain": [
       "       artist_name                                         track_name  \\\n",
       "0              531                      Cheer up, You're Not Dead Yet   \n",
       "1             1511                                            Corners   \n",
       "2              582                                   We Could Forever   \n",
       "3             3210                                    A Child Is Born   \n",
       "4             2874                                         Samba Pati   \n",
       "...            ...                                                ...   \n",
       "29995         4924  Die Zauberflöte, K. 620: Wie stark ist nicht d...   \n",
       "29996         3176  Symphony No. 2 in D Major, Op. 73: II. Adagio ...   \n",
       "29997         1662  Bizet: Carmen, WD 31, Act 1 Scene 4: No. 5, Ha...   \n",
       "29998         1330          Peer Gynt-Suite Nr. 1, Op. 46: I. Morning   \n",
       "29999         2219       Suite No. 2 in B Minor, BWV 1067: VI. Menuet   \n",
       "\n",
       "       popularity  acousticness  danceability   duration_ms    energy  \\\n",
       "0       -0.259741     -0.970532      0.935904  3.683534e-01  0.231381   \n",
       "1       -0.948794     -0.034765      1.034959 -1.338391e+00 -0.150111   \n",
       "2        0.222596     -0.937884      0.704778  1.201735e-13  1.181513   \n",
       "3       -0.604268      1.533131     -0.313279 -1.677218e-01 -1.754179   \n",
       "4       -0.810984     -0.892852     -0.373812  9.009268e-01  0.958376   \n",
       "...           ...           ...           ...           ...       ...   \n",
       "29995   -1.775658      1.513910     -1.182754  1.142242e+00 -1.524924   \n",
       "29996   -1.500037      1.662188     -2.283356  2.505257e+00 -1.269396   \n",
       "29997    0.429312      1.692392     -0.979143  1.451370e-01 -1.589705   \n",
       "29998   -0.397552      1.717105     -2.299865  1.210364e-01 -1.940966   \n",
       "29999   -0.810984      1.132233     -0.302273 -1.610885e+00 -1.438548   \n",
       "\n",
       "       instrumentalness  key  liveness  loudness  mode  speechiness  \\\n",
       "0             -0.458783   10 -0.163272  0.381203     0    -0.489052   \n",
       "1             -0.527946    3 -0.375567 -0.009655     0     1.072549   \n",
       "2              2.122853   10  0.539958  0.431391     1    -0.493336   \n",
       "3             -0.548746    8 -0.295956 -0.785474     0    -0.527610   \n",
       "4              0.805165   10  0.811962  0.496821     0    -0.223430   \n",
       "...                 ...  ...       ...       ...   ...          ...   \n",
       "29995         -0.548956   10 -0.355665 -1.497445     0    -0.301617   \n",
       "29996          2.089455    2 -0.514887 -0.919499     0    -0.475128   \n",
       "29997         -0.548956    5 -0.559999 -1.041876     0    -0.160237   \n",
       "29998          2.201793    7 -0.388836 -1.954453     0    -0.461204   \n",
       "29999          2.201793   11 -0.242883 -1.293963     1    -0.496549   \n",
       "\n",
       "              tempo   valence music_genre  music_genre_categorical  \n",
       "0      8.398059e-01  0.644987        Jazz                        3  \n",
       "1     -1.288258e+00 -0.641471        Jazz                        3  \n",
       "2     -2.751628e-13  0.761572        Jazz                        3  \n",
       "3     -1.194425e+00 -0.967105        Jazz                        3  \n",
       "4     -4.409188e-01 -0.255534        Jazz                        3  \n",
       "...             ...       ...         ...                      ...  \n",
       "29995 -8.728649e-01 -0.967105   Classical                        1  \n",
       "29996 -1.203678e+00 -1.639681   Classical                        1  \n",
       "29997 -2.751628e-13 -0.866601   Classical                        1  \n",
       "29998 -1.571470e+00 -1.653752   Classical                        1  \n",
       "29999  2.459658e-01  0.693229   Classical                        1  \n",
       "\n",
       "[30000 rows x 17 columns]"
      ]
     },
     "execution_count": 28,
     "metadata": {},
     "output_type": "execute_result"
    }
   ],
   "source": [
    "le = preprocessing.LabelEncoder()\n",
    "\n",
    "df['artist_name'] = le.fit_transform(df['artist_name'])\n",
    "df['mode'] = le.fit_transform(df['mode'])\n",
    "df['key'] = le.fit_transform(df['key'])\n",
    "df"
   ]
  },
  {
   "cell_type": "markdown",
   "metadata": {},
   "source": [
    "## Part 7\n",
    "\n",
    "Now we drop the categorical columns which we don't want to include in our `mutual info` calculation."
   ]
  },
  {
   "cell_type": "code",
   "execution_count": 29,
   "metadata": {},
   "outputs": [],
   "source": [
    "y = df['music_genre_categorical']\n",
    "X = df.drop(columns=['track_name', 'music_genre','music_genre_categorical'], axis = 1)"
   ]
  },
  {
   "cell_type": "code",
   "execution_count": 30,
   "metadata": {},
   "outputs": [
    {
     "data": {
      "text/plain": [
       "artist_name         1.139648\n",
       "popularity          0.516889\n",
       "acousticness        0.357001\n",
       "loudness            0.344614\n",
       "energy              0.331171\n",
       "instrumentalness    0.295354\n",
       "danceability        0.282824\n",
       "speechiness         0.207174\n",
       "valence             0.142749\n",
       "duration_ms         0.102183\n",
       "tempo               0.093486\n",
       "mode                0.023612\n",
       "liveness            0.014870\n",
       "key                 0.012991\n",
       "dtype: float64"
      ]
     },
     "execution_count": 30,
     "metadata": {},
     "output_type": "execute_result"
    }
   ],
   "source": [
    "from sklearn.model_selection import train_test_split\n",
    "from sklearn.feature_selection import mutual_info_regression\n",
    "\n",
    "X_train, X_test, y_train, y_test = train_test_split(X, y, test_size = 0.2, random_state = 0)\n",
    "mi = mutual_info_regression(X_train, y_train)\n",
    "mi = pd.Series(mi)\n",
    "mi.index = X_train.columns\n",
    "mi.sort_values(ascending = False, inplace = True)\n",
    "\n",
    "mi"
   ]
  },
  {
   "cell_type": "code",
   "execution_count": 31,
   "metadata": {},
   "outputs": [
    {
     "data": {
      "image/png": "[encoded data removed]",
      "text/plain": [
       "<Figure size 432x288 with 1 Axes>"
      ]
     },
     "metadata": {
      "needs_background": "light"
     },
     "output_type": "display_data"
    }
   ],
   "source": [
    "import matplotlib.pyplot as plt\n",
    "\n",
    "plt.title('Mutual information with respect to features')\n",
    "mi.plot.bar()\n",
    "plt.show()"
   ]
  },
  {
   "cell_type": "markdown",
   "metadata": {},
   "source": [
    "## Part 9\n",
    "\n",
    "This plot shows that only the columns artist_name, popularity, acousticness, instrumentalness, and dancebility are giving us useful info about the music genre of each row. We can simply eliminate the other columns since they don't have much gain.\n"
   ]
  },
  {
   "cell_type": "markdown",
   "metadata": {},
   "source": [
    "# Phase 2: Model Training, Evaluation and Hyper Parameter Tuning"
   ]
  },
  {
   "cell_type": "markdown",
   "metadata": {},
   "source": [
    "## Part 1\n",
    "\n",
    "In statistics and machine learning we usually split our data into two subsets: training data and testing data (and sometimes to three: train, validate and test), and fit our model on the train data, in order to make predictions on the test data. When we do that, one of two thing might happen: we overfit our model or we underfit our model. We don’t want any of these things to happen, because they affect the predictability of our model — we might be using a model that has lower accuracy and/or is ungeneralized (meaning you can’t generalize your predictions on other data).\n",
    "\n",
    "If you have a total of 100 instances, you're probably stuck with cross validation as no single split is going to give you satisfactory variance in your estimates. If you have 100,000 instances, it doesn't really matter whether you choose an 80:20 split or a 90:10 split (indeed you may choose to use less training data if your method is particularly computationally intensive).\n",
    "\n",
    "Common splits:\n",
    "- 80:20\n",
    "- 67:33\n",
    "- 50:50\n",
    "\n",
    "In this project, we used 80:20 split.\n",
    "\n",
    "**Why shuffling the dataset is important?** \n",
    "\n",
    "It helps the training converge fast. it prevents any bias during the training. it prevents the model from learning the order of the training.\n",
    "\n",
    "**Should each music genre be balanced?**\n",
    "\n",
    "If the dataset is imbalanced, the model could be biased against some classes. So we have to use techniques like under-sampling, over-sampling, data augmentation, and etc to increase accuracy of the model.\n",
    "\n",
    "**Whta is Stratify?**\n",
    "\n",
    "Stratification means that the train_test_split method returns training and test subsets that have the same proportions of class labels as the input dataset."
   ]
  },
  {
   "cell_type": "code",
   "execution_count": 32,
   "metadata": {},
   "outputs": [
    {
     "data": {
      "text/plain": [
       "24000"
      ]
     },
     "execution_count": 32,
     "metadata": {},
     "output_type": "execute_result"
    }
   ],
   "source": [
    "X = df[['artist_name','popularity','acousticness','instrumentalness','danceability']].values\n",
    "y = df['music_genre_categorical'].values\n",
    "X_train, X_test, y_train, y_test = train_test_split(X, y,\n",
    "                                                    test_size=0.2,\n",
    "                                                    random_state=42,\n",
    "                                                    stratify=y)\n",
    "\n",
    "len(X_train)"
   ]
  },
  {
   "cell_type": "code",
   "execution_count": 33,
   "metadata": {},
   "outputs": [
    {
     "data": {
      "text/plain": [
       "array([[1., 0., 0., ..., 0., 0., 0.],\n",
       "       [0., 1., 0., ..., 0., 0., 0.],\n",
       "       [0., 0., 1., ..., 0., 0., 0.],\n",
       "       ...,\n",
       "       [0., 0., 0., ..., 1., 0., 0.],\n",
       "       [0., 0., 0., ..., 0., 1., 0.],\n",
       "       [0., 0., 0., ..., 0., 0., 1.]])"
      ]
     },
     "execution_count": 33,
     "metadata": {},
     "output_type": "execute_result"
    }
   ],
   "source": [
    "from sklearn.neighbors import NearestNeighbors\n",
    "neigh = NearestNeighbors(n_neighbors=2)\n",
    "neigh.fit(X_train)\n",
    "\n",
    "A = neigh.kneighbors_graph(X_train)\n",
    "A.toarray()"
   ]
  },
  {
   "cell_type": "code",
   "execution_count": 34,
   "metadata": {},
   "outputs": [],
   "source": [
    "from sklearn.metrics import accuracy_score\n",
    "def knn_algorithm(n_neigh): \n",
    "    neigh = KNeighborsClassifier(n_neighbors=n_neigh)\n",
    "    neigh.fit(X_train, y_train)\n",
    "    return neigh"
   ]
  },
  {
   "cell_type": "code",
   "execution_count": 38,
   "metadata": {},
   "outputs": [],
   "source": [
    "from sklearn.neighbors import KNeighborsClassifier\n",
    "accuracy_train = []\n",
    "accuracy_test = []\n",
    "for i in range(1,101):\n",
    "    neigh = knn_algorithm(i)\n",
    "    y_pred_test = neigh.predict(X_test)\n",
    "    accuracy_test.append(accuracy_score(y_test, y_pred_test))\n",
    "\n",
    "    y_pred_train = neigh.predict(X_train)\n",
    "    accuracy_train.append(accuracy_score(y_train, y_pred_train))\n",
    "    "
   ]
  },
  {
   "cell_type": "code",
   "execution_count": 39,
   "metadata": {},
   "outputs": [
    {
     "data": {
      "image/png": "[encoded data removed]",
      "text/plain": [
       "<Figure size 432x288 with 1 Axes>"
      ]
     },
     "metadata": {
      "needs_background": "light"
     },
     "output_type": "display_data"
    }
   ],
   "source": [
    "plt.plot(range(1,101), accuracy_test)\n",
    "# naming the x axis\n",
    "plt.xlabel('Number of neighbors')\n",
    "# naming the y axis\n",
    "plt.ylabel('Accuracy')\n",
    "  \n",
    "# giving a title to my graph\n",
    "plt.title('Accuracy of KNN based on nn(test)')\n",
    "  \n",
    "# function to show the plot\n",
    "plt.show();"
   ]
  },
  {
   "cell_type": "code",
   "execution_count": 40,
   "metadata": {},
   "outputs": [
    {
     "data": {
      "image/png": "[encoded data removed]",
      "text/plain": [
       "<Figure size 432x288 with 1 Axes>"
      ]
     },
     "metadata": {
      "needs_background": "light"
     },
     "output_type": "display_data"
    }
   ],
   "source": [
    "plt.plot(range(1,101), accuracy_train)\n",
    "# naming the x axis\n",
    "plt.xlabel('Number of neighbors')\n",
    "# naming the y axis\n",
    "plt.ylabel('Accuracy')\n",
    "  \n",
    "# giving a title to my graph\n",
    "plt.title('Accuracy of KNN based on nn(train)')\n",
    "  \n",
    "# function to show the plot\n",
    "plt.show();"
   ]
  },
  {
   "cell_type": "markdown",
   "metadata": {},
   "source": [
    "## Part 4\n",
    "\n",
    "The optimal hyperparamters are:\n",
    "\n",
    "- max_depth = 10\n",
    "- min_samples_split = 2"
   ]
  },
  {
   "cell_type": "code",
   "execution_count": 70,
   "metadata": {},
   "outputs": [],
   "source": [
    "from sklearn.tree import DecisionTreeClassifier\n",
    "\n",
    "accuracy_dtc_test = []\n",
    "accuracy_dtc_train = []\n",
    "for i in range(1,101):\n",
    "    clf = DecisionTreeClassifier(max_depth=i,min_samples_split = 2, random_state=0)\n",
    "    clf.fit(X_train, y_train)\n",
    "\n",
    "    accuracy_dtc_test.append(accuracy_score(y_test,clf.predict(X_test)))\n",
    "    accuracy_dtc_train.append(accuracy_score(y_train,clf.predict(X_train)))"
   ]
  },
  {
   "cell_type": "code",
   "execution_count": 71,
   "metadata": {},
   "outputs": [
    {
     "data": {
      "image/png": "[encoded data removed]",
      "text/plain": [
       "<Figure size 432x288 with 1 Axes>"
      ]
     },
     "metadata": {
      "needs_background": "light"
     },
     "output_type": "display_data"
    }
   ],
   "source": [
    "plt.plot(range(1,101), accuracy_dtc_test)\n",
    "# naming the x axis\n",
    "plt.xlabel('max_depth')\n",
    "# naming the y axis\n",
    "plt.ylabel('Accuracy')\n",
    "  \n",
    "# giving a title to my graph\n",
    "plt.title('Accuracy of Decision Tree Classifier based on max_depth(test)')\n",
    "plt.show()"
   ]
  },
  {
   "cell_type": "code",
   "execution_count": 72,
   "metadata": {},
   "outputs": [
    {
     "data": {
      "image/png": "[encoded data removed]",
      "text/plain": [
       "<Figure size 432x288 with 1 Axes>"
      ]
     },
     "metadata": {
      "needs_background": "light"
     },
     "output_type": "display_data"
    }
   ],
   "source": [
    "plt.plot(range(1,101), accuracy_dtc_train)\n",
    "# naming the x axis\n",
    "plt.xlabel('max_depth')\n",
    "# naming the y axis\n",
    "plt.ylabel('Accuracy')\n",
    "  \n",
    "# giving a title to my graph\n",
    "plt.title('Accuracy of Decision Tree Classifier based on max_depth(train)')\n",
    "plt.show()"
   ]
  },
  {
   "cell_type": "markdown",
   "metadata": {},
   "source": [
    "## Part 5\n",
    "\n",
    "**Overfitting** means that the model performs very well on training data, but fails as soon it sees some new data from the problem domain. **Underfitting**, on the other hand, means, that the model performs poorly on both datasets.\n",
    "\n",
    "- A too shallow decision tree --> underfitting\n",
    "\n",
    "- A too deep decision tree --> overfitting\n",
    "\n",
    "If we choose a very small max_depth, underfitting would occur and if we choose too large max_depth, then overfitting occurs. According to part 4, the optimal hyper-paramters are:\n",
    "\n",
    "- max_depth = 10\n",
    "- min_samples_split = 2"
   ]
  },
  {
   "cell_type": "markdown",
   "metadata": {},
   "source": [
    "## Part 6\n",
    "\n",
    "- **F1-score:** The F1-score combines the precision and recall of a classifier into a single metric by taking their harmonic mean. It is primarily used to compare the performance of two classifiers. \n",
    "- **Accuracy:** Accuracy is one metric for evaluating classification models. Informally, accuracy is the fraction of predictions our model got right.\n",
    "- **Precision:** Precision refers to the number of true positives divided by the total number of positive predictions.\n",
    "- **Recall:** Recall is a metric that quantifies the number of correct positive predictions made out of all positive predictions that could have been made."
   ]
  },
  {
   "cell_type": "markdown",
   "metadata": {},
   "source": [
    "### Decision Tree"
   ]
  },
  {
   "cell_type": "code",
   "execution_count": 73,
   "metadata": {},
   "outputs": [
    {
     "data": {
      "text/plain": [
       "DecisionTreeClassifier(max_depth=10, random_state=0)"
      ]
     },
     "execution_count": 73,
     "metadata": {},
     "output_type": "execute_result"
    }
   ],
   "source": [
    "clf = DecisionTreeClassifier(max_depth=10,min_samples_split = 2, random_state=0)\n",
    "clf.fit(X_train, y_train)"
   ]
  },
  {
   "cell_type": "code",
   "execution_count": 89,
   "metadata": {},
   "outputs": [
    {
     "name": "stdout",
     "output_type": "stream",
     "text": [
      "Accuracy(test):  0.6115\n",
      "Accuracy(train):  0.6804583333333334\n",
      "----------------------------------------\n",
      "F1-Score(test):  0.6102155050886471\n",
      "F1-Score(train):  0.680181735538775\n",
      "----------------------------------------\n",
      "Precision(test):  0.6182567963594029\n",
      "Precision(train):  0.6910293318610878\n",
      "----------------------------------------\n",
      "Recall(test):  0.6115\n",
      "Recall(train):  0.6804583333333334\n"
     ]
    }
   ],
   "source": [
    "print('Accuracy(test): ',accuracy_score(y_test,clf.predict(X_test)))\n",
    "print('Accuracy(train): ',accuracy_score(y_train,clf.predict(X_train)))\n",
    "print('----------------------------------------')\n",
    "print('F1-Score(test): ',f1_score(y_test, clf.predict(X_test), average='weighted'))\n",
    "print('F1-Score(train): ',f1_score(y_train, clf.predict(X_train), average='weighted'))\n",
    "print('----------------------------------------')\n",
    "print('Precision(test): ',precision_score(y_test, clf.predict(X_test), average='weighted'))\n",
    "print('Precision(train): ',precision_score(y_train, clf.predict(X_train), average='weighted'))\n",
    "print('----------------------------------------')\n",
    "print('Recall(test): ',recall_score(y_test, clf.predict(X_test), average='weighted'))\n",
    "print('Recall(train): ',recall_score(y_train, clf.predict(X_train), average='weighted'))"
   ]
  },
  {
   "cell_type": "markdown",
   "metadata": {},
   "source": [
    "### KNN"
   ]
  },
  {
   "cell_type": "code",
   "execution_count": 92,
   "metadata": {},
   "outputs": [
    {
     "name": "stdout",
     "output_type": "stream",
     "text": [
      "Accuracy(test):  0.7416666666666667\n",
      "Accuracy(train):  0.833375\n",
      "----------------------------------------\n",
      "F1-Score(test):  0.7402915646010506\n",
      "F1-Score(train):  0.8328519354405345\n",
      "----------------------------------------\n",
      "Precision(test):  0.7445400588425823\n",
      "Precision(train):  0.8367804868250094\n",
      "----------------------------------------\n",
      "Recall(test):  0.7416666666666667\n",
      "Recall(train):  0.833375\n"
     ]
    }
   ],
   "source": [
    "clf = knn_algorithm(5)\n",
    "\n",
    "print('Accuracy(test): ',accuracy_score(y_test,clf.predict(X_test)))\n",
    "print('Accuracy(train): ',accuracy_score(y_train,clf.predict(X_train)))\n",
    "print('----------------------------------------')\n",
    "print('F1-Score(test): ',f1_score(y_test, clf.predict(X_test), average='weighted'))\n",
    "print('F1-Score(train): ',f1_score(y_train, clf.predict(X_train), average='weighted'))\n",
    "print('----------------------------------------')\n",
    "print('Precision(test): ',precision_score(y_test, clf.predict(X_test), average='weighted'))\n",
    "print('Precision(train): ',precision_score(y_train, clf.predict(X_train), average='weighted'))\n",
    "print('----------------------------------------')\n",
    "print('Recall(test): ',recall_score(y_test, clf.predict(X_test), average='weighted'))\n",
    "print('Recall(train): ',recall_score(y_train, clf.predict(X_train), average='weighted'))"
   ]
  },
  {
   "cell_type": "markdown",
   "metadata": {},
   "source": [
    "## Part 7\n",
    "\n",
    "Choosing the correct hyper-parameters and pre-processing the data had a huge impact on the accuracy of the model. We've also removed some insignificant features to boost the accuracy. By using normalization, we avoid raw data and various problems of datasets by creating new values and maintaining general distribution as well as a ratio in data. \n"
   ]
  },
  {
   "cell_type": "markdown",
   "metadata": {},
   "source": [
    "# Phase 3: Ensemble Methods\n",
    "\n",
    "Taken from Sklearn documentation:\n",
    "\n",
    "- **min_samples_leaf:** The minimum number of samples required to be at a leaf node. A split point at any depth will only be considered if it leaves at least min_samples_leaf training samples in each of the left and right branches. This may have the effect of smoothing the model, especially in regression.\n",
    "\n",
    "- **n_estimators:** The number of trees in the forest.\n",
    "\n",
    "- **max_depth:** The maximum depth of the tree. If None, then nodes are expanded until all leaves are pure or until all leaves contain less than min_samples_split samples.\n",
    "\n"
   ]
  },
  {
   "cell_type": "code",
   "execution_count": 130,
   "metadata": {},
   "outputs": [
    {
     "data": {
      "text/plain": [
       "RandomForestClassifier(max_depth=20, min_samples_leaf=2, n_estimators=500,\n",
       "                       random_state=42)"
      ]
     },
     "execution_count": 130,
     "metadata": {},
     "output_type": "execute_result"
    }
   ],
   "source": [
    "clf = RandomForestClassifier(max_depth=20, n_estimators = 100,min_samples_leaf = 2,random_state=42)\n",
    "clf.fit(X_train, y_train)"
   ]
  },
  {
   "cell_type": "code",
   "execution_count": 140,
   "metadata": {},
   "outputs": [
    {
     "name": "stdout",
     "output_type": "stream",
     "text": [
      "Accuracy(test):  0.712333333333\n",
      "Accuracy(train):  0.9395\n",
      "----------------------------------------\n",
      "F1-Score(test):  0.712569861345\n",
      "F1-Score(train):  0.9396800598370981\n",
      "----------------------------------------\n",
      "Precision(test):  0.73823480872\n",
      "Precision(train):  0.9409847937337298\n",
      "----------------------------------------\n",
      "Recall(test):  0.70169364802118\n",
      "Recall(train):  0.9395\n"
     ]
    }
   ],
   "source": [
    "print('Accuracy(test): ',accuracy_score(y_test,clf.predict(X_test)))\n",
    "print('Accuracy(train): ',accuracy_score(y_train,clf.predict(X_train)))\n",
    "print('----------------------------------------')\n",
    "print('F1-Score(test): ',f1_score(y_test, clf.predict(X_test), average='weighted'))\n",
    "print('F1-Score(train): ',f1_score(y_train, clf.predict(X_train), average='weighted'))\n",
    "print('----------------------------------------')\n",
    "print('Precision(test): ',precision_score(y_test, clf.predict(X_test), average='weighted'))\n",
    "print('Precision(train): ',precision_score(y_train, clf.predict(X_train), average='weighted'))\n",
    "print('----------------------------------------')\n",
    "print('Recall(test): ',recall_score(y_test, clf.predict(X_test), average='weighted'))\n",
    "print('Recall(train): ',recall_score(y_train, clf.predict(X_train), average='weighted'))"
   ]
  },
  {
   "cell_type": "code",
   "execution_count": 136,
   "metadata": {},
   "outputs": [
    {
     "data": {
      "text/plain": [
       "array([[429,   9, 162,  88,  98, 214],\n",
       "       [ 27, 888,  11,  67,   1,   6],\n",
       "       [128,   7, 551,  98,  79, 137],\n",
       "       [ 71,  89, 121, 652,  21,  46],\n",
       "       [ 47,   0,  49,  12, 683, 209],\n",
       "       [104,   7,  74,  20, 180, 615]])"
      ]
     },
     "execution_count": 136,
     "metadata": {},
     "output_type": "execute_result"
    }
   ],
   "source": [
    "confusion_matrix(y_train, clf.predict(X_train))"
   ]
  }
 ],
 "metadata": {
  "interpreter": {
   "hash": "5637242735df105300a10f363d5c0d18b4b77d7105ef62addc8c3980e22cd89c"
  },
  "kernelspec": {
   "display_name": "Python 3.9.7 ('base')",
   "language": "python",
   "name": "python3"
  },
  "language_info": {
   "codemirror_mode": {
    "name": "ipython",
    "version": 3
   },
   "file_extension": ".py",
   "mimetype": "text/x-python",
   "name": "python",
   "nbconvert_exporter": "python",
   "pygments_lexer": "ipython3",
   "version": "3.9.7"
  },
  "orig_nbformat": 4
 },
 "nbformat": 4,
 "nbformat_minor": 2
}
